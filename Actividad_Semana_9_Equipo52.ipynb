{
  "nbformat": 4,
  "nbformat_minor": 0,
  "metadata": {
    "colab": {
      "provenance": [],
      "authorship_tag": "ABX9TyMHSKt+bWqxZrGAnVWCBYdS",
      "include_colab_link": true
    },
    "kernelspec": {
      "name": "python3",
      "display_name": "Python 3"
    },
    "language_info": {
      "name": "python"
    }
  },
  "cells": [
    {
      "cell_type": "markdown",
      "metadata": {
        "id": "view-in-github",
        "colab_type": "text"
      },
      "source": [
        "<a href=\"https://colab.research.google.com/github/AlfonsoVasquezC/DataFiles/blob/main/Actividad_Semana_9_Equipo52.ipynb\" target=\"_parent\"><img src=\"https://colab.research.google.com/assets/colab-badge.svg\" alt=\"Open In Colab\"/></a>"
      ]
    },
    {
      "cell_type": "markdown",
      "source": [
        "#**Maestría en Inteligencia Artificial Aplicada**\n",
        "##**Curso: Inteligencia Artificial y Aprendizaje Automático**\n",
        "###Tecnológico de Monterrey\n",
        "###Prof Luis Eduardo Falcón Morales\n",
        "\n",
        "## **Actividad de la Semana 9**\n",
        "###**Taxonomía de Métricas de Clasificación**"
      ],
      "metadata": {
        "id": "pD2pd3pFxvOm"
      }
    },
    {
      "cell_type": "markdown",
      "source": [
        "**Nombres y matrículas de los integrantes del equipo:**\n",
        "\n",
        "Sinaí Avalos Rivera A01730466\n",
        "\n",
        "Carlos Gustavo Lopez Lerma A01793468\n",
        "\n",
        "Ricardo Morales Bustillos A01740032\n",
        "\n",
        "Juan Alfonso Vásquez Chapoi A00820656\n",
        "\n",
        "Ronald David Zúniga Sánchez A01686240"
      ],
      "metadata": {
        "id": "zcEhgAR6xyQD"
      }
    },
    {
      "cell_type": "markdown",
      "source": [
        "## Resumen del articulo: An experimental comparison of performance measures for classification, Pattern Recognition Letters"
      ],
      "metadata": {
        "id": "LewO0vMDywPQ"
      }
    },
    {
      "cell_type": "markdown",
      "source": [
        "En el artículo estudiado se hace un analisis sobre la semejanza y diferencia de 18 metricas (Acc, KapS, MFM, MavA, MavG, A1U, A1P, ANU, ANP, Sauc, Pauc, Mapr, MPR, MAE, MSE, LogL, CalL, CalB) para diferentes bases de datos, algunas con clases balanceadas, otras con clases desbalanceadas, algunas con un clasificador binario y otras con clasificador multiclase.\n",
        "\n"
      ],
      "metadata": {
        "id": "hjdAx9Fpy3eC"
      }
    },
    {
      "cell_type": "markdown",
      "source": [
        "Dentro del analisis de las métricas se definen tres familias de clases, las cuales son:\n",
        "\n",
        "\n",
        "\n",
        "*   **Metricas basadas en un umbral (Treshhold) y un error cuantitativo del error**\n",
        "\n",
        "Tales como Accuracy, Accuracy promediada (aritmetica y geomerica), F-score y estadistica Kappa. Estas metricas son usadas cuando queremos reducir la cantidad de errores, ya que nos marcan una pauta entre aquellas predicciones correctas del modelo y aquellas erroneas (vp, vn, fp, fn). Si el modelo acierta lo consideramos como bueno (sin considerar que tan cerca el modelo estuvo de haberse equivocado) y si el modelo se equivoca entonces como un error.\n",
        "Interesante del analisis fue que determinarón cuales de estas métricas funcionan mejor para clases balanceadas y cuales para clases no balanceadas. cuales son mejores para para detección de fraude o para tareas de recolección de información\n",
        "\n",
        "*   **Metricas basadas en el entendimiento probabilistico del error (como la medición de la desviación de la probabilidad real)**\n",
        "\n",
        "Dentro de esta familia tenemos lo que es el MAE (Mean Absolute Error), el MSE (Mean Squared error), LogLoss (Cross-entropy), medidas de rankeo de probabilidad y de la calibración. Estas métricas son utiles cuando queremos ver la confiabilidad de los clasificadores; esto nos ayuda no solo a ver si un modelo se equivocó o no (como en las metricasprevias) sino que tambien podemos determinar con que holgura se quedaron al momento de equivocarse (¿fue por mucho o por poco?). Esto es muy util para cuando se usa un ensamble de diferentes modelos (como el Random Forest) para realizar un ponderado correcto.\n",
        "\n",
        "\n",
        "*   **Metricas basadas en que tan bien el modelo rankea los ejemplos**\n",
        "\n",
        "AUC (Area under de Curve) que para dos clases es equivalente a la estadistica\n",
        "Mann–Whitney–Wilcoxon statistic y esta relacionado con el concepto de separabilidad."
      ],
      "metadata": {
        "id": "_mwOHHJl09QA"
      }
    },
    {
      "cell_type": "markdown",
      "source": [
        "Interesante dentro de los descubrimientos de los autores fue que las correlaciones entre las metricas variaba dependiendo de si el dataset era balanceado o no. \n",
        "\n",
        "Por ejemplo, en el caso de las metricas cualitativas se descubrió que estan tienen un desempeño muy similar en el caso de conjuntos balanceado; lo cual no es verdad para conjuntos desbalanceados.\n",
        "\n",
        "Esto último lo podemos corroborar con lo analizado durante el curso en donde hemos visto como para conjuntos desbalanceados unas métricas son mejor que otras.\n",
        "\n",
        "A manera de conclusión es importante destacar que las métricas nos llevarán a diferentes resultados y lo que es condierado como \"correcto\" debe ser lo que sea mas benefico para cada caso particular de negocio / analisis."
      ],
      "metadata": {
        "id": "9k1Lmh4m4_HZ"
      }
    },
    {
      "cell_type": "markdown",
      "source": [
        "## Referencias\n",
        "\n",
        "C. Ferri, J. Hernández-Orallo, R. Modroiu, An experimental comparison of performance measures for \n",
        "classification, Pattern Recognition Letters, Volume 30, Issue 1, 2009, Pages 27-38. \n",
        "\n",
        "Disponible en:\n",
        "\n",
        "https://scholar.google.com/scholar?q=10.1016%2Fj.patrec.2008.08.010%20An%20experimental%20comparison%20of%20performance%20measures%20for%20classification%20Pattern%20recognition%20letters%202009%200167-8655%20FERRI%20C%20HERNANDEZ-ORALLO%2C%20J%20MODROIU%2C%20R%20 "
      ],
      "metadata": {
        "id": "YI1mXLrlx7C9"
      }
    },
    {
      "cell_type": "markdown",
      "source": [
        "## Breast Cancer Wisconsin (Diagnostic) Data Set:   "
      ],
      "metadata": {
        "id": "FgLMpk6oGAIK"
      }
    },
    {
      "cell_type": "markdown",
      "source": [
        "#### Determinar balanceo de clases (y.sum / y.count) en caso de dos clases.\n",
        "\n",
        "#### En caso multiclases es necesario aplicar el metodo value_counts\n",
        "\n",
        "#### Determinar mejores métricas y por qué (según cada caso de negocio)\n",
        "#### Considera el papel de un falso negativo vs un falso positivo"
      ],
      "metadata": {
        "id": "x4uFMMjdGNKz"
      }
    },
    {
      "cell_type": "markdown",
      "source": [
        "## South German Credit Data Set:"
      ],
      "metadata": {
        "id": "6O_0OZcbGC4G"
      }
    },
    {
      "cell_type": "markdown",
      "source": [
        "#### Determinar balanceo de clases (y.sum / y.count) en caso de dos clases.\n",
        "\n",
        "#### En caso multiclases es necesario aplicar el metodo value_counts\n",
        "\n",
        "#### Determinar mejores métricas y por qué (según cada caso de negocio)\n",
        "#### Considera el papel de un falso negativo vs un falso positivo"
      ],
      "metadata": {
        "id": "SLkncxdJGxUW"
      }
    },
    {
      "cell_type": "markdown",
      "source": [
        "## Telco customer churn: IBM dataset: "
      ],
      "metadata": {
        "id": "CkRnEobmGF-V"
      }
    },
    {
      "cell_type": "markdown",
      "source": [
        "#### Determinar balanceo de clases (y.sum / y.count) en caso de dos clases.\n",
        "\n",
        "#### En caso multiclases es necesario aplicar el metodo value_counts\n",
        "\n",
        "#### Determinar mejores métricas y por qué (según cada caso de negocio)\n",
        "#### Considera el papel de un falso negativo vs un falso positivo"
      ],
      "metadata": {
        "id": "1Tuf-JEPGyW3"
      }
    },
    {
      "cell_type": "markdown",
      "source": [
        "## Qualitative_Bankruptcy Data Set:  "
      ],
      "metadata": {
        "id": "XuppwiedGJMr"
      }
    },
    {
      "cell_type": "markdown",
      "source": [
        "#### Determinar balanceo de clases (y.sum / y.count) en caso de dos clases.\n",
        "\n",
        "#### En caso multiclases es necesario aplicar el metodo value_counts\n",
        "\n",
        "#### Determinar mejores métricas y por qué (según cada caso de negocio)\n",
        "#### Considera el papel de un falso negativo vs un falso positivo"
      ],
      "metadata": {
        "id": "fvrY2xbYGzJH"
      }
    },
    {
      "cell_type": "code",
      "execution_count": null,
      "metadata": {
        "id": "5MN8dXOTxuAK"
      },
      "outputs": [],
      "source": []
    }
  ]
}