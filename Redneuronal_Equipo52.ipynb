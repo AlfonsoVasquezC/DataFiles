{
  "cells": [
    {
      "cell_type": "markdown",
      "metadata": {
        "id": "view-in-github",
        "colab_type": "text"
      },
      "source": [
        "<a href=\"https://colab.research.google.com/github/AlfonsoVasquezC/DataFiles/blob/main/Redneuronal_Equipo52.ipynb\" target=\"_parent\"><img src=\"https://colab.research.google.com/assets/colab-badge.svg\" alt=\"Open In Colab\"/></a>"
      ]
    },
    {
      "cell_type": "markdown",
      "metadata": {
        "id": "VFj0sSM06dYa"
      },
      "source": [
        "#**Maestría en Inteligencia Artificial Aplicada**\n",
        "##**Curso: Inteligencia Artificial y Aprendizaje Automático**\n",
        "###Tecnológico de Monterrey\n",
        "###Prof Luis Eduardo Falcón Morales\n",
        "\n",
        "## **Adtividad de la Semana 7**\n",
        "###**Red Neuronal Artificial - Perceptrón Multicapa : Multilayer Perceptrón (MLP)**\n"
      ]
    },
    {
      "cell_type": "markdown",
      "metadata": {
        "id": "Qgrvy0RGB9XI"
      },
      "source": [
        "**Nombres y matrículas de los integrantes del equipo:**\n",
        "\n",
        "*   Juan Alfonso Vasquez Chapoi  -- A00820656\n",
        "*   Sinaí Avalos Rivera          -- A01730466\n",
        "*   Carlos Gustavo Lopez Lerma   -- A01793468   \n",
        "*   Ricardo Morales Bustillos    -- A01740032\n",
        "*   N.A\n"
      ]
    },
    {
      "cell_type": "markdown",
      "metadata": {
        "id": "FrJ2ahMODVj1"
      },
      "source": [
        "En cada sección deberás incluir todas las líneas de código necesarias para responder a cada uno de los ejercicios."
      ]
    },
    {
      "cell_type": "code",
      "execution_count": 1,
      "metadata": {
        "id": "exXsscs-Dh-2"
      },
      "outputs": [],
      "source": [
        "# Incluye aquí todos módulos, librerías y paquetes que requieras.\n",
        "import numpy as np\n",
        "import pandas as pd\n",
        "import matplotlib.pyplot as plt\n",
        "from sklearn.model_selection import train_test_split \n",
        "\n",
        "from sklearn.pipeline import Pipeline\n",
        "from sklearn.compose import ColumnTransformer\n",
        "from sklearn.impute import SimpleImputer\n",
        "from sklearn.preprocessing import MinMaxScaler, OneHotEncoder, StandardScaler\n",
        "\n",
        "from sklearn.dummy import DummyRegressor\n",
        "\n",
        "from sklearn.linear_model import LinearRegression\n",
        "from sklearn.ensemble import RandomForestClassifier\n",
        "from sklearn.neural_network import MLPRegressor\n",
        "\n",
        "from sklearn.metrics import confusion_matrix\n",
        "from sklearn.model_selection import cross_validate\n",
        "from sklearn.model_selection import RepeatedKFold\n",
        "from sklearn.model_selection import learning_curve, validation_curve #Check\n",
        "from sklearn.model_selection import GridSearchCV\n",
        "from sklearn.metrics import make_scorer\n",
        "from sklearn.inspection import permutation_importance\n",
        "from sklearn.compose import TransformedTargetRegressor"
      ]
    },
    {
      "cell_type": "markdown",
      "metadata": {
        "id": "X25brD-gQdZM"
      },
      "source": [
        "#**Ejercicio-1.** "
      ]
    },
    {
      "cell_type": "code",
      "execution_count": 2,
      "metadata": {
        "colab": {
          "base_uri": "https://localhost:8080/",
          "height": 644
        },
        "id": "3nU2GuWYCy6C",
        "outputId": "d85f251d-e8dc-481a-b098-2ead70b1b9d8"
      },
      "outputs": [
        {
          "output_type": "execute_result",
          "data": {
            "text/plain": [
              "     Page total likes    Type  Category  Post Month  Post Weekday  Post Hour  \\\n",
              "0              139441   Photo         2          12             4          3   \n",
              "1              139441  Status         2          12             3         10   \n",
              "2              139441   Photo         3          12             3          3   \n",
              "3              139441   Photo         2          12             2         10   \n",
              "4              139441   Photo         2          12             2          3   \n",
              "..                ...     ...       ...         ...           ...        ...   \n",
              "495             85093   Photo         3           1             7          2   \n",
              "496             81370   Photo         2           1             5          8   \n",
              "497             81370   Photo         1           1             5          2   \n",
              "498             81370   Photo         3           1             4         11   \n",
              "499             81370   Photo         2           1             4          4   \n",
              "\n",
              "     Paid  Lifetime Post Total Reach  Lifetime Post Total Impressions  \\\n",
              "0     0.0                       2752                             5091   \n",
              "1     0.0                      10460                            19057   \n",
              "2     0.0                       2413                             4373   \n",
              "3     1.0                      50128                            87991   \n",
              "4     0.0                       7244                            13594   \n",
              "..    ...                        ...                              ...   \n",
              "495   0.0                       4684                             7536   \n",
              "496   0.0                       3480                             6229   \n",
              "497   0.0                       3778                             7216   \n",
              "498   0.0                       4156                             7564   \n",
              "499   NaN                       4188                             7292   \n",
              "\n",
              "     Lifetime Engaged Users  Lifetime Post Consumers  \\\n",
              "0                       178                      109   \n",
              "1                      1457                     1361   \n",
              "2                       177                      113   \n",
              "3                      2211                      790   \n",
              "4                       671                      410   \n",
              "..                      ...                      ...   \n",
              "495                     733                      708   \n",
              "496                     537                      508   \n",
              "497                     625                      572   \n",
              "498                     626                      574   \n",
              "499                     564                      524   \n",
              "\n",
              "     Lifetime Post Consumptions  \\\n",
              "0                           159   \n",
              "1                          1674   \n",
              "2                           154   \n",
              "3                          1119   \n",
              "4                           580   \n",
              "..                          ...   \n",
              "495                         985   \n",
              "496                         687   \n",
              "497                         795   \n",
              "498                         832   \n",
              "499                         743   \n",
              "\n",
              "     Lifetime Post Impressions by people who have liked your Page  \\\n",
              "0                                                 3078              \n",
              "1                                                11710              \n",
              "2                                                 2812              \n",
              "3                                                61027              \n",
              "4                                                 6228              \n",
              "..                                                 ...              \n",
              "495                                               4750              \n",
              "496                                               3961              \n",
              "497                                               4742              \n",
              "498                                               4534              \n",
              "499                                               3861              \n",
              "\n",
              "     Lifetime Post reach by people who like your Page  \\\n",
              "0                                                1640   \n",
              "1                                                6112   \n",
              "2                                                1503   \n",
              "3                                               32048   \n",
              "4                                                3200   \n",
              "..                                                ...   \n",
              "495                                              2876   \n",
              "496                                              2104   \n",
              "497                                              2388   \n",
              "498                                              2452   \n",
              "499                                              2200   \n",
              "\n",
              "     Lifetime People who have liked your Page and engaged with your post  \\\n",
              "0                                                  119                     \n",
              "1                                                 1108                     \n",
              "2                                                  132                     \n",
              "3                                                 1386                     \n",
              "4                                                  396                     \n",
              "..                                                 ...                     \n",
              "495                                                392                     \n",
              "496                                                301                     \n",
              "497                                                363                     \n",
              "498                                                370                     \n",
              "499                                                316                     \n",
              "\n",
              "     comment    like  share  Total Interactions  \n",
              "0          4    79.0   17.0                 100  \n",
              "1          5   130.0   29.0                 164  \n",
              "2          0    66.0   14.0                  80  \n",
              "3         58  1572.0  147.0                1777  \n",
              "4         19   325.0   49.0                 393  \n",
              "..       ...     ...    ...                 ...  \n",
              "495        5    53.0   26.0                  84  \n",
              "496        0    53.0   22.0                  75  \n",
              "497        4    93.0   18.0                 115  \n",
              "498        7    91.0   38.0                 136  \n",
              "499        0    91.0   28.0                 119  \n",
              "\n",
              "[500 rows x 19 columns]"
            ],
            "text/html": [
              "\n",
              "  <div id=\"df-38664dcb-5509-44f2-bf68-c5b798f41359\">\n",
              "    <div class=\"colab-df-container\">\n",
              "      <div>\n",
              "<style scoped>\n",
              "    .dataframe tbody tr th:only-of-type {\n",
              "        vertical-align: middle;\n",
              "    }\n",
              "\n",
              "    .dataframe tbody tr th {\n",
              "        vertical-align: top;\n",
              "    }\n",
              "\n",
              "    .dataframe thead th {\n",
              "        text-align: right;\n",
              "    }\n",
              "</style>\n",
              "<table border=\"1\" class=\"dataframe\">\n",
              "  <thead>\n",
              "    <tr style=\"text-align: right;\">\n",
              "      <th></th>\n",
              "      <th>Page total likes</th>\n",
              "      <th>Type</th>\n",
              "      <th>Category</th>\n",
              "      <th>Post Month</th>\n",
              "      <th>Post Weekday</th>\n",
              "      <th>Post Hour</th>\n",
              "      <th>Paid</th>\n",
              "      <th>Lifetime Post Total Reach</th>\n",
              "      <th>Lifetime Post Total Impressions</th>\n",
              "      <th>Lifetime Engaged Users</th>\n",
              "      <th>Lifetime Post Consumers</th>\n",
              "      <th>Lifetime Post Consumptions</th>\n",
              "      <th>Lifetime Post Impressions by people who have liked your Page</th>\n",
              "      <th>Lifetime Post reach by people who like your Page</th>\n",
              "      <th>Lifetime People who have liked your Page and engaged with your post</th>\n",
              "      <th>comment</th>\n",
              "      <th>like</th>\n",
              "      <th>share</th>\n",
              "      <th>Total Interactions</th>\n",
              "    </tr>\n",
              "  </thead>\n",
              "  <tbody>\n",
              "    <tr>\n",
              "      <th>0</th>\n",
              "      <td>139441</td>\n",
              "      <td>Photo</td>\n",
              "      <td>2</td>\n",
              "      <td>12</td>\n",
              "      <td>4</td>\n",
              "      <td>3</td>\n",
              "      <td>0.0</td>\n",
              "      <td>2752</td>\n",
              "      <td>5091</td>\n",
              "      <td>178</td>\n",
              "      <td>109</td>\n",
              "      <td>159</td>\n",
              "      <td>3078</td>\n",
              "      <td>1640</td>\n",
              "      <td>119</td>\n",
              "      <td>4</td>\n",
              "      <td>79.0</td>\n",
              "      <td>17.0</td>\n",
              "      <td>100</td>\n",
              "    </tr>\n",
              "    <tr>\n",
              "      <th>1</th>\n",
              "      <td>139441</td>\n",
              "      <td>Status</td>\n",
              "      <td>2</td>\n",
              "      <td>12</td>\n",
              "      <td>3</td>\n",
              "      <td>10</td>\n",
              "      <td>0.0</td>\n",
              "      <td>10460</td>\n",
              "      <td>19057</td>\n",
              "      <td>1457</td>\n",
              "      <td>1361</td>\n",
              "      <td>1674</td>\n",
              "      <td>11710</td>\n",
              "      <td>6112</td>\n",
              "      <td>1108</td>\n",
              "      <td>5</td>\n",
              "      <td>130.0</td>\n",
              "      <td>29.0</td>\n",
              "      <td>164</td>\n",
              "    </tr>\n",
              "    <tr>\n",
              "      <th>2</th>\n",
              "      <td>139441</td>\n",
              "      <td>Photo</td>\n",
              "      <td>3</td>\n",
              "      <td>12</td>\n",
              "      <td>3</td>\n",
              "      <td>3</td>\n",
              "      <td>0.0</td>\n",
              "      <td>2413</td>\n",
              "      <td>4373</td>\n",
              "      <td>177</td>\n",
              "      <td>113</td>\n",
              "      <td>154</td>\n",
              "      <td>2812</td>\n",
              "      <td>1503</td>\n",
              "      <td>132</td>\n",
              "      <td>0</td>\n",
              "      <td>66.0</td>\n",
              "      <td>14.0</td>\n",
              "      <td>80</td>\n",
              "    </tr>\n",
              "    <tr>\n",
              "      <th>3</th>\n",
              "      <td>139441</td>\n",
              "      <td>Photo</td>\n",
              "      <td>2</td>\n",
              "      <td>12</td>\n",
              "      <td>2</td>\n",
              "      <td>10</td>\n",
              "      <td>1.0</td>\n",
              "      <td>50128</td>\n",
              "      <td>87991</td>\n",
              "      <td>2211</td>\n",
              "      <td>790</td>\n",
              "      <td>1119</td>\n",
              "      <td>61027</td>\n",
              "      <td>32048</td>\n",
              "      <td>1386</td>\n",
              "      <td>58</td>\n",
              "      <td>1572.0</td>\n",
              "      <td>147.0</td>\n",
              "      <td>1777</td>\n",
              "    </tr>\n",
              "    <tr>\n",
              "      <th>4</th>\n",
              "      <td>139441</td>\n",
              "      <td>Photo</td>\n",
              "      <td>2</td>\n",
              "      <td>12</td>\n",
              "      <td>2</td>\n",
              "      <td>3</td>\n",
              "      <td>0.0</td>\n",
              "      <td>7244</td>\n",
              "      <td>13594</td>\n",
              "      <td>671</td>\n",
              "      <td>410</td>\n",
              "      <td>580</td>\n",
              "      <td>6228</td>\n",
              "      <td>3200</td>\n",
              "      <td>396</td>\n",
              "      <td>19</td>\n",
              "      <td>325.0</td>\n",
              "      <td>49.0</td>\n",
              "      <td>393</td>\n",
              "    </tr>\n",
              "    <tr>\n",
              "      <th>...</th>\n",
              "      <td>...</td>\n",
              "      <td>...</td>\n",
              "      <td>...</td>\n",
              "      <td>...</td>\n",
              "      <td>...</td>\n",
              "      <td>...</td>\n",
              "      <td>...</td>\n",
              "      <td>...</td>\n",
              "      <td>...</td>\n",
              "      <td>...</td>\n",
              "      <td>...</td>\n",
              "      <td>...</td>\n",
              "      <td>...</td>\n",
              "      <td>...</td>\n",
              "      <td>...</td>\n",
              "      <td>...</td>\n",
              "      <td>...</td>\n",
              "      <td>...</td>\n",
              "      <td>...</td>\n",
              "    </tr>\n",
              "    <tr>\n",
              "      <th>495</th>\n",
              "      <td>85093</td>\n",
              "      <td>Photo</td>\n",
              "      <td>3</td>\n",
              "      <td>1</td>\n",
              "      <td>7</td>\n",
              "      <td>2</td>\n",
              "      <td>0.0</td>\n",
              "      <td>4684</td>\n",
              "      <td>7536</td>\n",
              "      <td>733</td>\n",
              "      <td>708</td>\n",
              "      <td>985</td>\n",
              "      <td>4750</td>\n",
              "      <td>2876</td>\n",
              "      <td>392</td>\n",
              "      <td>5</td>\n",
              "      <td>53.0</td>\n",
              "      <td>26.0</td>\n",
              "      <td>84</td>\n",
              "    </tr>\n",
              "    <tr>\n",
              "      <th>496</th>\n",
              "      <td>81370</td>\n",
              "      <td>Photo</td>\n",
              "      <td>2</td>\n",
              "      <td>1</td>\n",
              "      <td>5</td>\n",
              "      <td>8</td>\n",
              "      <td>0.0</td>\n",
              "      <td>3480</td>\n",
              "      <td>6229</td>\n",
              "      <td>537</td>\n",
              "      <td>508</td>\n",
              "      <td>687</td>\n",
              "      <td>3961</td>\n",
              "      <td>2104</td>\n",
              "      <td>301</td>\n",
              "      <td>0</td>\n",
              "      <td>53.0</td>\n",
              "      <td>22.0</td>\n",
              "      <td>75</td>\n",
              "    </tr>\n",
              "    <tr>\n",
              "      <th>497</th>\n",
              "      <td>81370</td>\n",
              "      <td>Photo</td>\n",
              "      <td>1</td>\n",
              "      <td>1</td>\n",
              "      <td>5</td>\n",
              "      <td>2</td>\n",
              "      <td>0.0</td>\n",
              "      <td>3778</td>\n",
              "      <td>7216</td>\n",
              "      <td>625</td>\n",
              "      <td>572</td>\n",
              "      <td>795</td>\n",
              "      <td>4742</td>\n",
              "      <td>2388</td>\n",
              "      <td>363</td>\n",
              "      <td>4</td>\n",
              "      <td>93.0</td>\n",
              "      <td>18.0</td>\n",
              "      <td>115</td>\n",
              "    </tr>\n",
              "    <tr>\n",
              "      <th>498</th>\n",
              "      <td>81370</td>\n",
              "      <td>Photo</td>\n",
              "      <td>3</td>\n",
              "      <td>1</td>\n",
              "      <td>4</td>\n",
              "      <td>11</td>\n",
              "      <td>0.0</td>\n",
              "      <td>4156</td>\n",
              "      <td>7564</td>\n",
              "      <td>626</td>\n",
              "      <td>574</td>\n",
              "      <td>832</td>\n",
              "      <td>4534</td>\n",
              "      <td>2452</td>\n",
              "      <td>370</td>\n",
              "      <td>7</td>\n",
              "      <td>91.0</td>\n",
              "      <td>38.0</td>\n",
              "      <td>136</td>\n",
              "    </tr>\n",
              "    <tr>\n",
              "      <th>499</th>\n",
              "      <td>81370</td>\n",
              "      <td>Photo</td>\n",
              "      <td>2</td>\n",
              "      <td>1</td>\n",
              "      <td>4</td>\n",
              "      <td>4</td>\n",
              "      <td>NaN</td>\n",
              "      <td>4188</td>\n",
              "      <td>7292</td>\n",
              "      <td>564</td>\n",
              "      <td>524</td>\n",
              "      <td>743</td>\n",
              "      <td>3861</td>\n",
              "      <td>2200</td>\n",
              "      <td>316</td>\n",
              "      <td>0</td>\n",
              "      <td>91.0</td>\n",
              "      <td>28.0</td>\n",
              "      <td>119</td>\n",
              "    </tr>\n",
              "  </tbody>\n",
              "</table>\n",
              "<p>500 rows × 19 columns</p>\n",
              "</div>\n",
              "      <button class=\"colab-df-convert\" onclick=\"convertToInteractive('df-38664dcb-5509-44f2-bf68-c5b798f41359')\"\n",
              "              title=\"Convert this dataframe to an interactive table.\"\n",
              "              style=\"display:none;\">\n",
              "        \n",
              "  <svg xmlns=\"http://www.w3.org/2000/svg\" height=\"24px\"viewBox=\"0 0 24 24\"\n",
              "       width=\"24px\">\n",
              "    <path d=\"M0 0h24v24H0V0z\" fill=\"none\"/>\n",
              "    <path d=\"M18.56 5.44l.94 2.06.94-2.06 2.06-.94-2.06-.94-.94-2.06-.94 2.06-2.06.94zm-11 1L8.5 8.5l.94-2.06 2.06-.94-2.06-.94L8.5 2.5l-.94 2.06-2.06.94zm10 10l.94 2.06.94-2.06 2.06-.94-2.06-.94-.94-2.06-.94 2.06-2.06.94z\"/><path d=\"M17.41 7.96l-1.37-1.37c-.4-.4-.92-.59-1.43-.59-.52 0-1.04.2-1.43.59L10.3 9.45l-7.72 7.72c-.78.78-.78 2.05 0 2.83L4 21.41c.39.39.9.59 1.41.59.51 0 1.02-.2 1.41-.59l7.78-7.78 2.81-2.81c.8-.78.8-2.07 0-2.86zM5.41 20L4 18.59l7.72-7.72 1.47 1.35L5.41 20z\"/>\n",
              "  </svg>\n",
              "      </button>\n",
              "      \n",
              "  <style>\n",
              "    .colab-df-container {\n",
              "      display:flex;\n",
              "      flex-wrap:wrap;\n",
              "      gap: 12px;\n",
              "    }\n",
              "\n",
              "    .colab-df-convert {\n",
              "      background-color: #E8F0FE;\n",
              "      border: none;\n",
              "      border-radius: 50%;\n",
              "      cursor: pointer;\n",
              "      display: none;\n",
              "      fill: #1967D2;\n",
              "      height: 32px;\n",
              "      padding: 0 0 0 0;\n",
              "      width: 32px;\n",
              "    }\n",
              "\n",
              "    .colab-df-convert:hover {\n",
              "      background-color: #E2EBFA;\n",
              "      box-shadow: 0px 1px 2px rgba(60, 64, 67, 0.3), 0px 1px 3px 1px rgba(60, 64, 67, 0.15);\n",
              "      fill: #174EA6;\n",
              "    }\n",
              "\n",
              "    [theme=dark] .colab-df-convert {\n",
              "      background-color: #3B4455;\n",
              "      fill: #D2E3FC;\n",
              "    }\n",
              "\n",
              "    [theme=dark] .colab-df-convert:hover {\n",
              "      background-color: #434B5C;\n",
              "      box-shadow: 0px 1px 3px 1px rgba(0, 0, 0, 0.15);\n",
              "      filter: drop-shadow(0px 1px 2px rgba(0, 0, 0, 0.3));\n",
              "      fill: #FFFFFF;\n",
              "    }\n",
              "  </style>\n",
              "\n",
              "      <script>\n",
              "        const buttonEl =\n",
              "          document.querySelector('#df-38664dcb-5509-44f2-bf68-c5b798f41359 button.colab-df-convert');\n",
              "        buttonEl.style.display =\n",
              "          google.colab.kernel.accessAllowed ? 'block' : 'none';\n",
              "\n",
              "        async function convertToInteractive(key) {\n",
              "          const element = document.querySelector('#df-38664dcb-5509-44f2-bf68-c5b798f41359');\n",
              "          const dataTable =\n",
              "            await google.colab.kernel.invokeFunction('convertToInteractive',\n",
              "                                                     [key], {});\n",
              "          if (!dataTable) return;\n",
              "\n",
              "          const docLinkHtml = 'Like what you see? Visit the ' +\n",
              "            '<a target=\"_blank\" href=https://colab.research.google.com/notebooks/data_table.ipynb>data table notebook</a>'\n",
              "            + ' to learn more about interactive tables.';\n",
              "          element.innerHTML = '';\n",
              "          dataTable['output_type'] = 'display_data';\n",
              "          await google.colab.output.renderOutput(dataTable, element);\n",
              "          const docLink = document.createElement('div');\n",
              "          docLink.innerHTML = docLinkHtml;\n",
              "          element.appendChild(docLink);\n",
              "        }\n",
              "      </script>\n",
              "    </div>\n",
              "  </div>\n",
              "  "
            ]
          },
          "metadata": {},
          "execution_count": 2
        }
      ],
      "source": [
        "path = 'https://raw.githubusercontent.com/AlfonsoVasquezC/DataFiles/main/dataset_Facebook.csv'\n",
        "\n",
        "df = pd.read_csv(path, delimiter = ';')\n",
        "df"
      ]
    },
    {
      "cell_type": "markdown",
      "metadata": {
        "id": "xDMl40xYwFkP"
      },
      "source": [
        "Siguiendo el artículo, deberás considerar como predictores o variables de entrada aquellas que se indican en la Tabla 3\n",
        "\n",
        "Por otro lado, en la Tabla 2, los autores consideran varios casos para la variable de salida, intentando determinar cuál puede ser el mejor caso para medir el éxito de la campaña. \n",
        "\n",
        "Para este ejercicio deberás considerar únicamente los siguientes tres casos como variable de salida: “Lifetime post consumers”, “Lifetime People who have liked a Page and engaged with a post” y “Likes”. "
      ]
    },
    {
      "cell_type": "code",
      "execution_count": 3,
      "metadata": {
        "colab": {
          "base_uri": "https://localhost:8080/"
        },
        "id": "LWjSbneXw9L8",
        "outputId": "35ff234a-7c7f-46b5-e827-a9f68726bb82"
      },
      "outputs": [
        {
          "output_type": "execute_result",
          "data": {
            "text/plain": [
              "Index(['Page total likes', 'Type', 'Category', 'Post Month', 'Post Weekday',\n",
              "       'Post Hour', 'Paid', 'Lifetime Post Total Reach',\n",
              "       'Lifetime Post Total Impressions', 'Lifetime Engaged Users',\n",
              "       'Lifetime Post Consumers', 'Lifetime Post Consumptions',\n",
              "       'Lifetime Post Impressions by people who have liked your Page',\n",
              "       'Lifetime Post reach by people who like your Page',\n",
              "       'Lifetime People who have liked your Page and engaged with your post',\n",
              "       'comment', 'like', 'share', 'Total Interactions'],\n",
              "      dtype='object')"
            ]
          },
          "metadata": {},
          "execution_count": 3
        }
      ],
      "source": [
        "df.columns"
      ]
    },
    {
      "cell_type": "code",
      "execution_count": 4,
      "metadata": {
        "id": "0ulkqXVGCy97"
      },
      "outputs": [],
      "source": [
        "X = df[['Page total likes', 'Type', 'Category', 'Post Month', 'Post Weekday',\n",
        "       'Post Hour', 'Paid']]\n",
        "       \n",
        "y1 = df['Lifetime Post Consumers']\n",
        "y2 = df['Lifetime People who have liked your Page and engaged with your post']\n",
        "y3 = df['like']"
      ]
    },
    {
      "cell_type": "code",
      "execution_count": 5,
      "metadata": {
        "colab": {
          "base_uri": "https://localhost:8080/",
          "height": 424
        },
        "id": "6cKjwPLyxohj",
        "outputId": "5a011b68-f39c-4d59-c0d9-bd36dfdc247b"
      },
      "outputs": [
        {
          "output_type": "execute_result",
          "data": {
            "text/plain": [
              "     Page total likes    Type  Category  Post Month  Post Weekday  Post Hour  \\\n",
              "0              139441   Photo         2          12             4          3   \n",
              "1              139441  Status         2          12             3         10   \n",
              "2              139441   Photo         3          12             3          3   \n",
              "3              139441   Photo         2          12             2         10   \n",
              "4              139441   Photo         2          12             2          3   \n",
              "..                ...     ...       ...         ...           ...        ...   \n",
              "495             85093   Photo         3           1             7          2   \n",
              "496             81370   Photo         2           1             5          8   \n",
              "497             81370   Photo         1           1             5          2   \n",
              "498             81370   Photo         3           1             4         11   \n",
              "499             81370   Photo         2           1             4          4   \n",
              "\n",
              "     Paid  \n",
              "0     0.0  \n",
              "1     0.0  \n",
              "2     0.0  \n",
              "3     1.0  \n",
              "4     0.0  \n",
              "..    ...  \n",
              "495   0.0  \n",
              "496   0.0  \n",
              "497   0.0  \n",
              "498   0.0  \n",
              "499   NaN  \n",
              "\n",
              "[500 rows x 7 columns]"
            ],
            "text/html": [
              "\n",
              "  <div id=\"df-375c2dff-2f64-4153-bedc-5e5838cde76f\">\n",
              "    <div class=\"colab-df-container\">\n",
              "      <div>\n",
              "<style scoped>\n",
              "    .dataframe tbody tr th:only-of-type {\n",
              "        vertical-align: middle;\n",
              "    }\n",
              "\n",
              "    .dataframe tbody tr th {\n",
              "        vertical-align: top;\n",
              "    }\n",
              "\n",
              "    .dataframe thead th {\n",
              "        text-align: right;\n",
              "    }\n",
              "</style>\n",
              "<table border=\"1\" class=\"dataframe\">\n",
              "  <thead>\n",
              "    <tr style=\"text-align: right;\">\n",
              "      <th></th>\n",
              "      <th>Page total likes</th>\n",
              "      <th>Type</th>\n",
              "      <th>Category</th>\n",
              "      <th>Post Month</th>\n",
              "      <th>Post Weekday</th>\n",
              "      <th>Post Hour</th>\n",
              "      <th>Paid</th>\n",
              "    </tr>\n",
              "  </thead>\n",
              "  <tbody>\n",
              "    <tr>\n",
              "      <th>0</th>\n",
              "      <td>139441</td>\n",
              "      <td>Photo</td>\n",
              "      <td>2</td>\n",
              "      <td>12</td>\n",
              "      <td>4</td>\n",
              "      <td>3</td>\n",
              "      <td>0.0</td>\n",
              "    </tr>\n",
              "    <tr>\n",
              "      <th>1</th>\n",
              "      <td>139441</td>\n",
              "      <td>Status</td>\n",
              "      <td>2</td>\n",
              "      <td>12</td>\n",
              "      <td>3</td>\n",
              "      <td>10</td>\n",
              "      <td>0.0</td>\n",
              "    </tr>\n",
              "    <tr>\n",
              "      <th>2</th>\n",
              "      <td>139441</td>\n",
              "      <td>Photo</td>\n",
              "      <td>3</td>\n",
              "      <td>12</td>\n",
              "      <td>3</td>\n",
              "      <td>3</td>\n",
              "      <td>0.0</td>\n",
              "    </tr>\n",
              "    <tr>\n",
              "      <th>3</th>\n",
              "      <td>139441</td>\n",
              "      <td>Photo</td>\n",
              "      <td>2</td>\n",
              "      <td>12</td>\n",
              "      <td>2</td>\n",
              "      <td>10</td>\n",
              "      <td>1.0</td>\n",
              "    </tr>\n",
              "    <tr>\n",
              "      <th>4</th>\n",
              "      <td>139441</td>\n",
              "      <td>Photo</td>\n",
              "      <td>2</td>\n",
              "      <td>12</td>\n",
              "      <td>2</td>\n",
              "      <td>3</td>\n",
              "      <td>0.0</td>\n",
              "    </tr>\n",
              "    <tr>\n",
              "      <th>...</th>\n",
              "      <td>...</td>\n",
              "      <td>...</td>\n",
              "      <td>...</td>\n",
              "      <td>...</td>\n",
              "      <td>...</td>\n",
              "      <td>...</td>\n",
              "      <td>...</td>\n",
              "    </tr>\n",
              "    <tr>\n",
              "      <th>495</th>\n",
              "      <td>85093</td>\n",
              "      <td>Photo</td>\n",
              "      <td>3</td>\n",
              "      <td>1</td>\n",
              "      <td>7</td>\n",
              "      <td>2</td>\n",
              "      <td>0.0</td>\n",
              "    </tr>\n",
              "    <tr>\n",
              "      <th>496</th>\n",
              "      <td>81370</td>\n",
              "      <td>Photo</td>\n",
              "      <td>2</td>\n",
              "      <td>1</td>\n",
              "      <td>5</td>\n",
              "      <td>8</td>\n",
              "      <td>0.0</td>\n",
              "    </tr>\n",
              "    <tr>\n",
              "      <th>497</th>\n",
              "      <td>81370</td>\n",
              "      <td>Photo</td>\n",
              "      <td>1</td>\n",
              "      <td>1</td>\n",
              "      <td>5</td>\n",
              "      <td>2</td>\n",
              "      <td>0.0</td>\n",
              "    </tr>\n",
              "    <tr>\n",
              "      <th>498</th>\n",
              "      <td>81370</td>\n",
              "      <td>Photo</td>\n",
              "      <td>3</td>\n",
              "      <td>1</td>\n",
              "      <td>4</td>\n",
              "      <td>11</td>\n",
              "      <td>0.0</td>\n",
              "    </tr>\n",
              "    <tr>\n",
              "      <th>499</th>\n",
              "      <td>81370</td>\n",
              "      <td>Photo</td>\n",
              "      <td>2</td>\n",
              "      <td>1</td>\n",
              "      <td>4</td>\n",
              "      <td>4</td>\n",
              "      <td>NaN</td>\n",
              "    </tr>\n",
              "  </tbody>\n",
              "</table>\n",
              "<p>500 rows × 7 columns</p>\n",
              "</div>\n",
              "      <button class=\"colab-df-convert\" onclick=\"convertToInteractive('df-375c2dff-2f64-4153-bedc-5e5838cde76f')\"\n",
              "              title=\"Convert this dataframe to an interactive table.\"\n",
              "              style=\"display:none;\">\n",
              "        \n",
              "  <svg xmlns=\"http://www.w3.org/2000/svg\" height=\"24px\"viewBox=\"0 0 24 24\"\n",
              "       width=\"24px\">\n",
              "    <path d=\"M0 0h24v24H0V0z\" fill=\"none\"/>\n",
              "    <path d=\"M18.56 5.44l.94 2.06.94-2.06 2.06-.94-2.06-.94-.94-2.06-.94 2.06-2.06.94zm-11 1L8.5 8.5l.94-2.06 2.06-.94-2.06-.94L8.5 2.5l-.94 2.06-2.06.94zm10 10l.94 2.06.94-2.06 2.06-.94-2.06-.94-.94-2.06-.94 2.06-2.06.94z\"/><path d=\"M17.41 7.96l-1.37-1.37c-.4-.4-.92-.59-1.43-.59-.52 0-1.04.2-1.43.59L10.3 9.45l-7.72 7.72c-.78.78-.78 2.05 0 2.83L4 21.41c.39.39.9.59 1.41.59.51 0 1.02-.2 1.41-.59l7.78-7.78 2.81-2.81c.8-.78.8-2.07 0-2.86zM5.41 20L4 18.59l7.72-7.72 1.47 1.35L5.41 20z\"/>\n",
              "  </svg>\n",
              "      </button>\n",
              "      \n",
              "  <style>\n",
              "    .colab-df-container {\n",
              "      display:flex;\n",
              "      flex-wrap:wrap;\n",
              "      gap: 12px;\n",
              "    }\n",
              "\n",
              "    .colab-df-convert {\n",
              "      background-color: #E8F0FE;\n",
              "      border: none;\n",
              "      border-radius: 50%;\n",
              "      cursor: pointer;\n",
              "      display: none;\n",
              "      fill: #1967D2;\n",
              "      height: 32px;\n",
              "      padding: 0 0 0 0;\n",
              "      width: 32px;\n",
              "    }\n",
              "\n",
              "    .colab-df-convert:hover {\n",
              "      background-color: #E2EBFA;\n",
              "      box-shadow: 0px 1px 2px rgba(60, 64, 67, 0.3), 0px 1px 3px 1px rgba(60, 64, 67, 0.15);\n",
              "      fill: #174EA6;\n",
              "    }\n",
              "\n",
              "    [theme=dark] .colab-df-convert {\n",
              "      background-color: #3B4455;\n",
              "      fill: #D2E3FC;\n",
              "    }\n",
              "\n",
              "    [theme=dark] .colab-df-convert:hover {\n",
              "      background-color: #434B5C;\n",
              "      box-shadow: 0px 1px 3px 1px rgba(0, 0, 0, 0.15);\n",
              "      filter: drop-shadow(0px 1px 2px rgba(0, 0, 0, 0.3));\n",
              "      fill: #FFFFFF;\n",
              "    }\n",
              "  </style>\n",
              "\n",
              "      <script>\n",
              "        const buttonEl =\n",
              "          document.querySelector('#df-375c2dff-2f64-4153-bedc-5e5838cde76f button.colab-df-convert');\n",
              "        buttonEl.style.display =\n",
              "          google.colab.kernel.accessAllowed ? 'block' : 'none';\n",
              "\n",
              "        async function convertToInteractive(key) {\n",
              "          const element = document.querySelector('#df-375c2dff-2f64-4153-bedc-5e5838cde76f');\n",
              "          const dataTable =\n",
              "            await google.colab.kernel.invokeFunction('convertToInteractive',\n",
              "                                                     [key], {});\n",
              "          if (!dataTable) return;\n",
              "\n",
              "          const docLinkHtml = 'Like what you see? Visit the ' +\n",
              "            '<a target=\"_blank\" href=https://colab.research.google.com/notebooks/data_table.ipynb>data table notebook</a>'\n",
              "            + ' to learn more about interactive tables.';\n",
              "          element.innerHTML = '';\n",
              "          dataTable['output_type'] = 'display_data';\n",
              "          await google.colab.output.renderOutput(dataTable, element);\n",
              "          const docLink = document.createElement('div');\n",
              "          docLink.innerHTML = docLinkHtml;\n",
              "          element.appendChild(docLink);\n",
              "        }\n",
              "      </script>\n",
              "    </div>\n",
              "  </div>\n",
              "  "
            ]
          },
          "metadata": {},
          "execution_count": 5
        }
      ],
      "source": [
        "X"
      ]
    },
    {
      "cell_type": "code",
      "execution_count": 6,
      "metadata": {
        "colab": {
          "base_uri": "https://localhost:8080/"
        },
        "id": "NZ1lXD-jxwEe",
        "outputId": "0010f5aa-f0f1-4da7-d5c1-908bb4986938"
      },
      "outputs": [
        {
          "output_type": "stream",
          "name": "stdout",
          "text": [
            "(500, 7)\n",
            "(500,)\n",
            "(500,)\n",
            "(500,)\n"
          ]
        }
      ],
      "source": [
        "print(X.shape)\n",
        "print(y1.shape)\n",
        "print(y2.shape)\n",
        "print(y3.shape)"
      ]
    },
    {
      "cell_type": "markdown",
      "metadata": {
        "id": "NeKDRTzmx9fF"
      },
      "source": [
        "1. En esta tarea considera únicamente la siguiente variable de salida que se concluye que es una de las\n",
        "mejores en el artículo antes citado: ‘Lifetime People who have liked a Page and engaged with a\n",
        "post'. Renombra dicha variable como “LPE” . Como variables de entrada selecciona las 7 variables\n",
        "que indican los autores en la Tabla 3 del artículo citado. \n"
      ]
    },
    {
      "cell_type": "code",
      "execution_count": 7,
      "metadata": {
        "colab": {
          "base_uri": "https://localhost:8080/",
          "height": 424
        },
        "id": "XmvpJs8TyERP",
        "outputId": "06b7d1bd-6a93-476c-ccb9-4381495527c1"
      },
      "outputs": [
        {
          "output_type": "execute_result",
          "data": {
            "text/plain": [
              "      LPE\n",
              "0     119\n",
              "1    1108\n",
              "2     132\n",
              "3    1386\n",
              "4     396\n",
              "..    ...\n",
              "495   392\n",
              "496   301\n",
              "497   363\n",
              "498   370\n",
              "499   316\n",
              "\n",
              "[500 rows x 1 columns]"
            ],
            "text/html": [
              "\n",
              "  <div id=\"df-971e15f7-7e1a-4e09-b9bb-0515f3a6cf72\">\n",
              "    <div class=\"colab-df-container\">\n",
              "      <div>\n",
              "<style scoped>\n",
              "    .dataframe tbody tr th:only-of-type {\n",
              "        vertical-align: middle;\n",
              "    }\n",
              "\n",
              "    .dataframe tbody tr th {\n",
              "        vertical-align: top;\n",
              "    }\n",
              "\n",
              "    .dataframe thead th {\n",
              "        text-align: right;\n",
              "    }\n",
              "</style>\n",
              "<table border=\"1\" class=\"dataframe\">\n",
              "  <thead>\n",
              "    <tr style=\"text-align: right;\">\n",
              "      <th></th>\n",
              "      <th>LPE</th>\n",
              "    </tr>\n",
              "  </thead>\n",
              "  <tbody>\n",
              "    <tr>\n",
              "      <th>0</th>\n",
              "      <td>119</td>\n",
              "    </tr>\n",
              "    <tr>\n",
              "      <th>1</th>\n",
              "      <td>1108</td>\n",
              "    </tr>\n",
              "    <tr>\n",
              "      <th>2</th>\n",
              "      <td>132</td>\n",
              "    </tr>\n",
              "    <tr>\n",
              "      <th>3</th>\n",
              "      <td>1386</td>\n",
              "    </tr>\n",
              "    <tr>\n",
              "      <th>4</th>\n",
              "      <td>396</td>\n",
              "    </tr>\n",
              "    <tr>\n",
              "      <th>...</th>\n",
              "      <td>...</td>\n",
              "    </tr>\n",
              "    <tr>\n",
              "      <th>495</th>\n",
              "      <td>392</td>\n",
              "    </tr>\n",
              "    <tr>\n",
              "      <th>496</th>\n",
              "      <td>301</td>\n",
              "    </tr>\n",
              "    <tr>\n",
              "      <th>497</th>\n",
              "      <td>363</td>\n",
              "    </tr>\n",
              "    <tr>\n",
              "      <th>498</th>\n",
              "      <td>370</td>\n",
              "    </tr>\n",
              "    <tr>\n",
              "      <th>499</th>\n",
              "      <td>316</td>\n",
              "    </tr>\n",
              "  </tbody>\n",
              "</table>\n",
              "<p>500 rows × 1 columns</p>\n",
              "</div>\n",
              "      <button class=\"colab-df-convert\" onclick=\"convertToInteractive('df-971e15f7-7e1a-4e09-b9bb-0515f3a6cf72')\"\n",
              "              title=\"Convert this dataframe to an interactive table.\"\n",
              "              style=\"display:none;\">\n",
              "        \n",
              "  <svg xmlns=\"http://www.w3.org/2000/svg\" height=\"24px\"viewBox=\"0 0 24 24\"\n",
              "       width=\"24px\">\n",
              "    <path d=\"M0 0h24v24H0V0z\" fill=\"none\"/>\n",
              "    <path d=\"M18.56 5.44l.94 2.06.94-2.06 2.06-.94-2.06-.94-.94-2.06-.94 2.06-2.06.94zm-11 1L8.5 8.5l.94-2.06 2.06-.94-2.06-.94L8.5 2.5l-.94 2.06-2.06.94zm10 10l.94 2.06.94-2.06 2.06-.94-2.06-.94-.94-2.06-.94 2.06-2.06.94z\"/><path d=\"M17.41 7.96l-1.37-1.37c-.4-.4-.92-.59-1.43-.59-.52 0-1.04.2-1.43.59L10.3 9.45l-7.72 7.72c-.78.78-.78 2.05 0 2.83L4 21.41c.39.39.9.59 1.41.59.51 0 1.02-.2 1.41-.59l7.78-7.78 2.81-2.81c.8-.78.8-2.07 0-2.86zM5.41 20L4 18.59l7.72-7.72 1.47 1.35L5.41 20z\"/>\n",
              "  </svg>\n",
              "      </button>\n",
              "      \n",
              "  <style>\n",
              "    .colab-df-container {\n",
              "      display:flex;\n",
              "      flex-wrap:wrap;\n",
              "      gap: 12px;\n",
              "    }\n",
              "\n",
              "    .colab-df-convert {\n",
              "      background-color: #E8F0FE;\n",
              "      border: none;\n",
              "      border-radius: 50%;\n",
              "      cursor: pointer;\n",
              "      display: none;\n",
              "      fill: #1967D2;\n",
              "      height: 32px;\n",
              "      padding: 0 0 0 0;\n",
              "      width: 32px;\n",
              "    }\n",
              "\n",
              "    .colab-df-convert:hover {\n",
              "      background-color: #E2EBFA;\n",
              "      box-shadow: 0px 1px 2px rgba(60, 64, 67, 0.3), 0px 1px 3px 1px rgba(60, 64, 67, 0.15);\n",
              "      fill: #174EA6;\n",
              "    }\n",
              "\n",
              "    [theme=dark] .colab-df-convert {\n",
              "      background-color: #3B4455;\n",
              "      fill: #D2E3FC;\n",
              "    }\n",
              "\n",
              "    [theme=dark] .colab-df-convert:hover {\n",
              "      background-color: #434B5C;\n",
              "      box-shadow: 0px 1px 3px 1px rgba(0, 0, 0, 0.15);\n",
              "      filter: drop-shadow(0px 1px 2px rgba(0, 0, 0, 0.3));\n",
              "      fill: #FFFFFF;\n",
              "    }\n",
              "  </style>\n",
              "\n",
              "      <script>\n",
              "        const buttonEl =\n",
              "          document.querySelector('#df-971e15f7-7e1a-4e09-b9bb-0515f3a6cf72 button.colab-df-convert');\n",
              "        buttonEl.style.display =\n",
              "          google.colab.kernel.accessAllowed ? 'block' : 'none';\n",
              "\n",
              "        async function convertToInteractive(key) {\n",
              "          const element = document.querySelector('#df-971e15f7-7e1a-4e09-b9bb-0515f3a6cf72');\n",
              "          const dataTable =\n",
              "            await google.colab.kernel.invokeFunction('convertToInteractive',\n",
              "                                                     [key], {});\n",
              "          if (!dataTable) return;\n",
              "\n",
              "          const docLinkHtml = 'Like what you see? Visit the ' +\n",
              "            '<a target=\"_blank\" href=https://colab.research.google.com/notebooks/data_table.ipynb>data table notebook</a>'\n",
              "            + ' to learn more about interactive tables.';\n",
              "          element.innerHTML = '';\n",
              "          dataTable['output_type'] = 'display_data';\n",
              "          await google.colab.output.renderOutput(dataTable, element);\n",
              "          const docLink = document.createElement('div');\n",
              "          docLink.innerHTML = docLinkHtml;\n",
              "          element.appendChild(docLink);\n",
              "        }\n",
              "      </script>\n",
              "    </div>\n",
              "  </div>\n",
              "  "
            ]
          },
          "metadata": {},
          "execution_count": 7
        }
      ],
      "source": [
        "y = df[['Lifetime People who have liked your Page and engaged with your post']]\n",
        "y = y.rename(columns = {\"Lifetime People who have liked your Page and engaged with your post\": \"LPE\"})\n",
        "y = y[['LPE']]\n",
        "y"
      ]
    },
    {
      "cell_type": "markdown",
      "metadata": {
        "id": "-ti1_yBuzs6l"
      },
      "source": [
        "Realiza una partición de los datos con 100 datos de Prueba y el resto para entrenamiento y validación"
      ]
    },
    {
      "cell_type": "markdown",
      "metadata": {
        "id": "xZhr2hkECzVv"
      },
      "source": [
        "#**Ejercicio-2.**"
      ]
    },
    {
      "cell_type": "markdown",
      "metadata": {
        "id": "NyFbKlOH1RLe"
      },
      "source": [
        "Realiza una partición de los datos con 100 datos de Prueba y el resto para entrenamiento y validación"
      ]
    },
    {
      "cell_type": "code",
      "execution_count": 8,
      "metadata": {
        "colab": {
          "base_uri": "https://localhost:8080/"
        },
        "id": "kGfAoOPkC1PP",
        "outputId": "7f33157c-bb54-4d80-e6f8-3173a017bf83"
      },
      "outputs": [
        {
          "output_type": "stream",
          "name": "stdout",
          "text": [
            "Dimensión del conjunto de entrenamiento variables independientes:  (400, 7)\n",
            "Dimensión del conjunto de prueba variables independientes:  (100, 7) \n",
            "\n",
            "Dimensión del conjunto de entrenamiento variable dependiente:  (400, 1)\n",
            "Dimensión del conjunto de prueba variable dependiente:  (100, 1)\n"
          ]
        }
      ],
      "source": [
        "Xtv, Xtest, ytv, ytest = train_test_split(X, y, test_size = 0.20, random_state = 7)\n",
        "\n",
        "print('Dimensión del conjunto de entrenamiento variables independientes: ', Xtv.shape)\n",
        "print('Dimensión del conjunto de prueba variables independientes: ', Xtest.shape, '\\n')\n",
        "print('Dimensión del conjunto de entrenamiento variable dependiente: ', ytv.shape)\n",
        "print('Dimensión del conjunto de prueba variable dependiente: ', ytest.shape)"
      ]
    },
    {
      "cell_type": "markdown",
      "metadata": {
        "id": "NCunuooTC2W3"
      },
      "source": [
        "#**Ejercicio-3.**"
      ]
    },
    {
      "cell_type": "markdown",
      "metadata": {
        "id": "VGHUEH4s1Uwx"
      },
      "source": [
        "\n",
        "Definirás tus propias funciones de errores para este problema de regresión. Los errores que utilizarás son la raíz cuadrada del error cuadrático medio RMSE, el error absoluto medio MAE y el error porcentual absoluto medio MAPE."
      ]
    },
    {
      "cell_type": "code",
      "execution_count": 9,
      "metadata": {
        "id": "YXlcSWA-C4Dj"
      },
      "outputs": [],
      "source": [
        "def nues_RMSE(yreal,ypred):\n",
        "  m = np.mean(np.power(np.subtract(yreal,ypred), 2))\n",
        "  return np.sqrt(m)  \n",
        "\n",
        "def nues_MAE(yreal,ypred):\n",
        "  m = np.abs(np.subtract(yreal,ypred))\n",
        "  return np.mean(m)  \n",
        "\n",
        "def nues_MAPE(yreal,ypred):\n",
        "  m = np.abs(np.subtract(yreal,ypred)/yreal)\n",
        "  return np.mean(m) * 100"
      ]
    },
    {
      "cell_type": "markdown",
      "metadata": {
        "id": "chqk9jIDC5Pq"
      },
      "source": [
        "#**Ejercicio-4.**"
      ]
    },
    {
      "cell_type": "markdown",
      "metadata": {
        "id": "f8ikKNSZ1aSv"
      },
      "source": [
        "En la página de la UCI, así como en el artículo de los autores previamente citado encuentras información en relación al significado de cada variable. Haz una análisis de tus datos y lleva a cabo las transformaciones que consideres adecuadas tanto en los datos de entrada, como en las de salida. Utiliza un Pipeline para evitar el filtrado de información."
      ]
    },
    {
      "cell_type": "code",
      "execution_count": 10,
      "metadata": {
        "colab": {
          "base_uri": "https://localhost:8080/",
          "height": 424
        },
        "id": "RBVSFwK4C6g9",
        "outputId": "8031bf62-c372-446d-dcdc-e54c816e6a5a"
      },
      "outputs": [
        {
          "output_type": "execute_result",
          "data": {
            "text/plain": [
              "     Page total likes    Type  Category  Post Month  Post Weekday  Post Hour  \\\n",
              "342            117764   Photo         2           5             2         11   \n",
              "359            116091   Photo         3           5             7          2   \n",
              "109            136736  Status         2          10             7          3   \n",
              "50             138353   Photo         2          11             1          9   \n",
              "452             93363   Photo         1           2             5          6   \n",
              "..                ...     ...       ...         ...           ...        ...   \n",
              "211            132201   Photo         3           8             5         10   \n",
              "67             138185   Photo         1          11             7          3   \n",
              "25             138458  Status         2          12             6          3   \n",
              "196            133594   Photo         1           8             6          8   \n",
              "175            135195  Status         2           9             6         10   \n",
              "\n",
              "     Paid  \n",
              "342   0.0  \n",
              "359   0.0  \n",
              "109   0.0  \n",
              "50    0.0  \n",
              "452   0.0  \n",
              "..    ...  \n",
              "211   0.0  \n",
              "67    1.0  \n",
              "25    0.0  \n",
              "196   0.0  \n",
              "175   1.0  \n",
              "\n",
              "[400 rows x 7 columns]"
            ],
            "text/html": [
              "\n",
              "  <div id=\"df-cb3d119b-b611-4529-a97b-e0aeda878ca5\">\n",
              "    <div class=\"colab-df-container\">\n",
              "      <div>\n",
              "<style scoped>\n",
              "    .dataframe tbody tr th:only-of-type {\n",
              "        vertical-align: middle;\n",
              "    }\n",
              "\n",
              "    .dataframe tbody tr th {\n",
              "        vertical-align: top;\n",
              "    }\n",
              "\n",
              "    .dataframe thead th {\n",
              "        text-align: right;\n",
              "    }\n",
              "</style>\n",
              "<table border=\"1\" class=\"dataframe\">\n",
              "  <thead>\n",
              "    <tr style=\"text-align: right;\">\n",
              "      <th></th>\n",
              "      <th>Page total likes</th>\n",
              "      <th>Type</th>\n",
              "      <th>Category</th>\n",
              "      <th>Post Month</th>\n",
              "      <th>Post Weekday</th>\n",
              "      <th>Post Hour</th>\n",
              "      <th>Paid</th>\n",
              "    </tr>\n",
              "  </thead>\n",
              "  <tbody>\n",
              "    <tr>\n",
              "      <th>342</th>\n",
              "      <td>117764</td>\n",
              "      <td>Photo</td>\n",
              "      <td>2</td>\n",
              "      <td>5</td>\n",
              "      <td>2</td>\n",
              "      <td>11</td>\n",
              "      <td>0.0</td>\n",
              "    </tr>\n",
              "    <tr>\n",
              "      <th>359</th>\n",
              "      <td>116091</td>\n",
              "      <td>Photo</td>\n",
              "      <td>3</td>\n",
              "      <td>5</td>\n",
              "      <td>7</td>\n",
              "      <td>2</td>\n",
              "      <td>0.0</td>\n",
              "    </tr>\n",
              "    <tr>\n",
              "      <th>109</th>\n",
              "      <td>136736</td>\n",
              "      <td>Status</td>\n",
              "      <td>2</td>\n",
              "      <td>10</td>\n",
              "      <td>7</td>\n",
              "      <td>3</td>\n",
              "      <td>0.0</td>\n",
              "    </tr>\n",
              "    <tr>\n",
              "      <th>50</th>\n",
              "      <td>138353</td>\n",
              "      <td>Photo</td>\n",
              "      <td>2</td>\n",
              "      <td>11</td>\n",
              "      <td>1</td>\n",
              "      <td>9</td>\n",
              "      <td>0.0</td>\n",
              "    </tr>\n",
              "    <tr>\n",
              "      <th>452</th>\n",
              "      <td>93363</td>\n",
              "      <td>Photo</td>\n",
              "      <td>1</td>\n",
              "      <td>2</td>\n",
              "      <td>5</td>\n",
              "      <td>6</td>\n",
              "      <td>0.0</td>\n",
              "    </tr>\n",
              "    <tr>\n",
              "      <th>...</th>\n",
              "      <td>...</td>\n",
              "      <td>...</td>\n",
              "      <td>...</td>\n",
              "      <td>...</td>\n",
              "      <td>...</td>\n",
              "      <td>...</td>\n",
              "      <td>...</td>\n",
              "    </tr>\n",
              "    <tr>\n",
              "      <th>211</th>\n",
              "      <td>132201</td>\n",
              "      <td>Photo</td>\n",
              "      <td>3</td>\n",
              "      <td>8</td>\n",
              "      <td>5</td>\n",
              "      <td>10</td>\n",
              "      <td>0.0</td>\n",
              "    </tr>\n",
              "    <tr>\n",
              "      <th>67</th>\n",
              "      <td>138185</td>\n",
              "      <td>Photo</td>\n",
              "      <td>1</td>\n",
              "      <td>11</td>\n",
              "      <td>7</td>\n",
              "      <td>3</td>\n",
              "      <td>1.0</td>\n",
              "    </tr>\n",
              "    <tr>\n",
              "      <th>25</th>\n",
              "      <td>138458</td>\n",
              "      <td>Status</td>\n",
              "      <td>2</td>\n",
              "      <td>12</td>\n",
              "      <td>6</td>\n",
              "      <td>3</td>\n",
              "      <td>0.0</td>\n",
              "    </tr>\n",
              "    <tr>\n",
              "      <th>196</th>\n",
              "      <td>133594</td>\n",
              "      <td>Photo</td>\n",
              "      <td>1</td>\n",
              "      <td>8</td>\n",
              "      <td>6</td>\n",
              "      <td>8</td>\n",
              "      <td>0.0</td>\n",
              "    </tr>\n",
              "    <tr>\n",
              "      <th>175</th>\n",
              "      <td>135195</td>\n",
              "      <td>Status</td>\n",
              "      <td>2</td>\n",
              "      <td>9</td>\n",
              "      <td>6</td>\n",
              "      <td>10</td>\n",
              "      <td>1.0</td>\n",
              "    </tr>\n",
              "  </tbody>\n",
              "</table>\n",
              "<p>400 rows × 7 columns</p>\n",
              "</div>\n",
              "      <button class=\"colab-df-convert\" onclick=\"convertToInteractive('df-cb3d119b-b611-4529-a97b-e0aeda878ca5')\"\n",
              "              title=\"Convert this dataframe to an interactive table.\"\n",
              "              style=\"display:none;\">\n",
              "        \n",
              "  <svg xmlns=\"http://www.w3.org/2000/svg\" height=\"24px\"viewBox=\"0 0 24 24\"\n",
              "       width=\"24px\">\n",
              "    <path d=\"M0 0h24v24H0V0z\" fill=\"none\"/>\n",
              "    <path d=\"M18.56 5.44l.94 2.06.94-2.06 2.06-.94-2.06-.94-.94-2.06-.94 2.06-2.06.94zm-11 1L8.5 8.5l.94-2.06 2.06-.94-2.06-.94L8.5 2.5l-.94 2.06-2.06.94zm10 10l.94 2.06.94-2.06 2.06-.94-2.06-.94-.94-2.06-.94 2.06-2.06.94z\"/><path d=\"M17.41 7.96l-1.37-1.37c-.4-.4-.92-.59-1.43-.59-.52 0-1.04.2-1.43.59L10.3 9.45l-7.72 7.72c-.78.78-.78 2.05 0 2.83L4 21.41c.39.39.9.59 1.41.59.51 0 1.02-.2 1.41-.59l7.78-7.78 2.81-2.81c.8-.78.8-2.07 0-2.86zM5.41 20L4 18.59l7.72-7.72 1.47 1.35L5.41 20z\"/>\n",
              "  </svg>\n",
              "      </button>\n",
              "      \n",
              "  <style>\n",
              "    .colab-df-container {\n",
              "      display:flex;\n",
              "      flex-wrap:wrap;\n",
              "      gap: 12px;\n",
              "    }\n",
              "\n",
              "    .colab-df-convert {\n",
              "      background-color: #E8F0FE;\n",
              "      border: none;\n",
              "      border-radius: 50%;\n",
              "      cursor: pointer;\n",
              "      display: none;\n",
              "      fill: #1967D2;\n",
              "      height: 32px;\n",
              "      padding: 0 0 0 0;\n",
              "      width: 32px;\n",
              "    }\n",
              "\n",
              "    .colab-df-convert:hover {\n",
              "      background-color: #E2EBFA;\n",
              "      box-shadow: 0px 1px 2px rgba(60, 64, 67, 0.3), 0px 1px 3px 1px rgba(60, 64, 67, 0.15);\n",
              "      fill: #174EA6;\n",
              "    }\n",
              "\n",
              "    [theme=dark] .colab-df-convert {\n",
              "      background-color: #3B4455;\n",
              "      fill: #D2E3FC;\n",
              "    }\n",
              "\n",
              "    [theme=dark] .colab-df-convert:hover {\n",
              "      background-color: #434B5C;\n",
              "      box-shadow: 0px 1px 3px 1px rgba(0, 0, 0, 0.15);\n",
              "      filter: drop-shadow(0px 1px 2px rgba(0, 0, 0, 0.3));\n",
              "      fill: #FFFFFF;\n",
              "    }\n",
              "  </style>\n",
              "\n",
              "      <script>\n",
              "        const buttonEl =\n",
              "          document.querySelector('#df-cb3d119b-b611-4529-a97b-e0aeda878ca5 button.colab-df-convert');\n",
              "        buttonEl.style.display =\n",
              "          google.colab.kernel.accessAllowed ? 'block' : 'none';\n",
              "\n",
              "        async function convertToInteractive(key) {\n",
              "          const element = document.querySelector('#df-cb3d119b-b611-4529-a97b-e0aeda878ca5');\n",
              "          const dataTable =\n",
              "            await google.colab.kernel.invokeFunction('convertToInteractive',\n",
              "                                                     [key], {});\n",
              "          if (!dataTable) return;\n",
              "\n",
              "          const docLinkHtml = 'Like what you see? Visit the ' +\n",
              "            '<a target=\"_blank\" href=https://colab.research.google.com/notebooks/data_table.ipynb>data table notebook</a>'\n",
              "            + ' to learn more about interactive tables.';\n",
              "          element.innerHTML = '';\n",
              "          dataTable['output_type'] = 'display_data';\n",
              "          await google.colab.output.renderOutput(dataTable, element);\n",
              "          const docLink = document.createElement('div');\n",
              "          docLink.innerHTML = docLinkHtml;\n",
              "          element.appendChild(docLink);\n",
              "        }\n",
              "      </script>\n",
              "    </div>\n",
              "  </div>\n",
              "  "
            ]
          },
          "metadata": {},
          "execution_count": 10
        }
      ],
      "source": [
        "Xtv"
      ]
    },
    {
      "cell_type": "code",
      "execution_count": 11,
      "metadata": {
        "colab": {
          "base_uri": "https://localhost:8080/"
        },
        "id": "ECUsk-aS5qz6",
        "outputId": "948c4b75-4f57-4a22-fbe7-c87ef6282bda"
      },
      "outputs": [
        {
          "output_type": "stream",
          "name": "stdout",
          "text": [
            "<class 'pandas.core.frame.DataFrame'>\n",
            "Int64Index: 400 entries, 342 to 175\n",
            "Data columns (total 7 columns):\n",
            " #   Column            Non-Null Count  Dtype  \n",
            "---  ------            --------------  -----  \n",
            " 0   Page total likes  400 non-null    int64  \n",
            " 1   Type              400 non-null    object \n",
            " 2   Category          400 non-null    int64  \n",
            " 3   Post Month        400 non-null    int64  \n",
            " 4   Post Weekday      400 non-null    int64  \n",
            " 5   Post Hour         400 non-null    int64  \n",
            " 6   Paid              399 non-null    float64\n",
            "dtypes: float64(1), int64(5), object(1)\n",
            "memory usage: 25.0+ KB\n"
          ]
        }
      ],
      "source": [
        "Xtv.info()"
      ]
    },
    {
      "cell_type": "code",
      "execution_count": 12,
      "metadata": {
        "id": "7KXnlNzAC69Y"
      },
      "outputs": [],
      "source": [
        "# Definimos las columnas que corresponden a cada tipo de dato\n",
        "\n",
        "#Se establecen como variables categoricas aquellas que tienen un numero finito de valores posibles\n",
        "names_pipeline_cat, names_pipeline_cat_index = ['Type', 'Category'], [1,2] \n",
        "\n",
        "#Se establecen como variables numericas aquellas que contienen un numero muy grande de valores enteros posibles \n",
        "names_pipeline_num, names_pipeline_num_index = ['Page total likes'], [0]\n",
        "\n",
        "#Se establecen como variables binarias aquellas que solo tienen dos valores posibles\n",
        "names_pipeline_bin, names_pipeline_bin_index = ['Paid'], [6]\n",
        "\n",
        "#Se establecen como variables ordinales aquellas variables que son categoricas y que tienen un orden logico entre sus valores. \n",
        "#Por ejemplo, la variable employment duration tiene valores entre 1 y 5, donde 1 es desempleado, 2 empleado hace menos de un año y asi en adeltante\n",
        "# Estas variables cuentan con valores que tienen una correlación con la variable a la que representan \n",
        "# (A mayor valor de la variable ordinal, mayor impacto tiene esto en la representación de la variable a la que esta representando).\n",
        "\n",
        "names_pipeline_ord, names_pipeline_ord_index = ['Post Month', 'Post Weekday', 'Post Hour'], [3,4,5]\n",
        "\n",
        "#Se unen tanto categoricas como binarias para transformación futura\n",
        "\n",
        "names_pipeline_cat_bin = names_pipeline_cat + names_pipeline_bin\n",
        "\n",
        "names_pipeline_cat_bin_index = names_pipeline_cat_index + names_pipeline_bin_index"
      ]
    },
    {
      "cell_type": "code",
      "execution_count": 13,
      "metadata": {
        "id": "Jq0jcoMe3W3h"
      },
      "outputs": [],
      "source": [
        "# Definimos las Pipelines\n",
        "\n",
        "# Transformaciones a factores categóricos y binarios de entrada: remplazo por moda y aplicación de OneHotEncoder para crear columnas Dummies\n",
        "pipeline_cat_bin = Pipeline(steps = [('impModa', SimpleImputer(strategy='most_frequent')),\n",
        "                                     ('OneHotE', OneHotEncoder(handle_unknown = 'ignore'))])\n",
        "\n",
        "# Transformaciones a factores numéricos de entrada: remplazo con promedio y escalación gaussiana\n",
        "pipeline_num = Pipeline(steps = [('impMedian', SimpleImputer(strategy='median')),\n",
        "                                 ('escalaNum', StandardScaler())])\n",
        "\n",
        "# Transformaciones a factores ordinales de entrada: remplazo con moda y escalación gaussiana\n",
        "pipeline_ord = Pipeline(steps = [('impModa', SimpleImputer(strategy='most_frequent'))])\n",
        "\n",
        "\n",
        "# Aplicamos las transformaciones a las columnas correspondientes con ColumnTransformer\n",
        "\n",
        "transformaciones = ColumnTransformer( transformers = [\n",
        "                                                      ('numimp', pipeline_num, names_pipeline_num),\n",
        "                                                      ('catbimp', pipeline_cat_bin, names_pipeline_cat_bin),\n",
        "                                                      ('ordimp', pipeline_ord, names_pipeline_ord)],\n",
        "                                                      remainder='passthrough')"
      ]
    },
    {
      "cell_type": "code",
      "execution_count": 14,
      "metadata": {
        "id": "uiu9Qt6l66FO"
      },
      "outputs": [],
      "source": [
        "pipeline_salida = Pipeline(steps=[('impMedian', SimpleImputer(strategy='median'))])\n",
        "names_pipeline_salida = ['LPE']\n",
        "\n",
        "transformacionessalida = ColumnTransformer( transformers = [('outimp', pipeline_salida, [0])], \n",
        "                                           remainder = 'passthrough')"
      ]
    },
    {
      "cell_type": "markdown",
      "metadata": {
        "id": "Rv7KFq-mC7PS"
      },
      "source": [
        "#**Ejercicio-5.**"
      ]
    },
    {
      "cell_type": "markdown",
      "metadata": {
        "id": "IoSEEMCCHulN"
      },
      "source": [
        "Utiliza la función Dummy para modelos de regresión de scikit-learn con el conjunto que tienes de datos de entrenamiento y validación. Para ello particiónalos en 100 para validación y 300 para entrenamiento. Encuentra los errores RMSE, MAE y MAPE para los conjuntos de entrenamiento y \n",
        "validación. Estos serán tus errores máximos que deberás tomar como referencia en el resto de la actividad. Consulta su documentación correspondiente:  \n",
        "https://scikit-learn.org/stable/modules/generated/sklearn.dummy.DummyRegressor.html  "
      ]
    },
    {
      "cell_type": "code",
      "execution_count": 15,
      "metadata": {
        "id": "jaDj3kawC9B6"
      },
      "outputs": [],
      "source": [
        "modeloDLR = DummyRegressor()"
      ]
    },
    {
      "cell_type": "code",
      "execution_count": 16,
      "metadata": {
        "id": "a0L6zzL2_d4S"
      },
      "outputs": [],
      "source": [
        "Xtvtransf = transformaciones.fit_transform(Xtv)\n",
        "ytvtransf = transformacionessalida.fit_transform(ytv)\n",
        "\n"
      ]
    },
    {
      "cell_type": "code",
      "execution_count": 17,
      "metadata": {
        "colab": {
          "base_uri": "https://localhost:8080/"
        },
        "id": "4tQxQROVC9Us",
        "outputId": "9d639367-a365-4922-dc89-98ff6f20ce1c"
      },
      "outputs": [
        {
          "output_type": "stream",
          "name": "stdout",
          "text": [
            "Dimensión del conjunto de entrenamiento variables independientes:  (300, 13)\n",
            "Dimensión del conjunto de prueba variables independientes:  (100, 13) \n",
            "\n",
            "Dimensión del conjunto de entrenamiento variable dependiente:  (300, 1)\n",
            "Dimensión del conjunto de prueba variable dependiente:  (100, 1)\n"
          ]
        }
      ],
      "source": [
        "Xtrain, Xval, ytrain, yval = train_test_split(Xtvtransf, ytvtransf, test_size = 0.25, random_state = 7)\n",
        "print('Dimensión del conjunto de entrenamiento variables independientes: ', Xtrain.shape)\n",
        "print('Dimensión del conjunto de prueba variables independientes: ', Xval.shape, '\\n')\n",
        "print('Dimensión del conjunto de entrenamiento variable dependiente: ', ytrain.shape)\n",
        "print('Dimensión del conjunto de prueba variable dependiente: ', yval.shape)"
      ]
    },
    {
      "cell_type": "code",
      "execution_count": 18,
      "metadata": {
        "colab": {
          "base_uri": "https://localhost:8080/"
        },
        "id": "gDCYFCfF-wtr",
        "outputId": "ad5439ac-9e81-404b-8adf-0ad0a84c7e29"
      },
      "outputs": [
        {
          "output_type": "execute_result",
          "data": {
            "text/plain": [
              "DummyRegressor()"
            ]
          },
          "metadata": {},
          "execution_count": 18
        }
      ],
      "source": [
        "modeloDLR.fit(Xtrain, ytrain)"
      ]
    },
    {
      "cell_type": "code",
      "execution_count": 19,
      "metadata": {
        "id": "V8l8lBenBMSR"
      },
      "outputs": [],
      "source": [
        "DLRyhat = modeloDLR.predict(Xval)"
      ]
    },
    {
      "cell_type": "code",
      "execution_count": 20,
      "metadata": {
        "colab": {
          "base_uri": "https://localhost:8080/"
        },
        "id": "zLOJz6AVBhG3",
        "outputId": "c52d1849-195b-406b-9026-2993980f980e"
      },
      "outputs": [
        {
          "output_type": "execute_result",
          "data": {
            "text/plain": [
              "array([610.20333333, 610.20333333, 610.20333333, 610.20333333,\n",
              "       610.20333333, 610.20333333, 610.20333333, 610.20333333,\n",
              "       610.20333333, 610.20333333, 610.20333333, 610.20333333,\n",
              "       610.20333333, 610.20333333, 610.20333333, 610.20333333,\n",
              "       610.20333333, 610.20333333, 610.20333333, 610.20333333,\n",
              "       610.20333333, 610.20333333, 610.20333333, 610.20333333,\n",
              "       610.20333333, 610.20333333, 610.20333333, 610.20333333,\n",
              "       610.20333333, 610.20333333, 610.20333333, 610.20333333,\n",
              "       610.20333333, 610.20333333, 610.20333333, 610.20333333,\n",
              "       610.20333333, 610.20333333, 610.20333333, 610.20333333,\n",
              "       610.20333333, 610.20333333, 610.20333333, 610.20333333,\n",
              "       610.20333333, 610.20333333, 610.20333333, 610.20333333,\n",
              "       610.20333333, 610.20333333, 610.20333333, 610.20333333,\n",
              "       610.20333333, 610.20333333, 610.20333333, 610.20333333,\n",
              "       610.20333333, 610.20333333, 610.20333333, 610.20333333,\n",
              "       610.20333333, 610.20333333, 610.20333333, 610.20333333,\n",
              "       610.20333333, 610.20333333, 610.20333333, 610.20333333,\n",
              "       610.20333333, 610.20333333, 610.20333333, 610.20333333,\n",
              "       610.20333333, 610.20333333, 610.20333333, 610.20333333,\n",
              "       610.20333333, 610.20333333, 610.20333333, 610.20333333,\n",
              "       610.20333333, 610.20333333, 610.20333333, 610.20333333,\n",
              "       610.20333333, 610.20333333, 610.20333333, 610.20333333,\n",
              "       610.20333333, 610.20333333, 610.20333333, 610.20333333,\n",
              "       610.20333333, 610.20333333, 610.20333333, 610.20333333,\n",
              "       610.20333333, 610.20333333, 610.20333333, 610.20333333])"
            ]
          },
          "metadata": {},
          "execution_count": 20
        }
      ],
      "source": [
        "DLRyhat"
      ]
    },
    {
      "cell_type": "code",
      "execution_count": 21,
      "metadata": {
        "colab": {
          "base_uri": "https://localhost:8080/"
        },
        "id": "X6NcBiP2CDvn",
        "outputId": "c56ea1a6-0140-41ee-f37c-0a97b08ee7f9"
      },
      "outputs": [
        {
          "output_type": "stream",
          "name": "stdout",
          "text": [
            "Conjuntos de Entrenamiento \n",
            "\n",
            "RMSE 648.21097027811 \n",
            " MAE 403.9488444444445 \n",
            " MAPE 179.68211054544756\n",
            "\n",
            " Conjuntos de Validación \n",
            "\n",
            "RMSE 568.1433815019273 \n",
            " MAE 386.5357333333333 \n",
            " MAPE 93.0372131858349\n"
          ]
        }
      ],
      "source": [
        "def metricas(yval,ypred):\n",
        "\n",
        "  RMSE = nues_RMSE(yval,ypred)\n",
        "  MAE = nues_MAE(yval,ypred)\n",
        "  MAPE =nues_MAPE(yval,ypred)\n",
        "\n",
        "  return print('RMSE', RMSE, '\\n', 'MAE', MAE, '\\n', 'MAPE', MAPE)\n",
        "\n",
        "print('Conjuntos de Entrenamiento', '\\n')\n",
        "metricas(ytrain, DLRyhat)\n",
        "\n",
        "print('\\n','Conjuntos de Validación', '\\n')\n",
        "metricas(yval, DLRyhat)"
      ]
    },
    {
      "cell_type": "markdown",
      "metadata": {
        "id": "W2S7LI0NC9wE"
      },
      "source": [
        "#**Ejercicio-6.**"
      ]
    },
    {
      "cell_type": "markdown",
      "metadata": {
        "id": "yAV6kgfLFrgp"
      },
      "source": [
        "Usando los modelos de regresión lineal múltiple, el bosque aleatorio y el perceptrón multicapa con sus valores predeterminados, lleva a cabo su entrenamiento con repeticiones de validación cruzada (RepeatedKFold) y desplegando los errores RMSE, MAE y MAPE. Recuerda evitar el filtrado de\n",
        "información usando los datos que obtuviste en el ejercicio 2. Incluye las conclusiones sobre el mejor modelo encontrado en esta primera aproximación. En particular ¿hay alguno sobreentrenado o subentrenado? NOTA: Recuerda que puedes aumentar en dado caso el número máximo de iteraciones para que todos los modelos converjan"
      ]
    },
    {
      "cell_type": "code",
      "execution_count": 22,
      "metadata": {
        "id": "x6uBleJUC_AU"
      },
      "outputs": [],
      "source": [
        "#Definimos los modelos que se compararán entre si\n",
        "def get_models():\n",
        "  modelos = list()\n",
        "  nombres = list()\n",
        "\n",
        "  # LR - Regresión Líneal:\n",
        "  modelos.append(LinearRegression())\n",
        "  nombres.append('LR')\n",
        "\n",
        "  # RF - Random Forest:\n",
        "  modelos.append(RandomForestClassifier())\n",
        "  nombres.append('RF')\n",
        "  \n",
        "  # MLP - Perceptrón Multi Capa:  \n",
        "  modelos.append(MLPRegressor(max_iter = 5000))\n",
        "  nombres.append('MLP')\n",
        "  \n",
        "\n",
        "  return modelos, nombres"
      ]
    },
    {
      "cell_type": "code",
      "execution_count": 23,
      "metadata": {
        "colab": {
          "base_uri": "https://localhost:8080/"
        },
        "id": "n0P_AcyjC_Dh",
        "outputId": "2ac72a09-bfe9-4092-8b4b-205c7b81cf4f"
      },
      "outputs": [
        {
          "output_type": "stream",
          "name": "stdout",
          "text": [
            "Train Scores:\n",
            "\n",
            "LR:\n",
            "mean RMSE: 474.915 (27.8796)\n",
            "mean MAE: 289.973 (12.0189)\n",
            "mean MAPE: 109.972 (10.1436)\n",
            "\n",
            "\n",
            "Test Scores (Validation):\n",
            "\n",
            "LR:\n",
            "mean RMSE: 487.520 (96.8629)\n",
            "mean MAE: 299.493 (43.3684)\n",
            "mean MAPE: 113.503 (47.0124)\n",
            "\n",
            "Train Scores:\n",
            "\n",
            "RF:\n",
            "mean RMSE: 31.024 (15.5721)\n",
            "mean MAE: 2.191 (1.1036)\n",
            "mean MAPE: 1.078 (0.8581)\n",
            "\n",
            "\n",
            "Test Scores (Validation):\n",
            "\n",
            "RF:\n",
            "mean RMSE: 624.635 (111.0761)\n",
            "mean MAE: 352.465 (50.7916)\n",
            "mean MAPE: 112.126 (72.3337)\n",
            "\n",
            "Train Scores:\n",
            "\n",
            "MLP:\n",
            "mean RMSE: 458.156 (31.0556)\n",
            "mean MAE: 281.945 (14.3881)\n",
            "mean MAPE: 105.426 (10.5590)\n",
            "\n",
            "\n",
            "Test Scores (Validation):\n",
            "\n",
            "MLP:\n",
            "mean RMSE: 491.409 (96.8733)\n",
            "mean MAE: 302.174 (43.2707)\n",
            "mean MAPE: 112.496 (49.6475)\n",
            "\n"
          ]
        }
      ],
      "source": [
        "modelos, nombres = get_models()  # cargamos los modelos a comparar\n",
        "resultados = list()   \n",
        "\n",
        "for i in range(len(modelos)):\n",
        "\n",
        "  \n",
        "  pipeline = Pipeline(steps=[('transformaciones',transformaciones),('modelos',modelos[i])])\n",
        "\n",
        "  cv = RepeatedKFold(n_splits=5, n_repeats=3, random_state=7)\n",
        "\n",
        "  nuestras_metricas = {'RMSE':make_scorer(nues_RMSE),\n",
        "                       'MAE':make_scorer(nues_MAE),\n",
        "                       'MAPE':make_scorer(nues_MAPE)}\n",
        "\n",
        "  #resultadoscv = cross_validate(pipeline, Xtv, np.ravel(ytv), n_jobs= -1, scoring=nuestras_metricas, cv=cv, return_train_score=True)\n",
        "\n",
        "  Xtvtransf = transformaciones.fit_transform(Xtv)\n",
        "  ytvtransf = transformacionessalida.fit_transform(ytv)\n",
        "  \n",
        "  \n",
        "  resultadoscv = cross_validate(modelos[i], Xtvtransf, np.ravel(ytvtransf), n_jobs= -1, scoring=nuestras_metricas, cv=cv, return_train_score=True)\n",
        "\n",
        "\n",
        "  resultados.append(resultadoscv)\n",
        "\n",
        "  print('Train Scores:\\n')\n",
        "  \n",
        "  print('%s:\\nmean RMSE: %.3f (%.4f)\\nmean MAE: %.3f (%.4f)\\nmean MAPE: %.3f (%.4f)\\n' \n",
        "        % (nombres[i],\n",
        "                                                                          np.mean(resultadoscv['train_RMSE']),\n",
        "                                                                          np.std(resultadoscv['train_RMSE']), \n",
        "                                                                          np.mean(resultadoscv['train_MAE']),\n",
        "                                                                          np.std(resultadoscv['train_MAE']), \n",
        "                                                                          np.mean(resultadoscv['train_MAPE']),\n",
        "                                                                          np.std(resultadoscv['train_MAPE'])                                                                      \n",
        "                                                                          ))\n",
        "\n",
        "  print('\\nTest Scores (Validation):\\n')\n",
        "\n",
        "  print('%s:\\nmean RMSE: %.3f (%.4f)\\nmean MAE: %.3f (%.4f)\\nmean MAPE: %.3f (%.4f)\\n' \n",
        "        % (nombres[i],\n",
        "                                                                          np.mean(resultadoscv['test_RMSE']),\n",
        "                                                                          np.std(resultadoscv['test_RMSE']), \n",
        "                                                                          np.mean(resultadoscv['test_MAE']),\n",
        "                                                                          np.std(resultadoscv['test_MAE']), \n",
        "                                                                          np.mean(resultadoscv['test_MAPE']),\n",
        "                                                                          np.std(resultadoscv['test_MAPE'])\n",
        "                                                                          ))  \n"
      ]
    },
    {
      "cell_type": "markdown",
      "metadata": {
        "id": "dxqIiLdiRQdX"
      },
      "source": [
        "Podemos observar que el modelo que presenta los menores valores tanto de RMSE, MAE y MAPE es el modelo de regresión líneal multiple.\n",
        "\n",
        "El modelo que presenta los peores resultados es el de Random Forest.\n",
        "\n",
        "Además, observamos que el modelo de Random Forest es el que esta mayormente sobreentrenado, pues su rendimiento en el conjunto de entrenamiento es casi perfecto, mientras que al exponerlo a los datos de validación se vuelve el menos óptimo. Linear regression y MLP parecen no estar sobreentrenados.\n",
        "\n",
        "A manera general los tres modelos en sus condiciones estandares tienen un resultado poco convencedor, pues el Dummy Regressor presenta mejor desempeño en cuanto al MAPE. En los otros dos, presenta el Dummy un peor desempeño"
      ]
    },
    {
      "cell_type": "markdown",
      "metadata": {
        "id": "iCNGx4TQ8CFI"
      },
      "source": [
        "#**Ejercicio-7.**"
      ]
    },
    {
      "cell_type": "code",
      "execution_count": 24,
      "metadata": {
        "colab": {
          "base_uri": "https://localhost:8080/",
          "height": 365
        },
        "id": "ewvwUcJX78y1",
        "outputId": "fba38baa-6520-4df0-aa20-beaea8b3180c"
      },
      "outputs": [
        {
          "output_type": "display_data",
          "data": {
            "text/plain": [
              "<Figure size 720x360 with 2 Axes>"
            ],
            "image/png": "[encoded data removed]"
          },
          "metadata": {}
        }
      ],
      "source": [
        "from matplotlib.axes import Subplot\n",
        "import seaborn as sns\n",
        "\n",
        "#Se muestra en un BoxPlot los resultados correspondientes a la métrica MAPE de los tres modelos\n",
        "sns.set_theme(rc={'figure.figsize':(10,5)})\n",
        "fig, axes = plt.subplots(1, 2)\n",
        "axes[0].set_title(\"Train MAPE\")\n",
        "axes[1].set_title(\"Validation MAPE\")\n",
        "\n",
        "\n",
        "bpMAPEtrain = list()\n",
        "bpMAPEtest = list()\n",
        "\n",
        "for i in range(len(resultados)):\n",
        "  results = resultados[i]['train_MAPE']\n",
        "  bpMAPEtrain.append(results)\n",
        "  \n",
        "for i in range(len(resultados)):\n",
        "  results = resultados[i]['test_MAPE']\n",
        "  bpMAPEtest.append(results)\n",
        "\n",
        "plt.subplot(1,2,1)\n",
        "plt.boxplot(bpMAPEtrain, labels=nombres, showmeans=True)\n",
        "plt.title(label=\"Train MAPE\")\n",
        "plt.subplot(1,2,2)\n",
        "plt.boxplot(bpMAPEtest, labels=nombres,showmeans = True)\n",
        "plt.title(label=\"Validation MAPE\")\n",
        "\n",
        "plt.tight_layout()\n",
        "plt.show()"
      ]
    },
    {
      "cell_type": "markdown",
      "metadata": {
        "id": "fWJio9saRRYS"
      },
      "source": [
        "El valor de MAPE para la variable de salida \"Lifetime people who have liked your page and engaged with your post\" fue de 26.9, lo cual supera considerablemente los valores que estamos obteniendo, los cuales rondan alrededor de un MAPE de 100."
      ]
    },
    {
      "cell_type": "markdown",
      "metadata": {
        "id": "tzQn5NR78GFg"
      },
      "source": [
        "#**Ejercicio-8.**"
      ]
    },
    {
      "cell_type": "markdown",
      "metadata": {
        "id": "AnLyUufkR_5F"
      },
      "source": [
        "Usando una búsqueda de malla con validación cruzada (GridSearchCV), busca los mejores hiperparámetros para el modelo MLP. Al menos deberás realizar la búsqueda en los hiperparámetros “hidden_layer_sizes”, “alpha” y “learning_rate_init”. Además aplica la validación cruzada con repeticiones (RepeatedKFold). Muestra los mejores hiperparámetros encontrados. "
      ]
    },
    {
      "cell_type": "code",
      "source": [
        "transformaciones.transformers_[1][1]\\\n",
        "    ['OneHotE'].get_feature_names_out(['Type', 'Category', 'Paid'])"
      ],
      "metadata": {
        "colab": {
          "base_uri": "https://localhost:8080/"
        },
        "id": "sy224stsMe4C",
        "outputId": "e8973f70-9b7e-4308-e0fe-c1cc3d99489d"
      },
      "execution_count": 25,
      "outputs": [
        {
          "output_type": "execute_result",
          "data": {
            "text/plain": [
              "array(['Type_Link', 'Type_Photo', 'Type_Status', 'Type_Video',\n",
              "       'Category_1', 'Category_2', 'Category_3', 'Paid_0.0', 'Paid_1.0'],\n",
              "      dtype=object)"
            ]
          },
          "metadata": {},
          "execution_count": 25
        }
      ]
    },
    {
      "cell_type": "code",
      "source": [
        "OneHE_names = transformaciones.transformers_[1][1]['OneHotE'].get_feature_names_out(['Type', 'Category', 'Paid'])\n",
        "Column_names = []\n",
        "for i in OneHE_names:\n",
        "  Column_names.append(i)\n",
        "Column_names = ['Pages total likes'] + Column_names + ['Post Month', 'Post Weekday', 'Post Hour']\n"
      ],
      "metadata": {
        "id": "KKkjsA31Mfam"
      },
      "execution_count": 26,
      "outputs": []
    },
    {
      "cell_type": "code",
      "execution_count": 27,
      "metadata": {
        "id": "EBKcp0278IQV"
      },
      "outputs": [],
      "source": [
        "modeloMLP = MLPRegressor(max_iter= 10000, random_state=11)\n",
        "\n",
        "# hidden_layer_sizes”, “alpha” y “learning_rate_init”.\n",
        "#pre_pipeline = Pipeline(steps = [('preprocessing', transformaciones), ('modelo', modeloMLP)])\n",
        "\n",
        "#final_pipeline = TransformedTargetRegressor(regressor = pre_pipeline,\n",
        "#                                               transformer = transformacionessalida)\n",
        "\n",
        "Xtvtransf = transformaciones.fit_transform(Xtv)\n",
        "ytvtransf = transformacionessalida.fit_transform(ytv)\n",
        "\n",
        "'''dicc_grid = {'hidden_layer_sizes':[(2,2), (4,4), (8,4), (8,6)], #indicamos nodos por cada capa, donde cada , dentro del tuple es una capa.\n",
        "             'alpha':[0.0001, 0.001, 0.01, 0.1],\n",
        "             'learning_rate_init': [0.0001, 0.001, 0.01],\n",
        "             'solver':['sgd', 'adam']}'''\n",
        "\n",
        "dicc_grid = [\n",
        " \n",
        "        {'solver': ['lbfgs'], 'alpha':[0.0001, 0.001, 0.01, 0.1, 1.0], 'hidden_layer_sizes':[(8,2), (8,4)]},\n",
        "        {'solver': ['adam'], 'learning_rate_init': [0.001, 0.01, 0.1], 'alpha':[0.0001, 0.001, 0.01, 0.1, 1.0],'hidden_layer_sizes':[(8,2), (8,4)]},\n",
        "        {'solver': ['sgd'], 'learning_rate_init': [0.001, 0.01,0.1],'alpha':[0.0001, 0.001, 0.01, 0.1, 1.0],'hidden_layer_sizes':[(8,2), (8,4)]}\n",
        "    ]\n",
        "\n",
        "cv = RepeatedKFold(n_splits=5, n_repeats=3, random_state=11)\n",
        "\n",
        "grid = GridSearchCV(estimator= modeloMLP, \n",
        "                    param_grid=dicc_grid, \n",
        "                    cv=cv,\n",
        "                    n_jobs = -1,\n",
        "                    scoring=make_scorer(nues_MAPE, greater_is_better = False))"
      ]
    },
    {
      "cell_type": "code",
      "execution_count": 28,
      "metadata": {
        "colab": {
          "base_uri": "https://localhost:8080/"
        },
        "id": "vp8S0PFs8IMR",
        "outputId": "394e70dd-7764-457c-cd44-e57175f0ebc2"
      },
      "outputs": [
        {
          "output_type": "stream",
          "name": "stdout",
          "text": [
            "Mejor valor de exactitud obtenido con la mejor combinación: -82.92386126437324\n",
            "Mejor combinación de valores encontrados de los hiperparámetros: {'alpha': 0.001, 'hidden_layer_sizes': (8, 2), 'learning_rate_init': 0.01, 'solver': 'sgd'}\n",
            "Métrica utilizada: make_scorer(nues_MAPE, greater_is_better=False)\n"
          ]
        }
      ],
      "source": [
        "grid.fit(Xtvtransf, np.ravel(ytvtransf))\n",
        "\n",
        "print('Mejor valor de exactitud obtenido con la mejor combinación:', grid.best_score_)\n",
        "print('Mejor combinación de valores encontrados de los hiperparámetros:', grid.best_params_)\n",
        "print('Métrica utilizada:', grid.scoring)"
      ]
    },
    {
      "cell_type": "markdown",
      "metadata": {
        "id": "mASNrZWs8JTh"
      },
      "source": [
        "#**Ejercicio-9.**"
      ]
    },
    {
      "cell_type": "markdown",
      "metadata": {
        "id": "hWEPjzFHjtUL"
      },
      "source": [
        "Con los mejores valores de los hiperparámetros encontrados realiza un análisis de la importancia de los factores. Muestra un diagrama de barras de los resultados e incluye tus conclusiones. "
      ]
    },
    {
      "cell_type": "code",
      "execution_count": 29,
      "metadata": {
        "colab": {
          "base_uri": "https://localhost:8080/",
          "height": 493
        },
        "id": "X6HJP9hb8LCp",
        "outputId": "8f9cad2a-d5f1-4d6e-f292-fe89ff02f3f8"
      },
      "outputs": [
        {
          "output_type": "stream",
          "name": "stdout",
          "text": [
            "Feature: 0, Score: 0.02941\n",
            "Feature: 1, Score: 0.08723\n",
            "Feature: 2, Score: 0.11534\n",
            "Feature: 3, Score: 0.37189\n",
            "Feature: 4, Score: 0.00126\n",
            "Feature: 5, Score: 0.11633\n",
            "Feature: 6, Score: 0.07204\n",
            "Feature: 7, Score: 0.06579\n",
            "Feature: 8, Score: 0.13601\n",
            "Feature: 9, Score: 0.23161\n",
            "Feature: 10, Score: 0.08889\n",
            "Feature: 11, Score: 0.00295\n",
            "Feature: 12, Score: 0.00790\n"
          ]
        },
        {
          "output_type": "display_data",
          "data": {
            "text/plain": [
              "<Figure size 1440x288 with 1 Axes>"
            ],
            "image/png": "[encoded data removed]"
          },
          "metadata": {}
        }
      ],
      "source": [
        "# Una vez inicializado y entrenada la MLP, veamos qué factores considera más importantes:\n",
        "\n",
        "modeloMLP = MLPRegressor(hidden_layer_sizes=(8,2), \n",
        "                            max_iter=10000000, \n",
        "                            alpha=0.001,\n",
        "                            learning_rate_init=0.01,\n",
        "                            solver = 'adam')\n",
        "\n",
        "modeloMLP.fit(Xtvtransf, np.ravel(ytvtransf))\n",
        "\n",
        "importanceMLP = permutation_importance(modeloMLP, Xtvtransf, ytvtransf, n_repeats=10)\n",
        "\n",
        "# visualicemos la importancia de cada métrica, de las cuales sabemos\n",
        "# cuáles son las más importantes, de acuerdo a como se definieron al inicio:\n",
        "\n",
        "for i,v in enumerate(importanceMLP['importances_mean']):\n",
        "\tprint('Feature: %0d, Score: %.5f' % (i,v))\n",
        " \n",
        "[x for x in range(len(importanceMLP['importances_mean']))]\n",
        "\n",
        "plt.rcParams['figure.figsize'] = [20, 4]\n",
        "plt.bar(Column_names, importanceMLP['importances_mean'], width = 0.8, label = Column_names)\n",
        "\n",
        "\n",
        "plt.show()"
      ]
    },
    {
      "cell_type": "markdown",
      "metadata": {
        "id": "VUIcDshs8MzG"
      },
      "source": [
        "#**Ejercicio-10.**"
      ]
    },
    {
      "cell_type": "markdown",
      "metadata": {
        "id": "bzzt4UXmkxVg"
      },
      "source": [
        "Repite el ejercicio 8 y 9 para el modelo de bosque aleatorio para buscar sus mejores hiperparámetros (realiza la búsqueda con aquellos hiperparámetros que consideres más adecuados) y usando el conjunto de Prueba. Y realiza igualmente el análisis de importancia de factores con este modelo con un diagrama de barras. "
      ]
    },
    {
      "cell_type": "code",
      "execution_count": 40,
      "metadata": {
        "id": "0lKNJNIt8N88"
      },
      "outputs": [],
      "source": [
        "modeloRF = RandomForestClassifier()\n",
        "\n",
        "Xtvtransf = transformaciones.fit_transform(Xtv)\n",
        "ytvtransf = transformacionessalida.fit_transform(ytv)\n",
        "\n",
        "dicc_grid = {'ccp_alpha':[0.05, 0.1, 0.15],                                       #[0.0001,0.01,0.1,1.0,10.,100.],\n",
        "             'criterion':['gini', 'entropy'],\n",
        "             'max_depth': [1,2,8, None],\n",
        "             'min_samples_split': [0.25,0.3,0.35],                                #[0.1,0.3,0.5,1.0],\n",
        "             'class_weight':['balanced', None]\n",
        "             }\n",
        "\n",
        "cv = RepeatedKFold(n_splits=5, n_repeats=3, random_state=11)\n",
        "\n",
        "grid = GridSearchCV(estimator=modeloRF, \n",
        "                    param_grid=dicc_grid, \n",
        "                    cv=cv,\n",
        "                    n_jobs = -1, \n",
        "                    scoring=make_scorer(nues_MAPE, greater_is_better = False))\n",
        "                    "
      ]
    },
    {
      "cell_type": "code",
      "execution_count": 41,
      "metadata": {
        "colab": {
          "base_uri": "https://localhost:8080/"
        },
        "id": "Inkq5YQe8PED",
        "outputId": "d9424fcd-a3e0-456a-ce87-0785e849adc3"
      },
      "outputs": [
        {
          "output_type": "stream",
          "name": "stdout",
          "text": [
            "Mejor valor de exactitud obtenido con la mejor combinación: -72.28085305607667\n",
            "Mejor combinación de valores encontrados de los hiperparámetros: {'ccp_alpha': 0.05, 'class_weight': None, 'criterion': 'entropy', 'max_depth': 2, 'min_samples_split': 0.25}\n",
            "Métrica utilizada: make_scorer(nues_MAPE, greater_is_better=False)\n"
          ]
        }
      ],
      "source": [
        "grid.fit(Xtvtransf, np.ravel(ytvtransf))\n",
        "\n",
        "print('Mejor valor de exactitud obtenido con la mejor combinación:', grid.best_score_)\n",
        "print('Mejor combinación de valores encontrados de los hiperparámetros:', grid.best_params_)\n",
        "print('Métrica utilizada:', grid.scoring)"
      ]
    },
    {
      "cell_type": "code",
      "execution_count": 74,
      "metadata": {
        "id": "z13g8nsgk14P",
        "colab": {
          "base_uri": "https://localhost:8080/",
          "height": 492
        },
        "outputId": "a354d612-d52c-4beb-ec6c-4d3a7750d8d4"
      },
      "outputs": [
        {
          "output_type": "stream",
          "name": "stdout",
          "text": [
            "Feature: 0, Score: 0.02775\n",
            "Feature: 1, Score: 0.00000\n",
            "Feature: 2, Score: 0.00250\n",
            "Feature: 3, Score: 0.00025\n",
            "Feature: 4, Score: 0.00000\n",
            "Feature: 5, Score: 0.01775\n",
            "Feature: 6, Score: 0.00550\n",
            "Feature: 7, Score: 0.00475\n",
            "Feature: 8, Score: 0.01100\n",
            "Feature: 9, Score: 0.00825\n",
            "Feature: 10, Score: 0.02325\n",
            "Feature: 11, Score: 0.03925\n",
            "Feature: 12, Score: 0.02425\n"
          ]
        },
        {
          "output_type": "display_data",
          "data": {
            "text/plain": [
              "<Figure size 1440x288 with 1 Axes>"
            ],
            "image/png": "[encoded data removed]"
          },
          "metadata": {}
        }
      ],
      "source": [
        "# Una vez inicializado y entrenada la RF, veamos qué factores considera más importantes:\n",
        "\n",
        "modeloRF = RandomForestClassifier(ccp_alpha = 0.05,\t\t\t\t\t\t\t\t\t\t\t\t\t\t\t\n",
        "                                  class_weight = None,\n",
        "                                  criterion = 'entropy',\n",
        "                                  max_depth = 2,\n",
        "                                  min_samples_split = 0.25)\n",
        "\n",
        "modeloRF.fit(Xtvtransf, np.ravel(ytvtransf))\n",
        "\n",
        "importanceRF = permutation_importance(modeloRF, Xtvtransf, ytvtransf, n_repeats=10)\n",
        "\n",
        "# visualicemos la importancia de cada métrica, de las cuales sabemos\n",
        "# cuáles son las más importantes, de acuerdo a como se definieron al inicio:\n",
        "\n",
        "for i,v in enumerate(importanceRF['importances_mean']):\n",
        "\tprint('Feature: %0d, Score: %.5f' % (i,v))\n",
        " \n",
        "[x for x in range(len(importanceRF['importances_mean']))]\n",
        "\n",
        "plt.rcParams['figure.figsize'] = [20, 4]\n",
        "plt.bar(Column_names, importanceRF['importances_mean'], width = 0.8, label = Column_names)\n",
        "\n",
        "\n",
        "plt.show()\n",
        "\n"
      ]
    },
    {
      "cell_type": "markdown",
      "metadata": {
        "id": "5LJl6oql8Pc8"
      },
      "source": [
        "#**Ejercicio-11.**"
      ]
    },
    {
      "cell_type": "markdown",
      "metadata": {
        "id": "gc2uqAnTlHvh"
      },
      "source": [
        "Repite el ejercicio 8 y 9 para el modelo de regresión lineal múltiple para buscar sus mejores hiperparámetros (realiza la búsqueda con aquellos hiperparámetros que consideres más adecuados) y usando el conjunto de Prueba. Y realiza igualmente el análisis de importancia de factores con este modelo con un diagrama de barras. "
      ]
    },
    {
      "cell_type": "code",
      "execution_count": 33,
      "metadata": {
        "id": "-YiSnt9t8RfN"
      },
      "outputs": [],
      "source": [
        "modeloLR = LinearRegression()\n",
        "\n",
        "pre_pipeline = Pipeline(steps = [('preprocessing', transformaciones), ('modelo', modeloLR)])\n",
        "\n",
        "final_pipeline = TransformedTargetRegressor(regressor = pre_pipeline,\n",
        "                                            func = np.log,\n",
        "                                            inverse_func = np.exp)\n",
        "\n",
        "\n",
        "Xtvtransf = transformaciones.fit_transform(Xtv)\n",
        "ytvtransf = transformacionessalida.fit_transform(ytv)\n",
        "\n",
        "dicc_grid = {'regressor__modelo__fit_intercept':[True, False],\n",
        "             'regressor__modelo__positive':[True,False]}\n",
        "\n",
        "cv = RepeatedKFold(n_splits=5, n_repeats=3, random_state=11)\n",
        "\n",
        "grid = GridSearchCV(estimator= final_pipeline, \n",
        "                    param_grid=dicc_grid, \n",
        "                    cv=cv,\n",
        "                    n_jobs = -1,\n",
        "                    scoring=make_scorer(nues_MAPE, greater_is_better = False))"
      ]
    },
    {
      "cell_type": "code",
      "execution_count": 34,
      "metadata": {
        "id": "2iRA78ZC8Rbm",
        "colab": {
          "base_uri": "https://localhost:8080/"
        },
        "outputId": "afef2227-2376-4c9a-b5ac-1b7a5bbcddbd"
      },
      "outputs": [
        {
          "output_type": "stream",
          "name": "stdout",
          "text": [
            "Mejor valor de exactitud obtenido con la mejor combinación: -85.82886978954436\n",
            "Mejor combinación de valores encontrados de los hiperparámetros: {'regressor__modelo__fit_intercept': False, 'regressor__modelo__positive': False}\n",
            "Métrica utilizada: make_scorer(nues_MAPE, greater_is_better=False)\n"
          ]
        }
      ],
      "source": [
        "#grid.fit(Xtvtransf, np.ravel(ytvtransf))\n",
        "grid.fit(Xtv, ytv)\n",
        "\n",
        "print('Mejor valor de exactitud obtenido con la mejor combinación:', grid.best_score_)\n",
        "print('Mejor combinación de valores encontrados de los hiperparámetros:', grid.best_params_)\n",
        "print('Métrica utilizada:', grid.scoring)"
      ]
    },
    {
      "cell_type": "code",
      "execution_count": 35,
      "metadata": {
        "id": "6xl5fG_Vlw20",
        "colab": {
          "base_uri": "https://localhost:8080/",
          "height": 495
        },
        "outputId": "9925311a-c4be-43b3-ab77-abeb966af7c8"
      },
      "outputs": [
        {
          "output_type": "stream",
          "name": "stdout",
          "text": [
            "Feature: 0, Score: 0.10432\n",
            "Feature: 1, Score: 0.09563\n",
            "Feature: 2, Score: 0.09367\n",
            "Feature: 3, Score: 0.45100\n",
            "Feature: 4, Score: 0.00025\n",
            "Feature: 5, Score: 0.00037\n",
            "Feature: 6, Score: 0.00005\n",
            "Feature: 7, Score: 0.00090\n",
            "Feature: 8, Score: 0.00315\n",
            "Feature: 9, Score: 0.00315\n",
            "Feature: 10, Score: 0.19624\n",
            "Feature: 11, Score: 0.00105\n",
            "Feature: 12, Score: 0.00365\n"
          ]
        },
        {
          "output_type": "display_data",
          "data": {
            "text/plain": [
              "<Figure size 1440x288 with 1 Axes>"
            ],
            "image/png": "[encoded data removed]"
          },
          "metadata": {}
        }
      ],
      "source": [
        "# Una vez inicializado y entrenada la LR, veamos qué factores considera más importantes:\n",
        "\n",
        "modeloLR = LinearRegression(fit_intercept = True, positive = False)  \n",
        "\n",
        "modeloLR.fit(Xtvtransf, np.ravel(ytvtransf))\n",
        "\n",
        "dfnames = pd.DataFrame(Xtvtransf)\n",
        "\n",
        "importanceLR = permutation_importance(modeloLR, Xtvtransf, ytvtransf, n_repeats=10)\n",
        "\n",
        "# visualicemos la importancia de cada métrica, de las cuales sabemos\n",
        "# cuáles son las más importantes, de acuerdo a como se definieron al inicio:\n",
        "\n",
        "for i,v in enumerate(importanceLR['importances_mean']):\n",
        "\tprint('Feature: %0d, Score: %.5f' % (i,v))\n",
        " \n",
        "[x for x in range(len(importanceLR['importances_mean']))]\n",
        "\n",
        "plt.rcParams['figure.figsize'] = [20, 4]\n",
        "plt.bar(Column_names, importanceLR['importances_mean'], width = 0.8, label = Column_names)\n",
        "\n",
        "\n",
        "plt.show()"
      ]
    },
    {
      "cell_type": "code",
      "source": [
        "import seaborn as sns\n",
        "sns.displot(ytv, kind = 'kde')"
      ],
      "metadata": {
        "colab": {
          "base_uri": "https://localhost:8080/",
          "height": 382
        },
        "id": "gsbActWAWqhR",
        "outputId": "476f7c2f-7668-4b2d-f2f4-a69a4f52218d"
      },
      "execution_count": 36,
      "outputs": [
        {
          "output_type": "execute_result",
          "data": {
            "text/plain": [
              "<seaborn.axisgrid.FacetGrid at 0x7faaafb4d210>"
            ]
          },
          "metadata": {},
          "execution_count": 36
        },
        {
          "output_type": "display_data",
          "data": {
            "text/plain": [
              "<Figure size 419.35x360 with 1 Axes>"
            ],
            "image/png": "[encoded data removed]"
          },
          "metadata": {}
        }
      ]
    },
    {
      "cell_type": "code",
      "source": [
        "sns.displot(np.log(ytv), kind = 'kde')"
      ],
      "metadata": {
        "colab": {
          "base_uri": "https://localhost:8080/",
          "height": 382
        },
        "id": "Y2PZG80yXgCM",
        "outputId": "3e1d5ad4-b2bc-464e-b2c2-3516e36d0459"
      },
      "execution_count": 37,
      "outputs": [
        {
          "output_type": "execute_result",
          "data": {
            "text/plain": [
              "<seaborn.axisgrid.FacetGrid at 0x7faaafabe7d0>"
            ]
          },
          "metadata": {},
          "execution_count": 37
        },
        {
          "output_type": "display_data",
          "data": {
            "text/plain": [
              "<Figure size 419.35x360 with 1 Axes>"
            ],
            "image/png": "[encoded data removed]"
          },
          "metadata": {}
        }
      ]
    },
    {
      "cell_type": "markdown",
      "source": [
        "### Evaluación MLP con datos de prueba"
      ],
      "metadata": {
        "id": "wb6viHyAYF-B"
      }
    },
    {
      "cell_type": "code",
      "source": [
        "modeloMLP = MLPRegressor(hidden_layer_sizes=(8,2), \n",
        "                            max_iter=10000000, \n",
        "                            alpha=0.001,\n",
        "                            learning_rate_init=0.01,\n",
        "                            solver = 'adam')\n",
        "\n",
        "modeloMLP.fit(Xtvtransf, np.ravel(ytvtransf))\n",
        "\n",
        "yMLPhat = modeloMLP.predict(transformaciones.transform(Xtest))\n",
        "\n",
        "scorerMLP = nues_MAPE(np.ravel(ytest),yMLPhat)\n",
        "scorerMLP"
      ],
      "metadata": {
        "colab": {
          "base_uri": "https://localhost:8080/"
        },
        "id": "YgYrYEBeYFoN",
        "outputId": "bd2c8663-9409-4392-ad0d-bef318ac125f"
      },
      "execution_count": 45,
      "outputs": [
        {
          "output_type": "execute_result",
          "data": {
            "text/plain": [
              "71.91264682346956"
            ]
          },
          "metadata": {},
          "execution_count": 45
        }
      ]
    },
    {
      "cell_type": "markdown",
      "source": [
        "Asegurando Imputación de valores faltantes en variable de salida"
      ],
      "metadata": {
        "id": "EdpBgOySkfO8"
      }
    },
    {
      "cell_type": "code",
      "source": [
        "modeloMLP = MLPRegressor(hidden_layer_sizes=(8,2), \n",
        "                            max_iter=10000000, \n",
        "                            alpha=0.001,\n",
        "                            learning_rate_init=0.01,\n",
        "                            solver = 'adam')\n",
        "\n",
        "modeloMLP.fit(Xtvtransf, np.ravel(ytvtransf))\n",
        "\n",
        "yMLPhat = modeloMLP.predict(transformaciones.transform(Xtest))\n",
        "\n",
        "scorerMLP = nues_MAPE(np.ravel(transformacionessalida.transform(ytest)),yMLPhat)\n",
        "scorerMLP"
      ],
      "metadata": {
        "colab": {
          "base_uri": "https://localhost:8080/"
        },
        "id": "5vz5vr5Eh7J9",
        "outputId": "fcd1aabe-beed-4f5e-d743-dc7b9d6da042"
      },
      "execution_count": 47,
      "outputs": [
        {
          "output_type": "execute_result",
          "data": {
            "text/plain": [
              "71.31785151369701"
            ]
          },
          "metadata": {},
          "execution_count": 47
        }
      ]
    },
    {
      "cell_type": "markdown",
      "source": [
        "### Evaluación RF con datos de prueba"
      ],
      "metadata": {
        "id": "X4tceSpjYLN9"
      }
    },
    {
      "cell_type": "code",
      "source": [
        "modeloRF = RandomForestClassifier(ccp_alpha = 0.05,\t\t\t\t\t\t\t\t\t\t\t\t\t\t\t\n",
        "                                  class_weight = None,\n",
        "                                  criterion = 'entropy',\n",
        "                                  max_depth = 2,\n",
        "                                  min_samples_split = 0.25)\n",
        "\n",
        "modeloRF.fit(Xtvtransf, np.ravel(ytvtransf))\n",
        "\n",
        "yRFhat = modeloRF.predict(transformaciones.transform(Xtest))\n",
        "\n",
        "scorerRF = nues_MAPE(np.ravel(ytest),yRFhat)\n",
        "scorerRF"
      ],
      "metadata": {
        "colab": {
          "base_uri": "https://localhost:8080/"
        },
        "id": "sVGsKHyRYPbQ",
        "outputId": "a1081a39-8fe8-40cd-bc36-75b64c906136"
      },
      "execution_count": 69,
      "outputs": [
        {
          "output_type": "execute_result",
          "data": {
            "text/plain": [
              "43.660106322436505"
            ]
          },
          "metadata": {},
          "execution_count": 69
        }
      ]
    },
    {
      "cell_type": "markdown",
      "source": [
        "Asegurando Imputación de valores faltantes en variable de salida"
      ],
      "metadata": {
        "id": "DQqRgMOkkd7N"
      }
    },
    {
      "cell_type": "code",
      "source": [
        "modeloRF = RandomForestClassifier(ccp_alpha = 0.05,\n",
        "                                  class_weight = None,\n",
        "                                  criterion = 'entropy',\n",
        "                                  max_depth = 2,\n",
        "                                  min_samples_split = 0.25)\n",
        "\n",
        "modeloRF.fit(Xtvtransf, np.ravel(ytvtransf))\n",
        "\n",
        "yRFhat = modeloRF.predict(transformaciones.transform(Xtest))\n",
        "\n",
        "scorerRF = nues_MAPE(np.ravel(transformacionessalida.transform(ytest)),yRFhat)\n",
        "scorerRF"
      ],
      "metadata": {
        "colab": {
          "base_uri": "https://localhost:8080/"
        },
        "id": "04TYur3Oi9lh",
        "outputId": "0608a46e-eb62-4e06-9e63-f4c1f1e542fe"
      },
      "execution_count": 73,
      "outputs": [
        {
          "output_type": "execute_result",
          "data": {
            "text/plain": [
              "43.763558255800696"
            ]
          },
          "metadata": {},
          "execution_count": 73
        }
      ]
    },
    {
      "cell_type": "markdown",
      "source": [
        "### Evaluación LR con datos de prueba"
      ],
      "metadata": {
        "id": "rzRGyRUXYM4o"
      }
    },
    {
      "cell_type": "code",
      "source": [
        "modeloLR = LinearRegression(fit_intercept = True, positive = False)  \n",
        "\n",
        "modeloLR.fit(Xtvtransf, np.ravel(ytvtransf))\n",
        "\n",
        "yLRhat = modeloLR.predict(transformaciones.transform(Xtest))\n",
        "\n",
        "scorerLR = nues_MAPE(np.ravel(ytest),yLRhat)\n",
        "scorerLR\n"
      ],
      "metadata": {
        "colab": {
          "base_uri": "https://localhost:8080/"
        },
        "id": "A_lui2w_YMrf",
        "outputId": "f05c1362-4142-4431-9a10-6858e18de9eb"
      },
      "execution_count": 58,
      "outputs": [
        {
          "output_type": "execute_result",
          "data": {
            "text/plain": [
              "71.60718239675124"
            ]
          },
          "metadata": {},
          "execution_count": 58
        }
      ]
    },
    {
      "cell_type": "markdown",
      "source": [
        "Asegurando Imputación de valores faltantes en variable de salida"
      ],
      "metadata": {
        "id": "n0-AJumUkZk8"
      }
    },
    {
      "cell_type": "code",
      "source": [
        "modeloLR = LinearRegression(fit_intercept = True, positive = False)  \n",
        "\n",
        "modeloLR.fit(Xtvtransf, np.ravel(ytvtransf))\n",
        "\n",
        "yLRhat = modeloLR.predict(transformaciones.transform(Xtest))\n",
        "\n",
        "scorerLR = nues_MAPE(np.ravel(transformacionessalida.transform(ytest)),yLRhat)\n",
        "scorerLR"
      ],
      "metadata": {
        "colab": {
          "base_uri": "https://localhost:8080/"
        },
        "id": "ahOrrKPhjf6u",
        "outputId": "b0aa42b9-0d12-4828-b4e1-9df6bbbb16fa"
      },
      "execution_count": 59,
      "outputs": [
        {
          "output_type": "execute_result",
          "data": {
            "text/plain": [
              "71.60718239675124"
            ]
          },
          "metadata": {},
          "execution_count": 59
        }
      ]
    },
    {
      "cell_type": "markdown",
      "metadata": {
        "id": "IKW72uyk8Sbc"
      },
      "source": [
        "#**Ejercicio-12.**"
      ]
    },
    {
      "cell_type": "markdown",
      "metadata": {
        "id": "MJK7N6ddl93G"
      },
      "source": [
        "Compara tus resultados con los obtenidos por los autores del artículo de Moro-Rita-Vala con respecto a MAPE. Incluye tus conclusiones finales de la actividad. "
      ]
    },
    {
      "cell_type": "markdown",
      "source": [
        "**De los modelos estudiados observamos que tanto Regresión Líneal como el Perceptron Multicapa tienen un desempeño de MAPE relativamente parecido para la evaluación con los datos de prueba (alrededor de un 71%).\n",
        "Por otro lado el modelo de árbol de decisión presenta un resultado muy bueno comparado con estos dos, ya que logra un MAPE alrededor de 43%. \n",
        "Mientras que supera a los otros dos modelos por una cantidad considerable, sigue siendo un peor resultado que el presentado dentro del estudio de Moro et al (2016) el cual fue de 26.9%. En el estudio los autores utilizaron el modelo de SVM (Maquina de Vector de Soporte).**"
      ],
      "metadata": {
        "id": "ctRoEb1mk5kV"
      }
    },
    {
      "cell_type": "markdown",
      "source": [
        "**Referencias:**\n",
        "\n",
        "Moro, S., Rita, P., & Vala, B. (2016). Predicting social media performance metrics and evaluation of the impact on brand building: A data mining approach. Journal of Business Research, 69, 3341-3351."
      ],
      "metadata": {
        "id": "qOuPyiuhlXUp"
      }
    },
    {
      "cell_type": "code",
      "execution_count": 38,
      "metadata": {
        "id": "gwpz77W38Uq0"
      },
      "outputs": [],
      "source": []
    },
    {
      "cell_type": "code",
      "execution_count": 38,
      "metadata": {
        "id": "8v8HL02W8UmW"
      },
      "outputs": [],
      "source": []
    },
    {
      "cell_type": "markdown",
      "metadata": {
        "id": "7ql_r2G-DB_m"
      },
      "source": [
        "###**Fin de la Actividad de la semana 7.**"
      ]
    }
  ],
  "metadata": {
    "colab": {
      "collapsed_sections": [],
      "provenance": [],
      "include_colab_link": true
    },
    "kernelspec": {
      "display_name": "Python 3",
      "name": "python3"
    }
  },
  "nbformat": 4,
  "nbformat_minor": 0
}