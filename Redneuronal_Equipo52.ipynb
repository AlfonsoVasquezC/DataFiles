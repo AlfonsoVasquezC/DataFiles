{
  "nbformat": 4,
  "nbformat_minor": 0,
  "metadata": {
    "colab": {
      "provenance": [],
      "collapsed_sections": [],
      "include_colab_link": true
    },
    "kernelspec": {
      "display_name": "Python 3",
      "name": "python3"
    }
  },
  "cells": [
    {
      "cell_type": "markdown",
      "metadata": {
        "id": "view-in-github",
        "colab_type": "text"
      },
      "source": [
        "<a href=\"https://colab.research.google.com/github/AlfonsoVasquezC/DataFiles/blob/main/Redneuronal_Equipo52.ipynb\" target=\"_parent\"><img src=\"https://colab.research.google.com/assets/colab-badge.svg\" alt=\"Open In Colab\"/></a>"
      ]
    },
    {
      "cell_type": "markdown",
      "source": [
        "#**Maestría en Inteligencia Artificial Aplicada**\n",
        "##**Curso: Inteligencia Artificial y Aprendizaje Automático**\n",
        "###Tecnológico de Monterrey\n",
        "###Prof Luis Eduardo Falcón Morales\n",
        "\n",
        "## **Adtividad de la Semana 7**\n",
        "###**Red Neuronal Artificial - Perceptrón Multicapa : Multilayer Perceptrón (MLP)**\n"
      ],
      "metadata": {
        "id": "VFj0sSM06dYa"
      }
    },
    {
      "cell_type": "markdown",
      "source": [
        "**Nombres y matrículas de los integrantes del equipo:**\n",
        "\n",
        "*   \n",
        "*   \n",
        "*   \n",
        "*   \n",
        "*   \n"
      ],
      "metadata": {
        "id": "Qgrvy0RGB9XI"
      }
    },
    {
      "cell_type": "markdown",
      "source": [
        "En cada sección deberás incluir todas las líneas de código necesarias para responder a cada uno de los ejercicios."
      ],
      "metadata": {
        "id": "FrJ2ahMODVj1"
      }
    },
    {
      "cell_type": "code",
      "source": [
        "# Incluye aquí todos módulos, librerías y paquetes que requieras.\n",
        "import numpy as np\n",
        "import pandas as pd\n",
        "import matplotlib.pyplot as plt\n",
        "from sklearn.model_selection import train_test_split \n",
        "\n",
        "from sklearn.pipeline import Pipeline\n",
        "from sklearn.compose import ColumnTransformer\n",
        "from sklearn.impute import SimpleImputer\n",
        "from sklearn.preprocessing import MinMaxScaler, OneHotEncoder, StandardScaler\n",
        "\n",
        "from sklearn.dummy import DummyRegressor\n",
        "\n",
        "from sklearn.linear_model import LinearRegression\n",
        "from sklearn.ensemble import RandomForestClassifier\n",
        "from sklearn.neural_network import MLPRegressor\n",
        "\n",
        "from sklearn.metrics import confusion_matrix\n",
        "from sklearn.model_selection import cross_validate\n",
        "from sklearn.model_selection import RepeatedKFold\n",
        "from sklearn.model_selection import learning_curve, validation_curve #Check\n",
        "from sklearn.model_selection import GridSearchCV\n",
        "from sklearn.metrics import make_scorer\n",
        "from sklearn.inspection import permutation_importance"
      ],
      "metadata": {
        "id": "exXsscs-Dh-2"
      },
      "execution_count": 27,
      "outputs": []
    },
    {
      "cell_type": "markdown",
      "metadata": {
        "id": "X25brD-gQdZM"
      },
      "source": [
        "#**Ejercicio-1.** "
      ]
    },
    {
      "cell_type": "code",
      "source": [
        "path = 'https://raw.githubusercontent.com/AlfonsoVasquezC/DataFiles/main/dataset_Facebook.csv'\n",
        "\n",
        "df = pd.read_csv(path, delimiter = ';')\n",
        "df"
      ],
      "metadata": {
        "id": "3nU2GuWYCy6C",
        "colab": {
          "base_uri": "https://localhost:8080/",
          "height": 644
        },
        "outputId": "7a11656d-53af-400e-a4a8-b447d6e086c9"
      },
      "execution_count": 28,
      "outputs": [
        {
          "output_type": "execute_result",
          "data": {
            "text/plain": [
              "     Page total likes    Type  Category  Post Month  Post Weekday  Post Hour  \\\n",
              "0              139441   Photo         2          12             4          3   \n",
              "1              139441  Status         2          12             3         10   \n",
              "2              139441   Photo         3          12             3          3   \n",
              "3              139441   Photo         2          12             2         10   \n",
              "4              139441   Photo         2          12             2          3   \n",
              "..                ...     ...       ...         ...           ...        ...   \n",
              "495             85093   Photo         3           1             7          2   \n",
              "496             81370   Photo         2           1             5          8   \n",
              "497             81370   Photo         1           1             5          2   \n",
              "498             81370   Photo         3           1             4         11   \n",
              "499             81370   Photo         2           1             4          4   \n",
              "\n",
              "     Paid  Lifetime Post Total Reach  Lifetime Post Total Impressions  \\\n",
              "0     0.0                       2752                             5091   \n",
              "1     0.0                      10460                            19057   \n",
              "2     0.0                       2413                             4373   \n",
              "3     1.0                      50128                            87991   \n",
              "4     0.0                       7244                            13594   \n",
              "..    ...                        ...                              ...   \n",
              "495   0.0                       4684                             7536   \n",
              "496   0.0                       3480                             6229   \n",
              "497   0.0                       3778                             7216   \n",
              "498   0.0                       4156                             7564   \n",
              "499   NaN                       4188                             7292   \n",
              "\n",
              "     Lifetime Engaged Users  Lifetime Post Consumers  \\\n",
              "0                       178                      109   \n",
              "1                      1457                     1361   \n",
              "2                       177                      113   \n",
              "3                      2211                      790   \n",
              "4                       671                      410   \n",
              "..                      ...                      ...   \n",
              "495                     733                      708   \n",
              "496                     537                      508   \n",
              "497                     625                      572   \n",
              "498                     626                      574   \n",
              "499                     564                      524   \n",
              "\n",
              "     Lifetime Post Consumptions  \\\n",
              "0                           159   \n",
              "1                          1674   \n",
              "2                           154   \n",
              "3                          1119   \n",
              "4                           580   \n",
              "..                          ...   \n",
              "495                         985   \n",
              "496                         687   \n",
              "497                         795   \n",
              "498                         832   \n",
              "499                         743   \n",
              "\n",
              "     Lifetime Post Impressions by people who have liked your Page  \\\n",
              "0                                                 3078              \n",
              "1                                                11710              \n",
              "2                                                 2812              \n",
              "3                                                61027              \n",
              "4                                                 6228              \n",
              "..                                                 ...              \n",
              "495                                               4750              \n",
              "496                                               3961              \n",
              "497                                               4742              \n",
              "498                                               4534              \n",
              "499                                               3861              \n",
              "\n",
              "     Lifetime Post reach by people who like your Page  \\\n",
              "0                                                1640   \n",
              "1                                                6112   \n",
              "2                                                1503   \n",
              "3                                               32048   \n",
              "4                                                3200   \n",
              "..                                                ...   \n",
              "495                                              2876   \n",
              "496                                              2104   \n",
              "497                                              2388   \n",
              "498                                              2452   \n",
              "499                                              2200   \n",
              "\n",
              "     Lifetime People who have liked your Page and engaged with your post  \\\n",
              "0                                                  119                     \n",
              "1                                                 1108                     \n",
              "2                                                  132                     \n",
              "3                                                 1386                     \n",
              "4                                                  396                     \n",
              "..                                                 ...                     \n",
              "495                                                392                     \n",
              "496                                                301                     \n",
              "497                                                363                     \n",
              "498                                                370                     \n",
              "499                                                316                     \n",
              "\n",
              "     comment    like  share  Total Interactions  \n",
              "0          4    79.0   17.0                 100  \n",
              "1          5   130.0   29.0                 164  \n",
              "2          0    66.0   14.0                  80  \n",
              "3         58  1572.0  147.0                1777  \n",
              "4         19   325.0   49.0                 393  \n",
              "..       ...     ...    ...                 ...  \n",
              "495        5    53.0   26.0                  84  \n",
              "496        0    53.0   22.0                  75  \n",
              "497        4    93.0   18.0                 115  \n",
              "498        7    91.0   38.0                 136  \n",
              "499        0    91.0   28.0                 119  \n",
              "\n",
              "[500 rows x 19 columns]"
            ],
            "text/html": [
              "\n",
              "  <div id=\"df-9a4c2775-d26b-40f8-9286-983ae10ffeb6\">\n",
              "    <div class=\"colab-df-container\">\n",
              "      <div>\n",
              "<style scoped>\n",
              "    .dataframe tbody tr th:only-of-type {\n",
              "        vertical-align: middle;\n",
              "    }\n",
              "\n",
              "    .dataframe tbody tr th {\n",
              "        vertical-align: top;\n",
              "    }\n",
              "\n",
              "    .dataframe thead th {\n",
              "        text-align: right;\n",
              "    }\n",
              "</style>\n",
              "<table border=\"1\" class=\"dataframe\">\n",
              "  <thead>\n",
              "    <tr style=\"text-align: right;\">\n",
              "      <th></th>\n",
              "      <th>Page total likes</th>\n",
              "      <th>Type</th>\n",
              "      <th>Category</th>\n",
              "      <th>Post Month</th>\n",
              "      <th>Post Weekday</th>\n",
              "      <th>Post Hour</th>\n",
              "      <th>Paid</th>\n",
              "      <th>Lifetime Post Total Reach</th>\n",
              "      <th>Lifetime Post Total Impressions</th>\n",
              "      <th>Lifetime Engaged Users</th>\n",
              "      <th>Lifetime Post Consumers</th>\n",
              "      <th>Lifetime Post Consumptions</th>\n",
              "      <th>Lifetime Post Impressions by people who have liked your Page</th>\n",
              "      <th>Lifetime Post reach by people who like your Page</th>\n",
              "      <th>Lifetime People who have liked your Page and engaged with your post</th>\n",
              "      <th>comment</th>\n",
              "      <th>like</th>\n",
              "      <th>share</th>\n",
              "      <th>Total Interactions</th>\n",
              "    </tr>\n",
              "  </thead>\n",
              "  <tbody>\n",
              "    <tr>\n",
              "      <th>0</th>\n",
              "      <td>139441</td>\n",
              "      <td>Photo</td>\n",
              "      <td>2</td>\n",
              "      <td>12</td>\n",
              "      <td>4</td>\n",
              "      <td>3</td>\n",
              "      <td>0.0</td>\n",
              "      <td>2752</td>\n",
              "      <td>5091</td>\n",
              "      <td>178</td>\n",
              "      <td>109</td>\n",
              "      <td>159</td>\n",
              "      <td>3078</td>\n",
              "      <td>1640</td>\n",
              "      <td>119</td>\n",
              "      <td>4</td>\n",
              "      <td>79.0</td>\n",
              "      <td>17.0</td>\n",
              "      <td>100</td>\n",
              "    </tr>\n",
              "    <tr>\n",
              "      <th>1</th>\n",
              "      <td>139441</td>\n",
              "      <td>Status</td>\n",
              "      <td>2</td>\n",
              "      <td>12</td>\n",
              "      <td>3</td>\n",
              "      <td>10</td>\n",
              "      <td>0.0</td>\n",
              "      <td>10460</td>\n",
              "      <td>19057</td>\n",
              "      <td>1457</td>\n",
              "      <td>1361</td>\n",
              "      <td>1674</td>\n",
              "      <td>11710</td>\n",
              "      <td>6112</td>\n",
              "      <td>1108</td>\n",
              "      <td>5</td>\n",
              "      <td>130.0</td>\n",
              "      <td>29.0</td>\n",
              "      <td>164</td>\n",
              "    </tr>\n",
              "    <tr>\n",
              "      <th>2</th>\n",
              "      <td>139441</td>\n",
              "      <td>Photo</td>\n",
              "      <td>3</td>\n",
              "      <td>12</td>\n",
              "      <td>3</td>\n",
              "      <td>3</td>\n",
              "      <td>0.0</td>\n",
              "      <td>2413</td>\n",
              "      <td>4373</td>\n",
              "      <td>177</td>\n",
              "      <td>113</td>\n",
              "      <td>154</td>\n",
              "      <td>2812</td>\n",
              "      <td>1503</td>\n",
              "      <td>132</td>\n",
              "      <td>0</td>\n",
              "      <td>66.0</td>\n",
              "      <td>14.0</td>\n",
              "      <td>80</td>\n",
              "    </tr>\n",
              "    <tr>\n",
              "      <th>3</th>\n",
              "      <td>139441</td>\n",
              "      <td>Photo</td>\n",
              "      <td>2</td>\n",
              "      <td>12</td>\n",
              "      <td>2</td>\n",
              "      <td>10</td>\n",
              "      <td>1.0</td>\n",
              "      <td>50128</td>\n",
              "      <td>87991</td>\n",
              "      <td>2211</td>\n",
              "      <td>790</td>\n",
              "      <td>1119</td>\n",
              "      <td>61027</td>\n",
              "      <td>32048</td>\n",
              "      <td>1386</td>\n",
              "      <td>58</td>\n",
              "      <td>1572.0</td>\n",
              "      <td>147.0</td>\n",
              "      <td>1777</td>\n",
              "    </tr>\n",
              "    <tr>\n",
              "      <th>4</th>\n",
              "      <td>139441</td>\n",
              "      <td>Photo</td>\n",
              "      <td>2</td>\n",
              "      <td>12</td>\n",
              "      <td>2</td>\n",
              "      <td>3</td>\n",
              "      <td>0.0</td>\n",
              "      <td>7244</td>\n",
              "      <td>13594</td>\n",
              "      <td>671</td>\n",
              "      <td>410</td>\n",
              "      <td>580</td>\n",
              "      <td>6228</td>\n",
              "      <td>3200</td>\n",
              "      <td>396</td>\n",
              "      <td>19</td>\n",
              "      <td>325.0</td>\n",
              "      <td>49.0</td>\n",
              "      <td>393</td>\n",
              "    </tr>\n",
              "    <tr>\n",
              "      <th>...</th>\n",
              "      <td>...</td>\n",
              "      <td>...</td>\n",
              "      <td>...</td>\n",
              "      <td>...</td>\n",
              "      <td>...</td>\n",
              "      <td>...</td>\n",
              "      <td>...</td>\n",
              "      <td>...</td>\n",
              "      <td>...</td>\n",
              "      <td>...</td>\n",
              "      <td>...</td>\n",
              "      <td>...</td>\n",
              "      <td>...</td>\n",
              "      <td>...</td>\n",
              "      <td>...</td>\n",
              "      <td>...</td>\n",
              "      <td>...</td>\n",
              "      <td>...</td>\n",
              "      <td>...</td>\n",
              "    </tr>\n",
              "    <tr>\n",
              "      <th>495</th>\n",
              "      <td>85093</td>\n",
              "      <td>Photo</td>\n",
              "      <td>3</td>\n",
              "      <td>1</td>\n",
              "      <td>7</td>\n",
              "      <td>2</td>\n",
              "      <td>0.0</td>\n",
              "      <td>4684</td>\n",
              "      <td>7536</td>\n",
              "      <td>733</td>\n",
              "      <td>708</td>\n",
              "      <td>985</td>\n",
              "      <td>4750</td>\n",
              "      <td>2876</td>\n",
              "      <td>392</td>\n",
              "      <td>5</td>\n",
              "      <td>53.0</td>\n",
              "      <td>26.0</td>\n",
              "      <td>84</td>\n",
              "    </tr>\n",
              "    <tr>\n",
              "      <th>496</th>\n",
              "      <td>81370</td>\n",
              "      <td>Photo</td>\n",
              "      <td>2</td>\n",
              "      <td>1</td>\n",
              "      <td>5</td>\n",
              "      <td>8</td>\n",
              "      <td>0.0</td>\n",
              "      <td>3480</td>\n",
              "      <td>6229</td>\n",
              "      <td>537</td>\n",
              "      <td>508</td>\n",
              "      <td>687</td>\n",
              "      <td>3961</td>\n",
              "      <td>2104</td>\n",
              "      <td>301</td>\n",
              "      <td>0</td>\n",
              "      <td>53.0</td>\n",
              "      <td>22.0</td>\n",
              "      <td>75</td>\n",
              "    </tr>\n",
              "    <tr>\n",
              "      <th>497</th>\n",
              "      <td>81370</td>\n",
              "      <td>Photo</td>\n",
              "      <td>1</td>\n",
              "      <td>1</td>\n",
              "      <td>5</td>\n",
              "      <td>2</td>\n",
              "      <td>0.0</td>\n",
              "      <td>3778</td>\n",
              "      <td>7216</td>\n",
              "      <td>625</td>\n",
              "      <td>572</td>\n",
              "      <td>795</td>\n",
              "      <td>4742</td>\n",
              "      <td>2388</td>\n",
              "      <td>363</td>\n",
              "      <td>4</td>\n",
              "      <td>93.0</td>\n",
              "      <td>18.0</td>\n",
              "      <td>115</td>\n",
              "    </tr>\n",
              "    <tr>\n",
              "      <th>498</th>\n",
              "      <td>81370</td>\n",
              "      <td>Photo</td>\n",
              "      <td>3</td>\n",
              "      <td>1</td>\n",
              "      <td>4</td>\n",
              "      <td>11</td>\n",
              "      <td>0.0</td>\n",
              "      <td>4156</td>\n",
              "      <td>7564</td>\n",
              "      <td>626</td>\n",
              "      <td>574</td>\n",
              "      <td>832</td>\n",
              "      <td>4534</td>\n",
              "      <td>2452</td>\n",
              "      <td>370</td>\n",
              "      <td>7</td>\n",
              "      <td>91.0</td>\n",
              "      <td>38.0</td>\n",
              "      <td>136</td>\n",
              "    </tr>\n",
              "    <tr>\n",
              "      <th>499</th>\n",
              "      <td>81370</td>\n",
              "      <td>Photo</td>\n",
              "      <td>2</td>\n",
              "      <td>1</td>\n",
              "      <td>4</td>\n",
              "      <td>4</td>\n",
              "      <td>NaN</td>\n",
              "      <td>4188</td>\n",
              "      <td>7292</td>\n",
              "      <td>564</td>\n",
              "      <td>524</td>\n",
              "      <td>743</td>\n",
              "      <td>3861</td>\n",
              "      <td>2200</td>\n",
              "      <td>316</td>\n",
              "      <td>0</td>\n",
              "      <td>91.0</td>\n",
              "      <td>28.0</td>\n",
              "      <td>119</td>\n",
              "    </tr>\n",
              "  </tbody>\n",
              "</table>\n",
              "<p>500 rows × 19 columns</p>\n",
              "</div>\n",
              "      <button class=\"colab-df-convert\" onclick=\"convertToInteractive('df-9a4c2775-d26b-40f8-9286-983ae10ffeb6')\"\n",
              "              title=\"Convert this dataframe to an interactive table.\"\n",
              "              style=\"display:none;\">\n",
              "        \n",
              "  <svg xmlns=\"http://www.w3.org/2000/svg\" height=\"24px\"viewBox=\"0 0 24 24\"\n",
              "       width=\"24px\">\n",
              "    <path d=\"M0 0h24v24H0V0z\" fill=\"none\"/>\n",
              "    <path d=\"M18.56 5.44l.94 2.06.94-2.06 2.06-.94-2.06-.94-.94-2.06-.94 2.06-2.06.94zm-11 1L8.5 8.5l.94-2.06 2.06-.94-2.06-.94L8.5 2.5l-.94 2.06-2.06.94zm10 10l.94 2.06.94-2.06 2.06-.94-2.06-.94-.94-2.06-.94 2.06-2.06.94z\"/><path d=\"M17.41 7.96l-1.37-1.37c-.4-.4-.92-.59-1.43-.59-.52 0-1.04.2-1.43.59L10.3 9.45l-7.72 7.72c-.78.78-.78 2.05 0 2.83L4 21.41c.39.39.9.59 1.41.59.51 0 1.02-.2 1.41-.59l7.78-7.78 2.81-2.81c.8-.78.8-2.07 0-2.86zM5.41 20L4 18.59l7.72-7.72 1.47 1.35L5.41 20z\"/>\n",
              "  </svg>\n",
              "      </button>\n",
              "      \n",
              "  <style>\n",
              "    .colab-df-container {\n",
              "      display:flex;\n",
              "      flex-wrap:wrap;\n",
              "      gap: 12px;\n",
              "    }\n",
              "\n",
              "    .colab-df-convert {\n",
              "      background-color: #E8F0FE;\n",
              "      border: none;\n",
              "      border-radius: 50%;\n",
              "      cursor: pointer;\n",
              "      display: none;\n",
              "      fill: #1967D2;\n",
              "      height: 32px;\n",
              "      padding: 0 0 0 0;\n",
              "      width: 32px;\n",
              "    }\n",
              "\n",
              "    .colab-df-convert:hover {\n",
              "      background-color: #E2EBFA;\n",
              "      box-shadow: 0px 1px 2px rgba(60, 64, 67, 0.3), 0px 1px 3px 1px rgba(60, 64, 67, 0.15);\n",
              "      fill: #174EA6;\n",
              "    }\n",
              "\n",
              "    [theme=dark] .colab-df-convert {\n",
              "      background-color: #3B4455;\n",
              "      fill: #D2E3FC;\n",
              "    }\n",
              "\n",
              "    [theme=dark] .colab-df-convert:hover {\n",
              "      background-color: #434B5C;\n",
              "      box-shadow: 0px 1px 3px 1px rgba(0, 0, 0, 0.15);\n",
              "      filter: drop-shadow(0px 1px 2px rgba(0, 0, 0, 0.3));\n",
              "      fill: #FFFFFF;\n",
              "    }\n",
              "  </style>\n",
              "\n",
              "      <script>\n",
              "        const buttonEl =\n",
              "          document.querySelector('#df-9a4c2775-d26b-40f8-9286-983ae10ffeb6 button.colab-df-convert');\n",
              "        buttonEl.style.display =\n",
              "          google.colab.kernel.accessAllowed ? 'block' : 'none';\n",
              "\n",
              "        async function convertToInteractive(key) {\n",
              "          const element = document.querySelector('#df-9a4c2775-d26b-40f8-9286-983ae10ffeb6');\n",
              "          const dataTable =\n",
              "            await google.colab.kernel.invokeFunction('convertToInteractive',\n",
              "                                                     [key], {});\n",
              "          if (!dataTable) return;\n",
              "\n",
              "          const docLinkHtml = 'Like what you see? Visit the ' +\n",
              "            '<a target=\"_blank\" href=https://colab.research.google.com/notebooks/data_table.ipynb>data table notebook</a>'\n",
              "            + ' to learn more about interactive tables.';\n",
              "          element.innerHTML = '';\n",
              "          dataTable['output_type'] = 'display_data';\n",
              "          await google.colab.output.renderOutput(dataTable, element);\n",
              "          const docLink = document.createElement('div');\n",
              "          docLink.innerHTML = docLinkHtml;\n",
              "          element.appendChild(docLink);\n",
              "        }\n",
              "      </script>\n",
              "    </div>\n",
              "  </div>\n",
              "  "
            ]
          },
          "metadata": {},
          "execution_count": 28
        }
      ]
    },
    {
      "cell_type": "markdown",
      "source": [
        "Siguiendo el artículo, deberás considerar como predictores o variables de entrada aquellas que se indican en la Tabla 3\n",
        "\n",
        "Por otro lado, en la Tabla 2, los autores consideran varios casos para la variable de salida, intentando determinar cuál puede ser el mejor caso para medir el éxito de la campaña. \n",
        "\n",
        "Para este ejercicio deberás considerar únicamente los siguientes tres casos como variable de salida: “Lifetime post consumers”, “Lifetime People who have liked a Page and engaged with a post” y “Likes”. "
      ],
      "metadata": {
        "id": "xDMl40xYwFkP"
      }
    },
    {
      "cell_type": "code",
      "source": [
        "df.columns"
      ],
      "metadata": {
        "colab": {
          "base_uri": "https://localhost:8080/"
        },
        "id": "LWjSbneXw9L8",
        "outputId": "3eb5a7d6-c0c7-418e-9bac-e8290fe9f47a"
      },
      "execution_count": 29,
      "outputs": [
        {
          "output_type": "execute_result",
          "data": {
            "text/plain": [
              "Index(['Page total likes', 'Type', 'Category', 'Post Month', 'Post Weekday',\n",
              "       'Post Hour', 'Paid', 'Lifetime Post Total Reach',\n",
              "       'Lifetime Post Total Impressions', 'Lifetime Engaged Users',\n",
              "       'Lifetime Post Consumers', 'Lifetime Post Consumptions',\n",
              "       'Lifetime Post Impressions by people who have liked your Page',\n",
              "       'Lifetime Post reach by people who like your Page',\n",
              "       'Lifetime People who have liked your Page and engaged with your post',\n",
              "       'comment', 'like', 'share', 'Total Interactions'],\n",
              "      dtype='object')"
            ]
          },
          "metadata": {},
          "execution_count": 29
        }
      ]
    },
    {
      "cell_type": "code",
      "source": [
        "X = df[['Page total likes', 'Type', 'Category', 'Post Month', 'Post Weekday',\n",
        "       'Post Hour', 'Paid']]\n",
        "       \n",
        "y1 = df['Lifetime Post Consumers']\n",
        "y2 = df['Lifetime People who have liked your Page and engaged with your post']\n",
        "y3 = df['like']"
      ],
      "metadata": {
        "id": "0ulkqXVGCy97"
      },
      "execution_count": 30,
      "outputs": []
    },
    {
      "cell_type": "code",
      "source": [
        "X"
      ],
      "metadata": {
        "colab": {
          "base_uri": "https://localhost:8080/",
          "height": 424
        },
        "id": "6cKjwPLyxohj",
        "outputId": "3297076e-9ca4-4284-870e-b701d3b51411"
      },
      "execution_count": 31,
      "outputs": [
        {
          "output_type": "execute_result",
          "data": {
            "text/plain": [
              "     Page total likes    Type  Category  Post Month  Post Weekday  Post Hour  \\\n",
              "0              139441   Photo         2          12             4          3   \n",
              "1              139441  Status         2          12             3         10   \n",
              "2              139441   Photo         3          12             3          3   \n",
              "3              139441   Photo         2          12             2         10   \n",
              "4              139441   Photo         2          12             2          3   \n",
              "..                ...     ...       ...         ...           ...        ...   \n",
              "495             85093   Photo         3           1             7          2   \n",
              "496             81370   Photo         2           1             5          8   \n",
              "497             81370   Photo         1           1             5          2   \n",
              "498             81370   Photo         3           1             4         11   \n",
              "499             81370   Photo         2           1             4          4   \n",
              "\n",
              "     Paid  \n",
              "0     0.0  \n",
              "1     0.0  \n",
              "2     0.0  \n",
              "3     1.0  \n",
              "4     0.0  \n",
              "..    ...  \n",
              "495   0.0  \n",
              "496   0.0  \n",
              "497   0.0  \n",
              "498   0.0  \n",
              "499   NaN  \n",
              "\n",
              "[500 rows x 7 columns]"
            ],
            "text/html": [
              "\n",
              "  <div id=\"df-2aa65a89-f5e0-4124-b792-7c71e75d0c0d\">\n",
              "    <div class=\"colab-df-container\">\n",
              "      <div>\n",
              "<style scoped>\n",
              "    .dataframe tbody tr th:only-of-type {\n",
              "        vertical-align: middle;\n",
              "    }\n",
              "\n",
              "    .dataframe tbody tr th {\n",
              "        vertical-align: top;\n",
              "    }\n",
              "\n",
              "    .dataframe thead th {\n",
              "        text-align: right;\n",
              "    }\n",
              "</style>\n",
              "<table border=\"1\" class=\"dataframe\">\n",
              "  <thead>\n",
              "    <tr style=\"text-align: right;\">\n",
              "      <th></th>\n",
              "      <th>Page total likes</th>\n",
              "      <th>Type</th>\n",
              "      <th>Category</th>\n",
              "      <th>Post Month</th>\n",
              "      <th>Post Weekday</th>\n",
              "      <th>Post Hour</th>\n",
              "      <th>Paid</th>\n",
              "    </tr>\n",
              "  </thead>\n",
              "  <tbody>\n",
              "    <tr>\n",
              "      <th>0</th>\n",
              "      <td>139441</td>\n",
              "      <td>Photo</td>\n",
              "      <td>2</td>\n",
              "      <td>12</td>\n",
              "      <td>4</td>\n",
              "      <td>3</td>\n",
              "      <td>0.0</td>\n",
              "    </tr>\n",
              "    <tr>\n",
              "      <th>1</th>\n",
              "      <td>139441</td>\n",
              "      <td>Status</td>\n",
              "      <td>2</td>\n",
              "      <td>12</td>\n",
              "      <td>3</td>\n",
              "      <td>10</td>\n",
              "      <td>0.0</td>\n",
              "    </tr>\n",
              "    <tr>\n",
              "      <th>2</th>\n",
              "      <td>139441</td>\n",
              "      <td>Photo</td>\n",
              "      <td>3</td>\n",
              "      <td>12</td>\n",
              "      <td>3</td>\n",
              "      <td>3</td>\n",
              "      <td>0.0</td>\n",
              "    </tr>\n",
              "    <tr>\n",
              "      <th>3</th>\n",
              "      <td>139441</td>\n",
              "      <td>Photo</td>\n",
              "      <td>2</td>\n",
              "      <td>12</td>\n",
              "      <td>2</td>\n",
              "      <td>10</td>\n",
              "      <td>1.0</td>\n",
              "    </tr>\n",
              "    <tr>\n",
              "      <th>4</th>\n",
              "      <td>139441</td>\n",
              "      <td>Photo</td>\n",
              "      <td>2</td>\n",
              "      <td>12</td>\n",
              "      <td>2</td>\n",
              "      <td>3</td>\n",
              "      <td>0.0</td>\n",
              "    </tr>\n",
              "    <tr>\n",
              "      <th>...</th>\n",
              "      <td>...</td>\n",
              "      <td>...</td>\n",
              "      <td>...</td>\n",
              "      <td>...</td>\n",
              "      <td>...</td>\n",
              "      <td>...</td>\n",
              "      <td>...</td>\n",
              "    </tr>\n",
              "    <tr>\n",
              "      <th>495</th>\n",
              "      <td>85093</td>\n",
              "      <td>Photo</td>\n",
              "      <td>3</td>\n",
              "      <td>1</td>\n",
              "      <td>7</td>\n",
              "      <td>2</td>\n",
              "      <td>0.0</td>\n",
              "    </tr>\n",
              "    <tr>\n",
              "      <th>496</th>\n",
              "      <td>81370</td>\n",
              "      <td>Photo</td>\n",
              "      <td>2</td>\n",
              "      <td>1</td>\n",
              "      <td>5</td>\n",
              "      <td>8</td>\n",
              "      <td>0.0</td>\n",
              "    </tr>\n",
              "    <tr>\n",
              "      <th>497</th>\n",
              "      <td>81370</td>\n",
              "      <td>Photo</td>\n",
              "      <td>1</td>\n",
              "      <td>1</td>\n",
              "      <td>5</td>\n",
              "      <td>2</td>\n",
              "      <td>0.0</td>\n",
              "    </tr>\n",
              "    <tr>\n",
              "      <th>498</th>\n",
              "      <td>81370</td>\n",
              "      <td>Photo</td>\n",
              "      <td>3</td>\n",
              "      <td>1</td>\n",
              "      <td>4</td>\n",
              "      <td>11</td>\n",
              "      <td>0.0</td>\n",
              "    </tr>\n",
              "    <tr>\n",
              "      <th>499</th>\n",
              "      <td>81370</td>\n",
              "      <td>Photo</td>\n",
              "      <td>2</td>\n",
              "      <td>1</td>\n",
              "      <td>4</td>\n",
              "      <td>4</td>\n",
              "      <td>NaN</td>\n",
              "    </tr>\n",
              "  </tbody>\n",
              "</table>\n",
              "<p>500 rows × 7 columns</p>\n",
              "</div>\n",
              "      <button class=\"colab-df-convert\" onclick=\"convertToInteractive('df-2aa65a89-f5e0-4124-b792-7c71e75d0c0d')\"\n",
              "              title=\"Convert this dataframe to an interactive table.\"\n",
              "              style=\"display:none;\">\n",
              "        \n",
              "  <svg xmlns=\"http://www.w3.org/2000/svg\" height=\"24px\"viewBox=\"0 0 24 24\"\n",
              "       width=\"24px\">\n",
              "    <path d=\"M0 0h24v24H0V0z\" fill=\"none\"/>\n",
              "    <path d=\"M18.56 5.44l.94 2.06.94-2.06 2.06-.94-2.06-.94-.94-2.06-.94 2.06-2.06.94zm-11 1L8.5 8.5l.94-2.06 2.06-.94-2.06-.94L8.5 2.5l-.94 2.06-2.06.94zm10 10l.94 2.06.94-2.06 2.06-.94-2.06-.94-.94-2.06-.94 2.06-2.06.94z\"/><path d=\"M17.41 7.96l-1.37-1.37c-.4-.4-.92-.59-1.43-.59-.52 0-1.04.2-1.43.59L10.3 9.45l-7.72 7.72c-.78.78-.78 2.05 0 2.83L4 21.41c.39.39.9.59 1.41.59.51 0 1.02-.2 1.41-.59l7.78-7.78 2.81-2.81c.8-.78.8-2.07 0-2.86zM5.41 20L4 18.59l7.72-7.72 1.47 1.35L5.41 20z\"/>\n",
              "  </svg>\n",
              "      </button>\n",
              "      \n",
              "  <style>\n",
              "    .colab-df-container {\n",
              "      display:flex;\n",
              "      flex-wrap:wrap;\n",
              "      gap: 12px;\n",
              "    }\n",
              "\n",
              "    .colab-df-convert {\n",
              "      background-color: #E8F0FE;\n",
              "      border: none;\n",
              "      border-radius: 50%;\n",
              "      cursor: pointer;\n",
              "      display: none;\n",
              "      fill: #1967D2;\n",
              "      height: 32px;\n",
              "      padding: 0 0 0 0;\n",
              "      width: 32px;\n",
              "    }\n",
              "\n",
              "    .colab-df-convert:hover {\n",
              "      background-color: #E2EBFA;\n",
              "      box-shadow: 0px 1px 2px rgba(60, 64, 67, 0.3), 0px 1px 3px 1px rgba(60, 64, 67, 0.15);\n",
              "      fill: #174EA6;\n",
              "    }\n",
              "\n",
              "    [theme=dark] .colab-df-convert {\n",
              "      background-color: #3B4455;\n",
              "      fill: #D2E3FC;\n",
              "    }\n",
              "\n",
              "    [theme=dark] .colab-df-convert:hover {\n",
              "      background-color: #434B5C;\n",
              "      box-shadow: 0px 1px 3px 1px rgba(0, 0, 0, 0.15);\n",
              "      filter: drop-shadow(0px 1px 2px rgba(0, 0, 0, 0.3));\n",
              "      fill: #FFFFFF;\n",
              "    }\n",
              "  </style>\n",
              "\n",
              "      <script>\n",
              "        const buttonEl =\n",
              "          document.querySelector('#df-2aa65a89-f5e0-4124-b792-7c71e75d0c0d button.colab-df-convert');\n",
              "        buttonEl.style.display =\n",
              "          google.colab.kernel.accessAllowed ? 'block' : 'none';\n",
              "\n",
              "        async function convertToInteractive(key) {\n",
              "          const element = document.querySelector('#df-2aa65a89-f5e0-4124-b792-7c71e75d0c0d');\n",
              "          const dataTable =\n",
              "            await google.colab.kernel.invokeFunction('convertToInteractive',\n",
              "                                                     [key], {});\n",
              "          if (!dataTable) return;\n",
              "\n",
              "          const docLinkHtml = 'Like what you see? Visit the ' +\n",
              "            '<a target=\"_blank\" href=https://colab.research.google.com/notebooks/data_table.ipynb>data table notebook</a>'\n",
              "            + ' to learn more about interactive tables.';\n",
              "          element.innerHTML = '';\n",
              "          dataTable['output_type'] = 'display_data';\n",
              "          await google.colab.output.renderOutput(dataTable, element);\n",
              "          const docLink = document.createElement('div');\n",
              "          docLink.innerHTML = docLinkHtml;\n",
              "          element.appendChild(docLink);\n",
              "        }\n",
              "      </script>\n",
              "    </div>\n",
              "  </div>\n",
              "  "
            ]
          },
          "metadata": {},
          "execution_count": 31
        }
      ]
    },
    {
      "cell_type": "code",
      "source": [
        "print(X.shape)\n",
        "print(y1.shape)\n",
        "print(y2.shape)\n",
        "print(y3.shape)"
      ],
      "metadata": {
        "colab": {
          "base_uri": "https://localhost:8080/"
        },
        "id": "NZ1lXD-jxwEe",
        "outputId": "bbe54fbe-1e87-488f-f0e6-5e512dde13c5"
      },
      "execution_count": 32,
      "outputs": [
        {
          "output_type": "stream",
          "name": "stdout",
          "text": [
            "(500, 7)\n",
            "(500,)\n",
            "(500,)\n",
            "(500,)\n"
          ]
        }
      ]
    },
    {
      "cell_type": "markdown",
      "source": [
        "1. En esta tarea considera únicamente la siguiente variable de salida que se concluye que es una de las\n",
        "mejores en el artículo antes citado: ‘Lifetime People who have liked a Page and engaged with a\n",
        "post'. Renombra dicha variable como “LPE” . Como variables de entrada selecciona las 7 variables\n",
        "que indican los autores en la Tabla 3 del artículo citado. \n"
      ],
      "metadata": {
        "id": "NeKDRTzmx9fF"
      }
    },
    {
      "cell_type": "code",
      "source": [
        "y = df[['Lifetime People who have liked your Page and engaged with your post']]\n",
        "y = y.rename(columns = {\"Lifetime People who have liked your Page and engaged with your post\": \"LPE\"})\n",
        "y = y[['LPE']]\n",
        "y"
      ],
      "metadata": {
        "colab": {
          "base_uri": "https://localhost:8080/",
          "height": 424
        },
        "id": "XmvpJs8TyERP",
        "outputId": "c9d1f9c6-f55a-47be-bdec-86f76ee66d42"
      },
      "execution_count": 33,
      "outputs": [
        {
          "output_type": "execute_result",
          "data": {
            "text/plain": [
              "      LPE\n",
              "0     119\n",
              "1    1108\n",
              "2     132\n",
              "3    1386\n",
              "4     396\n",
              "..    ...\n",
              "495   392\n",
              "496   301\n",
              "497   363\n",
              "498   370\n",
              "499   316\n",
              "\n",
              "[500 rows x 1 columns]"
            ],
            "text/html": [
              "\n",
              "  <div id=\"df-ada359aa-4467-496a-b669-a6d1196ae0a8\">\n",
              "    <div class=\"colab-df-container\">\n",
              "      <div>\n",
              "<style scoped>\n",
              "    .dataframe tbody tr th:only-of-type {\n",
              "        vertical-align: middle;\n",
              "    }\n",
              "\n",
              "    .dataframe tbody tr th {\n",
              "        vertical-align: top;\n",
              "    }\n",
              "\n",
              "    .dataframe thead th {\n",
              "        text-align: right;\n",
              "    }\n",
              "</style>\n",
              "<table border=\"1\" class=\"dataframe\">\n",
              "  <thead>\n",
              "    <tr style=\"text-align: right;\">\n",
              "      <th></th>\n",
              "      <th>LPE</th>\n",
              "    </tr>\n",
              "  </thead>\n",
              "  <tbody>\n",
              "    <tr>\n",
              "      <th>0</th>\n",
              "      <td>119</td>\n",
              "    </tr>\n",
              "    <tr>\n",
              "      <th>1</th>\n",
              "      <td>1108</td>\n",
              "    </tr>\n",
              "    <tr>\n",
              "      <th>2</th>\n",
              "      <td>132</td>\n",
              "    </tr>\n",
              "    <tr>\n",
              "      <th>3</th>\n",
              "      <td>1386</td>\n",
              "    </tr>\n",
              "    <tr>\n",
              "      <th>4</th>\n",
              "      <td>396</td>\n",
              "    </tr>\n",
              "    <tr>\n",
              "      <th>...</th>\n",
              "      <td>...</td>\n",
              "    </tr>\n",
              "    <tr>\n",
              "      <th>495</th>\n",
              "      <td>392</td>\n",
              "    </tr>\n",
              "    <tr>\n",
              "      <th>496</th>\n",
              "      <td>301</td>\n",
              "    </tr>\n",
              "    <tr>\n",
              "      <th>497</th>\n",
              "      <td>363</td>\n",
              "    </tr>\n",
              "    <tr>\n",
              "      <th>498</th>\n",
              "      <td>370</td>\n",
              "    </tr>\n",
              "    <tr>\n",
              "      <th>499</th>\n",
              "      <td>316</td>\n",
              "    </tr>\n",
              "  </tbody>\n",
              "</table>\n",
              "<p>500 rows × 1 columns</p>\n",
              "</div>\n",
              "      <button class=\"colab-df-convert\" onclick=\"convertToInteractive('df-ada359aa-4467-496a-b669-a6d1196ae0a8')\"\n",
              "              title=\"Convert this dataframe to an interactive table.\"\n",
              "              style=\"display:none;\">\n",
              "        \n",
              "  <svg xmlns=\"http://www.w3.org/2000/svg\" height=\"24px\"viewBox=\"0 0 24 24\"\n",
              "       width=\"24px\">\n",
              "    <path d=\"M0 0h24v24H0V0z\" fill=\"none\"/>\n",
              "    <path d=\"M18.56 5.44l.94 2.06.94-2.06 2.06-.94-2.06-.94-.94-2.06-.94 2.06-2.06.94zm-11 1L8.5 8.5l.94-2.06 2.06-.94-2.06-.94L8.5 2.5l-.94 2.06-2.06.94zm10 10l.94 2.06.94-2.06 2.06-.94-2.06-.94-.94-2.06-.94 2.06-2.06.94z\"/><path d=\"M17.41 7.96l-1.37-1.37c-.4-.4-.92-.59-1.43-.59-.52 0-1.04.2-1.43.59L10.3 9.45l-7.72 7.72c-.78.78-.78 2.05 0 2.83L4 21.41c.39.39.9.59 1.41.59.51 0 1.02-.2 1.41-.59l7.78-7.78 2.81-2.81c.8-.78.8-2.07 0-2.86zM5.41 20L4 18.59l7.72-7.72 1.47 1.35L5.41 20z\"/>\n",
              "  </svg>\n",
              "      </button>\n",
              "      \n",
              "  <style>\n",
              "    .colab-df-container {\n",
              "      display:flex;\n",
              "      flex-wrap:wrap;\n",
              "      gap: 12px;\n",
              "    }\n",
              "\n",
              "    .colab-df-convert {\n",
              "      background-color: #E8F0FE;\n",
              "      border: none;\n",
              "      border-radius: 50%;\n",
              "      cursor: pointer;\n",
              "      display: none;\n",
              "      fill: #1967D2;\n",
              "      height: 32px;\n",
              "      padding: 0 0 0 0;\n",
              "      width: 32px;\n",
              "    }\n",
              "\n",
              "    .colab-df-convert:hover {\n",
              "      background-color: #E2EBFA;\n",
              "      box-shadow: 0px 1px 2px rgba(60, 64, 67, 0.3), 0px 1px 3px 1px rgba(60, 64, 67, 0.15);\n",
              "      fill: #174EA6;\n",
              "    }\n",
              "\n",
              "    [theme=dark] .colab-df-convert {\n",
              "      background-color: #3B4455;\n",
              "      fill: #D2E3FC;\n",
              "    }\n",
              "\n",
              "    [theme=dark] .colab-df-convert:hover {\n",
              "      background-color: #434B5C;\n",
              "      box-shadow: 0px 1px 3px 1px rgba(0, 0, 0, 0.15);\n",
              "      filter: drop-shadow(0px 1px 2px rgba(0, 0, 0, 0.3));\n",
              "      fill: #FFFFFF;\n",
              "    }\n",
              "  </style>\n",
              "\n",
              "      <script>\n",
              "        const buttonEl =\n",
              "          document.querySelector('#df-ada359aa-4467-496a-b669-a6d1196ae0a8 button.colab-df-convert');\n",
              "        buttonEl.style.display =\n",
              "          google.colab.kernel.accessAllowed ? 'block' : 'none';\n",
              "\n",
              "        async function convertToInteractive(key) {\n",
              "          const element = document.querySelector('#df-ada359aa-4467-496a-b669-a6d1196ae0a8');\n",
              "          const dataTable =\n",
              "            await google.colab.kernel.invokeFunction('convertToInteractive',\n",
              "                                                     [key], {});\n",
              "          if (!dataTable) return;\n",
              "\n",
              "          const docLinkHtml = 'Like what you see? Visit the ' +\n",
              "            '<a target=\"_blank\" href=https://colab.research.google.com/notebooks/data_table.ipynb>data table notebook</a>'\n",
              "            + ' to learn more about interactive tables.';\n",
              "          element.innerHTML = '';\n",
              "          dataTable['output_type'] = 'display_data';\n",
              "          await google.colab.output.renderOutput(dataTable, element);\n",
              "          const docLink = document.createElement('div');\n",
              "          docLink.innerHTML = docLinkHtml;\n",
              "          element.appendChild(docLink);\n",
              "        }\n",
              "      </script>\n",
              "    </div>\n",
              "  </div>\n",
              "  "
            ]
          },
          "metadata": {},
          "execution_count": 33
        }
      ]
    },
    {
      "cell_type": "markdown",
      "source": [
        "Realiza una partición de los datos con 100 datos de Prueba y el resto para entrenamiento y validación"
      ],
      "metadata": {
        "id": "-ti1_yBuzs6l"
      }
    },
    {
      "cell_type": "markdown",
      "source": [
        "#**Ejercicio-2.**"
      ],
      "metadata": {
        "id": "xZhr2hkECzVv"
      }
    },
    {
      "cell_type": "markdown",
      "source": [
        "Realiza una partición de los datos con 100 datos de Prueba y el resto para entrenamiento y validación"
      ],
      "metadata": {
        "id": "NyFbKlOH1RLe"
      }
    },
    {
      "cell_type": "code",
      "source": [
        "Xtv, Xtest, ytv, ytest = train_test_split(X, y, test_size = 0.20, random_state = 7)\n",
        "\n",
        "print('Dimensión del conjunto de entrenamiento variables independientes: ', Xtv.shape)\n",
        "print('Dimensión del conjunto de prueba variables independientes: ', Xtest.shape, '\\n')\n",
        "print('Dimensión del conjunto de entrenamiento variable dependiente: ', ytv.shape)\n",
        "print('Dimensión del conjunto de prueba variable dependiente: ', ytest.shape)"
      ],
      "metadata": {
        "id": "kGfAoOPkC1PP",
        "colab": {
          "base_uri": "https://localhost:8080/"
        },
        "outputId": "076a5560-23f0-49ef-a230-ed23b25a6f63"
      },
      "execution_count": 34,
      "outputs": [
        {
          "output_type": "stream",
          "name": "stdout",
          "text": [
            "Dimensión del conjunto de entrenamiento variables independientes:  (400, 7)\n",
            "Dimensión del conjunto de prueba variables independientes:  (100, 7) \n",
            "\n",
            "Dimensión del conjunto de entrenamiento variable dependiente:  (400, 1)\n",
            "Dimensión del conjunto de prueba variable dependiente:  (100, 1)\n"
          ]
        }
      ]
    },
    {
      "cell_type": "markdown",
      "source": [
        "#**Ejercicio-3.**"
      ],
      "metadata": {
        "id": "NCunuooTC2W3"
      }
    },
    {
      "cell_type": "markdown",
      "source": [
        "\n",
        "Definirás tus propias funciones de errores para este problema de regresión. Los errores que utilizarás son la raíz cuadrada del error cuadrático medio RMSE, el error absoluto medio MAE y el error porcentual absoluto medio MAPE."
      ],
      "metadata": {
        "id": "VGHUEH4s1Uwx"
      }
    },
    {
      "cell_type": "code",
      "source": [
        "def nues_RMSE(yreal,ypred):\n",
        "  m = np.mean(np.power(np.subtract(yreal,ypred), 2))\n",
        "  return np.sqrt(m)  \n",
        "\n",
        "def nues_MAE(yreal,ypred):\n",
        "  m = np.abs(np.subtract(yreal,ypred))\n",
        "  return np.mean(m)  \n",
        "\n",
        "def nues_MAPE(yreal,ypred):\n",
        "  m = np.abs(np.subtract(yreal,ypred)/yreal)\n",
        "  return np.mean(m) * 100"
      ],
      "metadata": {
        "id": "YXlcSWA-C4Dj"
      },
      "execution_count": 35,
      "outputs": []
    },
    {
      "cell_type": "markdown",
      "source": [
        "#**Ejercicio-4.**"
      ],
      "metadata": {
        "id": "chqk9jIDC5Pq"
      }
    },
    {
      "cell_type": "markdown",
      "source": [
        "En la página de la UCI, así como en el artículo de los autores previamente citado encuentras información en relación al significado de cada variable. Haz una análisis de tus datos y lleva a cabo las transformaciones que consideres adecuadas tanto en los datos de entrada, como en las de salida. Utiliza un Pipeline para evitar el filtrado de información."
      ],
      "metadata": {
        "id": "f8ikKNSZ1aSv"
      }
    },
    {
      "cell_type": "code",
      "source": [
        "Xtv"
      ],
      "metadata": {
        "id": "RBVSFwK4C6g9",
        "colab": {
          "base_uri": "https://localhost:8080/",
          "height": 424
        },
        "outputId": "0b4057e4-6f58-4a69-df98-43b18f0b35ec"
      },
      "execution_count": 36,
      "outputs": [
        {
          "output_type": "execute_result",
          "data": {
            "text/plain": [
              "     Page total likes    Type  Category  Post Month  Post Weekday  Post Hour  \\\n",
              "342            117764   Photo         2           5             2         11   \n",
              "359            116091   Photo         3           5             7          2   \n",
              "109            136736  Status         2          10             7          3   \n",
              "50             138353   Photo         2          11             1          9   \n",
              "452             93363   Photo         1           2             5          6   \n",
              "..                ...     ...       ...         ...           ...        ...   \n",
              "211            132201   Photo         3           8             5         10   \n",
              "67             138185   Photo         1          11             7          3   \n",
              "25             138458  Status         2          12             6          3   \n",
              "196            133594   Photo         1           8             6          8   \n",
              "175            135195  Status         2           9             6         10   \n",
              "\n",
              "     Paid  \n",
              "342   0.0  \n",
              "359   0.0  \n",
              "109   0.0  \n",
              "50    0.0  \n",
              "452   0.0  \n",
              "..    ...  \n",
              "211   0.0  \n",
              "67    1.0  \n",
              "25    0.0  \n",
              "196   0.0  \n",
              "175   1.0  \n",
              "\n",
              "[400 rows x 7 columns]"
            ],
            "text/html": [
              "\n",
              "  <div id=\"df-cbbbe7eb-e50e-4b7b-bcc4-2a7c00a812fd\">\n",
              "    <div class=\"colab-df-container\">\n",
              "      <div>\n",
              "<style scoped>\n",
              "    .dataframe tbody tr th:only-of-type {\n",
              "        vertical-align: middle;\n",
              "    }\n",
              "\n",
              "    .dataframe tbody tr th {\n",
              "        vertical-align: top;\n",
              "    }\n",
              "\n",
              "    .dataframe thead th {\n",
              "        text-align: right;\n",
              "    }\n",
              "</style>\n",
              "<table border=\"1\" class=\"dataframe\">\n",
              "  <thead>\n",
              "    <tr style=\"text-align: right;\">\n",
              "      <th></th>\n",
              "      <th>Page total likes</th>\n",
              "      <th>Type</th>\n",
              "      <th>Category</th>\n",
              "      <th>Post Month</th>\n",
              "      <th>Post Weekday</th>\n",
              "      <th>Post Hour</th>\n",
              "      <th>Paid</th>\n",
              "    </tr>\n",
              "  </thead>\n",
              "  <tbody>\n",
              "    <tr>\n",
              "      <th>342</th>\n",
              "      <td>117764</td>\n",
              "      <td>Photo</td>\n",
              "      <td>2</td>\n",
              "      <td>5</td>\n",
              "      <td>2</td>\n",
              "      <td>11</td>\n",
              "      <td>0.0</td>\n",
              "    </tr>\n",
              "    <tr>\n",
              "      <th>359</th>\n",
              "      <td>116091</td>\n",
              "      <td>Photo</td>\n",
              "      <td>3</td>\n",
              "      <td>5</td>\n",
              "      <td>7</td>\n",
              "      <td>2</td>\n",
              "      <td>0.0</td>\n",
              "    </tr>\n",
              "    <tr>\n",
              "      <th>109</th>\n",
              "      <td>136736</td>\n",
              "      <td>Status</td>\n",
              "      <td>2</td>\n",
              "      <td>10</td>\n",
              "      <td>7</td>\n",
              "      <td>3</td>\n",
              "      <td>0.0</td>\n",
              "    </tr>\n",
              "    <tr>\n",
              "      <th>50</th>\n",
              "      <td>138353</td>\n",
              "      <td>Photo</td>\n",
              "      <td>2</td>\n",
              "      <td>11</td>\n",
              "      <td>1</td>\n",
              "      <td>9</td>\n",
              "      <td>0.0</td>\n",
              "    </tr>\n",
              "    <tr>\n",
              "      <th>452</th>\n",
              "      <td>93363</td>\n",
              "      <td>Photo</td>\n",
              "      <td>1</td>\n",
              "      <td>2</td>\n",
              "      <td>5</td>\n",
              "      <td>6</td>\n",
              "      <td>0.0</td>\n",
              "    </tr>\n",
              "    <tr>\n",
              "      <th>...</th>\n",
              "      <td>...</td>\n",
              "      <td>...</td>\n",
              "      <td>...</td>\n",
              "      <td>...</td>\n",
              "      <td>...</td>\n",
              "      <td>...</td>\n",
              "      <td>...</td>\n",
              "    </tr>\n",
              "    <tr>\n",
              "      <th>211</th>\n",
              "      <td>132201</td>\n",
              "      <td>Photo</td>\n",
              "      <td>3</td>\n",
              "      <td>8</td>\n",
              "      <td>5</td>\n",
              "      <td>10</td>\n",
              "      <td>0.0</td>\n",
              "    </tr>\n",
              "    <tr>\n",
              "      <th>67</th>\n",
              "      <td>138185</td>\n",
              "      <td>Photo</td>\n",
              "      <td>1</td>\n",
              "      <td>11</td>\n",
              "      <td>7</td>\n",
              "      <td>3</td>\n",
              "      <td>1.0</td>\n",
              "    </tr>\n",
              "    <tr>\n",
              "      <th>25</th>\n",
              "      <td>138458</td>\n",
              "      <td>Status</td>\n",
              "      <td>2</td>\n",
              "      <td>12</td>\n",
              "      <td>6</td>\n",
              "      <td>3</td>\n",
              "      <td>0.0</td>\n",
              "    </tr>\n",
              "    <tr>\n",
              "      <th>196</th>\n",
              "      <td>133594</td>\n",
              "      <td>Photo</td>\n",
              "      <td>1</td>\n",
              "      <td>8</td>\n",
              "      <td>6</td>\n",
              "      <td>8</td>\n",
              "      <td>0.0</td>\n",
              "    </tr>\n",
              "    <tr>\n",
              "      <th>175</th>\n",
              "      <td>135195</td>\n",
              "      <td>Status</td>\n",
              "      <td>2</td>\n",
              "      <td>9</td>\n",
              "      <td>6</td>\n",
              "      <td>10</td>\n",
              "      <td>1.0</td>\n",
              "    </tr>\n",
              "  </tbody>\n",
              "</table>\n",
              "<p>400 rows × 7 columns</p>\n",
              "</div>\n",
              "      <button class=\"colab-df-convert\" onclick=\"convertToInteractive('df-cbbbe7eb-e50e-4b7b-bcc4-2a7c00a812fd')\"\n",
              "              title=\"Convert this dataframe to an interactive table.\"\n",
              "              style=\"display:none;\">\n",
              "        \n",
              "  <svg xmlns=\"http://www.w3.org/2000/svg\" height=\"24px\"viewBox=\"0 0 24 24\"\n",
              "       width=\"24px\">\n",
              "    <path d=\"M0 0h24v24H0V0z\" fill=\"none\"/>\n",
              "    <path d=\"M18.56 5.44l.94 2.06.94-2.06 2.06-.94-2.06-.94-.94-2.06-.94 2.06-2.06.94zm-11 1L8.5 8.5l.94-2.06 2.06-.94-2.06-.94L8.5 2.5l-.94 2.06-2.06.94zm10 10l.94 2.06.94-2.06 2.06-.94-2.06-.94-.94-2.06-.94 2.06-2.06.94z\"/><path d=\"M17.41 7.96l-1.37-1.37c-.4-.4-.92-.59-1.43-.59-.52 0-1.04.2-1.43.59L10.3 9.45l-7.72 7.72c-.78.78-.78 2.05 0 2.83L4 21.41c.39.39.9.59 1.41.59.51 0 1.02-.2 1.41-.59l7.78-7.78 2.81-2.81c.8-.78.8-2.07 0-2.86zM5.41 20L4 18.59l7.72-7.72 1.47 1.35L5.41 20z\"/>\n",
              "  </svg>\n",
              "      </button>\n",
              "      \n",
              "  <style>\n",
              "    .colab-df-container {\n",
              "      display:flex;\n",
              "      flex-wrap:wrap;\n",
              "      gap: 12px;\n",
              "    }\n",
              "\n",
              "    .colab-df-convert {\n",
              "      background-color: #E8F0FE;\n",
              "      border: none;\n",
              "      border-radius: 50%;\n",
              "      cursor: pointer;\n",
              "      display: none;\n",
              "      fill: #1967D2;\n",
              "      height: 32px;\n",
              "      padding: 0 0 0 0;\n",
              "      width: 32px;\n",
              "    }\n",
              "\n",
              "    .colab-df-convert:hover {\n",
              "      background-color: #E2EBFA;\n",
              "      box-shadow: 0px 1px 2px rgba(60, 64, 67, 0.3), 0px 1px 3px 1px rgba(60, 64, 67, 0.15);\n",
              "      fill: #174EA6;\n",
              "    }\n",
              "\n",
              "    [theme=dark] .colab-df-convert {\n",
              "      background-color: #3B4455;\n",
              "      fill: #D2E3FC;\n",
              "    }\n",
              "\n",
              "    [theme=dark] .colab-df-convert:hover {\n",
              "      background-color: #434B5C;\n",
              "      box-shadow: 0px 1px 3px 1px rgba(0, 0, 0, 0.15);\n",
              "      filter: drop-shadow(0px 1px 2px rgba(0, 0, 0, 0.3));\n",
              "      fill: #FFFFFF;\n",
              "    }\n",
              "  </style>\n",
              "\n",
              "      <script>\n",
              "        const buttonEl =\n",
              "          document.querySelector('#df-cbbbe7eb-e50e-4b7b-bcc4-2a7c00a812fd button.colab-df-convert');\n",
              "        buttonEl.style.display =\n",
              "          google.colab.kernel.accessAllowed ? 'block' : 'none';\n",
              "\n",
              "        async function convertToInteractive(key) {\n",
              "          const element = document.querySelector('#df-cbbbe7eb-e50e-4b7b-bcc4-2a7c00a812fd');\n",
              "          const dataTable =\n",
              "            await google.colab.kernel.invokeFunction('convertToInteractive',\n",
              "                                                     [key], {});\n",
              "          if (!dataTable) return;\n",
              "\n",
              "          const docLinkHtml = 'Like what you see? Visit the ' +\n",
              "            '<a target=\"_blank\" href=https://colab.research.google.com/notebooks/data_table.ipynb>data table notebook</a>'\n",
              "            + ' to learn more about interactive tables.';\n",
              "          element.innerHTML = '';\n",
              "          dataTable['output_type'] = 'display_data';\n",
              "          await google.colab.output.renderOutput(dataTable, element);\n",
              "          const docLink = document.createElement('div');\n",
              "          docLink.innerHTML = docLinkHtml;\n",
              "          element.appendChild(docLink);\n",
              "        }\n",
              "      </script>\n",
              "    </div>\n",
              "  </div>\n",
              "  "
            ]
          },
          "metadata": {},
          "execution_count": 36
        }
      ]
    },
    {
      "cell_type": "code",
      "source": [
        "Xtv.info()"
      ],
      "metadata": {
        "colab": {
          "base_uri": "https://localhost:8080/"
        },
        "id": "ECUsk-aS5qz6",
        "outputId": "0ad06e70-6084-4545-e7ca-0fa2486513c1"
      },
      "execution_count": 37,
      "outputs": [
        {
          "output_type": "stream",
          "name": "stdout",
          "text": [
            "<class 'pandas.core.frame.DataFrame'>\n",
            "Int64Index: 400 entries, 342 to 175\n",
            "Data columns (total 7 columns):\n",
            " #   Column            Non-Null Count  Dtype  \n",
            "---  ------            --------------  -----  \n",
            " 0   Page total likes  400 non-null    int64  \n",
            " 1   Type              400 non-null    object \n",
            " 2   Category          400 non-null    int64  \n",
            " 3   Post Month        400 non-null    int64  \n",
            " 4   Post Weekday      400 non-null    int64  \n",
            " 5   Post Hour         400 non-null    int64  \n",
            " 6   Paid              399 non-null    float64\n",
            "dtypes: float64(1), int64(5), object(1)\n",
            "memory usage: 25.0+ KB\n"
          ]
        }
      ]
    },
    {
      "cell_type": "code",
      "source": [
        "# Definimos las columnas que corresponden a cada tipo de dato\n",
        "\n",
        "#Se establecen como variables categoricas aquellas que tienen un numero finito de valores posibles\n",
        "names_pipeline_cat = ['Type', 'Category'] \n",
        "\n",
        "#Se establecen como variables numericas aquellas que contienen un numero muy grande de valores enteros posibles \n",
        "names_pipeline_num = ['Page total likes']\n",
        "\n",
        "#Se establecen como variables binarias aquellas que solo tienen dos valores posibles\n",
        "names_pipeline_bin = ['Paid']\n",
        "\n",
        "#Se establecen como variables ordinales aquellas variables que son categoricas y que tienen un orden logico entre sus valores. \n",
        "#Por ejemplo, la variable employment duration tiene valores entre 1 y 5, donde 1 es desempleado, 2 empleado hace menos de un año y asi en adeltante\n",
        "# Estas variables cuentan con valores que tienen una correlación con la variable a la que representan \n",
        "# (A mayor valor de la variable ordinal, mayor impacto tiene esto en la representación de la variable a la que esta representando).\n",
        "\n",
        "names_pipeline_ord = ['Post Month', 'Post Weekday', 'Post Hour']\n",
        "\n",
        "#Se unen tanto categoricas como binarias para transformación futura\n",
        "\n",
        "names_pipeline_cat_bin = names_pipeline_cat + names_pipeline_bin"
      ],
      "metadata": {
        "id": "7KXnlNzAC69Y"
      },
      "execution_count": 38,
      "outputs": []
    },
    {
      "cell_type": "code",
      "source": [
        "# Definimos las Pipelines\n",
        "\n",
        "# Transformaciones a factores categóricos y binarios de entrada: remplazo por moda y aplicación de OneHotEncoder para crear columnas Dummies\n",
        "pipeline_cat_bin = Pipeline(steps = [('impModa', SimpleImputer(strategy='most_frequent')),\n",
        "                                     ('OneHotE', OneHotEncoder(handle_unknown = 'ignore'))])\n",
        "\n",
        "# Transformaciones a factores numéricos de entrada: remplazo con promedio y escalación gaussiana\n",
        "pipeline_num = Pipeline(steps = [('impMedian', SimpleImputer(strategy='median')),\n",
        "                                 ('escalaNum', StandardScaler())])\n",
        "\n",
        "# Transformaciones a factores ordinales de entrada: remplazo con moda y escalación gaussiana\n",
        "pipeline_ord = Pipeline(steps = [('impModa', SimpleImputer(strategy='most_frequent'))])\n",
        "\n",
        "\n",
        "# Aplicamos las transformaciones a las columnas correspondientes con ColumnTransformer\n",
        "\n",
        "transformaciones = ColumnTransformer( transformers = [\n",
        "                                                      ('numimp', pipeline_num, names_pipeline_num ),\n",
        "                                                      ('catbimp', pipeline_cat_bin, names_pipeline_cat_bin),\n",
        "                                                      ('ordimp', pipeline_ord, names_pipeline_ord)],\n",
        "                                                      remainder='passthrough')"
      ],
      "metadata": {
        "id": "Jq0jcoMe3W3h"
      },
      "execution_count": 39,
      "outputs": []
    },
    {
      "cell_type": "code",
      "source": [
        "pipeline_salida = Pipeline(steps=[('impMedian', SimpleImputer(strategy='median'))])\n",
        "names_pipeline_salida = ['LPE']\n",
        "\n",
        "transformacionessalida = ColumnTransformer( transformers = [('outimp', pipeline_salida, names_pipeline_salida)], \n",
        "                                           remainder = 'passthrough')"
      ],
      "metadata": {
        "id": "uiu9Qt6l66FO"
      },
      "execution_count": 40,
      "outputs": []
    },
    {
      "cell_type": "markdown",
      "source": [
        "#**Ejercicio-5.**"
      ],
      "metadata": {
        "id": "Rv7KFq-mC7PS"
      }
    },
    {
      "cell_type": "markdown",
      "source": [
        "Utiliza la función Dummy para modelos de regresión de scikit-learn con el conjunto que tienes de datos de entrenamiento y validación. Para ello particiónalos en 100 para validación y 300 para entrenamiento. Encuentra los errores RMSE, MAE y MAPE para los conjuntos de entrenamiento y \n",
        "validación. Estos serán tus errores máximos que deberás tomar como referencia en el resto de la actividad. Consulta su documentación correspondiente:  \n",
        "https://scikit-learn.org/stable/modules/generated/sklearn.dummy.DummyRegressor.html  "
      ],
      "metadata": {
        "id": "IoSEEMCCHulN"
      }
    },
    {
      "cell_type": "code",
      "source": [
        "modeloDLR = DummyRegressor()"
      ],
      "metadata": {
        "id": "jaDj3kawC9B6"
      },
      "execution_count": 41,
      "outputs": []
    },
    {
      "cell_type": "code",
      "source": [
        "Xtvtransf = transformaciones.fit_transform(Xtv)\n",
        "ytvtransf = transformacionessalida.fit_transform(ytv)\n",
        "\n"
      ],
      "metadata": {
        "id": "a0L6zzL2_d4S"
      },
      "execution_count": 42,
      "outputs": []
    },
    {
      "cell_type": "code",
      "source": [
        "Xtrain, Xval, ytrain, yval = train_test_split(Xtvtransf, ytvtransf, test_size = 0.25, random_state = 7)\n",
        "print('Dimensión del conjunto de entrenamiento variables independientes: ', Xtrain.shape)\n",
        "print('Dimensión del conjunto de prueba variables independientes: ', Xval.shape, '\\n')\n",
        "print('Dimensión del conjunto de entrenamiento variable dependiente: ', ytrain.shape)\n",
        "print('Dimensión del conjunto de prueba variable dependiente: ', yval.shape)"
      ],
      "metadata": {
        "id": "4tQxQROVC9Us",
        "colab": {
          "base_uri": "https://localhost:8080/"
        },
        "outputId": "f9939bec-9eb6-4880-c433-a146d54064db"
      },
      "execution_count": 43,
      "outputs": [
        {
          "output_type": "stream",
          "name": "stdout",
          "text": [
            "Dimensión del conjunto de entrenamiento variables independientes:  (300, 13)\n",
            "Dimensión del conjunto de prueba variables independientes:  (100, 13) \n",
            "\n",
            "Dimensión del conjunto de entrenamiento variable dependiente:  (300, 1)\n",
            "Dimensión del conjunto de prueba variable dependiente:  (100, 1)\n"
          ]
        }
      ]
    },
    {
      "cell_type": "code",
      "source": [
        "modeloDLR.fit(Xtrain, ytrain)"
      ],
      "metadata": {
        "colab": {
          "base_uri": "https://localhost:8080/"
        },
        "id": "gDCYFCfF-wtr",
        "outputId": "a73937ee-ee93-40d2-db6f-54a44f7740e0"
      },
      "execution_count": 44,
      "outputs": [
        {
          "output_type": "execute_result",
          "data": {
            "text/plain": [
              "DummyRegressor()"
            ]
          },
          "metadata": {},
          "execution_count": 44
        }
      ]
    },
    {
      "cell_type": "code",
      "source": [
        "DLRyhat = modeloDLR.predict(Xval)"
      ],
      "metadata": {
        "id": "V8l8lBenBMSR"
      },
      "execution_count": 45,
      "outputs": []
    },
    {
      "cell_type": "code",
      "source": [
        "DLRyhat"
      ],
      "metadata": {
        "colab": {
          "base_uri": "https://localhost:8080/"
        },
        "id": "zLOJz6AVBhG3",
        "outputId": "e32da95a-601b-4a20-dccf-abdc454ba8c8"
      },
      "execution_count": 46,
      "outputs": [
        {
          "output_type": "execute_result",
          "data": {
            "text/plain": [
              "array([610.20333333, 610.20333333, 610.20333333, 610.20333333,\n",
              "       610.20333333, 610.20333333, 610.20333333, 610.20333333,\n",
              "       610.20333333, 610.20333333, 610.20333333, 610.20333333,\n",
              "       610.20333333, 610.20333333, 610.20333333, 610.20333333,\n",
              "       610.20333333, 610.20333333, 610.20333333, 610.20333333,\n",
              "       610.20333333, 610.20333333, 610.20333333, 610.20333333,\n",
              "       610.20333333, 610.20333333, 610.20333333, 610.20333333,\n",
              "       610.20333333, 610.20333333, 610.20333333, 610.20333333,\n",
              "       610.20333333, 610.20333333, 610.20333333, 610.20333333,\n",
              "       610.20333333, 610.20333333, 610.20333333, 610.20333333,\n",
              "       610.20333333, 610.20333333, 610.20333333, 610.20333333,\n",
              "       610.20333333, 610.20333333, 610.20333333, 610.20333333,\n",
              "       610.20333333, 610.20333333, 610.20333333, 610.20333333,\n",
              "       610.20333333, 610.20333333, 610.20333333, 610.20333333,\n",
              "       610.20333333, 610.20333333, 610.20333333, 610.20333333,\n",
              "       610.20333333, 610.20333333, 610.20333333, 610.20333333,\n",
              "       610.20333333, 610.20333333, 610.20333333, 610.20333333,\n",
              "       610.20333333, 610.20333333, 610.20333333, 610.20333333,\n",
              "       610.20333333, 610.20333333, 610.20333333, 610.20333333,\n",
              "       610.20333333, 610.20333333, 610.20333333, 610.20333333,\n",
              "       610.20333333, 610.20333333, 610.20333333, 610.20333333,\n",
              "       610.20333333, 610.20333333, 610.20333333, 610.20333333,\n",
              "       610.20333333, 610.20333333, 610.20333333, 610.20333333,\n",
              "       610.20333333, 610.20333333, 610.20333333, 610.20333333,\n",
              "       610.20333333, 610.20333333, 610.20333333, 610.20333333])"
            ]
          },
          "metadata": {},
          "execution_count": 46
        }
      ]
    },
    {
      "cell_type": "code",
      "source": [
        "def metricas(yval,ypred):\n",
        "\n",
        "  RMSE = nues_RMSE(yval,ypred)\n",
        "  MAE = nues_MAE(yval,ypred)\n",
        "  MAPE =nues_MAPE(yval,ypred)\n",
        "\n",
        "  return print('RMSE', RMSE, '\\n', 'MAE', MAE, '\\n', 'MAPE', MAPE)\n",
        "\n",
        "print('Conjuntos de Entrenamiento', '\\n')\n",
        "metricas(ytrain, DLRyhat)\n",
        "\n",
        "print('\\n','Conjuntos de Validación', '\\n')\n",
        "metricas(yval, DLRyhat)"
      ],
      "metadata": {
        "colab": {
          "base_uri": "https://localhost:8080/"
        },
        "id": "X6NcBiP2CDvn",
        "outputId": "141f33f7-bc1c-4012-e019-f37b4efa9793"
      },
      "execution_count": 47,
      "outputs": [
        {
          "output_type": "stream",
          "name": "stdout",
          "text": [
            "Conjuntos de Entrenamiento \n",
            "\n",
            "RMSE 648.21097027811 \n",
            " MAE 403.9488444444445 \n",
            " MAPE 179.68211054544756\n",
            "\n",
            " Conjuntos de Validación \n",
            "\n",
            "RMSE 568.1433815019273 \n",
            " MAE 386.5357333333333 \n",
            " MAPE 93.0372131858349\n"
          ]
        }
      ]
    },
    {
      "cell_type": "markdown",
      "source": [
        "#**Ejercicio-6.**"
      ],
      "metadata": {
        "id": "W2S7LI0NC9wE"
      }
    },
    {
      "cell_type": "markdown",
      "source": [
        "Usando los modelos de regresión lineal múltiple, el bosque aleatorio y el perceptrón multicapa con sus valores predeterminados, lleva a cabo su entrenamiento con repeticiones de validación cruzada (RepeatedKFold) y desplegando los errores RMSE, MAE y MAPE. Recuerda evitar el filtrado de\n",
        "información usando los datos que obtuviste en el ejercicio 2. Incluye las conclusiones sobre el mejor modelo encontrado en esta primera aproximación. En particular ¿hay alguno sobreentrenado o subentrenado? NOTA: Recuerda que puedes aumentar en dado caso el número máximo de iteraciones para que todos los modelos converjan"
      ],
      "metadata": {
        "id": "yAV6kgfLFrgp"
      }
    },
    {
      "cell_type": "code",
      "source": [
        "#Definimos los modelos que se compararán entre si\n",
        "def get_models():\n",
        "  modelos = list()\n",
        "  nombres = list()\n",
        "\n",
        "  # LR - Regresión Líneal:\n",
        "  modelos.append(LinearRegression())\n",
        "  nombres.append('LR')\n",
        "\n",
        "  # RF - Random Forest:\n",
        "  modelos.append(RandomForestClassifier())\n",
        "  nombres.append('RF')\n",
        "  \n",
        "  # MLP - Perceptrón Multi Capa:  \n",
        "  modelos.append(MLPRegressor(max_iter = 5000))\n",
        "  nombres.append('MLP')\n",
        "  \n",
        "\n",
        "  return modelos, nombres"
      ],
      "metadata": {
        "id": "x6uBleJUC_AU"
      },
      "execution_count": 48,
      "outputs": []
    },
    {
      "cell_type": "code",
      "source": [
        "modelos, nombres = get_models()  # cargamos los modelos a comparar\n",
        "resultados = list()   \n",
        "\n",
        "for i in range(len(modelos)):\n",
        "\n",
        "  \n",
        "  pipeline = Pipeline(steps=[('transformaciones',transformaciones),('modelos',modelos[i])])\n",
        "\n",
        "  cv = RepeatedKFold(n_splits=5, n_repeats=3, random_state=7)\n",
        "\n",
        "  nuestras_metricas = {'RMSE':make_scorer(nues_RMSE),\n",
        "                       'MAE':make_scorer(nues_MAE),\n",
        "                       'MAPE':make_scorer(nues_MAPE)}\n",
        "\n",
        "  #resultadoscv = cross_validate(pipeline, Xtv, np.ravel(ytv), n_jobs= -1, scoring=nuestras_metricas, cv=cv, return_train_score=True)\n",
        "\n",
        "  Xtvtransf = transformaciones.fit_transform(Xtv)\n",
        "  ytvtransf = transformacionessalida.fit_transform(ytv)\n",
        "  \n",
        "  \n",
        "  resultadoscv = cross_validate(modelos[i], Xtvtransf, np.ravel(ytvtransf), n_jobs= -1, scoring=nuestras_metricas, cv=cv, return_train_score=True)\n",
        "\n",
        "\n",
        "  resultados.append(resultadoscv)\n",
        "\n",
        "  print('Train Scores:\\n')\n",
        "  \n",
        "  print('%s:\\nmean RMSE: %.3f (%.4f)\\nmean MAE: %.3f (%.4f)\\nmean MAPE: %.3f (%.4f)\\n' \n",
        "        % (nombres[i],\n",
        "                                                                          np.mean(resultadoscv['train_RMSE']),\n",
        "                                                                          np.std(resultadoscv['train_RMSE']), \n",
        "                                                                          np.mean(resultadoscv['train_MAE']),\n",
        "                                                                          np.std(resultadoscv['train_MAE']), \n",
        "                                                                          np.mean(resultadoscv['train_MAPE']),\n",
        "                                                                          np.std(resultadoscv['train_MAPE'])                                                                      \n",
        "                                                                          ))\n",
        "\n",
        "  print('\\nTest Scores (Validation):\\n')\n",
        "\n",
        "  print('%s:\\nmean RMSE: %.3f (%.4f)\\nmean MAE: %.3f (%.4f)\\nmean MAPE: %.3f (%.4f)\\n' \n",
        "        % (nombres[i],\n",
        "                                                                          np.mean(resultadoscv['test_RMSE']),\n",
        "                                                                          np.std(resultadoscv['test_RMSE']), \n",
        "                                                                          np.mean(resultadoscv['test_MAE']),\n",
        "                                                                          np.std(resultadoscv['test_MAE']), \n",
        "                                                                          np.mean(resultadoscv['test_MAPE']),\n",
        "                                                                          np.std(resultadoscv['test_MAPE'])\n",
        "                                                                          ))  \n"
      ],
      "metadata": {
        "id": "n0P_AcyjC_Dh",
        "colab": {
          "base_uri": "https://localhost:8080/"
        },
        "outputId": "37d26253-9f4c-4a65-966a-de95a5ef2ca7"
      },
      "execution_count": 49,
      "outputs": [
        {
          "output_type": "stream",
          "name": "stdout",
          "text": [
            "Train Scores:\n",
            "\n",
            "LR:\n",
            "mean RMSE: 474.915 (27.8796)\n",
            "mean MAE: 289.973 (12.0189)\n",
            "mean MAPE: 109.972 (10.1436)\n",
            "\n",
            "\n",
            "Test Scores (Validation):\n",
            "\n",
            "LR:\n",
            "mean RMSE: 487.520 (96.8629)\n",
            "mean MAE: 299.493 (43.3684)\n",
            "mean MAPE: 113.503 (47.0124)\n",
            "\n",
            "Train Scores:\n",
            "\n",
            "RF:\n",
            "mean RMSE: 31.024 (15.5721)\n",
            "mean MAE: 2.191 (1.1036)\n",
            "mean MAPE: 0.840 (0.7926)\n",
            "\n",
            "\n",
            "Test Scores (Validation):\n",
            "\n",
            "RF:\n",
            "mean RMSE: 633.805 (102.5091)\n",
            "mean MAE: 353.606 (51.3930)\n",
            "mean MAPE: 129.648 (82.6929)\n",
            "\n",
            "Train Scores:\n",
            "\n",
            "MLP:\n",
            "mean RMSE: 457.883 (30.0118)\n",
            "mean MAE: 281.778 (13.2516)\n",
            "mean MAPE: 104.927 (10.4549)\n",
            "\n",
            "\n",
            "Test Scores (Validation):\n",
            "\n",
            "MLP:\n",
            "mean RMSE: 491.697 (97.0843)\n",
            "mean MAE: 302.226 (41.6919)\n",
            "mean MAPE: 112.565 (47.7604)\n",
            "\n"
          ]
        }
      ]
    },
    {
      "cell_type": "markdown",
      "source": [
        "Podemos observar que el modelo que presenta los menores valores tanto de RMSE, MAE y MAPE es el modelo de regresión líneal multiple.\n",
        "\n",
        "El modelo que presenta los peores resultados es el de Random Forest.\n",
        "\n",
        "Además, observamos que el modelo de Random Forest es el que esta mayormente sobreentrenado, pues su rendimiento en el conjunto de entrenamiento es casi perfecto, mientras que al exponerlo a los datos de validación se vuelve el menos óptimo. Linear regression y MLP parecen no estar sobreentrenados.\n",
        "\n",
        "A manera general los tres modelos en sus condiciones estandares tienen un resultado poco convencedor, pues el Dummy Regressor presenta mejor desempeño en cuanto al MAPE. En los otros dos, presenta el Dummy un peor desempeño"
      ],
      "metadata": {
        "id": "dxqIiLdiRQdX"
      }
    },
    {
      "cell_type": "markdown",
      "source": [
        "#**Ejercicio-7.**"
      ],
      "metadata": {
        "id": "iCNGx4TQ8CFI"
      }
    },
    {
      "cell_type": "code",
      "source": [
        "from matplotlib.axes import Subplot\n",
        "import seaborn as sns\n",
        "\n",
        "#Se muestra en un BoxPlot los resultados correspondientes a la métrica MAPE de los tres modelos\n",
        "sns.set_theme(rc={'figure.figsize':(10,5)})\n",
        "fig, axes = plt.subplots(1, 2)\n",
        "axes[0].set_title(\"Train MAPE\")\n",
        "axes[1].set_title(\"Validation MAPE\")\n",
        "\n",
        "\n",
        "bpMAPEtrain = list()\n",
        "bpMAPEtest = list()\n",
        "\n",
        "for i in range(len(resultados)):\n",
        "  results = resultados[i]['train_MAPE']\n",
        "  bpMAPEtrain.append(results)\n",
        "  \n",
        "for i in range(len(resultados)):\n",
        "  results = resultados[i]['test_MAPE']\n",
        "  bpMAPEtest.append(results)\n",
        "\n",
        "plt.subplot(1,2,1)\n",
        "plt.boxplot(bpMAPEtrain, labels=nombres, showmeans=True)\n",
        "plt.title(label=\"Train MAPE\")\n",
        "plt.subplot(1,2,2)\n",
        "plt.boxplot(bpMAPEtest, labels=nombres,showmeans = True)\n",
        "plt.title(label=\"Validation MAPE\")\n",
        "\n",
        "plt.tight_layout()\n",
        "plt.show()"
      ],
      "metadata": {
        "id": "ewvwUcJX78y1",
        "colab": {
          "base_uri": "https://localhost:8080/",
          "height": 365
        },
        "outputId": "4717694d-a269-4ccb-c403-7d5c1d06b377"
      },
      "execution_count": 50,
      "outputs": [
        {
          "output_type": "display_data",
          "data": {
            "text/plain": [
              "<Figure size 720x360 with 2 Axes>"
            ],
            "image/png": "[encoded data removed]"
          },
          "metadata": {}
        }
      ]
    },
    {
      "cell_type": "markdown",
      "source": [
        "El valor de MAPE para la variable de salida \"Lifetime people who have liked your page and engaged with your post\" fue de 26.9, lo cual supera considerablemente los valores que estamos obteniendo, los cuales rondan alrededor de un MAPE de 100."
      ],
      "metadata": {
        "id": "fWJio9saRRYS"
      }
    },
    {
      "cell_type": "markdown",
      "source": [
        "#**Ejercicio-8.**"
      ],
      "metadata": {
        "id": "tzQn5NR78GFg"
      }
    },
    {
      "cell_type": "markdown",
      "source": [
        "Usando una búsqueda de malla con validación cruzada (GridSearchCV), busca los mejores hiperparámetros para el modelo MLP. Al menos deberás realizar la búsqueda en los hiperparámetros “hidden_layer_sizes”, “alpha” y “learning_rate_init”. Además aplica la validación cruzada con repeticiones (RepeatedKFold). Muestra los mejores hiperparámetros encontrados. "
      ],
      "metadata": {
        "id": "AnLyUufkR_5F"
      }
    },
    {
      "cell_type": "code",
      "source": [
        "modeloMLP = MLPRegressor(max_iter= 10000, random_state=11)\n",
        "\n",
        "# hidden_layer_sizes”, “alpha” y “learning_rate_init”.\n",
        "\n",
        "Xtvtransf = transformaciones.fit_transform(Xtv)\n",
        "ytvtransf = transformacionessalida.fit_transform(ytv)\n",
        "\n",
        "'''dicc_grid = {'hidden_layer_sizes':[(2,2), (4,4), (8,4), (8,6)], #indicamos nodos por cada capa, donde cada , dentro del tuple es una capa.\n",
        "             'alpha':[0.0001, 0.001, 0.01, 0.1],\n",
        "             'learning_rate_init': [0.0001, 0.001, 0.01],\n",
        "             'solver':['sgd', 'adam']}'''\n",
        "\n",
        "dicc_grid = [\n",
        " \n",
        "        {'solver': ['lbfgs'], 'alpha':[0.0001, 0.001, 0.01, 0.1, 1.0], 'hidden_layer_sizes':[(8,4), (8,6)]},\n",
        "        {'solver': ['adam'], 'learning_rate_init': [0.001, 0.01, 0.1], 'alpha':[0.0001, 0.001, 0.01, 0.1, 1.0],'hidden_layer_sizes':[(8,4), (8,6)]},\n",
        "        {'solver': ['sgd'], 'learning_rate_init': [0.001, 0.01,0.1],'alpha':[0.0001, 0.001, 0.01, 0.1, 1.0],'hidden_layer_sizes':[(8,4), (8,6)]}\n",
        "    ]\n",
        "\n",
        "cv = RepeatedKFold(n_splits=5, n_repeats=3, random_state=11)\n",
        "\n",
        "grid = GridSearchCV(estimator=modeloMLP, \n",
        "                    param_grid=dicc_grid, \n",
        "                    cv=cv,\n",
        "                    n_jobs = -1,\n",
        "                    scoring=make_scorer(nues_MAPE, greater_is_better = False))"
      ],
      "metadata": {
        "id": "EBKcp0278IQV"
      },
      "execution_count": 58,
      "outputs": []
    },
    {
      "cell_type": "code",
      "source": [
        "grid.fit(Xtvtransf, np.ravel(ytvtransf))\n",
        "\n",
        "print('Mejor valor de exactitud obtenido con la mejor combinación:', grid.best_score_)\n",
        "print('Mejor combinación de valores encontrados de los hiperparámetros:', grid.best_params_)\n",
        "print('Métrica utilizada:', grid.scoring)"
      ],
      "metadata": {
        "id": "vp8S0PFs8IMR",
        "colab": {
          "base_uri": "https://localhost:8080/"
        },
        "outputId": "f9ee3d16-5dc4-466c-ad0b-fd6354f44183"
      },
      "execution_count": 59,
      "outputs": [
        {
          "output_type": "stream",
          "name": "stdout",
          "text": [
            "Mejor valor de exactitud obtenido con la mejor combinación: -85.66154104341847\n",
            "Mejor combinación de valores encontrados de los hiperparámetros: {'alpha': 1.0, 'hidden_layer_sizes': (8, 4), 'learning_rate_init': 0.001, 'solver': 'sgd'}\n",
            "Métrica utilizada: make_scorer(nues_MAPE, greater_is_better=False)\n"
          ]
        }
      ]
    },
    {
      "cell_type": "markdown",
      "source": [
        "#**Ejercicio-9.**"
      ],
      "metadata": {
        "id": "mASNrZWs8JTh"
      }
    },
    {
      "cell_type": "markdown",
      "source": [
        "Con los mejores valores de los hiperparámetros encontrados realiza un análisis de la importancia de los factores. Muestra un diagrama de barras de los resultados e incluye tus conclusiones. "
      ],
      "metadata": {
        "id": "hWEPjzFHjtUL"
      }
    },
    {
      "cell_type": "code",
      "source": [
        "# Una vez inicializado y entrenada la MLP, veamos qué factores considera más importantes:\n",
        "\n",
        "modeloMLP = MLPRegressor(hidden_layer_sizes=(8,4), \n",
        "                            max_iter=10000, \n",
        "                            alpha=1.0,\n",
        "                            learning_rate_init=0.001)  \n",
        "\n",
        "modeloMLP.fit(Xtvtransf, np.ravel(ytvtransf))\n",
        "\n",
        "importanceMLP = permutation_importance(modeloMLP, Xtvtransf, ytvtransf, n_repeats=10)\n",
        "\n",
        "# visualicemos la importancia de cada métrica, de las cuales sabemos\n",
        "# cuáles son las más importantes, de acuerdo a como se definieron al inicio:\n",
        "\n",
        "for i,v in enumerate(importanceMLP['importances_mean']):\n",
        "\tprint('Feature: %0d, Score: %.5f' % (i,v))\n",
        " \n",
        "plt.bar([x for x in range(len(importanceMLP['importances_mean']))], importanceMLP['importances_mean'])\n",
        "plt.show()"
      ],
      "metadata": {
        "id": "X6HJP9hb8LCp",
        "colab": {
          "base_uri": "https://localhost:8080/",
          "height": 548
        },
        "outputId": "3aa28d88-9519-4be9-849c-588d74f93767"
      },
      "execution_count": 57,
      "outputs": [
        {
          "output_type": "stream",
          "name": "stdout",
          "text": [
            "Feature: 0, Score: 0.07544\n",
            "Feature: 1, Score: 0.08891\n",
            "Feature: 2, Score: 0.11801\n",
            "Feature: 3, Score: 0.43422\n",
            "Feature: 4, Score: 0.00080\n",
            "Feature: 5, Score: 0.14147\n",
            "Feature: 6, Score: 0.08855\n",
            "Feature: 7, Score: 0.08219\n",
            "Feature: 8, Score: 0.15975\n",
            "Feature: 9, Score: 0.25264\n",
            "Feature: 10, Score: 0.14986\n",
            "Feature: 11, Score: 0.00617\n",
            "Feature: 12, Score: 0.00495\n"
          ]
        },
        {
          "output_type": "display_data",
          "data": {
            "text/plain": [
              "<Figure size 720x360 with 1 Axes>"
            ],
            "image/png": "[encoded data removed]"
          },
          "metadata": {}
        }
      ]
    },
    {
      "cell_type": "markdown",
      "source": [
        "#**Ejercicio-10.**"
      ],
      "metadata": {
        "id": "VUIcDshs8MzG"
      }
    },
    {
      "cell_type": "markdown",
      "source": [
        "Repite el ejercicio 8 y 9 para el modelo de bosque aleatorio para buscar sus mejores hiperparámetros (realiza la búsqueda con aquellos hiperparámetros que consideres más adecuados) y usando el conjunto de Prueba. Y realiza igualmente el análisis de importancia de factores con este modelo con un diagrama de barras. "
      ],
      "metadata": {
        "id": "bzzt4UXmkxVg"
      }
    },
    {
      "cell_type": "code",
      "source": [
        "modeloRF = RandomForestClassifier()\n",
        "\n",
        "Xtvtransf = transformaciones.fit_transform(Xtv)\n",
        "ytvtransf = transformacionessalida.fit_transform(ytv)\n",
        "\n",
        "dicc_grid = {'ccp_alpha':[0.0001,0.01,0.1,1.0,10.,100.],\n",
        "             'criterion':['gini', 'entropy', 'log_loss'],\n",
        "             'max_depth': [1,2,8, None],\n",
        "             'min_samples_split':[0.1,0.3,0.5,1.0],\n",
        "             'class_weight':['balanced', None]\n",
        "             }\n",
        "\n",
        "cv = RepeatedKFold(n_splits=5, n_repeats=3, random_state=11)\n",
        "\n",
        "grid = GridSearchCV(estimator=modeloRF, \n",
        "                    param_grid=dicc_grid, \n",
        "                    cv=cv,\n",
        "                    n_jobs = -1, \n",
        "                    scoring=make_scorer(nues_MAPE, greater_is_better = False))\n",
        "                    "
      ],
      "metadata": {
        "id": "0lKNJNIt8N88"
      },
      "execution_count": 44,
      "outputs": []
    },
    {
      "cell_type": "code",
      "source": [
        "grid.fit(Xtvtransf, np.ravel(ytvtransf))\n",
        "\n",
        "print('Mejor valor de exactitud obtenido con la mejor combinación:', grid.best_score_)\n",
        "print('Mejor combinación de valores encontrados de los hiperparámetros:', grid.best_params_)\n",
        "print('Métrica utilizada:', grid.scoring)"
      ],
      "metadata": {
        "id": "Inkq5YQe8PED"
      },
      "execution_count": null,
      "outputs": []
    },
    {
      "cell_type": "code",
      "source": [
        "# Una vez inicializado y entrenada la MLP, veamos qué factores considera más importantes:\n",
        "\n",
        "modeloRF = RandomForestClassifier()  \n",
        "\n",
        "modeloRF.fit(Xtvtransf, np.ravel(ytvtransf))\n",
        "\n",
        "importanceRF = permutation_importance(modeloRF, Xtvtransf, ytvtransf, n_repeats=10)\n",
        "\n",
        "# visualicemos la importancia de cada métrica, de las cuales sabemos\n",
        "# cuáles son las más importantes, de acuerdo a como se definieron al inicio:\n",
        "\n",
        "for i,v in enumerate(importanceRF['importances_mean']):\n",
        "\tprint('Feature: %0d, Score: %.5f' % (i,v))\n",
        " \n",
        "plt.bar([x for x in range(len(importanceRF['importances_mean']))], importanceRF['importances_mean'])\n",
        "plt.show()"
      ],
      "metadata": {
        "id": "z13g8nsgk14P"
      },
      "execution_count": null,
      "outputs": []
    },
    {
      "cell_type": "markdown",
      "source": [
        "#**Ejercicio-11.**"
      ],
      "metadata": {
        "id": "5LJl6oql8Pc8"
      }
    },
    {
      "cell_type": "markdown",
      "source": [
        "Repite el ejercicio 8 y 9 para el modelo de regresión lineal múltiple para buscar sus mejores hiperparámetros (realiza la búsqueda con aquellos hiperparámetros que consideres más adecuados) y usando el conjunto de Prueba. Y realiza igualmente el análisis de importancia de factores con este modelo con un diagrama de barras. "
      ],
      "metadata": {
        "id": "gc2uqAnTlHvh"
      }
    },
    {
      "cell_type": "code",
      "source": [
        "modeloLR = LinearRegression()\n",
        "\n",
        "Xtvtransf = transformaciones.fit_transform(Xtv)\n",
        "ytvtransf = transformacionessalida.fit_transform(ytv)\n",
        "\n",
        "dicc_grid = {'fit_intercept':[True, False],\n",
        "             'positive':[True,False]}\n",
        "\n",
        "cv = RepeatedKFold(n_splits=5, n_repeats=3, random_state=11)\n",
        "\n",
        "grid = GridSearchCV(estimator=modeloLR, \n",
        "                    param_grid=dicc_grid, \n",
        "                    cv=cv,\n",
        "                    n_jobs = -1,\n",
        "                    scoring=make_scorer(nues_MAPE, greater_is_better = False))"
      ],
      "metadata": {
        "id": "-YiSnt9t8RfN"
      },
      "execution_count": 37,
      "outputs": []
    },
    {
      "cell_type": "code",
      "source": [
        "grid.fit(Xtvtransf, np.ravel(ytvtransf))\n",
        "\n",
        "print('Mejor valor de exactitud obtenido con la mejor combinación:', grid.best_score_)\n",
        "print('Mejor combinación de valores encontrados de los hiperparámetros:', grid.best_params_)\n",
        "print('Métrica utilizada:', grid.scoring)"
      ],
      "metadata": {
        "id": "2iRA78ZC8Rbm",
        "colab": {
          "base_uri": "https://localhost:8080/"
        },
        "outputId": "ddd13226-d68e-458a-a9cd-49a9582e15d6"
      },
      "execution_count": 38,
      "outputs": [
        {
          "output_type": "stream",
          "name": "stdout",
          "text": [
            "Mejor valor de exactitud obtenido con la mejor combinación: -114.34282284607798\n",
            "Mejor combinación de valores encontrados de los hiperparámetros: {'fit_intercept': True, 'positive': False}\n",
            "Métrica utilizada: make_scorer(nues_MAPE, greater_is_better=False)\n"
          ]
        }
      ]
    },
    {
      "cell_type": "code",
      "source": [
        "# Una vez inicializado y entrenada la MLP, veamos qué factores considera más importantes:\n",
        "\n",
        "modeloLR = LinearRegression(fit_intercept = True, positive = False)  \n",
        "\n",
        "modeloLR.fit(Xtvtransf, np.ravel(ytvtransf))\n",
        "\n",
        "dfnames = pd.DataFrame(Xtvtransf)\n",
        "\n",
        "importanceLR = permutation_importance(modeloLR, Xtvtransf, ytvtransf, n_repeats=10)\n",
        "\n",
        "# visualicemos la importancia de cada métrica, de las cuales sabemos\n",
        "# cuáles son las más importantes, de acuerdo a como se definieron al inicio:\n",
        "\n",
        "for i,v in enumerate(importanceLR['importances_mean']):\n",
        "\tprint('Feature: %0d, Score: %.5f' % (dfnames.columns.values[i],v))\n",
        " \n",
        "plt.bar([x for x in range(len(importanceLR['importances_mean']))], importanceLR['importances_mean'])\n",
        "plt.show()"
      ],
      "metadata": {
        "colab": {
          "base_uri": "https://localhost:8080/",
          "height": 548
        },
        "id": "6xl5fG_Vlw20",
        "outputId": "1c724072-b592-4d20-c23c-a63fd6467dc4"
      },
      "execution_count": 49,
      "outputs": [
        {
          "output_type": "stream",
          "name": "stdout",
          "text": [
            "Feature: 0, Score: 0.11619\n",
            "Feature: 1, Score: 0.09270\n",
            "Feature: 2, Score: 0.08979\n",
            "Feature: 3, Score: 0.43770\n",
            "Feature: 4, Score: 0.00004\n",
            "Feature: 5, Score: 0.00103\n",
            "Feature: 6, Score: 0.00002\n",
            "Feature: 7, Score: 0.00116\n",
            "Feature: 8, Score: 0.00056\n",
            "Feature: 9, Score: 0.00056\n",
            "Feature: 10, Score: 0.18545\n",
            "Feature: 11, Score: 0.00176\n",
            "Feature: 12, Score: 0.00375\n"
          ]
        },
        {
          "output_type": "display_data",
          "data": {
            "text/plain": [
              "<Figure size 720x360 with 1 Axes>"
            ],
            "image/png": "[encoded data removed]"
          },
          "metadata": {}
        }
      ]
    },
    {
      "cell_type": "markdown",
      "source": [
        "#**Ejercicio-12.**"
      ],
      "metadata": {
        "id": "IKW72uyk8Sbc"
      }
    },
    {
      "cell_type": "markdown",
      "source": [
        "Compara tus resultados con los obtenidos por los autores del artículo de Moro-Rita-Vala con respecto a MAPE. Incluye tus conclusiones finales de la actividad. "
      ],
      "metadata": {
        "id": "MJK7N6ddl93G"
      }
    },
    {
      "cell_type": "code",
      "source": [
        "None"
      ],
      "metadata": {
        "id": "gwpz77W38Uq0"
      },
      "execution_count": null,
      "outputs": []
    },
    {
      "cell_type": "code",
      "source": [],
      "metadata": {
        "id": "8v8HL02W8UmW"
      },
      "execution_count": null,
      "outputs": []
    },
    {
      "cell_type": "markdown",
      "source": [
        "###**Fin de la Actividad de la semana 7.**"
      ],
      "metadata": {
        "id": "7ql_r2G-DB_m"
      }
    }
  ]
}