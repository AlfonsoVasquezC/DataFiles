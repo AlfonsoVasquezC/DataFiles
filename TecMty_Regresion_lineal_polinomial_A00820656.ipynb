{
  "cells": [
    {
      "cell_type": "markdown",
      "metadata": {
        "id": "view-in-github",
        "colab_type": "text"
      },
      "source": [
        "<a href=\"https://colab.research.google.com/github/AlfonsoVasquezC/DataFiles/blob/main/TecMty_Regresion_lineal_polinomial_A00820656.ipynb\" target=\"_parent\"><img src=\"https://colab.research.google.com/assets/colab-badge.svg\" alt=\"Open In Colab\"/></a>"
      ]
    },
    {
      "cell_type": "markdown",
      "source": [
        "# Actividad Semanal -- 7 Regresiones \n",
        "\n",
        "**Datos Generales**\n",
        "**Nombre de la entrega:** Actividad Semanal -- 7 Regresiones \n",
        "\n",
        "**Nombre del Alumno:** Juan Alfonso Vasquez Chapoi \n",
        "\n",
        "**Matrícula:** A00820656\n",
        "\n",
        "**Materia:** Ciencia y Analítica de Datos\n",
        "\n",
        "**Profesor:** María de la Paz Rico Fernández\n",
        "\n",
        "**Tutor:** Bernardo Charles Canales"
      ],
      "metadata": {
        "id": "d1mEj2kZ8brc"
      }
    },
    {
      "cell_type": "markdown",
      "metadata": {
        "id": "WUO-kdryVQwK"
      },
      "source": [
        "# Linear Models\n"
      ]
    },
    {
      "cell_type": "markdown",
      "metadata": {
        "id": "u3ytB4LpVQwM"
      },
      "source": [
        "- In supervised learning, the training data fed to the algorithm includes the desired solutions, called labels. \n",
        "- In **regression**, the labels are continuous quantities.\n",
        "- Linear models predict by computing a weighted sum of input features plus a bias term."
      ]
    },
    {
      "cell_type": "code",
      "execution_count": 86,
      "metadata": {
        "id": "HMp_I4Y6VQwN"
      },
      "outputs": [],
      "source": [
        "import numpy as np\n",
        "%matplotlib inline\n",
        "import matplotlib\n",
        "import matplotlib.pyplot as plt\n",
        "import pandas as pd\n",
        "import seaborn as sns\n",
        "# to make this notebook's output stable across runs\n",
        "np.random.seed(42)"
      ]
    },
    {
      "cell_type": "code",
      "execution_count": 87,
      "metadata": {
        "colab": {
          "base_uri": "https://localhost:8080/"
        },
        "id": "exg6xSYf3F5D",
        "outputId": "f03dcdcc-72ad-4844-adeb-77ff109ce38e"
      },
      "outputs": [
        {
          "output_type": "execute_result",
          "data": {
            "text/plain": [
              "3"
            ]
          },
          "metadata": {},
          "execution_count": 87
        }
      ],
      "source": [
        "5-2"
      ]
    },
    {
      "cell_type": "markdown",
      "metadata": {
        "id": "szpzFXgiVQwN"
      },
      "source": [
        "## Simple Linear Regression\n",
        "\n",
        "Simple linear regression equation:\n",
        "\n",
        "$y = ax + b$\n",
        "<br>\n",
        "$a$: slope\n",
        "<br>\n",
        "$b$: intercept\n",
        "\n",
        "Generate linear-looking data with the equation:\n",
        "\n",
        "$y = 3X + 4 + noise$"
      ]
    },
    {
      "cell_type": "code",
      "execution_count": 88,
      "metadata": {
        "colab": {
          "base_uri": "https://localhost:8080/"
        },
        "id": "mitJFYeiMQqD",
        "outputId": "8a2ae166-4273-45f3-ce4d-5d05d2d5eca7"
      },
      "outputs": [
        {
          "output_type": "execute_result",
          "data": {
            "text/plain": [
              "array([[0.37454012],\n",
              "       [0.95071431],\n",
              "       [0.73199394],\n",
              "       [0.59865848],\n",
              "       [0.15601864],\n",
              "       [0.15599452],\n",
              "       [0.05808361],\n",
              "       [0.86617615],\n",
              "       [0.60111501],\n",
              "       [0.70807258],\n",
              "       [0.02058449],\n",
              "       [0.96990985],\n",
              "       [0.83244264],\n",
              "       [0.21233911],\n",
              "       [0.18182497],\n",
              "       [0.18340451],\n",
              "       [0.30424224],\n",
              "       [0.52475643],\n",
              "       [0.43194502],\n",
              "       [0.29122914],\n",
              "       [0.61185289],\n",
              "       [0.13949386],\n",
              "       [0.29214465],\n",
              "       [0.36636184],\n",
              "       [0.45606998],\n",
              "       [0.78517596],\n",
              "       [0.19967378],\n",
              "       [0.51423444],\n",
              "       [0.59241457],\n",
              "       [0.04645041],\n",
              "       [0.60754485],\n",
              "       [0.17052412],\n",
              "       [0.06505159],\n",
              "       [0.94888554],\n",
              "       [0.96563203],\n",
              "       [0.80839735],\n",
              "       [0.30461377],\n",
              "       [0.09767211],\n",
              "       [0.68423303],\n",
              "       [0.44015249],\n",
              "       [0.12203823],\n",
              "       [0.49517691],\n",
              "       [0.03438852],\n",
              "       [0.9093204 ],\n",
              "       [0.25877998],\n",
              "       [0.66252228],\n",
              "       [0.31171108],\n",
              "       [0.52006802],\n",
              "       [0.54671028],\n",
              "       [0.18485446],\n",
              "       [0.96958463],\n",
              "       [0.77513282],\n",
              "       [0.93949894],\n",
              "       [0.89482735],\n",
              "       [0.59789998],\n",
              "       [0.92187424],\n",
              "       [0.0884925 ],\n",
              "       [0.19598286],\n",
              "       [0.04522729],\n",
              "       [0.32533033],\n",
              "       [0.38867729],\n",
              "       [0.27134903],\n",
              "       [0.82873751],\n",
              "       [0.35675333],\n",
              "       [0.28093451],\n",
              "       [0.54269608],\n",
              "       [0.14092422],\n",
              "       [0.80219698],\n",
              "       [0.07455064],\n",
              "       [0.98688694],\n",
              "       [0.77224477],\n",
              "       [0.19871568],\n",
              "       [0.00552212],\n",
              "       [0.81546143],\n",
              "       [0.70685734],\n",
              "       [0.72900717],\n",
              "       [0.77127035],\n",
              "       [0.07404465],\n",
              "       [0.35846573],\n",
              "       [0.11586906],\n",
              "       [0.86310343],\n",
              "       [0.62329813],\n",
              "       [0.33089802],\n",
              "       [0.06355835],\n",
              "       [0.31098232],\n",
              "       [0.32518332],\n",
              "       [0.72960618],\n",
              "       [0.63755747],\n",
              "       [0.88721274],\n",
              "       [0.47221493],\n",
              "       [0.11959425],\n",
              "       [0.71324479],\n",
              "       [0.76078505],\n",
              "       [0.5612772 ],\n",
              "       [0.77096718],\n",
              "       [0.4937956 ],\n",
              "       [0.52273283],\n",
              "       [0.42754102],\n",
              "       [0.02541913],\n",
              "       [0.10789143]])"
            ]
          },
          "metadata": {},
          "execution_count": 88
        }
      ],
      "source": [
        "np.random.rand(100, 1)"
      ]
    },
    {
      "cell_type": "code",
      "execution_count": 89,
      "metadata": {
        "colab": {
          "base_uri": "https://localhost:8080/",
          "height": 268
        },
        "id": "QyubE1VEVQwN",
        "outputId": "4d0d47fa-fed2-47f7-a1ea-5f58ff871a25"
      },
      "outputs": [
        {
          "output_type": "display_data",
          "data": {
            "text/plain": [
              "<Figure size 432x288 with 1 Axes>"
            ],
            "image/png": "[encoded data removed]"
          },
          "metadata": {
            "needs_background": "light"
          }
        }
      ],
      "source": [
        "X = 2*np.random.rand(100, 1)\n",
        "y = 4 + 3 * X + np.random.randn(100, 1)\n",
        "plt.scatter(X, y);"
      ]
    },
    {
      "cell_type": "code",
      "execution_count": 90,
      "metadata": {
        "colab": {
          "base_uri": "https://localhost:8080/",
          "height": 423
        },
        "id": "M5kaENJ4bZY5",
        "outputId": "78046185-50bc-4a86-fcc0-e043a2da3202"
      },
      "outputs": [
        {
          "output_type": "execute_result",
          "data": {
            "text/plain": [
              "            0\n",
              "0    3.508550\n",
              "1    8.050716\n",
              "2    6.179208\n",
              "3    6.337073\n",
              "4   11.311173\n",
              "..        ...\n",
              "95   5.441928\n",
              "96  10.121188\n",
              "97   9.787643\n",
              "98   8.061635\n",
              "99   9.597115\n",
              "\n",
              "[100 rows x 1 columns]"
            ],
            "text/html": [
              "\n",
              "  <div id=\"df-6666279e-cf8c-4d6c-a1b9-825e024f2ba6\">\n",
              "    <div class=\"colab-df-container\">\n",
              "      <div>\n",
              "<style scoped>\n",
              "    .dataframe tbody tr th:only-of-type {\n",
              "        vertical-align: middle;\n",
              "    }\n",
              "\n",
              "    .dataframe tbody tr th {\n",
              "        vertical-align: top;\n",
              "    }\n",
              "\n",
              "    .dataframe thead th {\n",
              "        text-align: right;\n",
              "    }\n",
              "</style>\n",
              "<table border=\"1\" class=\"dataframe\">\n",
              "  <thead>\n",
              "    <tr style=\"text-align: right;\">\n",
              "      <th></th>\n",
              "      <th>0</th>\n",
              "    </tr>\n",
              "  </thead>\n",
              "  <tbody>\n",
              "    <tr>\n",
              "      <th>0</th>\n",
              "      <td>3.508550</td>\n",
              "    </tr>\n",
              "    <tr>\n",
              "      <th>1</th>\n",
              "      <td>8.050716</td>\n",
              "    </tr>\n",
              "    <tr>\n",
              "      <th>2</th>\n",
              "      <td>6.179208</td>\n",
              "    </tr>\n",
              "    <tr>\n",
              "      <th>3</th>\n",
              "      <td>6.337073</td>\n",
              "    </tr>\n",
              "    <tr>\n",
              "      <th>4</th>\n",
              "      <td>11.311173</td>\n",
              "    </tr>\n",
              "    <tr>\n",
              "      <th>...</th>\n",
              "      <td>...</td>\n",
              "    </tr>\n",
              "    <tr>\n",
              "      <th>95</th>\n",
              "      <td>5.441928</td>\n",
              "    </tr>\n",
              "    <tr>\n",
              "      <th>96</th>\n",
              "      <td>10.121188</td>\n",
              "    </tr>\n",
              "    <tr>\n",
              "      <th>97</th>\n",
              "      <td>9.787643</td>\n",
              "    </tr>\n",
              "    <tr>\n",
              "      <th>98</th>\n",
              "      <td>8.061635</td>\n",
              "    </tr>\n",
              "    <tr>\n",
              "      <th>99</th>\n",
              "      <td>9.597115</td>\n",
              "    </tr>\n",
              "  </tbody>\n",
              "</table>\n",
              "<p>100 rows × 1 columns</p>\n",
              "</div>\n",
              "      <button class=\"colab-df-convert\" onclick=\"convertToInteractive('df-6666279e-cf8c-4d6c-a1b9-825e024f2ba6')\"\n",
              "              title=\"Convert this dataframe to an interactive table.\"\n",
              "              style=\"display:none;\">\n",
              "        \n",
              "  <svg xmlns=\"http://www.w3.org/2000/svg\" height=\"24px\"viewBox=\"0 0 24 24\"\n",
              "       width=\"24px\">\n",
              "    <path d=\"M0 0h24v24H0V0z\" fill=\"none\"/>\n",
              "    <path d=\"M18.56 5.44l.94 2.06.94-2.06 2.06-.94-2.06-.94-.94-2.06-.94 2.06-2.06.94zm-11 1L8.5 8.5l.94-2.06 2.06-.94-2.06-.94L8.5 2.5l-.94 2.06-2.06.94zm10 10l.94 2.06.94-2.06 2.06-.94-2.06-.94-.94-2.06-.94 2.06-2.06.94z\"/><path d=\"M17.41 7.96l-1.37-1.37c-.4-.4-.92-.59-1.43-.59-.52 0-1.04.2-1.43.59L10.3 9.45l-7.72 7.72c-.78.78-.78 2.05 0 2.83L4 21.41c.39.39.9.59 1.41.59.51 0 1.02-.2 1.41-.59l7.78-7.78 2.81-2.81c.8-.78.8-2.07 0-2.86zM5.41 20L4 18.59l7.72-7.72 1.47 1.35L5.41 20z\"/>\n",
              "  </svg>\n",
              "      </button>\n",
              "      \n",
              "  <style>\n",
              "    .colab-df-container {\n",
              "      display:flex;\n",
              "      flex-wrap:wrap;\n",
              "      gap: 12px;\n",
              "    }\n",
              "\n",
              "    .colab-df-convert {\n",
              "      background-color: #E8F0FE;\n",
              "      border: none;\n",
              "      border-radius: 50%;\n",
              "      cursor: pointer;\n",
              "      display: none;\n",
              "      fill: #1967D2;\n",
              "      height: 32px;\n",
              "      padding: 0 0 0 0;\n",
              "      width: 32px;\n",
              "    }\n",
              "\n",
              "    .colab-df-convert:hover {\n",
              "      background-color: #E2EBFA;\n",
              "      box-shadow: 0px 1px 2px rgba(60, 64, 67, 0.3), 0px 1px 3px 1px rgba(60, 64, 67, 0.15);\n",
              "      fill: #174EA6;\n",
              "    }\n",
              "\n",
              "    [theme=dark] .colab-df-convert {\n",
              "      background-color: #3B4455;\n",
              "      fill: #D2E3FC;\n",
              "    }\n",
              "\n",
              "    [theme=dark] .colab-df-convert:hover {\n",
              "      background-color: #434B5C;\n",
              "      box-shadow: 0px 1px 3px 1px rgba(0, 0, 0, 0.15);\n",
              "      filter: drop-shadow(0px 1px 2px rgba(0, 0, 0, 0.3));\n",
              "      fill: #FFFFFF;\n",
              "    }\n",
              "  </style>\n",
              "\n",
              "      <script>\n",
              "        const buttonEl =\n",
              "          document.querySelector('#df-6666279e-cf8c-4d6c-a1b9-825e024f2ba6 button.colab-df-convert');\n",
              "        buttonEl.style.display =\n",
              "          google.colab.kernel.accessAllowed ? 'block' : 'none';\n",
              "\n",
              "        async function convertToInteractive(key) {\n",
              "          const element = document.querySelector('#df-6666279e-cf8c-4d6c-a1b9-825e024f2ba6');\n",
              "          const dataTable =\n",
              "            await google.colab.kernel.invokeFunction('convertToInteractive',\n",
              "                                                     [key], {});\n",
              "          if (!dataTable) return;\n",
              "\n",
              "          const docLinkHtml = 'Like what you see? Visit the ' +\n",
              "            '<a target=\"_blank\" href=https://colab.research.google.com/notebooks/data_table.ipynb>data table notebook</a>'\n",
              "            + ' to learn more about interactive tables.';\n",
              "          element.innerHTML = '';\n",
              "          dataTable['output_type'] = 'display_data';\n",
              "          await google.colab.output.renderOutput(dataTable, element);\n",
              "          const docLink = document.createElement('div');\n",
              "          docLink.innerHTML = docLinkHtml;\n",
              "          element.appendChild(docLink);\n",
              "        }\n",
              "      </script>\n",
              "    </div>\n",
              "  </div>\n",
              "  "
            ]
          },
          "metadata": {},
          "execution_count": 90
        }
      ],
      "source": [
        "import pandas as pd\n",
        "pd.DataFrame(y)"
      ]
    },
    {
      "cell_type": "code",
      "execution_count": 91,
      "metadata": {
        "colab": {
          "base_uri": "https://localhost:8080/"
        },
        "id": "x6XGt_iAVQwO",
        "outputId": "ea80b153-cc80-40db-d6e2-1234c4efabb4"
      },
      "outputs": [
        {
          "output_type": "execute_result",
          "data": {
            "text/plain": [
              "LinearRegression()"
            ]
          },
          "metadata": {},
          "execution_count": 91
        }
      ],
      "source": [
        "from sklearn.linear_model import LinearRegression\n",
        "\n",
        "linear_reg = LinearRegression(fit_intercept=True)\n",
        "linear_reg.fit(X, y)"
      ]
    },
    {
      "cell_type": "markdown",
      "metadata": {
        "id": "Hnm9YgjbVQwO"
      },
      "source": [
        "Plot the model's predictions:"
      ]
    },
    {
      "cell_type": "code",
      "execution_count": 92,
      "metadata": {
        "id": "9NtrLfGGVQwP"
      },
      "outputs": [],
      "source": [
        "#X_fit[]"
      ]
    },
    {
      "cell_type": "code",
      "execution_count": 93,
      "metadata": {
        "colab": {
          "base_uri": "https://localhost:8080/",
          "height": 290
        },
        "id": "1ZTT31igVQwP",
        "outputId": "6f65bdb9-565a-4551-9340-befcd5e02ed6"
      },
      "outputs": [
        {
          "output_type": "display_data",
          "data": {
            "text/plain": [
              "<Figure size 432x288 with 1 Axes>"
            ],
            "image/png": "[encoded data removed]"
          },
          "metadata": {
            "needs_background": "light"
          }
        }
      ],
      "source": [
        "# construct best fit line\n",
        "X_fit = np.linspace(0, 2, 100)\n",
        "y_fit = linear_reg.predict(X_fit[:, np.newaxis])\n",
        "\n",
        "plt.scatter(X, y)\n",
        "plt.plot(X_fit, y_fit, \"r-\", linewidth=2, label=\"Predictions\")\n",
        "plt.xlabel(\"$X$\", fontsize=18)\n",
        "plt.ylabel(\"$y$\", rotation=0, fontsize=18)\n",
        "plt.legend(loc=\"upper left\", fontsize=14);"
      ]
    },
    {
      "cell_type": "markdown",
      "metadata": {
        "id": "kIfOsEcWVQwP"
      },
      "source": [
        "Predictions are a good fit."
      ]
    },
    {
      "cell_type": "markdown",
      "metadata": {
        "id": "z2VYUeGrVQwQ"
      },
      "source": [
        "Generate new data to make predictions with the model:"
      ]
    },
    {
      "cell_type": "code",
      "execution_count": 94,
      "metadata": {
        "colab": {
          "base_uri": "https://localhost:8080/"
        },
        "id": "FuEd0Wp0VQwQ",
        "outputId": "06e5d3ae-2024-4b85-bf06-423436a88263"
      },
      "outputs": [
        {
          "output_type": "execute_result",
          "data": {
            "text/plain": [
              "array([[0],\n",
              "       [2]])"
            ]
          },
          "metadata": {},
          "execution_count": 94
        }
      ],
      "source": [
        "X_new = np.array([[0], [2]])\n",
        "X_new"
      ]
    },
    {
      "cell_type": "code",
      "execution_count": 95,
      "metadata": {
        "colab": {
          "base_uri": "https://localhost:8080/"
        },
        "id": "lLCnLm7_VQwQ",
        "outputId": "79cb6a71-fa6d-46bf-8926-8d014b27e15d"
      },
      "outputs": [
        {
          "output_type": "execute_result",
          "data": {
            "text/plain": [
              "(2, 1)"
            ]
          },
          "metadata": {},
          "execution_count": 95
        }
      ],
      "source": [
        "X_new.shape"
      ]
    },
    {
      "cell_type": "code",
      "execution_count": 96,
      "metadata": {
        "colab": {
          "base_uri": "https://localhost:8080/"
        },
        "id": "zJIzUfZsVQwQ",
        "outputId": "67518626-3632-47b5-eb5d-751a4cc4bb0f"
      },
      "outputs": [
        {
          "output_type": "execute_result",
          "data": {
            "text/plain": [
              "array([[ 3.74406122],\n",
              "       [10.47517611]])"
            ]
          },
          "metadata": {},
          "execution_count": 96
        }
      ],
      "source": [
        "y_new = linear_reg.predict(X_new)\n",
        "y_new"
      ]
    },
    {
      "cell_type": "code",
      "execution_count": 97,
      "metadata": {
        "colab": {
          "base_uri": "https://localhost:8080/"
        },
        "id": "ICiEnkbdVQwQ",
        "outputId": "bc9fd819-f665-416b-d408-b6fb8e01d111"
      },
      "outputs": [
        {
          "output_type": "execute_result",
          "data": {
            "text/plain": [
              "(array([[3.36555744]]), array([3.74406122]))"
            ]
          },
          "metadata": {},
          "execution_count": 97
        }
      ],
      "source": [
        "linear_reg.coef_, linear_reg.intercept_"
      ]
    },
    {
      "cell_type": "markdown",
      "metadata": {
        "id": "iBXzOecgVQwR"
      },
      "source": [
        "The model estimates:\n",
        "\n",
        "$\\hat{y} = 3.36X + 3.74$"
      ]
    },
    {
      "cell_type": "code",
      "execution_count": 98,
      "metadata": {
        "id": "ZNvipq0wQYfj"
      },
      "outputs": [],
      "source": [
        "#|VENTAS|GANANCIAS|\n",
        "#COEF*VENTAS+B\n",
        "#|VENTAS|COMPRAS|GANANCIAS|\n",
        "#COEF1*X1+COEF2*X2+B=Y"
      ]
    },
    {
      "cell_type": "markdown",
      "metadata": {
        "id": "_Rv-RJSnVQwR"
      },
      "source": [
        "## Polynomial Regression\n",
        "\n",
        "If data is more complex than a straight line, you can use a linear model ti fit non-linear data adding powers of each feature as new features and then train a linear model on the extended set of features. "
      ]
    },
    {
      "cell_type": "markdown",
      "metadata": {
        "id": "dPrpAVsZVQwR"
      },
      "source": [
        "$$y = a_0 + a_1x_1 + a_2x_2 + a_3x_3 + ...$$ to $$y = a_0 + a_1x + a_2x^2 + a_3x^3+ ...$$ "
      ]
    },
    {
      "cell_type": "markdown",
      "metadata": {
        "id": "9kjMWzEfVQwR"
      },
      "source": [
        "This is still a linear model, the linearity refers to the fact that the coefficients never multiply or divide each other."
      ]
    },
    {
      "cell_type": "markdown",
      "metadata": {
        "id": "2M3fp_CSVQwR"
      },
      "source": [
        "To generate polynomial data we use the function:\n",
        "\n",
        "$y = 0.50X^2 + X + 2 + noise$"
      ]
    },
    {
      "cell_type": "code",
      "execution_count": 99,
      "metadata": {
        "id": "sSrueMnPVQwR"
      },
      "outputs": [],
      "source": [
        "# generate non-linear data e.g. quadratic equation\n",
        "m = 100\n",
        "X = 6 * np.random.rand(m, 1) - 3\n",
        "y = 0.5 * X**2 + X + 2 + np.random.randn(m, 1)"
      ]
    },
    {
      "cell_type": "code",
      "execution_count": 100,
      "metadata": {
        "colab": {
          "base_uri": "https://localhost:8080/",
          "height": 294
        },
        "id": "GNQQoXkMVQwS",
        "outputId": "ee182e11-c1c6-450e-b768-74e3943af0c1"
      },
      "outputs": [
        {
          "output_type": "display_data",
          "data": {
            "text/plain": [
              "<Figure size 432x288 with 1 Axes>"
            ],
            "image/png": "[encoded data removed]"
          },
          "metadata": {
            "needs_background": "light"
          }
        }
      ],
      "source": [
        "plt.plot(X, y, \"b.\")\n",
        "plt.xlabel(\"$x_1$\", fontsize=18)\n",
        "plt.ylabel(\"$y$\", rotation=0, fontsize=18)\n",
        "plt.axis([-3, 3, 0, 10]);"
      ]
    },
    {
      "cell_type": "code",
      "execution_count": 101,
      "metadata": {
        "colab": {
          "base_uri": "https://localhost:8080/",
          "height": 423
        },
        "id": "YtaK_dsidNcP",
        "outputId": "fbfe5d5a-9f52-4499-9e44-7d67a6958d34"
      },
      "outputs": [
        {
          "output_type": "execute_result",
          "data": {
            "text/plain": [
              "           0\n",
              "0   8.529240\n",
              "1   3.768929\n",
              "2   3.354423\n",
              "3   2.747935\n",
              "4   0.808458\n",
              "..       ...\n",
              "95  5.346771\n",
              "96  6.338229\n",
              "97  3.488785\n",
              "98  1.372002\n",
              "99 -0.072150\n",
              "\n",
              "[100 rows x 1 columns]"
            ],
            "text/html": [
              "\n",
              "  <div id=\"df-557ebb13-0203-4279-baff-c15adaa6c164\">\n",
              "    <div class=\"colab-df-container\">\n",
              "      <div>\n",
              "<style scoped>\n",
              "    .dataframe tbody tr th:only-of-type {\n",
              "        vertical-align: middle;\n",
              "    }\n",
              "\n",
              "    .dataframe tbody tr th {\n",
              "        vertical-align: top;\n",
              "    }\n",
              "\n",
              "    .dataframe thead th {\n",
              "        text-align: right;\n",
              "    }\n",
              "</style>\n",
              "<table border=\"1\" class=\"dataframe\">\n",
              "  <thead>\n",
              "    <tr style=\"text-align: right;\">\n",
              "      <th></th>\n",
              "      <th>0</th>\n",
              "    </tr>\n",
              "  </thead>\n",
              "  <tbody>\n",
              "    <tr>\n",
              "      <th>0</th>\n",
              "      <td>8.529240</td>\n",
              "    </tr>\n",
              "    <tr>\n",
              "      <th>1</th>\n",
              "      <td>3.768929</td>\n",
              "    </tr>\n",
              "    <tr>\n",
              "      <th>2</th>\n",
              "      <td>3.354423</td>\n",
              "    </tr>\n",
              "    <tr>\n",
              "      <th>3</th>\n",
              "      <td>2.747935</td>\n",
              "    </tr>\n",
              "    <tr>\n",
              "      <th>4</th>\n",
              "      <td>0.808458</td>\n",
              "    </tr>\n",
              "    <tr>\n",
              "      <th>...</th>\n",
              "      <td>...</td>\n",
              "    </tr>\n",
              "    <tr>\n",
              "      <th>95</th>\n",
              "      <td>5.346771</td>\n",
              "    </tr>\n",
              "    <tr>\n",
              "      <th>96</th>\n",
              "      <td>6.338229</td>\n",
              "    </tr>\n",
              "    <tr>\n",
              "      <th>97</th>\n",
              "      <td>3.488785</td>\n",
              "    </tr>\n",
              "    <tr>\n",
              "      <th>98</th>\n",
              "      <td>1.372002</td>\n",
              "    </tr>\n",
              "    <tr>\n",
              "      <th>99</th>\n",
              "      <td>-0.072150</td>\n",
              "    </tr>\n",
              "  </tbody>\n",
              "</table>\n",
              "<p>100 rows × 1 columns</p>\n",
              "</div>\n",
              "      <button class=\"colab-df-convert\" onclick=\"convertToInteractive('df-557ebb13-0203-4279-baff-c15adaa6c164')\"\n",
              "              title=\"Convert this dataframe to an interactive table.\"\n",
              "              style=\"display:none;\">\n",
              "        \n",
              "  <svg xmlns=\"http://www.w3.org/2000/svg\" height=\"24px\"viewBox=\"0 0 24 24\"\n",
              "       width=\"24px\">\n",
              "    <path d=\"M0 0h24v24H0V0z\" fill=\"none\"/>\n",
              "    <path d=\"M18.56 5.44l.94 2.06.94-2.06 2.06-.94-2.06-.94-.94-2.06-.94 2.06-2.06.94zm-11 1L8.5 8.5l.94-2.06 2.06-.94-2.06-.94L8.5 2.5l-.94 2.06-2.06.94zm10 10l.94 2.06.94-2.06 2.06-.94-2.06-.94-.94-2.06-.94 2.06-2.06.94z\"/><path d=\"M17.41 7.96l-1.37-1.37c-.4-.4-.92-.59-1.43-.59-.52 0-1.04.2-1.43.59L10.3 9.45l-7.72 7.72c-.78.78-.78 2.05 0 2.83L4 21.41c.39.39.9.59 1.41.59.51 0 1.02-.2 1.41-.59l7.78-7.78 2.81-2.81c.8-.78.8-2.07 0-2.86zM5.41 20L4 18.59l7.72-7.72 1.47 1.35L5.41 20z\"/>\n",
              "  </svg>\n",
              "      </button>\n",
              "      \n",
              "  <style>\n",
              "    .colab-df-container {\n",
              "      display:flex;\n",
              "      flex-wrap:wrap;\n",
              "      gap: 12px;\n",
              "    }\n",
              "\n",
              "    .colab-df-convert {\n",
              "      background-color: #E8F0FE;\n",
              "      border: none;\n",
              "      border-radius: 50%;\n",
              "      cursor: pointer;\n",
              "      display: none;\n",
              "      fill: #1967D2;\n",
              "      height: 32px;\n",
              "      padding: 0 0 0 0;\n",
              "      width: 32px;\n",
              "    }\n",
              "\n",
              "    .colab-df-convert:hover {\n",
              "      background-color: #E2EBFA;\n",
              "      box-shadow: 0px 1px 2px rgba(60, 64, 67, 0.3), 0px 1px 3px 1px rgba(60, 64, 67, 0.15);\n",
              "      fill: #174EA6;\n",
              "    }\n",
              "\n",
              "    [theme=dark] .colab-df-convert {\n",
              "      background-color: #3B4455;\n",
              "      fill: #D2E3FC;\n",
              "    }\n",
              "\n",
              "    [theme=dark] .colab-df-convert:hover {\n",
              "      background-color: #434B5C;\n",
              "      box-shadow: 0px 1px 3px 1px rgba(0, 0, 0, 0.15);\n",
              "      filter: drop-shadow(0px 1px 2px rgba(0, 0, 0, 0.3));\n",
              "      fill: #FFFFFF;\n",
              "    }\n",
              "  </style>\n",
              "\n",
              "      <script>\n",
              "        const buttonEl =\n",
              "          document.querySelector('#df-557ebb13-0203-4279-baff-c15adaa6c164 button.colab-df-convert');\n",
              "        buttonEl.style.display =\n",
              "          google.colab.kernel.accessAllowed ? 'block' : 'none';\n",
              "\n",
              "        async function convertToInteractive(key) {\n",
              "          const element = document.querySelector('#df-557ebb13-0203-4279-baff-c15adaa6c164');\n",
              "          const dataTable =\n",
              "            await google.colab.kernel.invokeFunction('convertToInteractive',\n",
              "                                                     [key], {});\n",
              "          if (!dataTable) return;\n",
              "\n",
              "          const docLinkHtml = 'Like what you see? Visit the ' +\n",
              "            '<a target=\"_blank\" href=https://colab.research.google.com/notebooks/data_table.ipynb>data table notebook</a>'\n",
              "            + ' to learn more about interactive tables.';\n",
              "          element.innerHTML = '';\n",
              "          dataTable['output_type'] = 'display_data';\n",
              "          await google.colab.output.renderOutput(dataTable, element);\n",
              "          const docLink = document.createElement('div');\n",
              "          docLink.innerHTML = docLinkHtml;\n",
              "          element.appendChild(docLink);\n",
              "        }\n",
              "      </script>\n",
              "    </div>\n",
              "  </div>\n",
              "  "
            ]
          },
          "metadata": {},
          "execution_count": 101
        }
      ],
      "source": [
        "import pandas as pd\n",
        "pd.DataFrame(y)"
      ]
    },
    {
      "cell_type": "markdown",
      "metadata": {
        "id": "vrZTRaLNVQwS"
      },
      "source": [
        "Now we can use `PolynomialFeatues` to transform training data adding the square of each feature as new features."
      ]
    },
    {
      "cell_type": "code",
      "execution_count": 102,
      "metadata": {
        "id": "BXo0Hm56VQwS"
      },
      "outputs": [],
      "source": [
        "from sklearn.preprocessing import PolynomialFeatures\n",
        "\n",
        "poly_features = PolynomialFeatures(degree=2, include_bias=False)\n",
        "X_poly = poly_features.fit_transform(X)"
      ]
    },
    {
      "cell_type": "code",
      "execution_count": 103,
      "metadata": {
        "colab": {
          "base_uri": "https://localhost:8080/"
        },
        "id": "1FqY9-I4VQwS",
        "outputId": "9a2f9607-ccd4-4208-fe98-f6787511357d"
      },
      "outputs": [
        {
          "output_type": "execute_result",
          "data": {
            "text/plain": [
              "array([[ 2.72919168e+00,  7.44848725e+00],\n",
              "       [ 1.42738150e+00,  2.03741795e+00],\n",
              "       [ 3.26124315e-01,  1.06357069e-01],\n",
              "       [ 6.70324477e-01,  4.49334905e-01],\n",
              "       [-4.82399625e-01,  2.32709399e-01],\n",
              "       [-1.51361406e+00,  2.29102753e+00],\n",
              "       [-8.64163928e-01,  7.46779295e-01],\n",
              "       [ 1.54707666e+00,  2.39344620e+00],\n",
              "       [-2.91363907e+00,  8.48929262e+00],\n",
              "       [-2.30356416e+00,  5.30640783e+00],\n",
              "       [-2.72398415e+00,  7.42008964e+00],\n",
              "       [-2.75562719e+00,  7.59348119e+00],\n",
              "       [ 2.13276350e+00,  4.54868016e+00],\n",
              "       [ 1.22194716e+00,  1.49315485e+00],\n",
              "       [-1.54957025e-01,  2.40116797e-02],\n",
              "       [-2.41299504e+00,  5.82254504e+00],\n",
              "       [-5.03047493e-02,  2.53056780e-03],\n",
              "       [-1.59169375e-01,  2.53348900e-02],\n",
              "       [-1.96078878e+00,  3.84469264e+00],\n",
              "       [-3.96890105e-01,  1.57521755e-01],\n",
              "       [-6.08971594e-01,  3.70846402e-01],\n",
              "       [ 6.95100588e-01,  4.83164828e-01],\n",
              "       [ 8.10561905e-01,  6.57010602e-01],\n",
              "       [-2.72817594e+00,  7.44294397e+00],\n",
              "       [-7.52324312e-01,  5.65991871e-01],\n",
              "       [ 7.55159494e-01,  5.70265862e-01],\n",
              "       [ 1.88175515e-02,  3.54100244e-04],\n",
              "       [ 2.13893905e+00,  4.57506025e+00],\n",
              "       [ 9.52161790e-01,  9.06612074e-01],\n",
              "       [-2.02239344e+00,  4.09007522e+00],\n",
              "       [-2.57658752e+00,  6.63880323e+00],\n",
              "       [ 8.54515669e-01,  7.30197029e-01],\n",
              "       [-2.84093214e+00,  8.07089541e+00],\n",
              "       [ 5.14653488e-01,  2.64868212e-01],\n",
              "       [ 2.64138145e+00,  6.97689596e+00],\n",
              "       [ 4.52845067e-01,  2.05068655e-01],\n",
              "       [-6.70980443e-01,  4.50214755e-01],\n",
              "       [ 8.59729311e-01,  7.39134488e-01],\n",
              "       [-2.50482657e-01,  6.27415615e-02],\n",
              "       [ 2.73700736e-01,  7.49120928e-02],\n",
              "       [ 2.64878885e+00,  7.01608239e+00],\n",
              "       [-6.83384173e-01,  4.67013928e-01],\n",
              "       [ 2.76714338e+00,  7.65708250e+00],\n",
              "       [ 2.43210385e+00,  5.91512915e+00],\n",
              "       [-1.82525319e+00,  3.33154921e+00],\n",
              "       [-2.58383219e+00,  6.67618881e+00],\n",
              "       [-2.39533199e+00,  5.73761535e+00],\n",
              "       [-2.89066905e+00,  8.35596753e+00],\n",
              "       [-2.43334224e+00,  5.92115443e+00],\n",
              "       [ 1.09804064e+00,  1.20569325e+00],\n",
              "       [-2.57286811e+00,  6.61965031e+00],\n",
              "       [-1.08614622e+00,  1.17971361e+00],\n",
              "       [ 2.06925187e+00,  4.28180328e+00],\n",
              "       [-2.86036839e+00,  8.18170730e+00],\n",
              "       [ 1.88681090e+00,  3.56005536e+00],\n",
              "       [-1.30887135e+00,  1.71314421e+00],\n",
              "       [-2.29101103e+00,  5.24873156e+00],\n",
              "       [ 1.18042299e+00,  1.39339844e+00],\n",
              "       [ 7.73657081e-01,  5.98545278e-01],\n",
              "       [ 2.26483208e+00,  5.12946436e+00],\n",
              "       [ 1.41042626e+00,  1.98930224e+00],\n",
              "       [ 1.82088558e+00,  3.31562430e+00],\n",
              "       [-1.30779256e+00,  1.71032139e+00],\n",
              "       [-1.93536274e+00,  3.74562893e+00],\n",
              "       [ 1.50368851e+00,  2.26107913e+00],\n",
              "       [ 1.84100844e+00,  3.38931206e+00],\n",
              "       [ 2.94303085e+00,  8.66143060e+00],\n",
              "       [-5.24293939e-01,  2.74884134e-01],\n",
              "       [-7.67891485e-01,  5.89657333e-01],\n",
              "       [ 1.65847776e+00,  2.75054850e+00],\n",
              "       [-9.55178758e-01,  9.12366461e-01],\n",
              "       [ 2.58454395e+00,  6.67986745e+00],\n",
              "       [ 2.15047651e+00,  4.62454922e+00],\n",
              "       [-4.26035836e-01,  1.81506533e-01],\n",
              "       [ 1.50522641e+00,  2.26570654e+00],\n",
              "       [ 1.52725724e+00,  2.33251469e+00],\n",
              "       [-2.38125679e+00,  5.67038389e+00],\n",
              "       [ 2.41531744e+00,  5.83375834e+00],\n",
              "       [ 3.15142347e-02,  9.93146988e-04],\n",
              "       [ 1.95874480e+00,  3.83668118e+00],\n",
              "       [-1.07970239e+00,  1.16575726e+00],\n",
              "       [ 2.37313937e+00,  5.63179047e+00],\n",
              "       [-6.64789928e-01,  4.41945648e-01],\n",
              "       [-2.93497409e+00,  8.61407292e+00],\n",
              "       [ 2.43229186e+00,  5.91604369e+00],\n",
              "       [-2.45227994e+00,  6.01367690e+00],\n",
              "       [-1.08411817e+00,  1.17531222e+00],\n",
              "       [ 2.70037180e+00,  7.29200787e+00],\n",
              "       [ 2.70364288e+00,  7.30968483e+00],\n",
              "       [ 4.40627329e-01,  1.94152443e-01],\n",
              "       [ 7.91023273e-01,  6.25717818e-01],\n",
              "       [-3.09326868e-01,  9.56831113e-02],\n",
              "       [-1.24073537e+00,  1.53942426e+00],\n",
              "       [-1.02801273e+00,  1.05681017e+00],\n",
              "       [ 1.03511074e+00,  1.07145424e+00],\n",
              "       [ 1.51424718e+00,  2.29294451e+00],\n",
              "       [ 1.74947426e+00,  3.06066019e+00],\n",
              "       [ 1.73770886e+00,  3.01963207e+00],\n",
              "       [-2.45276338e+00,  6.01604821e+00],\n",
              "       [-3.34781718e-02,  1.12078799e-03]])"
            ]
          },
          "metadata": {},
          "execution_count": 103
        }
      ],
      "source": [
        "X_poly"
      ]
    },
    {
      "cell_type": "markdown",
      "metadata": {
        "id": "GrFMRU_eVQwS"
      },
      "source": [
        "`X_poly` now contains the original feature of X plus the square of the feature:"
      ]
    },
    {
      "cell_type": "code",
      "execution_count": 104,
      "metadata": {
        "colab": {
          "base_uri": "https://localhost:8080/"
        },
        "id": "M8FH1dY2UwgN",
        "outputId": "3f32367a-6b7a-4890-aa03-466e06b8c2fb"
      },
      "outputs": [
        {
          "output_type": "stream",
          "name": "stdout",
          "text": [
            "[2.72919168]\n",
            "[7.44848725]\n"
          ]
        }
      ],
      "source": [
        "print(X[0])\n",
        "print(X[0]*X[0])\n"
      ]
    },
    {
      "cell_type": "code",
      "execution_count": 105,
      "metadata": {
        "colab": {
          "base_uri": "https://localhost:8080/"
        },
        "id": "PSflPniWVQwT",
        "outputId": "019dde8e-a1ec-4c01-b60e-3beb9bc230df"
      },
      "outputs": [
        {
          "output_type": "execute_result",
          "data": {
            "text/plain": [
              "array([2.72919168, 7.44848725])"
            ]
          },
          "metadata": {},
          "execution_count": 105
        }
      ],
      "source": [
        "X_poly[0]"
      ]
    },
    {
      "cell_type": "markdown",
      "metadata": {
        "id": "HaXjXg7FVQwT"
      },
      "source": [
        "Fit the model to this extended training data:"
      ]
    },
    {
      "cell_type": "code",
      "execution_count": 106,
      "metadata": {
        "colab": {
          "base_uri": "https://localhost:8080/"
        },
        "id": "c0Qu93dgVQwT",
        "outputId": "fb518299-355b-449f-fd40-c3247a129226"
      },
      "outputs": [
        {
          "output_type": "execute_result",
          "data": {
            "text/plain": [
              "(array([[1.04271531, 0.50866711]]), array([2.01873554]))"
            ]
          },
          "metadata": {},
          "execution_count": 106
        }
      ],
      "source": [
        "lin_reg = LinearRegression(fit_intercept=True)\n",
        "lin_reg.fit(X_poly, y)\n",
        "lin_reg.coef_, lin_reg.intercept_"
      ]
    },
    {
      "cell_type": "markdown",
      "metadata": {
        "id": "rKOSwvnmVQwT"
      },
      "source": [
        "The model estimates:\n",
        "\n",
        "$\\hat{y} =  0.89X +0.48X^2 + 2.09$"
      ]
    },
    {
      "cell_type": "markdown",
      "metadata": {
        "id": "_EtZEKz5VQwT"
      },
      "source": [
        "Plot the data and the predictions:"
      ]
    },
    {
      "cell_type": "code",
      "execution_count": 107,
      "metadata": {
        "colab": {
          "base_uri": "https://localhost:8080/",
          "height": 294
        },
        "id": "6Q8dHRgdVQwT",
        "outputId": "598f68b7-b9d2-44bb-cc10-0e91278faa6e"
      },
      "outputs": [
        {
          "output_type": "display_data",
          "data": {
            "text/plain": [
              "<Figure size 432x288 with 1 Axes>"
            ],
            "image/png": "[encoded data removed]"
          },
          "metadata": {
            "needs_background": "light"
          }
        }
      ],
      "source": [
        "X_new=np.linspace(-3, 3, 100).reshape(100, 1)\n",
        "X_new_poly = poly_features.transform(X_new)\n",
        "y_new = lin_reg.predict(X_new_poly)\n",
        "plt.plot(X, y, \"b.\")\n",
        "plt.plot(X_new, y_new, \"r-\", linewidth=2, label=\"Predictions\")\n",
        "plt.xlabel(\"$x_1$\", fontsize=18)\n",
        "plt.ylabel(\"$y$\", rotation=0, fontsize=18)\n",
        "plt.legend(loc=\"upper left\", fontsize=14)\n",
        "plt.axis([-3, 3, 0, 10]);"
      ]
    },
    {
      "cell_type": "code",
      "execution_count": 107,
      "metadata": {
        "id": "vyq0o8f2pcqa"
      },
      "outputs": [],
      "source": []
    },
    {
      "cell_type": "markdown",
      "metadata": {
        "id": "TIFwAtW1pc6h"
      },
      "source": [
        "## R square\n",
        "\n",
        "R² es una medida estadística de qué tan cerca están los datos de la línea de regresión ajustada. También se conoce como el coeficiente de determinación o el coeficiente de determinación múltiple para la regresión múltiple. Para decirlo en un lenguaje más simple, R² es una medida de ajuste para los modelos de regresión lineal.\n",
        "\n",
        "\n",
        "\n",
        "R² no indica si un modelo de regresión se ajusta adecuadamente a sus datos. Un buen modelo puede tener un valor R² bajo. Por otro lado, un modelo sesgado puede tener un valor alto de R².\n",
        "\n",
        " SSres + SSreg = SStot, R² = Explained variation / Total Variation\n",
        " \n",
        " ![image.png](https://i.stack.imgur.com/xb1VY.png)\n",
        " \n",
        "![image.png](https://3.bp.blogspot.com/-MFqQLwbGwd4/WMO7tz39beI/AAAAAAAAF9I/Bjpfohgv_5E4lu7HzHJBQtXsBM--byqPwCLcB/s1600/rsquared.png)\n"
      ]
    },
    {
      "cell_type": "markdown",
      "metadata": {
        "id": "nTKFj4x9LMXm"
      },
      "source": [
        "# Ejercicio 1\n",
        "\n",
        "Utiliza la base de datos de \n",
        "https://www.kaggle.com/vinicius150987/manufacturing-cost\n",
        "\n",
        "Suponga que trabaja como consultor de una empresa de nueva creación que busca desarrollar un modelo para estimar el costo de los bienes vendidos a medida que varían el volumen de producción (número de unidades producidas). La startup recopiló datos y le pidió que desarrollara un modelo para predecir su costo frente a la cantidad de unidades vendidas."
      ]
    },
    {
      "cell_type": "code",
      "execution_count": 108,
      "metadata": {
        "colab": {
          "base_uri": "https://localhost:8080/",
          "height": 363
        },
        "id": "oTnErQOkL3oa",
        "outputId": "de16fa03-8783-4bf4-9bce-da5fe0943d69"
      },
      "outputs": [
        {
          "output_type": "execute_result",
          "data": {
            "text/plain": [
              "     Number of Units  Manufacturing Cost\n",
              "968         7.065653           27.804027\n",
              "212         3.372115           41.127212\n",
              "416         4.194513           43.832711\n",
              "677         5.068888           41.225741\n",
              "550         4.604122           37.569764\n",
              "764         5.389522           31.191501\n",
              "386         4.104190           42.988730\n",
              "339         3.942214           46.291435\n",
              "82          2.665856           48.578425\n",
              "487         4.399514           37.567914"
            ],
            "text/html": [
              "\n",
              "  <div id=\"df-efc2e4f8-a53f-400d-bb19-9ee5b1230a57\">\n",
              "    <div class=\"colab-df-container\">\n",
              "      <div>\n",
              "<style scoped>\n",
              "    .dataframe tbody tr th:only-of-type {\n",
              "        vertical-align: middle;\n",
              "    }\n",
              "\n",
              "    .dataframe tbody tr th {\n",
              "        vertical-align: top;\n",
              "    }\n",
              "\n",
              "    .dataframe thead th {\n",
              "        text-align: right;\n",
              "    }\n",
              "</style>\n",
              "<table border=\"1\" class=\"dataframe\">\n",
              "  <thead>\n",
              "    <tr style=\"text-align: right;\">\n",
              "      <th></th>\n",
              "      <th>Number of Units</th>\n",
              "      <th>Manufacturing Cost</th>\n",
              "    </tr>\n",
              "  </thead>\n",
              "  <tbody>\n",
              "    <tr>\n",
              "      <th>968</th>\n",
              "      <td>7.065653</td>\n",
              "      <td>27.804027</td>\n",
              "    </tr>\n",
              "    <tr>\n",
              "      <th>212</th>\n",
              "      <td>3.372115</td>\n",
              "      <td>41.127212</td>\n",
              "    </tr>\n",
              "    <tr>\n",
              "      <th>416</th>\n",
              "      <td>4.194513</td>\n",
              "      <td>43.832711</td>\n",
              "    </tr>\n",
              "    <tr>\n",
              "      <th>677</th>\n",
              "      <td>5.068888</td>\n",
              "      <td>41.225741</td>\n",
              "    </tr>\n",
              "    <tr>\n",
              "      <th>550</th>\n",
              "      <td>4.604122</td>\n",
              "      <td>37.569764</td>\n",
              "    </tr>\n",
              "    <tr>\n",
              "      <th>764</th>\n",
              "      <td>5.389522</td>\n",
              "      <td>31.191501</td>\n",
              "    </tr>\n",
              "    <tr>\n",
              "      <th>386</th>\n",
              "      <td>4.104190</td>\n",
              "      <td>42.988730</td>\n",
              "    </tr>\n",
              "    <tr>\n",
              "      <th>339</th>\n",
              "      <td>3.942214</td>\n",
              "      <td>46.291435</td>\n",
              "    </tr>\n",
              "    <tr>\n",
              "      <th>82</th>\n",
              "      <td>2.665856</td>\n",
              "      <td>48.578425</td>\n",
              "    </tr>\n",
              "    <tr>\n",
              "      <th>487</th>\n",
              "      <td>4.399514</td>\n",
              "      <td>37.567914</td>\n",
              "    </tr>\n",
              "  </tbody>\n",
              "</table>\n",
              "</div>\n",
              "      <button class=\"colab-df-convert\" onclick=\"convertToInteractive('df-efc2e4f8-a53f-400d-bb19-9ee5b1230a57')\"\n",
              "              title=\"Convert this dataframe to an interactive table.\"\n",
              "              style=\"display:none;\">\n",
              "        \n",
              "  <svg xmlns=\"http://www.w3.org/2000/svg\" height=\"24px\"viewBox=\"0 0 24 24\"\n",
              "       width=\"24px\">\n",
              "    <path d=\"M0 0h24v24H0V0z\" fill=\"none\"/>\n",
              "    <path d=\"M18.56 5.44l.94 2.06.94-2.06 2.06-.94-2.06-.94-.94-2.06-.94 2.06-2.06.94zm-11 1L8.5 8.5l.94-2.06 2.06-.94-2.06-.94L8.5 2.5l-.94 2.06-2.06.94zm10 10l.94 2.06.94-2.06 2.06-.94-2.06-.94-.94-2.06-.94 2.06-2.06.94z\"/><path d=\"M17.41 7.96l-1.37-1.37c-.4-.4-.92-.59-1.43-.59-.52 0-1.04.2-1.43.59L10.3 9.45l-7.72 7.72c-.78.78-.78 2.05 0 2.83L4 21.41c.39.39.9.59 1.41.59.51 0 1.02-.2 1.41-.59l7.78-7.78 2.81-2.81c.8-.78.8-2.07 0-2.86zM5.41 20L4 18.59l7.72-7.72 1.47 1.35L5.41 20z\"/>\n",
              "  </svg>\n",
              "      </button>\n",
              "      \n",
              "  <style>\n",
              "    .colab-df-container {\n",
              "      display:flex;\n",
              "      flex-wrap:wrap;\n",
              "      gap: 12px;\n",
              "    }\n",
              "\n",
              "    .colab-df-convert {\n",
              "      background-color: #E8F0FE;\n",
              "      border: none;\n",
              "      border-radius: 50%;\n",
              "      cursor: pointer;\n",
              "      display: none;\n",
              "      fill: #1967D2;\n",
              "      height: 32px;\n",
              "      padding: 0 0 0 0;\n",
              "      width: 32px;\n",
              "    }\n",
              "\n",
              "    .colab-df-convert:hover {\n",
              "      background-color: #E2EBFA;\n",
              "      box-shadow: 0px 1px 2px rgba(60, 64, 67, 0.3), 0px 1px 3px 1px rgba(60, 64, 67, 0.15);\n",
              "      fill: #174EA6;\n",
              "    }\n",
              "\n",
              "    [theme=dark] .colab-df-convert {\n",
              "      background-color: #3B4455;\n",
              "      fill: #D2E3FC;\n",
              "    }\n",
              "\n",
              "    [theme=dark] .colab-df-convert:hover {\n",
              "      background-color: #434B5C;\n",
              "      box-shadow: 0px 1px 3px 1px rgba(0, 0, 0, 0.15);\n",
              "      filter: drop-shadow(0px 1px 2px rgba(0, 0, 0, 0.3));\n",
              "      fill: #FFFFFF;\n",
              "    }\n",
              "  </style>\n",
              "\n",
              "      <script>\n",
              "        const buttonEl =\n",
              "          document.querySelector('#df-efc2e4f8-a53f-400d-bb19-9ee5b1230a57 button.colab-df-convert');\n",
              "        buttonEl.style.display =\n",
              "          google.colab.kernel.accessAllowed ? 'block' : 'none';\n",
              "\n",
              "        async function convertToInteractive(key) {\n",
              "          const element = document.querySelector('#df-efc2e4f8-a53f-400d-bb19-9ee5b1230a57');\n",
              "          const dataTable =\n",
              "            await google.colab.kernel.invokeFunction('convertToInteractive',\n",
              "                                                     [key], {});\n",
              "          if (!dataTable) return;\n",
              "\n",
              "          const docLinkHtml = 'Like what you see? Visit the ' +\n",
              "            '<a target=\"_blank\" href=https://colab.research.google.com/notebooks/data_table.ipynb>data table notebook</a>'\n",
              "            + ' to learn more about interactive tables.';\n",
              "          element.innerHTML = '';\n",
              "          dataTable['output_type'] = 'display_data';\n",
              "          await google.colab.output.renderOutput(dataTable, element);\n",
              "          const docLink = document.createElement('div');\n",
              "          docLink.innerHTML = docLinkHtml;\n",
              "          element.appendChild(docLink);\n",
              "        }\n",
              "      </script>\n",
              "    </div>\n",
              "  </div>\n",
              "  "
            ]
          },
          "metadata": {},
          "execution_count": 108
        }
      ],
      "source": [
        "import pandas as pd\n",
        "df = pd.read_csv('https://raw.githubusercontent.com/marypazrf/bdd/main/EconomiesOfScale.csv')\n",
        "df.sample(10)"
      ]
    },
    {
      "cell_type": "code",
      "execution_count": 109,
      "metadata": {
        "id": "14kGO5nkMGlV"
      },
      "outputs": [],
      "source": [
        "X = df[['Number of Units']]\n",
        "y = df[['Manufacturing Cost']]"
      ]
    },
    {
      "cell_type": "code",
      "execution_count": 110,
      "metadata": {
        "colab": {
          "base_uri": "https://localhost:8080/",
          "height": 286
        },
        "id": "6Um90ktsQ064",
        "outputId": "5ada7ee8-5872-4191-914a-14c61b6f5f6b"
      },
      "outputs": [
        {
          "output_type": "execute_result",
          "data": {
            "text/plain": [
              "[<matplotlib.lines.Line2D at 0x7fcfc243bed0>]"
            ]
          },
          "metadata": {},
          "execution_count": 110
        },
        {
          "output_type": "display_data",
          "data": {
            "text/plain": [
              "<Figure size 432x288 with 1 Axes>"
            ],
            "image/png": "[encoded data removed]"
          },
          "metadata": {
            "needs_background": "light"
          }
        }
      ],
      "source": [
        "plt.plot(X,y,'b.')"
      ]
    },
    {
      "cell_type": "code",
      "execution_count": 111,
      "metadata": {
        "colab": {
          "base_uri": "https://localhost:8080/"
        },
        "id": "pwMwreDvQiWM",
        "outputId": "335b0df3-6c02-4952-fb34-1437af46ad8c"
      },
      "outputs": [
        {
          "output_type": "stream",
          "name": "stdout",
          "text": [
            "Numero total de registros en la bdd: 1000\n",
            "**************************************************\n",
            "Numero total de registros en el training set: 900\n",
            "Tamaño de X_train: (900, 1)\n",
            "**************************************************\n",
            "Mumero total de registros en el test dataset: 100\n",
            "Tamaño del X_test: (100, 1)\n"
          ]
        }
      ],
      "source": [
        "from sklearn.model_selection import train_test_split\n",
        "X_train, X_test, y_train, y_test = train_test_split(X, y, test_size = 0.1, random_state = 101)\n",
        "\n",
        "print(f'Numero total de registros en la bdd: {len(X)}')\n",
        "print(\"*****\"*10)\n",
        "print(f'Numero total de registros en el training set: {len(X_train)}')\n",
        "print(f'Tamaño de X_train: {X_train.shape}')\n",
        "print(\"*****\"*10)\n",
        "print(f'Mumero total de registros en el test dataset: {len(X_test)}')\n",
        "print(f'Tamaño del X_test: {X_test.shape}')"
      ]
    },
    {
      "cell_type": "code",
      "execution_count": 112,
      "metadata": {
        "colab": {
          "base_uri": "https://localhost:8080/",
          "height": 300
        },
        "id": "bwR6SSqQDfC2",
        "outputId": "b65e74e1-66a8-4dc6-88eb-79dc69f0e924"
      },
      "outputs": [
        {
          "output_type": "execute_result",
          "data": {
            "text/plain": [
              "       Manufacturing Cost\n",
              "count         1000.000000\n",
              "mean            40.052999\n",
              "std             10.595322\n",
              "min             20.000000\n",
              "25%             32.912036\n",
              "50%             38.345781\n",
              "75%             44.531822\n",
              "max            100.000000"
            ],
            "text/html": [
              "\n",
              "  <div id=\"df-12ac1696-27ab-40fc-a8c3-d075363d4260\">\n",
              "    <div class=\"colab-df-container\">\n",
              "      <div>\n",
              "<style scoped>\n",
              "    .dataframe tbody tr th:only-of-type {\n",
              "        vertical-align: middle;\n",
              "    }\n",
              "\n",
              "    .dataframe tbody tr th {\n",
              "        vertical-align: top;\n",
              "    }\n",
              "\n",
              "    .dataframe thead th {\n",
              "        text-align: right;\n",
              "    }\n",
              "</style>\n",
              "<table border=\"1\" class=\"dataframe\">\n",
              "  <thead>\n",
              "    <tr style=\"text-align: right;\">\n",
              "      <th></th>\n",
              "      <th>Manufacturing Cost</th>\n",
              "    </tr>\n",
              "  </thead>\n",
              "  <tbody>\n",
              "    <tr>\n",
              "      <th>count</th>\n",
              "      <td>1000.000000</td>\n",
              "    </tr>\n",
              "    <tr>\n",
              "      <th>mean</th>\n",
              "      <td>40.052999</td>\n",
              "    </tr>\n",
              "    <tr>\n",
              "      <th>std</th>\n",
              "      <td>10.595322</td>\n",
              "    </tr>\n",
              "    <tr>\n",
              "      <th>min</th>\n",
              "      <td>20.000000</td>\n",
              "    </tr>\n",
              "    <tr>\n",
              "      <th>25%</th>\n",
              "      <td>32.912036</td>\n",
              "    </tr>\n",
              "    <tr>\n",
              "      <th>50%</th>\n",
              "      <td>38.345781</td>\n",
              "    </tr>\n",
              "    <tr>\n",
              "      <th>75%</th>\n",
              "      <td>44.531822</td>\n",
              "    </tr>\n",
              "    <tr>\n",
              "      <th>max</th>\n",
              "      <td>100.000000</td>\n",
              "    </tr>\n",
              "  </tbody>\n",
              "</table>\n",
              "</div>\n",
              "      <button class=\"colab-df-convert\" onclick=\"convertToInteractive('df-12ac1696-27ab-40fc-a8c3-d075363d4260')\"\n",
              "              title=\"Convert this dataframe to an interactive table.\"\n",
              "              style=\"display:none;\">\n",
              "        \n",
              "  <svg xmlns=\"http://www.w3.org/2000/svg\" height=\"24px\"viewBox=\"0 0 24 24\"\n",
              "       width=\"24px\">\n",
              "    <path d=\"M0 0h24v24H0V0z\" fill=\"none\"/>\n",
              "    <path d=\"M18.56 5.44l.94 2.06.94-2.06 2.06-.94-2.06-.94-.94-2.06-.94 2.06-2.06.94zm-11 1L8.5 8.5l.94-2.06 2.06-.94-2.06-.94L8.5 2.5l-.94 2.06-2.06.94zm10 10l.94 2.06.94-2.06 2.06-.94-2.06-.94-.94-2.06-.94 2.06-2.06.94z\"/><path d=\"M17.41 7.96l-1.37-1.37c-.4-.4-.92-.59-1.43-.59-.52 0-1.04.2-1.43.59L10.3 9.45l-7.72 7.72c-.78.78-.78 2.05 0 2.83L4 21.41c.39.39.9.59 1.41.59.51 0 1.02-.2 1.41-.59l7.78-7.78 2.81-2.81c.8-.78.8-2.07 0-2.86zM5.41 20L4 18.59l7.72-7.72 1.47 1.35L5.41 20z\"/>\n",
              "  </svg>\n",
              "      </button>\n",
              "      \n",
              "  <style>\n",
              "    .colab-df-container {\n",
              "      display:flex;\n",
              "      flex-wrap:wrap;\n",
              "      gap: 12px;\n",
              "    }\n",
              "\n",
              "    .colab-df-convert {\n",
              "      background-color: #E8F0FE;\n",
              "      border: none;\n",
              "      border-radius: 50%;\n",
              "      cursor: pointer;\n",
              "      display: none;\n",
              "      fill: #1967D2;\n",
              "      height: 32px;\n",
              "      padding: 0 0 0 0;\n",
              "      width: 32px;\n",
              "    }\n",
              "\n",
              "    .colab-df-convert:hover {\n",
              "      background-color: #E2EBFA;\n",
              "      box-shadow: 0px 1px 2px rgba(60, 64, 67, 0.3), 0px 1px 3px 1px rgba(60, 64, 67, 0.15);\n",
              "      fill: #174EA6;\n",
              "    }\n",
              "\n",
              "    [theme=dark] .colab-df-convert {\n",
              "      background-color: #3B4455;\n",
              "      fill: #D2E3FC;\n",
              "    }\n",
              "\n",
              "    [theme=dark] .colab-df-convert:hover {\n",
              "      background-color: #434B5C;\n",
              "      box-shadow: 0px 1px 3px 1px rgba(0, 0, 0, 0.15);\n",
              "      filter: drop-shadow(0px 1px 2px rgba(0, 0, 0, 0.3));\n",
              "      fill: #FFFFFF;\n",
              "    }\n",
              "  </style>\n",
              "\n",
              "      <script>\n",
              "        const buttonEl =\n",
              "          document.querySelector('#df-12ac1696-27ab-40fc-a8c3-d075363d4260 button.colab-df-convert');\n",
              "        buttonEl.style.display =\n",
              "          google.colab.kernel.accessAllowed ? 'block' : 'none';\n",
              "\n",
              "        async function convertToInteractive(key) {\n",
              "          const element = document.querySelector('#df-12ac1696-27ab-40fc-a8c3-d075363d4260');\n",
              "          const dataTable =\n",
              "            await google.colab.kernel.invokeFunction('convertToInteractive',\n",
              "                                                     [key], {});\n",
              "          if (!dataTable) return;\n",
              "\n",
              "          const docLinkHtml = 'Like what you see? Visit the ' +\n",
              "            '<a target=\"_blank\" href=https://colab.research.google.com/notebooks/data_table.ipynb>data table notebook</a>'\n",
              "            + ' to learn more about interactive tables.';\n",
              "          element.innerHTML = '';\n",
              "          dataTable['output_type'] = 'display_data';\n",
              "          await google.colab.output.renderOutput(dataTable, element);\n",
              "          const docLink = document.createElement('div');\n",
              "          docLink.innerHTML = docLinkHtml;\n",
              "          element.appendChild(docLink);\n",
              "        }\n",
              "      </script>\n",
              "    </div>\n",
              "  </div>\n",
              "  "
            ]
          },
          "metadata": {},
          "execution_count": 112
        }
      ],
      "source": [
        "y.describe()"
      ]
    },
    {
      "cell_type": "markdown",
      "metadata": {
        "id": "onJp4YNXVzKH"
      },
      "source": [
        "## Líneal"
      ]
    },
    {
      "cell_type": "code",
      "execution_count": 113,
      "metadata": {
        "colab": {
          "base_uri": "https://localhost:8080/"
        },
        "id": "kMmOy97puOLE",
        "outputId": "df818290-d3bc-4e33-e4d5-c962866f632e"
      },
      "outputs": [
        {
          "output_type": "execute_result",
          "data": {
            "text/plain": [
              "LinearRegression()"
            ]
          },
          "metadata": {},
          "execution_count": 113
        }
      ],
      "source": [
        "#lineal\n",
        "linear_reg = LinearRegression(fit_intercept=True)\n",
        "linear_reg.fit(X_train, np.ravel(y_train))"
      ]
    },
    {
      "cell_type": "code",
      "execution_count": 114,
      "metadata": {
        "colab": {
          "base_uri": "https://localhost:8080/"
        },
        "id": "5C3wpX5BPZUk",
        "outputId": "9d0db464-deda-42c7-f516-f5c5efe495a7"
      },
      "outputs": [
        {
          "output_type": "execute_result",
          "data": {
            "text/plain": [
              "array([-5.98882699])"
            ]
          },
          "metadata": {},
          "execution_count": 114
        }
      ],
      "source": [
        "linear_reg.coef_"
      ]
    },
    {
      "cell_type": "code",
      "execution_count": 115,
      "metadata": {
        "colab": {
          "base_uri": "https://localhost:8080/"
        },
        "id": "VncnP5MhPZtl",
        "outputId": "1fee1462-7ac5-4999-e227-1bb403173fd4"
      },
      "outputs": [
        {
          "output_type": "execute_result",
          "data": {
            "text/plain": [
              "66.83650741226988"
            ]
          },
          "metadata": {},
          "execution_count": 115
        }
      ],
      "source": [
        "linear_reg.intercept_"
      ]
    },
    {
      "cell_type": "markdown",
      "metadata": {
        "id": "xYkNndOHROqn"
      },
      "source": [
        "**Ecuación:** 66.8365 - (5.9888 * x1)"
      ]
    },
    {
      "cell_type": "code",
      "execution_count": 116,
      "metadata": {
        "id": "4I-WTNzKPeyC"
      },
      "outputs": [],
      "source": [
        "y_pred = linear_reg.predict(X_test)"
      ]
    },
    {
      "cell_type": "code",
      "execution_count": 117,
      "metadata": {
        "colab": {
          "base_uri": "https://localhost:8080/"
        },
        "id": "1sU3GvhIPj4g",
        "outputId": "10c88444-ff27-4b1f-c62e-2c9b3da702f4"
      },
      "outputs": [
        {
          "output_type": "stream",
          "name": "stdout",
          "text": [
            "Error medio Absoluto (MAE): 5.013587781954963\n",
            "Root Mean Squared Error: 7.108963321847682\n",
            "r2_score 0.6116251549562579\n"
          ]
        }
      ],
      "source": [
        "from sklearn import metrics\n",
        "from sklearn.metrics import r2_score\n",
        "\n",
        "print('Error medio Absoluto (MAE):', metrics.mean_absolute_error(np.ravel(y_test), y_pred))\n",
        "print('Root Mean Squared Error:', np.sqrt(metrics.mean_squared_error(np.ravel(y_test), y_pred)))\n",
        "print('r2_score',r2_score(np.ravel(y_test), y_pred))"
      ]
    },
    {
      "cell_type": "code",
      "execution_count": 118,
      "metadata": {
        "colab": {
          "base_uri": "https://localhost:8080/",
          "height": 290
        },
        "id": "rx4u3g9GPoFq",
        "outputId": "33c14ea1-dd3c-44c2-e4b8-272f34fd06c9"
      },
      "outputs": [
        {
          "output_type": "display_data",
          "data": {
            "text/plain": [
              "<Figure size 432x288 with 1 Axes>"
            ],
            "image/png": "[encoded data removed]"
          },
          "metadata": {
            "needs_background": "light"
          }
        }
      ],
      "source": [
        "# construct best fit line\n",
        "plt.scatter(X, y)\n",
        "plt.plot(X_test, y_pred, \"r-\", linewidth=2, label=\"Predictions\")\n",
        "plt.xlabel(\"$X$\", fontsize=18)\n",
        "plt.ylabel(\"$y$\", rotation=0, fontsize=18)\n",
        "plt.legend(loc=\"upper left\", fontsize=14);"
      ]
    },
    {
      "cell_type": "markdown",
      "metadata": {
        "id": "WfA0fKHyV0x1"
      },
      "source": [
        "## Polinomial"
      ]
    },
    {
      "cell_type": "code",
      "execution_count": 119,
      "metadata": {
        "colab": {
          "base_uri": "https://localhost:8080/"
        },
        "id": "LWvfEDGKuoLJ",
        "outputId": "d42c04f8-77bd-4859-efa9-4fffe623c4e4"
      },
      "outputs": [
        {
          "output_type": "execute_result",
          "data": {
            "text/plain": [
              "array([[ 7.97424764, 63.58862541],\n",
              "       [ 1.89573077,  3.59379517],\n",
              "       [ 3.5765014 , 12.79136229],\n",
              "       ...,\n",
              "       [ 3.94046305, 15.52724904],\n",
              "       [ 4.52448429, 20.4709581 ],\n",
              "       [ 5.86814353, 34.43510849]])"
            ]
          },
          "metadata": {},
          "execution_count": 119
        }
      ],
      "source": [
        "#polinomial\n",
        "poly_transform = PolynomialFeatures(degree=2, include_bias = False)\n",
        "polyX_train = poly_transform.fit_transform(X_train)\n",
        "\n",
        "polyX_train\n"
      ]
    },
    {
      "cell_type": "code",
      "execution_count": 120,
      "metadata": {
        "colab": {
          "base_uri": "https://localhost:8080/"
        },
        "id": "XSF3JBF2P0f4",
        "outputId": "e0bb0085-ecb7-420d-bc5c-4b5c576c892c"
      },
      "outputs": [
        {
          "output_type": "execute_result",
          "data": {
            "text/plain": [
              "LinearRegression()"
            ]
          },
          "metadata": {},
          "execution_count": 120
        }
      ],
      "source": [
        "poly_regression = LinearRegression(fit_intercept=True)\n",
        "poly_regression.fit(polyX_train, np.ravel(y_train))"
      ]
    },
    {
      "cell_type": "code",
      "execution_count": 121,
      "metadata": {
        "colab": {
          "base_uri": "https://localhost:8080/"
        },
        "id": "HbibBQTpP2QN",
        "outputId": "9ef37819-f72b-4086-e25c-5a82ea765648"
      },
      "outputs": [
        {
          "output_type": "execute_result",
          "data": {
            "text/plain": [
              "array([-16.40638102,   1.13136095])"
            ]
          },
          "metadata": {},
          "execution_count": 121
        }
      ],
      "source": [
        "poly_regression.coef_"
      ]
    },
    {
      "cell_type": "code",
      "execution_count": 122,
      "metadata": {
        "colab": {
          "base_uri": "https://localhost:8080/"
        },
        "id": "zEoO2HSJP46k",
        "outputId": "33642def-3470-40e4-e7c3-f38de266ab66"
      },
      "outputs": [
        {
          "output_type": "execute_result",
          "data": {
            "text/plain": [
              "88.80179909112496"
            ]
          },
          "metadata": {},
          "execution_count": 122
        }
      ],
      "source": [
        "poly_regression.intercept_"
      ]
    },
    {
      "cell_type": "markdown",
      "metadata": {
        "id": "Fy5oJ1q_SmGT"
      },
      "source": [
        "Ecuación: 88.8018 - (16.4064 * x1) + (1.1314 * x1^2)"
      ]
    },
    {
      "cell_type": "code",
      "execution_count": 123,
      "metadata": {
        "colab": {
          "base_uri": "https://localhost:8080/"
        },
        "id": "ZFUwBRhYVKB7",
        "outputId": "48613054-ebe6-42bf-d6df-137d31366f7a"
      },
      "outputs": [
        {
          "output_type": "execute_result",
          "data": {
            "text/plain": [
              "array([[ 4.59166509, 21.08338832],\n",
              "       [ 3.76967394, 14.21044161],\n",
              "       [ 2.8664997 ,  8.21682054],\n",
              "       [ 5.68471755, 32.31601367],\n",
              "       [ 3.29465767, 10.85476918],\n",
              "       [ 4.81805367, 23.21364117],\n",
              "       [ 3.57595843, 12.78747866],\n",
              "       [ 5.11140991, 26.12651126],\n",
              "       [ 5.55378597, 30.84453858],\n",
              "       [ 4.16852802, 17.37662587],\n",
              "       [ 5.62832084, 31.67799542],\n",
              "       [ 7.3112135 , 53.45384281],\n",
              "       [ 5.30357877, 28.12794777],\n",
              "       [ 3.9466642 , 15.57615828],\n",
              "       [ 4.79741011, 23.01514375],\n",
              "       [ 3.87397592, 15.00768943],\n",
              "       [ 2.93564552,  8.61801461],\n",
              "       [ 3.77662768, 14.26291663],\n",
              "       [ 1.9430286 ,  3.77536014],\n",
              "       [ 3.67314109, 13.49196544],\n",
              "       [ 6.022948  , 36.27590259],\n",
              "       [ 5.0459974 , 25.46208979],\n",
              "       [ 5.62045553, 31.58952033],\n",
              "       [ 5.33629896, 28.47608654],\n",
              "       [ 5.26697681, 27.74104471],\n",
              "       [ 3.41884077, 11.6884722 ],\n",
              "       [ 4.65362079, 21.65618647],\n",
              "       [ 2.34009136,  5.47602756],\n",
              "       [ 4.17175172, 17.40351244],\n",
              "       [ 5.27200304, 27.79401611],\n",
              "       [ 2.05231674,  4.21200401],\n",
              "       [ 4.18268371, 17.494843  ],\n",
              "       [ 3.04980751,  9.30132584],\n",
              "       [ 4.81127551, 23.14837207],\n",
              "       [ 4.07733898, 16.62469313],\n",
              "       [ 6.38525326, 40.77145919],\n",
              "       [ 4.64537726, 21.57952991],\n",
              "       [ 3.05466163,  9.3309577 ],\n",
              "       [ 5.98434739, 35.81241366],\n",
              "       [ 3.02963317,  9.17867713],\n",
              "       [ 4.20162872, 17.65368388],\n",
              "       [ 3.33665758, 11.13328381],\n",
              "       [ 7.14590702, 51.06398714],\n",
              "       [ 3.75057681, 14.06682638],\n",
              "       [ 4.43056097, 19.62987048],\n",
              "       [ 3.0560049 ,  9.33916596],\n",
              "       [ 8.78088812, 77.10399623],\n",
              "       [ 6.40983782, 41.08602081],\n",
              "       [ 4.92106395, 24.21687041],\n",
              "       [ 6.16119447, 37.96031726],\n",
              "       [ 6.04270735, 36.51431208],\n",
              "       [ 6.53297743, 42.67979405],\n",
              "       [ 2.88049426,  8.29724718],\n",
              "       [ 4.1786467 , 17.46108822],\n",
              "       [ 1.3790436 ,  1.90176126],\n",
              "       [ 2.33939896,  5.47278751],\n",
              "       [ 4.27402503, 18.26728996],\n",
              "       [ 6.01715431, 36.20614601],\n",
              "       [ 3.10196381,  9.62217948],\n",
              "       [ 6.12838874, 37.55714854],\n",
              "       [ 4.0911656 , 16.73763597],\n",
              "       [ 2.58330939,  6.67348741],\n",
              "       [ 5.63984741, 31.80787884],\n",
              "       [ 4.00438294, 16.03508273],\n",
              "       [ 5.25324552, 27.59658851],\n",
              "       [ 3.24478964, 10.52865983],\n",
              "       [ 3.13574964,  9.8329258 ],\n",
              "       [ 6.08097172, 36.9782171 ],\n",
              "       [ 4.49794999, 20.23155408],\n",
              "       [ 5.56393769, 30.95740267],\n",
              "       [ 4.93965651, 24.40020644],\n",
              "       [ 6.71977899, 45.15542962],\n",
              "       [ 5.63940777, 31.80292004],\n",
              "       [ 5.85509721, 34.2821633 ],\n",
              "       [ 4.99281803, 24.92823184],\n",
              "       [ 2.7692904 ,  7.66896933],\n",
              "       [ 5.65669179, 31.99816198],\n",
              "       [ 3.99749451, 15.97996233],\n",
              "       [ 1.        ,  1.        ],\n",
              "       [ 6.71759309, 45.12605691],\n",
              "       [ 3.18717054, 10.15805604],\n",
              "       [ 6.76715755, 45.79442128],\n",
              "       [ 5.58630268, 31.20677762],\n",
              "       [ 4.09893364, 16.80125701],\n",
              "       [ 4.86822066, 23.69957244],\n",
              "       [ 4.87760465, 23.79102708],\n",
              "       [ 5.6517141 , 31.94187232],\n",
              "       [ 3.40613826, 11.60177782],\n",
              "       [ 3.44748885, 11.8851794 ],\n",
              "       [ 3.71617301, 13.80994187],\n",
              "       [ 4.10966178, 16.88931993],\n",
              "       [ 3.1805398 , 10.11583345],\n",
              "       [ 4.28504461, 18.36160729],\n",
              "       [ 3.34814252, 11.21005836],\n",
              "       [ 4.35120302, 18.9329677 ],\n",
              "       [ 3.5147427 , 12.35341622],\n",
              "       [ 4.22507652, 17.85127161],\n",
              "       [ 5.48412492, 30.07562615],\n",
              "       [ 4.12694774, 17.03169767],\n",
              "       [ 1.70421427,  2.90434629]])"
            ]
          },
          "metadata": {},
          "execution_count": 123
        }
      ],
      "source": [
        "polyX_test = poly_transform.fit_transform(X_test)\n",
        "\n",
        "polyX_test"
      ]
    },
    {
      "cell_type": "code",
      "execution_count": 124,
      "metadata": {
        "id": "BEwPfQNJVQS1"
      },
      "outputs": [],
      "source": [
        "y_pred = poly_regression.predict(polyX_test)"
      ]
    },
    {
      "cell_type": "code",
      "execution_count": 125,
      "metadata": {
        "colab": {
          "base_uri": "https://localhost:8080/"
        },
        "id": "-VDz4zLK9Q0K",
        "outputId": "228d2334-91ef-4213-aa56-d2a2fa1c48a3"
      },
      "outputs": [
        {
          "output_type": "stream",
          "name": "stdout",
          "text": [
            "Error medio Absoluto (MAE): 4.3833025759681075\n",
            "Root Mean Squared Error: 5.832771301068423\n",
            "r2_score 0.7385501224942537\n"
          ]
        }
      ],
      "source": [
        "from sklearn import metrics\n",
        "from sklearn.metrics import r2_score\n",
        "\n",
        "print('Error medio Absoluto (MAE):', metrics.mean_absolute_error(np.ravel(y_test), y_pred))\n",
        "print('Root Mean Squared Error:', np.sqrt(metrics.mean_squared_error(np.ravel(y_test), y_pred)))\n",
        "print('r2_score',r2_score(np.ravel(y_test), y_pred))"
      ]
    },
    {
      "cell_type": "code",
      "execution_count": 126,
      "metadata": {
        "colab": {
          "base_uri": "https://localhost:8080/",
          "height": 290
        },
        "id": "UGMe09G9QBAx",
        "outputId": "8cf7d866-442d-4f78-a607-0bc381d5a4ca"
      },
      "outputs": [
        {
          "output_type": "display_data",
          "data": {
            "text/plain": [
              "<Figure size 432x288 with 1 Axes>"
            ],
            "image/png": "[encoded data removed]"
          },
          "metadata": {
            "needs_background": "light"
          }
        }
      ],
      "source": [
        "order = np.argsort(X_test.values.ravel())\n",
        "sortedX = X_test.values.ravel()[order]\n",
        "sortedY = y_test.values[order]\n",
        "sorted_pred = y_pred[order]\n",
        "\n",
        "\n",
        "plt.scatter(X, y)\n",
        "plt.plot(sortedX, sorted_pred, \"r-\", linewidth=2, label=\"Predictions\")\n",
        "plt.xlabel(\"$X$\", fontsize=18)\n",
        "plt.ylabel(\"$y$\", rotation=0, fontsize=18)\n",
        "plt.legend(loc=\"upper left\", fontsize=14);\n",
        "\n"
      ]
    },
    {
      "cell_type": "markdown",
      "metadata": {
        "id": "NGhtvQeQV3NH"
      },
      "source": [
        "## Ridge"
      ]
    },
    {
      "cell_type": "code",
      "execution_count": 127,
      "metadata": {
        "id": "Nw9kxesiV4xn"
      },
      "outputs": [],
      "source": [
        "from sklearn.linear_model import Ridge"
      ]
    },
    {
      "cell_type": "code",
      "execution_count": 128,
      "metadata": {
        "id": "ysvtFkhNZb0u"
      },
      "outputs": [],
      "source": [
        "ridge = Ridge()"
      ]
    },
    {
      "cell_type": "code",
      "execution_count": 129,
      "metadata": {
        "colab": {
          "base_uri": "https://localhost:8080/"
        },
        "id": "YuBHMeYDZpTD",
        "outputId": "988706ad-56da-4226-bca2-a89b6d78e744"
      },
      "outputs": [
        {
          "output_type": "execute_result",
          "data": {
            "text/plain": [
              "Ridge()"
            ]
          },
          "metadata": {},
          "execution_count": 129
        }
      ],
      "source": [
        "ridge.fit(X_train, np.ravel(y_train))"
      ]
    },
    {
      "cell_type": "code",
      "execution_count": 130,
      "metadata": {
        "id": "mO1-NXLdZvhG"
      },
      "outputs": [],
      "source": [
        "y_pred = ridge.predict(X_test)"
      ]
    },
    {
      "cell_type": "code",
      "source": [
        "print('Error medio Absoluto (MAE):', metrics.mean_absolute_error(np.ravel(y_test), y_pred))\n",
        "print('Root Mean Squared Error:', np.sqrt(metrics.mean_squared_error(np.ravel(y_test), y_pred)))\n",
        "print('r2_score',r2_score(np.ravel(y_test), y_pred))"
      ],
      "metadata": {
        "colab": {
          "base_uri": "https://localhost:8080/"
        },
        "id": "9mVrrByabmjw",
        "outputId": "2dbea609-d97c-4a34-93b7-b30179de8b36"
      },
      "execution_count": 131,
      "outputs": [
        {
          "output_type": "stream",
          "name": "stdout",
          "text": [
            "Error medio Absoluto (MAE): 5.014112691100099\n",
            "Root Mean Squared Error: 7.10938640108989\n",
            "r2_score 0.611578926493084\n"
          ]
        }
      ]
    },
    {
      "cell_type": "code",
      "source": [
        "plt.scatter(X, y)\n",
        "plt.plot(X_test, y_pred, \"r-\", linewidth=2, label=\"Predictions\")\n",
        "plt.xlabel(\"$X$\", fontsize=18)\n",
        "plt.ylabel(\"$y$\", rotation=0, fontsize=18)\n",
        "plt.legend(loc=\"upper left\", fontsize=14);"
      ],
      "metadata": {
        "colab": {
          "base_uri": "https://localhost:8080/",
          "height": 290
        },
        "id": "-hGRzB-jbxcr",
        "outputId": "758773ce-fd05-43fb-b72c-5e6639973f71"
      },
      "execution_count": 132,
      "outputs": [
        {
          "output_type": "display_data",
          "data": {
            "text/plain": [
              "<Figure size 432x288 with 1 Axes>"
            ],
            "image/png": "[encoded data removed]"
          },
          "metadata": {
            "needs_background": "light"
          }
        }
      ]
    },
    {
      "cell_type": "code",
      "source": [
        "for alpha in [0.001, 0.01, 0.1, 1.0, 10.0, 100.0, 1000.0]:\n",
        "  ridgealpha = Ridge(alpha = alpha).fit(X_train, np.ravel(y_train))\n",
        "  y_pred_ridge = ridgealpha.predict(X_test)\n",
        "\n",
        "  print(f\"For Alpha: {alpha}\\n\")\n",
        "  print(' Error medio Absoluto (MAE):', metrics.mean_absolute_error(np.ravel(y_test), y_pred_ridge))\n",
        "  print(' Root Mean Squared Error:', np.sqrt(metrics.mean_squared_error(np.ravel(y_test), y_pred_ridge)))\n",
        "  print(' r2_score',r2_score(np.ravel(y_test), y_pred_ridge),'\\n')"
      ],
      "metadata": {
        "colab": {
          "base_uri": "https://localhost:8080/"
        },
        "id": "3PrzRvcWcL8g",
        "outputId": "038de33b-6e61-4210-ed96-ba69765b9a03"
      },
      "execution_count": 133,
      "outputs": [
        {
          "output_type": "stream",
          "name": "stdout",
          "text": [
            "For Alpha: 0.001\n",
            "\n",
            " Error medio Absoluto (MAE): 5.013588307194247\n",
            " Root Mean Squared Error: 7.108963743255114\n",
            " r2_score 0.6116251089118365 \n",
            "\n",
            "For Alpha: 0.01\n",
            "\n",
            " Error medio Absoluto (MAE): 5.01359303431806\n",
            " Root Mean Squared Error: 7.108967536072839\n",
            " r2_score 0.6116246944954413 \n",
            "\n",
            "For Alpha: 0.1\n",
            "\n",
            " Error medio Absoluto (MAE): 5.013640302610031\n",
            " Root Mean Squared Error: 7.109005479179772\n",
            " r2_score 0.6116205486880515 \n",
            "\n",
            "For Alpha: 1.0\n",
            "\n",
            " Error medio Absoluto (MAE): 5.014112691100099\n",
            " Root Mean Squared Error: 7.10938640108989\n",
            " r2_score 0.611578926493084 \n",
            "\n",
            "For Alpha: 10.0\n",
            "\n",
            " Error medio Absoluto (MAE): 5.018807317059395\n",
            " Root Mean Squared Error: 7.113342596109345\n",
            " r2_score 0.6111465130642051 \n",
            "\n",
            "For Alpha: 100.0\n",
            "\n",
            " Error medio Absoluto (MAE): 5.063000806731028\n",
            " Root Mean Squared Error: 7.165672754549874\n",
            " r2_score 0.605404173687225 \n",
            "\n",
            "For Alpha: 1000.0\n",
            "\n",
            " Error medio Absoluto (MAE): 5.482325022127586\n",
            " Root Mean Squared Error: 8.042029075689385\n",
            " r2_score 0.5029846248421004 \n",
            "\n"
          ]
        }
      ]
    },
    {
      "cell_type": "code",
      "source": [
        "# Best Model\n",
        "\n",
        "ridgealpha = Ridge(alpha = 0.001).fit(X_train, np.ravel(y_train))\n",
        "y_pred_ridge = ridgealpha.predict(X_test)\n",
        "\n",
        "plt.scatter(X, y)\n",
        "plt.plot(X_test, y_pred_ridge, \"r-\", linewidth=3, label=\"Predictions Best Alpha\")\n",
        "plt.plot(X_test, y_pred, \"y-\", linewidth=2, label=\"Predictions\")\n",
        "plt.xlabel(\"$X$\", fontsize=18)\n",
        "plt.ylabel(\"$y$\", rotation=0, fontsize=18)\n",
        "plt.legend(loc=\"upper left\", fontsize=14);\n",
        "\n",
        "print(f\"For Alpha: 0.001 \\n\")\n",
        "print(' Error medio Absoluto (MAE):', metrics.mean_absolute_error(np.ravel(y_test), y_pred_ridge))\n",
        "print(' Root Mean Squared Error:', np.sqrt(metrics.mean_squared_error(np.ravel(y_test), y_pred_ridge)))\n",
        "print(' r2_score',r2_score(np.ravel(y_test), y_pred_ridge),'\\n')\n"
      ],
      "metadata": {
        "colab": {
          "base_uri": "https://localhost:8080/",
          "height": 399
        },
        "id": "9N4XNB89dlY4",
        "outputId": "e5fb0b4d-e02b-401d-f056-8a1fe2141c9b"
      },
      "execution_count": 134,
      "outputs": [
        {
          "output_type": "stream",
          "name": "stdout",
          "text": [
            "For Alpha: 0.001 \n",
            "\n",
            " Error medio Absoluto (MAE): 5.013588307194247\n",
            " Root Mean Squared Error: 7.108963743255114\n",
            " r2_score 0.6116251089118365 \n",
            "\n"
          ]
        },
        {
          "output_type": "display_data",
          "data": {
            "text/plain": [
              "<Figure size 432x288 with 1 Axes>"
            ],
            "image/png": "[encoded data removed]"
          },
          "metadata": {
            "needs_background": "light"
          }
        }
      ]
    },
    {
      "cell_type": "code",
      "source": [
        "print(f\"{ridgealpha.coef_} \\n\")\n",
        "print(f\"{ridgealpha.intercept_}\")"
      ],
      "metadata": {
        "colab": {
          "base_uri": "https://localhost:8080/"
        },
        "id": "prK7B3mzfi5T",
        "outputId": "eccd0552-45aa-4fbf-bcc1-4f95cd5e49b6"
      },
      "execution_count": 135,
      "outputs": [
        {
          "output_type": "stream",
          "name": "stdout",
          "text": [
            "[-5.98882322] \n",
            "\n",
            "66.83649054434176\n"
          ]
        }
      ]
    },
    {
      "cell_type": "markdown",
      "source": [
        "**Ecuation Ridge Best Alpha:** 66.8365 - (5.9888 * x1)"
      ],
      "metadata": {
        "id": "hMLZi2w8f7py"
      }
    },
    {
      "cell_type": "markdown",
      "source": [
        "## Lasso"
      ],
      "metadata": {
        "id": "WSP3chTMe1G7"
      }
    },
    {
      "cell_type": "code",
      "source": [
        "from sklearn.linear_model import Lasso"
      ],
      "metadata": {
        "id": "ukQKTQuOe2P7"
      },
      "execution_count": 136,
      "outputs": []
    },
    {
      "cell_type": "code",
      "source": [
        "lasso = Lasso()\n",
        "lasso.fit(X_train, np.ravel(y_train))\n",
        "y_ped = lasso.predict(X_test)\n",
        "\n",
        "print('Error medio Absoluto (MAE):', metrics.mean_absolute_error(np.ravel(y_test), y_pred))\n",
        "print('Root Mean Squared Error:', np.sqrt(metrics.mean_squared_error(np.ravel(y_test), y_pred)))\n",
        "print('r2_score',r2_score(np.ravel(y_test), y_pred))\n",
        "\n",
        "plt.scatter(X, y)\n",
        "plt.plot(X_test, y_pred, \"r-\", linewidth=2, label=\"Predictions\")\n",
        "plt.xlabel(\"$X$\", fontsize=18)\n",
        "plt.ylabel(\"$y$\", rotation=0, fontsize=18)\n",
        "plt.legend(loc=\"upper left\", fontsize=14);"
      ],
      "metadata": {
        "colab": {
          "base_uri": "https://localhost:8080/",
          "height": 345
        },
        "id": "gA2XXGvBe3Bu",
        "outputId": "6d3a09e4-197b-4dd7-efba-e88c273ba4e5"
      },
      "execution_count": 137,
      "outputs": [
        {
          "output_type": "stream",
          "name": "stdout",
          "text": [
            "Error medio Absoluto (MAE): 5.014112691100099\n",
            "Root Mean Squared Error: 7.10938640108989\n",
            "r2_score 0.611578926493084\n"
          ]
        },
        {
          "output_type": "display_data",
          "data": {
            "text/plain": [
              "<Figure size 432x288 with 1 Axes>"
            ],
            "image/png": "[encoded data removed]"
          },
          "metadata": {
            "needs_background": "light"
          }
        }
      ]
    },
    {
      "cell_type": "code",
      "source": [
        "for alpha in [0.001, 0.01, 0.1, 1.0, 10.0, 100.0, 1000.0]:\n",
        "  lassoalpha = Lasso(alpha = alpha).fit(X_train, np.ravel(y_train))\n",
        "  y_pred_lasso = lassoalpha.predict(X_test)\n",
        "\n",
        "  print(f\"For Alpha: {alpha}\\n\")\n",
        "  print(' Error medio Absoluto (MAE):', metrics.mean_absolute_error(np.ravel(y_test), y_pred_lasso))\n",
        "  print(' Root Mean Squared Error:', np.sqrt(metrics.mean_squared_error(np.ravel(y_test), y_pred_lasso)))\n",
        "  print(' r2_score',r2_score(np.ravel(y_test), y_pred_lasso),'\\n')"
      ],
      "metadata": {
        "colab": {
          "base_uri": "https://localhost:8080/"
        },
        "id": "RJhBP4DOfJWR",
        "outputId": "91c9e047-ea31-4820-b788-faeb3f7f30e4"
      },
      "execution_count": 138,
      "outputs": [
        {
          "output_type": "stream",
          "name": "stdout",
          "text": [
            "For Alpha: 0.001\n",
            "\n",
            " Error medio Absoluto (MAE): 5.013666714883823\n",
            " Root Mean Squared Error: 7.109026694479482\n",
            " r2_score 0.6116182306145095 \n",
            "\n",
            "For Alpha: 0.01\n",
            "\n",
            " Error medio Absoluto (MAE): 5.014377111243569\n",
            " Root Mean Squared Error: 7.109600993354153\n",
            " r2_score 0.6115554776577234 \n",
            "\n",
            "For Alpha: 0.1\n",
            "\n",
            " Error medio Absoluto (MAE): 5.021481074841028\n",
            " Root Mean Squared Error: 7.115734194801758\n",
            " r2_score 0.6108849938658001 \n",
            "\n",
            "For Alpha: 1.0\n",
            "\n",
            " Error medio Absoluto (MAE): 5.092520710815617\n",
            " Root Mean Squared Error: 7.2156139275269515\n",
            " r2_score 0.5998847335404536 \n",
            "\n",
            "For Alpha: 10.0\n",
            "\n",
            " Error medio Absoluto (MAE): 7.865874818596601\n",
            " Root Mean Squared Error: 11.057733591834\n",
            " r2_score 0.06033988967556758 \n",
            "\n",
            "For Alpha: 100.0\n",
            "\n",
            " Error medio Absoluto (MAE): 8.173133499816442\n",
            " Root Mean Squared Error: 11.407593526938278\n",
            " r2_score -6.130156795136621e-05 \n",
            "\n",
            "For Alpha: 1000.0\n",
            "\n",
            " Error medio Absoluto (MAE): 8.173133499816442\n",
            " Root Mean Squared Error: 11.407593526938278\n",
            " r2_score -6.130156795136621e-05 \n",
            "\n"
          ]
        }
      ]
    },
    {
      "cell_type": "code",
      "source": [
        "# Best Model\n",
        "\n",
        "lassoalpha = Lasso(alpha = 0.001).fit(X_train, np.ravel(y_train))\n",
        "y_pred_lasso = lassoalpha.predict(X_test)\n",
        "\n",
        "plt.scatter(X, y)\n",
        "plt.plot(X_test, y_pred_lasso, \"r-\", linewidth=3, label=\"Predictions Best Alpha\")\n",
        "plt.plot(X_test, y_pred, \"y-\", linewidth=2, label=\"Predictions\")\n",
        "plt.xlabel(\"$X$\", fontsize=18)\n",
        "plt.ylabel(\"$y$\", rotation=0, fontsize=18)\n",
        "plt.legend(loc=\"upper left\", fontsize=14);\n",
        "\n",
        "print(f\"For Alpha: 0.001 \\n\")\n",
        "print(' Error medio Absoluto (MAE):', metrics.mean_absolute_error(np.ravel(y_test), y_pred_lasso))\n",
        "print(' Root Mean Squared Error:', np.sqrt(metrics.mean_squared_error(np.ravel(y_test), y_pred_lasso)))\n",
        "print(' r2_score',r2_score(np.ravel(y_test), y_pred_lasso),'\\n')"
      ],
      "metadata": {
        "colab": {
          "base_uri": "https://localhost:8080/",
          "height": 399
        },
        "id": "yLfFeXzWfmsW",
        "outputId": "a8fd4255-ede0-45b0-e55f-526cce81076f"
      },
      "execution_count": 139,
      "outputs": [
        {
          "output_type": "stream",
          "name": "stdout",
          "text": [
            "For Alpha: 0.001 \n",
            "\n",
            " Error medio Absoluto (MAE): 5.013666714883823\n",
            " Root Mean Squared Error: 7.109026694479482\n",
            " r2_score 0.6116182306145095 \n",
            "\n"
          ]
        },
        {
          "output_type": "display_data",
          "data": {
            "text/plain": [
              "<Figure size 432x288 with 1 Axes>"
            ],
            "image/png": "[encoded data removed]"
          },
          "metadata": {
            "needs_background": "light"
          }
        }
      ]
    },
    {
      "cell_type": "code",
      "source": [
        "print(f\"{lassoalpha.coef_} \\n\")\n",
        "print(f\"{lassoalpha.intercept_}\")"
      ],
      "metadata": {
        "colab": {
          "base_uri": "https://localhost:8080/"
        },
        "id": "28pn6wPufXGM",
        "outputId": "6473f9cf-f2f5-4ce1-b4dd-c5fa288966b7"
      },
      "execution_count": 140,
      "outputs": [
        {
          "output_type": "stream",
          "name": "stdout",
          "text": [
            "[-5.98826037] \n",
            "\n",
            "66.8339725010262\n"
          ]
        }
      ]
    },
    {
      "cell_type": "markdown",
      "source": [
        "**Ecuation Lasso Best Alpha:** 66.8340 - (5.9883 * x1)"
      ],
      "metadata": {
        "id": "BTvtRJXefqx6"
      }
    },
    {
      "cell_type": "code",
      "source": [
        "polyX_test\n"
      ],
      "metadata": {
        "colab": {
          "base_uri": "https://localhost:8080/"
        },
        "id": "fekqHWmxjsjz",
        "outputId": "3c117f37-1f7e-422c-dc9c-80f3f34d90fe"
      },
      "execution_count": 141,
      "outputs": [
        {
          "output_type": "execute_result",
          "data": {
            "text/plain": [
              "array([[ 4.59166509, 21.08338832],\n",
              "       [ 3.76967394, 14.21044161],\n",
              "       [ 2.8664997 ,  8.21682054],\n",
              "       [ 5.68471755, 32.31601367],\n",
              "       [ 3.29465767, 10.85476918],\n",
              "       [ 4.81805367, 23.21364117],\n",
              "       [ 3.57595843, 12.78747866],\n",
              "       [ 5.11140991, 26.12651126],\n",
              "       [ 5.55378597, 30.84453858],\n",
              "       [ 4.16852802, 17.37662587],\n",
              "       [ 5.62832084, 31.67799542],\n",
              "       [ 7.3112135 , 53.45384281],\n",
              "       [ 5.30357877, 28.12794777],\n",
              "       [ 3.9466642 , 15.57615828],\n",
              "       [ 4.79741011, 23.01514375],\n",
              "       [ 3.87397592, 15.00768943],\n",
              "       [ 2.93564552,  8.61801461],\n",
              "       [ 3.77662768, 14.26291663],\n",
              "       [ 1.9430286 ,  3.77536014],\n",
              "       [ 3.67314109, 13.49196544],\n",
              "       [ 6.022948  , 36.27590259],\n",
              "       [ 5.0459974 , 25.46208979],\n",
              "       [ 5.62045553, 31.58952033],\n",
              "       [ 5.33629896, 28.47608654],\n",
              "       [ 5.26697681, 27.74104471],\n",
              "       [ 3.41884077, 11.6884722 ],\n",
              "       [ 4.65362079, 21.65618647],\n",
              "       [ 2.34009136,  5.47602756],\n",
              "       [ 4.17175172, 17.40351244],\n",
              "       [ 5.27200304, 27.79401611],\n",
              "       [ 2.05231674,  4.21200401],\n",
              "       [ 4.18268371, 17.494843  ],\n",
              "       [ 3.04980751,  9.30132584],\n",
              "       [ 4.81127551, 23.14837207],\n",
              "       [ 4.07733898, 16.62469313],\n",
              "       [ 6.38525326, 40.77145919],\n",
              "       [ 4.64537726, 21.57952991],\n",
              "       [ 3.05466163,  9.3309577 ],\n",
              "       [ 5.98434739, 35.81241366],\n",
              "       [ 3.02963317,  9.17867713],\n",
              "       [ 4.20162872, 17.65368388],\n",
              "       [ 3.33665758, 11.13328381],\n",
              "       [ 7.14590702, 51.06398714],\n",
              "       [ 3.75057681, 14.06682638],\n",
              "       [ 4.43056097, 19.62987048],\n",
              "       [ 3.0560049 ,  9.33916596],\n",
              "       [ 8.78088812, 77.10399623],\n",
              "       [ 6.40983782, 41.08602081],\n",
              "       [ 4.92106395, 24.21687041],\n",
              "       [ 6.16119447, 37.96031726],\n",
              "       [ 6.04270735, 36.51431208],\n",
              "       [ 6.53297743, 42.67979405],\n",
              "       [ 2.88049426,  8.29724718],\n",
              "       [ 4.1786467 , 17.46108822],\n",
              "       [ 1.3790436 ,  1.90176126],\n",
              "       [ 2.33939896,  5.47278751],\n",
              "       [ 4.27402503, 18.26728996],\n",
              "       [ 6.01715431, 36.20614601],\n",
              "       [ 3.10196381,  9.62217948],\n",
              "       [ 6.12838874, 37.55714854],\n",
              "       [ 4.0911656 , 16.73763597],\n",
              "       [ 2.58330939,  6.67348741],\n",
              "       [ 5.63984741, 31.80787884],\n",
              "       [ 4.00438294, 16.03508273],\n",
              "       [ 5.25324552, 27.59658851],\n",
              "       [ 3.24478964, 10.52865983],\n",
              "       [ 3.13574964,  9.8329258 ],\n",
              "       [ 6.08097172, 36.9782171 ],\n",
              "       [ 4.49794999, 20.23155408],\n",
              "       [ 5.56393769, 30.95740267],\n",
              "       [ 4.93965651, 24.40020644],\n",
              "       [ 6.71977899, 45.15542962],\n",
              "       [ 5.63940777, 31.80292004],\n",
              "       [ 5.85509721, 34.2821633 ],\n",
              "       [ 4.99281803, 24.92823184],\n",
              "       [ 2.7692904 ,  7.66896933],\n",
              "       [ 5.65669179, 31.99816198],\n",
              "       [ 3.99749451, 15.97996233],\n",
              "       [ 1.        ,  1.        ],\n",
              "       [ 6.71759309, 45.12605691],\n",
              "       [ 3.18717054, 10.15805604],\n",
              "       [ 6.76715755, 45.79442128],\n",
              "       [ 5.58630268, 31.20677762],\n",
              "       [ 4.09893364, 16.80125701],\n",
              "       [ 4.86822066, 23.69957244],\n",
              "       [ 4.87760465, 23.79102708],\n",
              "       [ 5.6517141 , 31.94187232],\n",
              "       [ 3.40613826, 11.60177782],\n",
              "       [ 3.44748885, 11.8851794 ],\n",
              "       [ 3.71617301, 13.80994187],\n",
              "       [ 4.10966178, 16.88931993],\n",
              "       [ 3.1805398 , 10.11583345],\n",
              "       [ 4.28504461, 18.36160729],\n",
              "       [ 3.34814252, 11.21005836],\n",
              "       [ 4.35120302, 18.9329677 ],\n",
              "       [ 3.5147427 , 12.35341622],\n",
              "       [ 4.22507652, 17.85127161],\n",
              "       [ 5.48412492, 30.07562615],\n",
              "       [ 4.12694774, 17.03169767],\n",
              "       [ 1.70421427,  2.90434629]])"
            ]
          },
          "metadata": {},
          "execution_count": 141
        }
      ]
    },
    {
      "cell_type": "code",
      "source": [
        "def get_models():\n",
        "  modelos = [LinearRegression(), LinearRegression(), Ridge(), Lasso()]\n",
        "  nombres = ['LR', 'Poly LR', 'Ridge', 'Lasso']\n",
        "  \n",
        "  resultados = list()\n",
        "\n",
        "  MAE_train = list()\n",
        "  R2_train = list()\n",
        "\n",
        "  MAE_test = list()\n",
        "  R2_test = list()\n",
        "\n",
        "  conjuntos_train = [X_train, np.ravel(y_train)]\n",
        "  conjuntos_test = [X_test, np.ravel(y_test)]\n",
        "\n",
        "  conjuntos_ply_train = [polyX_train, np.ravel(y_train)]\n",
        "  conjuntos_ply_test = [polyX_test, np.ravel(y_test)]\n",
        "\n",
        "  for i,m in list(enumerate(modelos)):\n",
        "    print(i,m)\n",
        "    modelo = modelos[i]\n",
        "    if i != 1:\n",
        "\n",
        "      modelo = modelo.fit(conjuntos_train[0], conjuntos_train[1])\n",
        "      pred = modelo.predict(conjuntos_train[0])\n",
        "      \n",
        "      MAE_train.append(metrics.mean_absolute_error(conjuntos_train[1], pred))\n",
        "      R2_train.append(r2_score(conjuntos_train[1], pred))\n",
        "\n",
        "      modelo = modelos[i]\n",
        "\n",
        "      ##########################################################################\n",
        "      modelo = modelo.fit(conjuntos_train[0], conjuntos_train[1])\n",
        "      pred = modelo.predict(conjuntos_test[0])\n",
        "      resultados.append(pred)\n",
        "      MAE_test.append(metrics.mean_absolute_error(conjuntos_test[1], pred))\n",
        "      R2_test.append(r2_score(conjuntos_test[1], pred))\n",
        "\n",
        "    else:\n",
        "\n",
        "      modelo = modelo.fit(conjuntos_ply_train[0], conjuntos_ply_train[1])\n",
        "      pred = modelo.predict(conjuntos_ply_train[0])\n",
        "      \n",
        "      MAE_train.append(metrics.mean_absolute_error(conjuntos_ply_train[1], pred))\n",
        "      R2_train.append(r2_score(conjuntos_ply_train[1], pred))\n",
        "\n",
        "      modelo = modelos[i]\n",
        "\n",
        "      ##########################################################################\n",
        "\n",
        "      modelo = modelo.fit(conjuntos_ply_train[0], conjuntos_ply_train[1])\n",
        "      pred = modelo.predict(conjuntos_ply_test[0])\n",
        "      resultados.append(pred)\n",
        "      MAE_test.append(metrics.mean_absolute_error(conjuntos_ply_test[1], pred))\n",
        "      R2_test.append(r2_score(conjuntos_ply_test[1], pred))\n",
        "\n",
        "\n",
        "  return modelos, nombres, resultados, MAE_train, R2_train, MAE_test, R2_test"
      ],
      "metadata": {
        "id": "-tcu7I1YgFQL"
      },
      "execution_count": 142,
      "outputs": []
    },
    {
      "cell_type": "code",
      "source": [
        "modelos, nombres, resultados, MAE_train, R2_train, MAE_test, R2_test  = get_models()"
      ],
      "metadata": {
        "colab": {
          "base_uri": "https://localhost:8080/"
        },
        "id": "CS8hT_b8kN2W",
        "outputId": "7cc1d330-6289-4fa1-b94f-a5b782b05d19"
      },
      "execution_count": 143,
      "outputs": [
        {
          "output_type": "stream",
          "name": "stdout",
          "text": [
            "0 LinearRegression()\n",
            "1 LinearRegression()\n",
            "2 Ridge()\n",
            "3 Lasso()\n"
          ]
        }
      ]
    },
    {
      "cell_type": "code",
      "source": [
        "minMAEindex = np.argsort(np.array(MAE_test))\n",
        "minMAEindex"
      ],
      "metadata": {
        "colab": {
          "base_uri": "https://localhost:8080/"
        },
        "id": "9s1fgZakG2oH",
        "outputId": "befc36cc-9ff5-4535-e077-df7e998fedc7"
      },
      "execution_count": 144,
      "outputs": [
        {
          "output_type": "execute_result",
          "data": {
            "text/plain": [
              "array([1, 0, 2, 3])"
            ]
          },
          "metadata": {},
          "execution_count": 144
        }
      ]
    },
    {
      "cell_type": "code",
      "source": [
        "minMAEindex[0]"
      ],
      "metadata": {
        "colab": {
          "base_uri": "https://localhost:8080/"
        },
        "id": "qvN3pPV2K0_c",
        "outputId": "84db1a68-8158-4e0b-e38f-eb2f4cd56d8c"
      },
      "execution_count": 145,
      "outputs": [
        {
          "output_type": "execute_result",
          "data": {
            "text/plain": [
              "1"
            ]
          },
          "metadata": {},
          "execution_count": 145
        }
      ]
    },
    {
      "cell_type": "code",
      "source": [
        "minR2index = np.argsort(np.array(R2_test))\n",
        "minR2index"
      ],
      "metadata": {
        "colab": {
          "base_uri": "https://localhost:8080/"
        },
        "id": "bvxoPl1JKldz",
        "outputId": "16e71a8c-c77e-4a3d-f3ad-f2525ae59123"
      },
      "execution_count": 146,
      "outputs": [
        {
          "output_type": "execute_result",
          "data": {
            "text/plain": [
              "array([3, 2, 0, 1])"
            ]
          },
          "metadata": {},
          "execution_count": 146
        }
      ]
    },
    {
      "cell_type": "code",
      "source": [
        "minR2index[len(minR2index)-1]"
      ],
      "metadata": {
        "colab": {
          "base_uri": "https://localhost:8080/"
        },
        "id": "MlczzyPaLAKl",
        "outputId": "398d6c66-a43c-4f7f-faeb-70c076b588e2"
      },
      "execution_count": 147,
      "outputs": [
        {
          "output_type": "execute_result",
          "data": {
            "text/plain": [
              "1"
            ]
          },
          "metadata": {},
          "execution_count": 147
        }
      ]
    },
    {
      "cell_type": "code",
      "source": [
        "from matplotlib.axes import Subplot\n",
        "\n",
        "sns.set_theme(rc={'figure.figsize':(20,10)})\n",
        "fig, axes = plt.subplots(2, 2)\n",
        "\n",
        "minMAEindex = np.argsort(np.array(MAE_test))\n",
        "bestMAE = minMAEindex[0]\n",
        "\n",
        "minR2index = np.argsort(np.array(R2_test))\n",
        "bestR2 = minR2index[len(minR2index)-1]\n",
        "\n",
        "names = ['LR', 'Poly LR', 'Ridge', 'Lasso']\n",
        "\n",
        "\n",
        "plt.subplot(2,2,1)\n",
        "plt.bar(names, height = MAE_train)\n",
        "plt.title(label=\"MAE_train\")\n",
        "\n",
        "plt.subplot(2,2,2)\n",
        "plt.bar(names, height = R2_train)\n",
        "plt.title(label=\"R2_train\")\n",
        "\n",
        "plt.subplot(2,2,3)\n",
        "plt.bar(names, height = MAE_test)\n",
        "plt.plot(MAE_test[bestMAE])\n",
        "plt.title(label=\"MAE_test\")\n",
        "\n",
        "plt.subplot(2,2,4)\n",
        "plt.bar(names, height = R2_test)\n",
        "plt.plot(R2_test[bestR2])\n",
        "plt.title(label=\"R2_test\")\n",
        "\n",
        "\n",
        "plt.show()"
      ],
      "metadata": {
        "colab": {
          "base_uri": "https://localhost:8080/",
          "height": 610
        },
        "id": "ei5AePyPF0g7",
        "outputId": "7079591c-7055-4e24-8d7b-64be3f3b9d7e"
      },
      "execution_count": 148,
      "outputs": [
        {
          "output_type": "display_data",
          "data": {
            "text/plain": [
              "<Figure size 1440x720 with 4 Axes>"
            ],
            "image/png": "[encoded data removed]"
          },
          "metadata": {}
        }
      ]
    },
    {
      "cell_type": "markdown",
      "source": [
        "En conclusión vemos como de los 4 modelos el que minimiza el MAE y maximiza el R^2 es el modelo Polinomial.\n",
        "\n",
        "En cuanto al resto de los modelos no se ve un impacto positivo en el desempeño de usar Ridge o Lasso, para este caso en particular."
      ],
      "metadata": {
        "id": "Vs-8K8TSLw51"
      }
    },
    {
      "cell_type": "markdown",
      "source": [
        "Los resultados fueron los siguientes:"
      ],
      "metadata": {
        "id": "QZQF-ECjQCis"
      }
    },
    {
      "cell_type": "code",
      "source": [
        "for i in range(len(modelos)):\n",
        "  print(f\"Modelo {modelos[i]}\")\n",
        "  print(f\"MAE_train {MAE_train[i]:.4}\")\n",
        "  print(f\"MAE_test {MAE_test[i]:.4}\")\n",
        "  print(f\"R2_train {R2_train[i]:.4}\")\n",
        "  print(f\"R2_test {R2_test[i]:.4}\\n\")"
      ],
      "metadata": {
        "colab": {
          "base_uri": "https://localhost:8080/"
        },
        "id": "Gjfdo-PmQHPC",
        "outputId": "bb2e03c1-5d24-4985-dbf5-a9a03f51bae4"
      },
      "execution_count": 149,
      "outputs": [
        {
          "output_type": "stream",
          "name": "stdout",
          "text": [
            "Modelo LinearRegression()\n",
            "MAE_train 4.905\n",
            "MAE_test 5.014\n",
            "R2_train 0.5747\n",
            "R2_test 0.6116\n",
            "\n",
            "Modelo LinearRegression()\n",
            "MAE_train 4.545\n",
            "MAE_test 4.383\n",
            "R2_train 0.6552\n",
            "R2_test 0.7386\n",
            "\n",
            "Modelo Ridge()\n",
            "MAE_train 4.905\n",
            "MAE_test 5.014\n",
            "R2_train 0.5747\n",
            "R2_test 0.6116\n",
            "\n",
            "Modelo Lasso()\n",
            "MAE_train 4.856\n",
            "MAE_test 5.093\n",
            "R2_train 0.5695\n",
            "R2_test 0.5999\n",
            "\n"
          ]
        }
      ]
    },
    {
      "cell_type": "markdown",
      "metadata": {
        "id": "CfqcmLmxLoe9"
      },
      "source": [
        "#Ejercicio 2\n",
        "Realiza la regresión polinomial de los siguientes datos:"
      ]
    },
    {
      "cell_type": "code",
      "execution_count": 150,
      "metadata": {
        "colab": {
          "base_uri": "https://localhost:8080/",
          "height": 456
        },
        "id": "57bn0j38qGrg",
        "outputId": "25127a08-a189-47ba-8753-ab1d9b5632d9"
      },
      "outputs": [
        {
          "output_type": "execute_result",
          "data": {
            "text/plain": [
              "               id             date      price  bedrooms  bathrooms  \\\n",
              "5826   1773101159  20150107T000000   250000.0         3       2.25   \n",
              "11884  5631501323  20140805T000000   309500.0         3       1.50   \n",
              "14364   546000910  20141203T000000   620000.0         3       1.75   \n",
              "5814   1922069071  20150424T000000   411000.0         4       1.75   \n",
              "971    2009001600  20150506T000000   265000.0         3       1.00   \n",
              "5331   3629930170  20140514T000000   723000.0         4       2.50   \n",
              "15703  1442740010  20141107T000000   465000.0         4       2.50   \n",
              "8739   4010800110  20140609T000000   305100.0         3       2.00   \n",
              "19681  1266200140  20150506T000000  1850000.0         4       3.25   \n",
              "15094  4037000635  20150327T000000   485000.0         4       2.25   \n",
              "\n",
              "       sqft_living  sqft_lot  floors  waterfront  view  ...  grade  \\\n",
              "5826          1050       572     2.0           0     0  ...      7   \n",
              "11884         1340     13560     1.0           0     0  ...      7   \n",
              "14364         2040      4005     1.5           0     0  ...      8   \n",
              "5814          2250    292288     1.0           0     0  ...      7   \n",
              "971           1070      9000     1.0           0     0  ...      7   \n",
              "5331          2700      4004     2.0           0     0  ...      9   \n",
              "15703         2590     16437     2.0           0     0  ...      8   \n",
              "8739          1590     35988     1.0           0     0  ...      8   \n",
              "19681         4160     10335     2.0           0     0  ...     10   \n",
              "15094         1850      9911     1.0           0     0  ...      7   \n",
              "\n",
              "       sqft_above  sqft_basement  yr_built  yr_renovated  zipcode      lat  \\\n",
              "5826          740            310      2006             0    98106  47.5549   \n",
              "11884        1340              0      1968             0    98028  47.7410   \n",
              "14364        1740            300      1930             0    98117  47.6885   \n",
              "5814         2250              0      1963             0    98042  47.3787   \n",
              "971          1070              0      1950             0    98198  47.4061   \n",
              "5331         2700              0      2004             0    98029  47.5521   \n",
              "15703        2590              0      1986             0    98038  47.3714   \n",
              "8739         1590              0      1974             0    98058  47.4365   \n",
              "19681        4160              0      2014             0    98004  47.6235   \n",
              "15094        1850              0      1957             0    98008  47.6019   \n",
              "\n",
              "          long  sqft_living15  sqft_lot15  \n",
              "5826  -122.363           1260        1062  \n",
              "11884 -122.234           1540       15000  \n",
              "14364 -122.380           1380        4005  \n",
              "5814  -122.091           1550       23798  \n",
              "971   -122.330           1840       12000  \n",
              "5331  -121.995           2260        4459  \n",
              "15703 -122.059           2320       15625  \n",
              "8739  -122.106           2780       23789  \n",
              "19681 -122.192           1840       10333  \n",
              "15094 -122.116           1650        8670  \n",
              "\n",
              "[10 rows x 21 columns]"
            ],
            "text/html": [
              "\n",
              "  <div id=\"df-2cdeba58-1958-4449-abc9-901f877c4be4\">\n",
              "    <div class=\"colab-df-container\">\n",
              "      <div>\n",
              "<style scoped>\n",
              "    .dataframe tbody tr th:only-of-type {\n",
              "        vertical-align: middle;\n",
              "    }\n",
              "\n",
              "    .dataframe tbody tr th {\n",
              "        vertical-align: top;\n",
              "    }\n",
              "\n",
              "    .dataframe thead th {\n",
              "        text-align: right;\n",
              "    }\n",
              "</style>\n",
              "<table border=\"1\" class=\"dataframe\">\n",
              "  <thead>\n",
              "    <tr style=\"text-align: right;\">\n",
              "      <th></th>\n",
              "      <th>id</th>\n",
              "      <th>date</th>\n",
              "      <th>price</th>\n",
              "      <th>bedrooms</th>\n",
              "      <th>bathrooms</th>\n",
              "      <th>sqft_living</th>\n",
              "      <th>sqft_lot</th>\n",
              "      <th>floors</th>\n",
              "      <th>waterfront</th>\n",
              "      <th>view</th>\n",
              "      <th>...</th>\n",
              "      <th>grade</th>\n",
              "      <th>sqft_above</th>\n",
              "      <th>sqft_basement</th>\n",
              "      <th>yr_built</th>\n",
              "      <th>yr_renovated</th>\n",
              "      <th>zipcode</th>\n",
              "      <th>lat</th>\n",
              "      <th>long</th>\n",
              "      <th>sqft_living15</th>\n",
              "      <th>sqft_lot15</th>\n",
              "    </tr>\n",
              "  </thead>\n",
              "  <tbody>\n",
              "    <tr>\n",
              "      <th>5826</th>\n",
              "      <td>1773101159</td>\n",
              "      <td>20150107T000000</td>\n",
              "      <td>250000.0</td>\n",
              "      <td>3</td>\n",
              "      <td>2.25</td>\n",
              "      <td>1050</td>\n",
              "      <td>572</td>\n",
              "      <td>2.0</td>\n",
              "      <td>0</td>\n",
              "      <td>0</td>\n",
              "      <td>...</td>\n",
              "      <td>7</td>\n",
              "      <td>740</td>\n",
              "      <td>310</td>\n",
              "      <td>2006</td>\n",
              "      <td>0</td>\n",
              "      <td>98106</td>\n",
              "      <td>47.5549</td>\n",
              "      <td>-122.363</td>\n",
              "      <td>1260</td>\n",
              "      <td>1062</td>\n",
              "    </tr>\n",
              "    <tr>\n",
              "      <th>11884</th>\n",
              "      <td>5631501323</td>\n",
              "      <td>20140805T000000</td>\n",
              "      <td>309500.0</td>\n",
              "      <td>3</td>\n",
              "      <td>1.50</td>\n",
              "      <td>1340</td>\n",
              "      <td>13560</td>\n",
              "      <td>1.0</td>\n",
              "      <td>0</td>\n",
              "      <td>0</td>\n",
              "      <td>...</td>\n",
              "      <td>7</td>\n",
              "      <td>1340</td>\n",
              "      <td>0</td>\n",
              "      <td>1968</td>\n",
              "      <td>0</td>\n",
              "      <td>98028</td>\n",
              "      <td>47.7410</td>\n",
              "      <td>-122.234</td>\n",
              "      <td>1540</td>\n",
              "      <td>15000</td>\n",
              "    </tr>\n",
              "    <tr>\n",
              "      <th>14364</th>\n",
              "      <td>546000910</td>\n",
              "      <td>20141203T000000</td>\n",
              "      <td>620000.0</td>\n",
              "      <td>3</td>\n",
              "      <td>1.75</td>\n",
              "      <td>2040</td>\n",
              "      <td>4005</td>\n",
              "      <td>1.5</td>\n",
              "      <td>0</td>\n",
              "      <td>0</td>\n",
              "      <td>...</td>\n",
              "      <td>8</td>\n",
              "      <td>1740</td>\n",
              "      <td>300</td>\n",
              "      <td>1930</td>\n",
              "      <td>0</td>\n",
              "      <td>98117</td>\n",
              "      <td>47.6885</td>\n",
              "      <td>-122.380</td>\n",
              "      <td>1380</td>\n",
              "      <td>4005</td>\n",
              "    </tr>\n",
              "    <tr>\n",
              "      <th>5814</th>\n",
              "      <td>1922069071</td>\n",
              "      <td>20150424T000000</td>\n",
              "      <td>411000.0</td>\n",
              "      <td>4</td>\n",
              "      <td>1.75</td>\n",
              "      <td>2250</td>\n",
              "      <td>292288</td>\n",
              "      <td>1.0</td>\n",
              "      <td>0</td>\n",
              "      <td>0</td>\n",
              "      <td>...</td>\n",
              "      <td>7</td>\n",
              "      <td>2250</td>\n",
              "      <td>0</td>\n",
              "      <td>1963</td>\n",
              "      <td>0</td>\n",
              "      <td>98042</td>\n",
              "      <td>47.3787</td>\n",
              "      <td>-122.091</td>\n",
              "      <td>1550</td>\n",
              "      <td>23798</td>\n",
              "    </tr>\n",
              "    <tr>\n",
              "      <th>971</th>\n",
              "      <td>2009001600</td>\n",
              "      <td>20150506T000000</td>\n",
              "      <td>265000.0</td>\n",
              "      <td>3</td>\n",
              "      <td>1.00</td>\n",
              "      <td>1070</td>\n",
              "      <td>9000</td>\n",
              "      <td>1.0</td>\n",
              "      <td>0</td>\n",
              "      <td>0</td>\n",
              "      <td>...</td>\n",
              "      <td>7</td>\n",
              "      <td>1070</td>\n",
              "      <td>0</td>\n",
              "      <td>1950</td>\n",
              "      <td>0</td>\n",
              "      <td>98198</td>\n",
              "      <td>47.4061</td>\n",
              "      <td>-122.330</td>\n",
              "      <td>1840</td>\n",
              "      <td>12000</td>\n",
              "    </tr>\n",
              "    <tr>\n",
              "      <th>5331</th>\n",
              "      <td>3629930170</td>\n",
              "      <td>20140514T000000</td>\n",
              "      <td>723000.0</td>\n",
              "      <td>4</td>\n",
              "      <td>2.50</td>\n",
              "      <td>2700</td>\n",
              "      <td>4004</td>\n",
              "      <td>2.0</td>\n",
              "      <td>0</td>\n",
              "      <td>0</td>\n",
              "      <td>...</td>\n",
              "      <td>9</td>\n",
              "      <td>2700</td>\n",
              "      <td>0</td>\n",
              "      <td>2004</td>\n",
              "      <td>0</td>\n",
              "      <td>98029</td>\n",
              "      <td>47.5521</td>\n",
              "      <td>-121.995</td>\n",
              "      <td>2260</td>\n",
              "      <td>4459</td>\n",
              "    </tr>\n",
              "    <tr>\n",
              "      <th>15703</th>\n",
              "      <td>1442740010</td>\n",
              "      <td>20141107T000000</td>\n",
              "      <td>465000.0</td>\n",
              "      <td>4</td>\n",
              "      <td>2.50</td>\n",
              "      <td>2590</td>\n",
              "      <td>16437</td>\n",
              "      <td>2.0</td>\n",
              "      <td>0</td>\n",
              "      <td>0</td>\n",
              "      <td>...</td>\n",
              "      <td>8</td>\n",
              "      <td>2590</td>\n",
              "      <td>0</td>\n",
              "      <td>1986</td>\n",
              "      <td>0</td>\n",
              "      <td>98038</td>\n",
              "      <td>47.3714</td>\n",
              "      <td>-122.059</td>\n",
              "      <td>2320</td>\n",
              "      <td>15625</td>\n",
              "    </tr>\n",
              "    <tr>\n",
              "      <th>8739</th>\n",
              "      <td>4010800110</td>\n",
              "      <td>20140609T000000</td>\n",
              "      <td>305100.0</td>\n",
              "      <td>3</td>\n",
              "      <td>2.00</td>\n",
              "      <td>1590</td>\n",
              "      <td>35988</td>\n",
              "      <td>1.0</td>\n",
              "      <td>0</td>\n",
              "      <td>0</td>\n",
              "      <td>...</td>\n",
              "      <td>8</td>\n",
              "      <td>1590</td>\n",
              "      <td>0</td>\n",
              "      <td>1974</td>\n",
              "      <td>0</td>\n",
              "      <td>98058</td>\n",
              "      <td>47.4365</td>\n",
              "      <td>-122.106</td>\n",
              "      <td>2780</td>\n",
              "      <td>23789</td>\n",
              "    </tr>\n",
              "    <tr>\n",
              "      <th>19681</th>\n",
              "      <td>1266200140</td>\n",
              "      <td>20150506T000000</td>\n",
              "      <td>1850000.0</td>\n",
              "      <td>4</td>\n",
              "      <td>3.25</td>\n",
              "      <td>4160</td>\n",
              "      <td>10335</td>\n",
              "      <td>2.0</td>\n",
              "      <td>0</td>\n",
              "      <td>0</td>\n",
              "      <td>...</td>\n",
              "      <td>10</td>\n",
              "      <td>4160</td>\n",
              "      <td>0</td>\n",
              "      <td>2014</td>\n",
              "      <td>0</td>\n",
              "      <td>98004</td>\n",
              "      <td>47.6235</td>\n",
              "      <td>-122.192</td>\n",
              "      <td>1840</td>\n",
              "      <td>10333</td>\n",
              "    </tr>\n",
              "    <tr>\n",
              "      <th>15094</th>\n",
              "      <td>4037000635</td>\n",
              "      <td>20150327T000000</td>\n",
              "      <td>485000.0</td>\n",
              "      <td>4</td>\n",
              "      <td>2.25</td>\n",
              "      <td>1850</td>\n",
              "      <td>9911</td>\n",
              "      <td>1.0</td>\n",
              "      <td>0</td>\n",
              "      <td>0</td>\n",
              "      <td>...</td>\n",
              "      <td>7</td>\n",
              "      <td>1850</td>\n",
              "      <td>0</td>\n",
              "      <td>1957</td>\n",
              "      <td>0</td>\n",
              "      <td>98008</td>\n",
              "      <td>47.6019</td>\n",
              "      <td>-122.116</td>\n",
              "      <td>1650</td>\n",
              "      <td>8670</td>\n",
              "    </tr>\n",
              "  </tbody>\n",
              "</table>\n",
              "<p>10 rows × 21 columns</p>\n",
              "</div>\n",
              "      <button class=\"colab-df-convert\" onclick=\"convertToInteractive('df-2cdeba58-1958-4449-abc9-901f877c4be4')\"\n",
              "              title=\"Convert this dataframe to an interactive table.\"\n",
              "              style=\"display:none;\">\n",
              "        \n",
              "  <svg xmlns=\"http://www.w3.org/2000/svg\" height=\"24px\"viewBox=\"0 0 24 24\"\n",
              "       width=\"24px\">\n",
              "    <path d=\"M0 0h24v24H0V0z\" fill=\"none\"/>\n",
              "    <path d=\"M18.56 5.44l.94 2.06.94-2.06 2.06-.94-2.06-.94-.94-2.06-.94 2.06-2.06.94zm-11 1L8.5 8.5l.94-2.06 2.06-.94-2.06-.94L8.5 2.5l-.94 2.06-2.06.94zm10 10l.94 2.06.94-2.06 2.06-.94-2.06-.94-.94-2.06-.94 2.06-2.06.94z\"/><path d=\"M17.41 7.96l-1.37-1.37c-.4-.4-.92-.59-1.43-.59-.52 0-1.04.2-1.43.59L10.3 9.45l-7.72 7.72c-.78.78-.78 2.05 0 2.83L4 21.41c.39.39.9.59 1.41.59.51 0 1.02-.2 1.41-.59l7.78-7.78 2.81-2.81c.8-.78.8-2.07 0-2.86zM5.41 20L4 18.59l7.72-7.72 1.47 1.35L5.41 20z\"/>\n",
              "  </svg>\n",
              "      </button>\n",
              "      \n",
              "  <style>\n",
              "    .colab-df-container {\n",
              "      display:flex;\n",
              "      flex-wrap:wrap;\n",
              "      gap: 12px;\n",
              "    }\n",
              "\n",
              "    .colab-df-convert {\n",
              "      background-color: #E8F0FE;\n",
              "      border: none;\n",
              "      border-radius: 50%;\n",
              "      cursor: pointer;\n",
              "      display: none;\n",
              "      fill: #1967D2;\n",
              "      height: 32px;\n",
              "      padding: 0 0 0 0;\n",
              "      width: 32px;\n",
              "    }\n",
              "\n",
              "    .colab-df-convert:hover {\n",
              "      background-color: #E2EBFA;\n",
              "      box-shadow: 0px 1px 2px rgba(60, 64, 67, 0.3), 0px 1px 3px 1px rgba(60, 64, 67, 0.15);\n",
              "      fill: #174EA6;\n",
              "    }\n",
              "\n",
              "    [theme=dark] .colab-df-convert {\n",
              "      background-color: #3B4455;\n",
              "      fill: #D2E3FC;\n",
              "    }\n",
              "\n",
              "    [theme=dark] .colab-df-convert:hover {\n",
              "      background-color: #434B5C;\n",
              "      box-shadow: 0px 1px 3px 1px rgba(0, 0, 0, 0.15);\n",
              "      filter: drop-shadow(0px 1px 2px rgba(0, 0, 0, 0.3));\n",
              "      fill: #FFFFFF;\n",
              "    }\n",
              "  </style>\n",
              "\n",
              "      <script>\n",
              "        const buttonEl =\n",
              "          document.querySelector('#df-2cdeba58-1958-4449-abc9-901f877c4be4 button.colab-df-convert');\n",
              "        buttonEl.style.display =\n",
              "          google.colab.kernel.accessAllowed ? 'block' : 'none';\n",
              "\n",
              "        async function convertToInteractive(key) {\n",
              "          const element = document.querySelector('#df-2cdeba58-1958-4449-abc9-901f877c4be4');\n",
              "          const dataTable =\n",
              "            await google.colab.kernel.invokeFunction('convertToInteractive',\n",
              "                                                     [key], {});\n",
              "          if (!dataTable) return;\n",
              "\n",
              "          const docLinkHtml = 'Like what you see? Visit the ' +\n",
              "            '<a target=\"_blank\" href=https://colab.research.google.com/notebooks/data_table.ipynb>data table notebook</a>'\n",
              "            + ' to learn more about interactive tables.';\n",
              "          element.innerHTML = '';\n",
              "          dataTable['output_type'] = 'display_data';\n",
              "          await google.colab.output.renderOutput(dataTable, element);\n",
              "          const docLink = document.createElement('div');\n",
              "          docLink.innerHTML = docLinkHtml;\n",
              "          element.appendChild(docLink);\n",
              "        }\n",
              "      </script>\n",
              "    </div>\n",
              "  </div>\n",
              "  "
            ]
          },
          "metadata": {},
          "execution_count": 150
        }
      ],
      "source": [
        "df = pd.read_csv('https://raw.githubusercontent.com/marypazrf/bdd/main/kc_house_data.csv')\n",
        "df.sample(10)"
      ]
    },
    {
      "cell_type": "code",
      "execution_count": 151,
      "metadata": {
        "colab": {
          "base_uri": "https://localhost:8080/"
        },
        "id": "n0fs14KoqI3M",
        "outputId": "de7f1895-f0aa-45c1-ac5d-7ab8a5600383"
      },
      "outputs": [
        {
          "output_type": "stream",
          "name": "stdout",
          "text": [
            "<class 'pandas.core.frame.DataFrame'>\n",
            "RangeIndex: 21613 entries, 0 to 21612\n",
            "Data columns (total 21 columns):\n",
            " #   Column         Non-Null Count  Dtype  \n",
            "---  ------         --------------  -----  \n",
            " 0   id             21613 non-null  int64  \n",
            " 1   date           21613 non-null  object \n",
            " 2   price          21613 non-null  float64\n",
            " 3   bedrooms       21613 non-null  int64  \n",
            " 4   bathrooms      21613 non-null  float64\n",
            " 5   sqft_living    21613 non-null  int64  \n",
            " 6   sqft_lot       21613 non-null  int64  \n",
            " 7   floors         21613 non-null  float64\n",
            " 8   waterfront     21613 non-null  int64  \n",
            " 9   view           21613 non-null  int64  \n",
            " 10  condition      21613 non-null  int64  \n",
            " 11  grade          21613 non-null  int64  \n",
            " 12  sqft_above     21613 non-null  int64  \n",
            " 13  sqft_basement  21613 non-null  int64  \n",
            " 14  yr_built       21613 non-null  int64  \n",
            " 15  yr_renovated   21613 non-null  int64  \n",
            " 16  zipcode        21613 non-null  int64  \n",
            " 17  lat            21613 non-null  float64\n",
            " 18  long           21613 non-null  float64\n",
            " 19  sqft_living15  21613 non-null  int64  \n",
            " 20  sqft_lot15     21613 non-null  int64  \n",
            "dtypes: float64(5), int64(15), object(1)\n",
            "memory usage: 3.5+ MB\n"
          ]
        }
      ],
      "source": [
        "df.info()"
      ]
    },
    {
      "cell_type": "code",
      "execution_count": 152,
      "metadata": {
        "colab": {
          "base_uri": "https://localhost:8080/",
          "height": 364
        },
        "id": "1PNzDJZeqKhe",
        "outputId": "940c99f2-223e-475f-911e-2b1c8117dbec"
      },
      "outputs": [
        {
          "output_type": "execute_result",
          "data": {
            "text/plain": [
              "                 id         price      bedrooms     bathrooms   sqft_living  \\\n",
              "count  2.161300e+04  2.161300e+04  21613.000000  21613.000000  21613.000000   \n",
              "mean   4.580302e+09  5.400881e+05      3.370842      2.114757   2079.899736   \n",
              "std    2.876566e+09  3.671272e+05      0.930062      0.770163    918.440897   \n",
              "min    1.000102e+06  7.500000e+04      0.000000      0.000000    290.000000   \n",
              "25%    2.123049e+09  3.219500e+05      3.000000      1.750000   1427.000000   \n",
              "50%    3.904930e+09  4.500000e+05      3.000000      2.250000   1910.000000   \n",
              "75%    7.308900e+09  6.450000e+05      4.000000      2.500000   2550.000000   \n",
              "max    9.900000e+09  7.700000e+06     33.000000      8.000000  13540.000000   \n",
              "\n",
              "           sqft_lot        floors    waterfront          view     condition  \\\n",
              "count  2.161300e+04  21613.000000  21613.000000  21613.000000  21613.000000   \n",
              "mean   1.510697e+04      1.494309      0.007542      0.234303      3.409430   \n",
              "std    4.142051e+04      0.539989      0.086517      0.766318      0.650743   \n",
              "min    5.200000e+02      1.000000      0.000000      0.000000      1.000000   \n",
              "25%    5.040000e+03      1.000000      0.000000      0.000000      3.000000   \n",
              "50%    7.618000e+03      1.500000      0.000000      0.000000      3.000000   \n",
              "75%    1.068800e+04      2.000000      0.000000      0.000000      4.000000   \n",
              "max    1.651359e+06      3.500000      1.000000      4.000000      5.000000   \n",
              "\n",
              "              grade    sqft_above  sqft_basement      yr_built  yr_renovated  \\\n",
              "count  21613.000000  21613.000000   21613.000000  21613.000000  21613.000000   \n",
              "mean       7.656873   1788.390691     291.509045   1971.005136     84.402258   \n",
              "std        1.175459    828.090978     442.575043     29.373411    401.679240   \n",
              "min        1.000000    290.000000       0.000000   1900.000000      0.000000   \n",
              "25%        7.000000   1190.000000       0.000000   1951.000000      0.000000   \n",
              "50%        7.000000   1560.000000       0.000000   1975.000000      0.000000   \n",
              "75%        8.000000   2210.000000     560.000000   1997.000000      0.000000   \n",
              "max       13.000000   9410.000000    4820.000000   2015.000000   2015.000000   \n",
              "\n",
              "            zipcode           lat          long  sqft_living15     sqft_lot15  \n",
              "count  21613.000000  21613.000000  21613.000000   21613.000000   21613.000000  \n",
              "mean   98077.939805     47.560053   -122.213896    1986.552492   12768.455652  \n",
              "std       53.505026      0.138564      0.140828     685.391304   27304.179631  \n",
              "min    98001.000000     47.155900   -122.519000     399.000000     651.000000  \n",
              "25%    98033.000000     47.471000   -122.328000    1490.000000    5100.000000  \n",
              "50%    98065.000000     47.571800   -122.230000    1840.000000    7620.000000  \n",
              "75%    98118.000000     47.678000   -122.125000    2360.000000   10083.000000  \n",
              "max    98199.000000     47.777600   -121.315000    6210.000000  871200.000000  "
            ],
            "text/html": [
              "\n",
              "  <div id=\"df-1f188df3-bbad-490c-974e-4339a9b7cb7f\">\n",
              "    <div class=\"colab-df-container\">\n",
              "      <div>\n",
              "<style scoped>\n",
              "    .dataframe tbody tr th:only-of-type {\n",
              "        vertical-align: middle;\n",
              "    }\n",
              "\n",
              "    .dataframe tbody tr th {\n",
              "        vertical-align: top;\n",
              "    }\n",
              "\n",
              "    .dataframe thead th {\n",
              "        text-align: right;\n",
              "    }\n",
              "</style>\n",
              "<table border=\"1\" class=\"dataframe\">\n",
              "  <thead>\n",
              "    <tr style=\"text-align: right;\">\n",
              "      <th></th>\n",
              "      <th>id</th>\n",
              "      <th>price</th>\n",
              "      <th>bedrooms</th>\n",
              "      <th>bathrooms</th>\n",
              "      <th>sqft_living</th>\n",
              "      <th>sqft_lot</th>\n",
              "      <th>floors</th>\n",
              "      <th>waterfront</th>\n",
              "      <th>view</th>\n",
              "      <th>condition</th>\n",
              "      <th>grade</th>\n",
              "      <th>sqft_above</th>\n",
              "      <th>sqft_basement</th>\n",
              "      <th>yr_built</th>\n",
              "      <th>yr_renovated</th>\n",
              "      <th>zipcode</th>\n",
              "      <th>lat</th>\n",
              "      <th>long</th>\n",
              "      <th>sqft_living15</th>\n",
              "      <th>sqft_lot15</th>\n",
              "    </tr>\n",
              "  </thead>\n",
              "  <tbody>\n",
              "    <tr>\n",
              "      <th>count</th>\n",
              "      <td>2.161300e+04</td>\n",
              "      <td>2.161300e+04</td>\n",
              "      <td>21613.000000</td>\n",
              "      <td>21613.000000</td>\n",
              "      <td>21613.000000</td>\n",
              "      <td>2.161300e+04</td>\n",
              "      <td>21613.000000</td>\n",
              "      <td>21613.000000</td>\n",
              "      <td>21613.000000</td>\n",
              "      <td>21613.000000</td>\n",
              "      <td>21613.000000</td>\n",
              "      <td>21613.000000</td>\n",
              "      <td>21613.000000</td>\n",
              "      <td>21613.000000</td>\n",
              "      <td>21613.000000</td>\n",
              "      <td>21613.000000</td>\n",
              "      <td>21613.000000</td>\n",
              "      <td>21613.000000</td>\n",
              "      <td>21613.000000</td>\n",
              "      <td>21613.000000</td>\n",
              "    </tr>\n",
              "    <tr>\n",
              "      <th>mean</th>\n",
              "      <td>4.580302e+09</td>\n",
              "      <td>5.400881e+05</td>\n",
              "      <td>3.370842</td>\n",
              "      <td>2.114757</td>\n",
              "      <td>2079.899736</td>\n",
              "      <td>1.510697e+04</td>\n",
              "      <td>1.494309</td>\n",
              "      <td>0.007542</td>\n",
              "      <td>0.234303</td>\n",
              "      <td>3.409430</td>\n",
              "      <td>7.656873</td>\n",
              "      <td>1788.390691</td>\n",
              "      <td>291.509045</td>\n",
              "      <td>1971.005136</td>\n",
              "      <td>84.402258</td>\n",
              "      <td>98077.939805</td>\n",
              "      <td>47.560053</td>\n",
              "      <td>-122.213896</td>\n",
              "      <td>1986.552492</td>\n",
              "      <td>12768.455652</td>\n",
              "    </tr>\n",
              "    <tr>\n",
              "      <th>std</th>\n",
              "      <td>2.876566e+09</td>\n",
              "      <td>3.671272e+05</td>\n",
              "      <td>0.930062</td>\n",
              "      <td>0.770163</td>\n",
              "      <td>918.440897</td>\n",
              "      <td>4.142051e+04</td>\n",
              "      <td>0.539989</td>\n",
              "      <td>0.086517</td>\n",
              "      <td>0.766318</td>\n",
              "      <td>0.650743</td>\n",
              "      <td>1.175459</td>\n",
              "      <td>828.090978</td>\n",
              "      <td>442.575043</td>\n",
              "      <td>29.373411</td>\n",
              "      <td>401.679240</td>\n",
              "      <td>53.505026</td>\n",
              "      <td>0.138564</td>\n",
              "      <td>0.140828</td>\n",
              "      <td>685.391304</td>\n",
              "      <td>27304.179631</td>\n",
              "    </tr>\n",
              "    <tr>\n",
              "      <th>min</th>\n",
              "      <td>1.000102e+06</td>\n",
              "      <td>7.500000e+04</td>\n",
              "      <td>0.000000</td>\n",
              "      <td>0.000000</td>\n",
              "      <td>290.000000</td>\n",
              "      <td>5.200000e+02</td>\n",
              "      <td>1.000000</td>\n",
              "      <td>0.000000</td>\n",
              "      <td>0.000000</td>\n",
              "      <td>1.000000</td>\n",
              "      <td>1.000000</td>\n",
              "      <td>290.000000</td>\n",
              "      <td>0.000000</td>\n",
              "      <td>1900.000000</td>\n",
              "      <td>0.000000</td>\n",
              "      <td>98001.000000</td>\n",
              "      <td>47.155900</td>\n",
              "      <td>-122.519000</td>\n",
              "      <td>399.000000</td>\n",
              "      <td>651.000000</td>\n",
              "    </tr>\n",
              "    <tr>\n",
              "      <th>25%</th>\n",
              "      <td>2.123049e+09</td>\n",
              "      <td>3.219500e+05</td>\n",
              "      <td>3.000000</td>\n",
              "      <td>1.750000</td>\n",
              "      <td>1427.000000</td>\n",
              "      <td>5.040000e+03</td>\n",
              "      <td>1.000000</td>\n",
              "      <td>0.000000</td>\n",
              "      <td>0.000000</td>\n",
              "      <td>3.000000</td>\n",
              "      <td>7.000000</td>\n",
              "      <td>1190.000000</td>\n",
              "      <td>0.000000</td>\n",
              "      <td>1951.000000</td>\n",
              "      <td>0.000000</td>\n",
              "      <td>98033.000000</td>\n",
              "      <td>47.471000</td>\n",
              "      <td>-122.328000</td>\n",
              "      <td>1490.000000</td>\n",
              "      <td>5100.000000</td>\n",
              "    </tr>\n",
              "    <tr>\n",
              "      <th>50%</th>\n",
              "      <td>3.904930e+09</td>\n",
              "      <td>4.500000e+05</td>\n",
              "      <td>3.000000</td>\n",
              "      <td>2.250000</td>\n",
              "      <td>1910.000000</td>\n",
              "      <td>7.618000e+03</td>\n",
              "      <td>1.500000</td>\n",
              "      <td>0.000000</td>\n",
              "      <td>0.000000</td>\n",
              "      <td>3.000000</td>\n",
              "      <td>7.000000</td>\n",
              "      <td>1560.000000</td>\n",
              "      <td>0.000000</td>\n",
              "      <td>1975.000000</td>\n",
              "      <td>0.000000</td>\n",
              "      <td>98065.000000</td>\n",
              "      <td>47.571800</td>\n",
              "      <td>-122.230000</td>\n",
              "      <td>1840.000000</td>\n",
              "      <td>7620.000000</td>\n",
              "    </tr>\n",
              "    <tr>\n",
              "      <th>75%</th>\n",
              "      <td>7.308900e+09</td>\n",
              "      <td>6.450000e+05</td>\n",
              "      <td>4.000000</td>\n",
              "      <td>2.500000</td>\n",
              "      <td>2550.000000</td>\n",
              "      <td>1.068800e+04</td>\n",
              "      <td>2.000000</td>\n",
              "      <td>0.000000</td>\n",
              "      <td>0.000000</td>\n",
              "      <td>4.000000</td>\n",
              "      <td>8.000000</td>\n",
              "      <td>2210.000000</td>\n",
              "      <td>560.000000</td>\n",
              "      <td>1997.000000</td>\n",
              "      <td>0.000000</td>\n",
              "      <td>98118.000000</td>\n",
              "      <td>47.678000</td>\n",
              "      <td>-122.125000</td>\n",
              "      <td>2360.000000</td>\n",
              "      <td>10083.000000</td>\n",
              "    </tr>\n",
              "    <tr>\n",
              "      <th>max</th>\n",
              "      <td>9.900000e+09</td>\n",
              "      <td>7.700000e+06</td>\n",
              "      <td>33.000000</td>\n",
              "      <td>8.000000</td>\n",
              "      <td>13540.000000</td>\n",
              "      <td>1.651359e+06</td>\n",
              "      <td>3.500000</td>\n",
              "      <td>1.000000</td>\n",
              "      <td>4.000000</td>\n",
              "      <td>5.000000</td>\n",
              "      <td>13.000000</td>\n",
              "      <td>9410.000000</td>\n",
              "      <td>4820.000000</td>\n",
              "      <td>2015.000000</td>\n",
              "      <td>2015.000000</td>\n",
              "      <td>98199.000000</td>\n",
              "      <td>47.777600</td>\n",
              "      <td>-121.315000</td>\n",
              "      <td>6210.000000</td>\n",
              "      <td>871200.000000</td>\n",
              "    </tr>\n",
              "  </tbody>\n",
              "</table>\n",
              "</div>\n",
              "      <button class=\"colab-df-convert\" onclick=\"convertToInteractive('df-1f188df3-bbad-490c-974e-4339a9b7cb7f')\"\n",
              "              title=\"Convert this dataframe to an interactive table.\"\n",
              "              style=\"display:none;\">\n",
              "        \n",
              "  <svg xmlns=\"http://www.w3.org/2000/svg\" height=\"24px\"viewBox=\"0 0 24 24\"\n",
              "       width=\"24px\">\n",
              "    <path d=\"M0 0h24v24H0V0z\" fill=\"none\"/>\n",
              "    <path d=\"M18.56 5.44l.94 2.06.94-2.06 2.06-.94-2.06-.94-.94-2.06-.94 2.06-2.06.94zm-11 1L8.5 8.5l.94-2.06 2.06-.94-2.06-.94L8.5 2.5l-.94 2.06-2.06.94zm10 10l.94 2.06.94-2.06 2.06-.94-2.06-.94-.94-2.06-.94 2.06-2.06.94z\"/><path d=\"M17.41 7.96l-1.37-1.37c-.4-.4-.92-.59-1.43-.59-.52 0-1.04.2-1.43.59L10.3 9.45l-7.72 7.72c-.78.78-.78 2.05 0 2.83L4 21.41c.39.39.9.59 1.41.59.51 0 1.02-.2 1.41-.59l7.78-7.78 2.81-2.81c.8-.78.8-2.07 0-2.86zM5.41 20L4 18.59l7.72-7.72 1.47 1.35L5.41 20z\"/>\n",
              "  </svg>\n",
              "      </button>\n",
              "      \n",
              "  <style>\n",
              "    .colab-df-container {\n",
              "      display:flex;\n",
              "      flex-wrap:wrap;\n",
              "      gap: 12px;\n",
              "    }\n",
              "\n",
              "    .colab-df-convert {\n",
              "      background-color: #E8F0FE;\n",
              "      border: none;\n",
              "      border-radius: 50%;\n",
              "      cursor: pointer;\n",
              "      display: none;\n",
              "      fill: #1967D2;\n",
              "      height: 32px;\n",
              "      padding: 0 0 0 0;\n",
              "      width: 32px;\n",
              "    }\n",
              "\n",
              "    .colab-df-convert:hover {\n",
              "      background-color: #E2EBFA;\n",
              "      box-shadow: 0px 1px 2px rgba(60, 64, 67, 0.3), 0px 1px 3px 1px rgba(60, 64, 67, 0.15);\n",
              "      fill: #174EA6;\n",
              "    }\n",
              "\n",
              "    [theme=dark] .colab-df-convert {\n",
              "      background-color: #3B4455;\n",
              "      fill: #D2E3FC;\n",
              "    }\n",
              "\n",
              "    [theme=dark] .colab-df-convert:hover {\n",
              "      background-color: #434B5C;\n",
              "      box-shadow: 0px 1px 3px 1px rgba(0, 0, 0, 0.15);\n",
              "      filter: drop-shadow(0px 1px 2px rgba(0, 0, 0, 0.3));\n",
              "      fill: #FFFFFF;\n",
              "    }\n",
              "  </style>\n",
              "\n",
              "      <script>\n",
              "        const buttonEl =\n",
              "          document.querySelector('#df-1f188df3-bbad-490c-974e-4339a9b7cb7f button.colab-df-convert');\n",
              "        buttonEl.style.display =\n",
              "          google.colab.kernel.accessAllowed ? 'block' : 'none';\n",
              "\n",
              "        async function convertToInteractive(key) {\n",
              "          const element = document.querySelector('#df-1f188df3-bbad-490c-974e-4339a9b7cb7f');\n",
              "          const dataTable =\n",
              "            await google.colab.kernel.invokeFunction('convertToInteractive',\n",
              "                                                     [key], {});\n",
              "          if (!dataTable) return;\n",
              "\n",
              "          const docLinkHtml = 'Like what you see? Visit the ' +\n",
              "            '<a target=\"_blank\" href=https://colab.research.google.com/notebooks/data_table.ipynb>data table notebook</a>'\n",
              "            + ' to learn more about interactive tables.';\n",
              "          element.innerHTML = '';\n",
              "          dataTable['output_type'] = 'display_data';\n",
              "          await google.colab.output.renderOutput(dataTable, element);\n",
              "          const docLink = document.createElement('div');\n",
              "          docLink.innerHTML = docLinkHtml;\n",
              "          element.appendChild(docLink);\n",
              "        }\n",
              "      </script>\n",
              "    </div>\n",
              "  </div>\n",
              "  "
            ]
          },
          "metadata": {},
          "execution_count": 152
        }
      ],
      "source": [
        "df.describe()"
      ]
    },
    {
      "cell_type": "code",
      "execution_count": 153,
      "metadata": {
        "id": "0KUD8T08qMmq"
      },
      "outputs": [],
      "source": [
        "df.drop('id', axis = 1, inplace = True)\n",
        "df.drop('date', axis = 1, inplace = True)\n",
        "df.drop('zipcode', axis = 1, inplace = True)\n",
        "df.drop('lat', axis = 1, inplace = True)\n",
        "df.drop('long', axis = 1, inplace = True)\n"
      ]
    },
    {
      "cell_type": "code",
      "execution_count": 154,
      "metadata": {
        "colab": {
          "base_uri": "https://localhost:8080/",
          "height": 561
        },
        "id": "r-jk_nHmqKpp",
        "outputId": "de77c43d-6652-4cc7-db71-8ea9adf1d937"
      },
      "outputs": [
        {
          "output_type": "display_data",
          "data": {
            "text/plain": [
              "<Figure size 864x576 with 2 Axes>"
            ],
            "image/png": "[encoded data removed]"
          },
          "metadata": {}
        }
      ],
      "source": [
        "plt.figure(figsize=(12,8)) \n",
        "sns.heatmap(df.corr(), annot=True, cmap='Dark2_r', linewidths = 2)\n",
        "plt.show()"
      ]
    },
    {
      "cell_type": "code",
      "execution_count": 155,
      "metadata": {
        "id": "p4zqCnFwq7Oc"
      },
      "outputs": [],
      "source": [
        "columns = df.columns.drop('price')\n",
        "\n",
        "features = columns\n",
        "label = ['price']\n",
        "\n",
        "X = df[features]\n",
        "y = df[label]"
      ]
    },
    {
      "cell_type": "code",
      "execution_count": 156,
      "metadata": {
        "colab": {
          "base_uri": "https://localhost:8080/"
        },
        "id": "p91PEVPLq93-",
        "outputId": "d4d13e98-af4c-442f-f8fc-7f5de8a9af12"
      },
      "outputs": [
        {
          "output_type": "stream",
          "name": "stdout",
          "text": [
            "Numero total de registros en la bdd: 21613\n",
            "**************************************************\n",
            "Numero total de registros en el training set: 19451\n",
            "Tamaño de X_train: (19451, 15)\n",
            "Tamaño de y_train: (19451, 1)\n",
            "**************************************************\n",
            "Mumero total de registros en el test dataset: 2162\n",
            "Tamaño del X_test: (2162, 15)\n",
            "Tamaño de y_test: (2162, 1)\n"
          ]
        }
      ],
      "source": [
        "from sklearn.model_selection import train_test_split\n",
        "X_train, X_test, y_train, y_test = train_test_split(X, y, test_size = 0.1, random_state = 101)\n",
        "\n",
        "print(f'Numero total de registros en la bdd: {len(X)}')\n",
        "print(\"*****\"*10)\n",
        "print(f'Numero total de registros en el training set: {len(X_train)}')\n",
        "print(f'Tamaño de X_train: {X_train.shape}')\n",
        "print(f'Tamaño de y_train: {y_train.shape}')\n",
        "print(\"*****\"*10)\n",
        "print(f'Mumero total de registros en el test dataset: {len(X_test)}')\n",
        "print(f'Tamaño del X_test: {X_test.shape}')\n",
        "print(f'Tamaño de y_test: {y_test.shape}')"
      ]
    },
    {
      "cell_type": "markdown",
      "source": [
        "### Regresión Líneal Multiple"
      ],
      "metadata": {
        "id": "yijS3Y-iRQn7"
      }
    },
    {
      "cell_type": "code",
      "execution_count": 157,
      "metadata": {
        "id": "0faHrN8-rv9V"
      },
      "outputs": [],
      "source": [
        "rlm = LinearRegression()\n",
        "rlm = rlm.fit(X_train, y_train)\n",
        "rlm_yhat = rlm.predict(X_test)\n"
      ]
    },
    {
      "cell_type": "code",
      "source": [
        "rlm.coef_[0]"
      ],
      "metadata": {
        "colab": {
          "base_uri": "https://localhost:8080/"
        },
        "id": "Il5ALCL0UEcv",
        "outputId": "c6670de3-747e-4d91-a2b8-f6af5744b405"
      },
      "execution_count": 158,
      "outputs": [
        {
          "output_type": "execute_result",
          "data": {
            "text/plain": [
              "array([-3.82008048e+04,  4.14661380e+04,  1.07992584e+02,  1.71356997e-02,\n",
              "        3.16916913e+04,  5.52691023e+05,  4.12493228e+04,  2.12221443e+04,\n",
              "        1.19493216e+05,  4.77750271e+01,  6.02175565e+01, -3.55090216e+03,\n",
              "        1.32602215e+01,  2.90059284e+01, -5.48132603e-01])"
            ]
          },
          "metadata": {},
          "execution_count": 158
        }
      ]
    },
    {
      "cell_type": "code",
      "source": [
        "rlm.intercept_"
      ],
      "metadata": {
        "colab": {
          "base_uri": "https://localhost:8080/"
        },
        "id": "NiAqMdadUJhE",
        "outputId": "775371be-478f-477f-d328-206026e94a6e"
      },
      "execution_count": 159,
      "outputs": [
        {
          "output_type": "execute_result",
          "data": {
            "text/plain": [
              "array([6151359.2627409])"
            ]
          },
          "metadata": {},
          "execution_count": 159
        }
      ]
    },
    {
      "cell_type": "code",
      "source": [
        "coeficientes = []\n",
        "\n",
        "for i,c in enumerate(rlm.coef_[0]):\n",
        "  coeficientes.append([f\"X{i+1} * {c}\"])\n",
        "\n",
        "coeficientes = [rlm.intercept_[0]] + coeficientes\n",
        "\n",
        "coeficientes"
      ],
      "metadata": {
        "colab": {
          "base_uri": "https://localhost:8080/"
        },
        "id": "s8m8dEbgULdp",
        "outputId": "a8de16d5-cd64-48f1-c516-b59031235efc"
      },
      "execution_count": 160,
      "outputs": [
        {
          "output_type": "execute_result",
          "data": {
            "text/plain": [
              "[6151359.262740902,\n",
              " ['X1 * -38200.80483396449'],\n",
              " ['X2 * 41466.13802863147'],\n",
              " ['X3 * 107.99258400093822'],\n",
              " ['X4 * 0.0171356997161638'],\n",
              " ['X5 * 31691.691313553605'],\n",
              " ['X6 * 552691.0233181857'],\n",
              " ['X7 * 41249.32275203692'],\n",
              " ['X8 * 21222.144256109055'],\n",
              " ['X9 * 119493.21585367358'],\n",
              " ['X10 * 47.77502707057647'],\n",
              " ['X11 * 60.21755653483342'],\n",
              " ['X12 * -3550.9021573131968'],\n",
              " ['X13 * 13.260221498272529'],\n",
              " ['X14 * 29.00592838751345'],\n",
              " ['X15 * -0.5481326027838804']]"
            ]
          },
          "metadata": {},
          "execution_count": 160
        }
      ]
    },
    {
      "cell_type": "code",
      "source": [
        "print(' Error medio Absoluto (MAE):', metrics.mean_absolute_error(np.ravel(y_test), rlm_yhat))\n",
        "print(' Root Mean Squared Error:', np.sqrt(metrics.mean_squared_error(np.ravel(y_test), rlm_yhat)))\n",
        "print(' r2_score',r2_score(np.ravel(y_test), rlm_yhat),'\\n')"
      ],
      "metadata": {
        "colab": {
          "base_uri": "https://localhost:8080/"
        },
        "id": "V2FqVhMTUsAx",
        "outputId": "d98ce8e3-6bcb-4b54-c5f6-45b75b631551"
      },
      "execution_count": 161,
      "outputs": [
        {
          "output_type": "stream",
          "name": "stdout",
          "text": [
            " Error medio Absoluto (MAE): 137480.1388273178\n",
            " Root Mean Squared Error: 232133.3676240749\n",
            " r2_score 0.6579723205007814 \n",
            "\n"
          ]
        }
      ]
    },
    {
      "cell_type": "markdown",
      "source": [
        "### Regresión Polinomial multiple"
      ],
      "metadata": {
        "id": "B4pUbEQsZvyF"
      }
    },
    {
      "cell_type": "code",
      "source": [
        "polyfeat = PolynomialFeatures(degree = 2, include_bias = False)\n",
        "X_train_transf = polyfeat.fit_transform(X_train)\n",
        "X_test_transf = polyfeat.fit_transform(X_test)\n",
        "\n",
        "print(f'Tamaño de X_train: {X_train_transf.shape}')\n",
        "print(f'Tamaño de y_train: {y_train.shape}')\n",
        "print(\"*****\"*10)\n",
        "\n",
        "print(f'Tamaño del X_test: {X_test_transf.shape}')\n",
        "print(f'Tamaño de y_test: {y_test.shape}')"
      ],
      "metadata": {
        "colab": {
          "base_uri": "https://localhost:8080/"
        },
        "id": "4bZ2rrdoXk11",
        "outputId": "0cecc9bf-0abc-45b0-f46a-8b1c4fc00699"
      },
      "execution_count": 162,
      "outputs": [
        {
          "output_type": "stream",
          "name": "stdout",
          "text": [
            "Tamaño de X_train: (19451, 135)\n",
            "Tamaño de y_train: (19451, 1)\n",
            "**************************************************\n",
            "Tamaño del X_test: (2162, 135)\n",
            "Tamaño de y_test: (2162, 1)\n"
          ]
        }
      ]
    },
    {
      "cell_type": "code",
      "source": [
        "rlm_transf = LinearRegression()\n",
        "rlm_transf = rlm_transf.fit(X_train_transf, y_train)\n",
        "rlm_transf_yhat = rlm_transf.predict(X_test_transf)\n"
      ],
      "metadata": {
        "id": "MDXavAswaTz5"
      },
      "execution_count": 163,
      "outputs": []
    },
    {
      "cell_type": "code",
      "source": [
        "coeficientes = []\n",
        "\n",
        "for i,c in enumerate(rlm_transf.coef_[0]):\n",
        "  coeficientes.append([f\"X{i+1} * {c}\"])\n",
        "\n",
        "coeficientes = [rlm_transf.intercept_[0]] + coeficientes\n",
        "\n",
        "coeficientes"
      ],
      "metadata": {
        "colab": {
          "base_uri": "https://localhost:8080/"
        },
        "id": "1vZ-7foyah6L",
        "outputId": "c07c97d4-ef84-433b-df4b-ce84d84f1722"
      },
      "execution_count": 164,
      "outputs": [
        {
          "output_type": "execute_result",
          "data": {
            "text/plain": [
              "[80227028.3104757,\n",
              " ['X1 * 933912.8339811402'],\n",
              " ['X2 * -1093307.2988890775'],\n",
              " ['X3 * -456.44993232234583'],\n",
              " ['X4 * -27.868628841106222'],\n",
              " ['X5 * -2074072.3849893238'],\n",
              " ['X6 * -3954318.699668158'],\n",
              " ['X7 * -288638.0258699706'],\n",
              " ['X8 * 558697.5702310547'],\n",
              " ['X9 * 1098645.1037843083'],\n",
              " ['X10 * -219.75841511336466'],\n",
              " ['X11 * -382.0342717188405'],\n",
              " ['X12 * -85963.09077123865'],\n",
              " ['X13 * -2953.515948116647'],\n",
              " ['X14 * 3999.657097775203'],\n",
              " ['X15 * -34.01063159901658'],\n",
              " ['X16 * 957.5416964104098'],\n",
              " ['X17 * 7499.581904143857'],\n",
              " ['X18 * -13.796946593364062'],\n",
              " ['X19 * -0.018492669492754743'],\n",
              " ['X20 * 8576.995692417637'],\n",
              " ['X21 * -11496.58932158693'],\n",
              " ['X22 * -306.5888999158299'],\n",
              " ['X23 * -5246.2883559460415'],\n",
              " ['X24 * -5367.880649994306'],\n",
              " ['X25 * -1.2075766861609267'],\n",
              " ['X26 * -14.606818153087893'],\n",
              " ['X27 * -467.0994514251412'],\n",
              " ['X28 * -9.131915185241255'],\n",
              " ['X29 * 17.280064173510084'],\n",
              " ['X30 * 0.21550019812278265'],\n",
              " ['X31 * -9634.29892181688'],\n",
              " ['X32 * 15.387917161093512'],\n",
              " ['X33 * -0.13584236899568225'],\n",
              " ['X34 * -25906.729342049442'],\n",
              " ['X35 * 43370.723805562746'],\n",
              " ['X36 * 3829.424593723277'],\n",
              " ['X37 * -1075.9292703200167'],\n",
              " ['X38 * 22297.168925980604'],\n",
              " ['X39 * 14.429232457068736'],\n",
              " ['X40 * 1.3392836056501096'],\n",
              " ['X41 * 503.401980309744'],\n",
              " ['X42 * -17.07988052607375'],\n",
              " ['X43 * -17.289592252652824'],\n",
              " ['X44 * -0.055678524828408626'],\n",
              " ['X45 * 1.5618589002406225'],\n",
              " ['X46 * -4.349727583350614'],\n",
              " ['X47 * 4.832994564286139'],\n",
              " ['X48 * 160.30319261079666'],\n",
              " ['X49 * -14.271173679483155'],\n",
              " ['X50 * 13.113859309510872'],\n",
              " ['X51 * 20.728339710768978'],\n",
              " ['X52 * 2.6133508890634403'],\n",
              " ['X53 * -4.4138141249422915'],\n",
              " ['X54 * -2.2076590270153247'],\n",
              " ['X55 * 0.06362826836266322'],\n",
              " ['X56 * 3.5362907197559252'],\n",
              " ['X57 * 18.817681944696233'],\n",
              " ['X58 * 3.066379576921463e-07'],\n",
              " ['X59 * 0.4408399070533733'],\n",
              " ['X60 * -0.09842161361484614'],\n",
              " ['X61 * -0.09758696591688931'],\n",
              " ['X62 * 0.09172332413845652'],\n",
              " ['X63 * 0.15196035387180018'],\n",
              " ['X64 * 4.349041605368257'],\n",
              " ['X65 * 4.34926326549612'],\n",
              " ['X66 * 0.01376503799110651'],\n",
              " ['X67 * -0.00014851600644760765'],\n",
              " ['X68 * 0.00017686421051621437'],\n",
              " ['X69 * 1.0530347935855389e-06'],\n",
              " ['X70 * 21611.67395795504'],\n",
              " ['X71 * -131320.7127226241'],\n",
              " ['X72 * 14441.293844628512'],\n",
              " ['X73 * 20298.9005109684'],\n",
              " ['X74 * -4278.441502415885'],\n",
              " ['X75 * -2.8220187488645934'],\n",
              " ['X76 * 7.663307542590189'],\n",
              " ['X77 * 1036.6475826597202'],\n",
              " ['X78 * 2.593495032763485'],\n",
              " ['X79 * -32.040188166652'],\n",
              " ['X80 * -0.5286128166504227'],\n",
              " ['X81 * -3954318.992857694'],\n",
              " ['X82 * -16048.876234844265'],\n",
              " ['X83 * 9196.112192509116'],\n",
              " ['X84 * -161637.32508846532'],\n",
              " ['X85 * 183.10332835488182'],\n",
              " ['X86 * -22.80010233781391'],\n",
              " ['X87 * 4428.330477376414'],\n",
              " ['X88 * -29.91772583068591'],\n",
              " ['X89 * 170.604193205106'],\n",
              " ['X90 * -0.8135333270215312'],\n",
              " ['X91 * 7984.4856519281475'],\n",
              " ['X92 * 7339.999633764835'],\n",
              " ['X93 * 17955.617140832383'],\n",
              " ['X94 * -12.496341778487619'],\n",
              " ['X95 * -1.773326629448647'],\n",
              " ['X96 * 72.070424050301'],\n",
              " ['X97 * -9.968315121063121'],\n",
              " ['X98 * 4.6335990341460445'],\n",
              " ['X99 * -0.05241944124099973'],\n",
              " ['X100 * -541.9146991330928'],\n",
              " ['X101 * -6038.2121864786695'],\n",
              " ['X102 * 1.1630946732028633'],\n",
              " ['X103 * 11.954437754812204'],\n",
              " ['X104 * -307.0744178373151'],\n",
              " ['X105 * -20.19973666981703'],\n",
              " ['X106 * 46.31988806797483'],\n",
              " ['X107 * -0.2768775801200718'],\n",
              " ['X108 * 7366.2412506743785'],\n",
              " ['X109 * 9.606657250834132'],\n",
              " ['X110 * 11.145929875650154'],\n",
              " ['X111 * -571.9899561723131'],\n",
              " ['X112 * -10.13451258741209'],\n",
              " ['X113 * -22.75543411613444'],\n",
              " ['X114 * -0.5085770490984487'],\n",
              " ['X115 * -4.1698753668460995'],\n",
              " ['X116 * -1.2878996187937446'],\n",
              " ['X117 * 2.4471810876275413'],\n",
              " ['X118 * -0.025449640794249717'],\n",
              " ['X119 * -3.538364874140825'],\n",
              " ['X120 * -18.817491308858735'],\n",
              " ['X121 * 2.7902049084805185'],\n",
              " ['X122 * 2.5482121031091083'],\n",
              " ['X123 * -0.018834236803741078'],\n",
              " ['X124 * -3.5331259894010145'],\n",
              " ['X125 * -18.818197817075998'],\n",
              " ['X126 * 23.059902167784458'],\n",
              " ['X127 * 0.40696950256460696'],\n",
              " ['X128 * -2.046958911145339'],\n",
              " ['X129 * 0.018893636646680534'],\n",
              " ['X130 * 1.1162933587220323'],\n",
              " ['X131 * 0.047119004902924644'],\n",
              " ['X132 * 0.00025540575734339654'],\n",
              " ['X133 * 0.03315172920702025'],\n",
              " ['X134 * 0.00011114426888525486'],\n",
              " ['X135 * 2.35741026699543e-06']]"
            ]
          },
          "metadata": {},
          "execution_count": 164
        }
      ]
    },
    {
      "cell_type": "code",
      "source": [
        "print(' Error medio Absoluto (MAE):', metrics.mean_absolute_error(np.ravel(y_test), rlm_transf_yhat))\n",
        "print(' Root Mean Squared Error:', np.sqrt(metrics.mean_squared_error(np.ravel(y_test), rlm_transf_yhat)))\n",
        "print(' r2_score',r2_score(np.ravel(y_test), rlm_transf_yhat),'\\n')"
      ],
      "metadata": {
        "colab": {
          "base_uri": "https://localhost:8080/"
        },
        "id": "As3qAxN2asNK",
        "outputId": "d9ce97c7-4c5c-434a-add0-a216b68177ff"
      },
      "execution_count": 165,
      "outputs": [
        {
          "output_type": "stream",
          "name": "stdout",
          "text": [
            " Error medio Absoluto (MAE): 121314.06948173394\n",
            " Root Mean Squared Error: 186261.28575138954\n",
            " r2_score 0.7797929072570198 \n",
            "\n"
          ]
        }
      ]
    },
    {
      "cell_type": "markdown",
      "source": [
        "#### Ridge"
      ],
      "metadata": {
        "id": "DeE5UmiYbN7V"
      }
    },
    {
      "cell_type": "code",
      "source": [
        "for alpha in [0.0001,0.001,0.01,0.10,1,10,100,1000,10000]:\n",
        "  rlmRidge = Ridge(alpha = alpha)\n",
        "  rlmRidge = rlmRidge.fit(X_train, y_train)\n",
        "  rlmRidge_yhat = rlmRidge.predict(X_test)\n",
        "\n",
        "  print(f'Alpha: {alpha}')\n",
        "  print(' Error medio Absoluto (MAE):', metrics.mean_absolute_error(np.ravel(y_test), rlmRidge_yhat))\n",
        "  print(' Root Mean Squared Error:', np.sqrt(metrics.mean_squared_error(np.ravel(y_test), rlmRidge_yhat)))\n",
        "  print(' r2_score',r2_score(np.ravel(y_test), rlmRidge_yhat),'\\n')"
      ],
      "metadata": {
        "colab": {
          "base_uri": "https://localhost:8080/"
        },
        "id": "g7Wrdoa-a3PH",
        "outputId": "98dba563-613a-4ef0-cdf8-b625e6a552a2"
      },
      "execution_count": 166,
      "outputs": [
        {
          "output_type": "stream",
          "name": "stdout",
          "text": [
            "Alpha: 0.0001\n",
            " Error medio Absoluto (MAE): 137480.1399265206\n",
            " Root Mean Squared Error: 232133.37081515093\n",
            " r2_score 0.6579723110972531 \n",
            "\n",
            "Alpha: 0.001\n",
            " Error medio Absoluto (MAE): 137480.14981918843\n",
            " Root Mean Squared Error: 232133.3995348581\n",
            " r2_score 0.6579722264654257 \n",
            "\n",
            "Alpha: 0.01\n",
            " Error medio Absoluto (MAE): 137480.24873801804\n",
            " Root Mean Squared Error: 232133.68672887486\n",
            " r2_score 0.6579713801555791 \n",
            "\n",
            "Alpha: 0.1\n",
            " Error medio Absoluto (MAE): 137481.23714210742\n",
            " Root Mean Squared Error: 232136.5583622373\n",
            " r2_score 0.6579629179036365 \n",
            "\n",
            "Alpha: 1\n",
            " Error medio Absoluto (MAE): 137491.0433940327\n",
            " Root Mean Squared Error: 232165.2426647754\n",
            " r2_score 0.6578783840295006 \n",
            "\n",
            "Alpha: 10\n",
            " Error medio Absoluto (MAE): 137585.19973837206\n",
            " Root Mean Squared Error: 232447.74672687982\n",
            " r2_score 0.6570452743997186 \n",
            "\n",
            "Alpha: 100\n",
            " Error medio Absoluto (MAE): 138203.47631588625\n",
            " Root Mean Squared Error: 234583.47523048488\n",
            " r2_score 0.6507141904983357 \n",
            "\n",
            "Alpha: 1000\n",
            " Error medio Absoluto (MAE): 139229.3364539635\n",
            " Root Mean Squared Error: 238807.21013297507\n",
            " r2_score 0.6380229968482996 \n",
            "\n",
            "Alpha: 10000\n",
            " Error medio Absoluto (MAE): 146021.2797642382\n",
            " Root Mean Squared Error: 247585.2807358276\n",
            " r2_score 0.6109228252244532 \n",
            "\n"
          ]
        },
        {
          "output_type": "stream",
          "name": "stderr",
          "text": [
            "/usr/local/lib/python3.7/dist-packages/sklearn/linear_model/_ridge.py:157: LinAlgWarning: Ill-conditioned matrix (rcond=2.02626e-18): result may not be accurate.\n",
            "  return linalg.solve(A, Xy, sym_pos=True, overwrite_a=True).T\n",
            "/usr/local/lib/python3.7/dist-packages/sklearn/linear_model/_ridge.py:157: LinAlgWarning: Ill-conditioned matrix (rcond=2.02113e-17): result may not be accurate.\n",
            "  return linalg.solve(A, Xy, sym_pos=True, overwrite_a=True).T\n"
          ]
        }
      ]
    },
    {
      "cell_type": "code",
      "source": [
        "rlmRidge = Ridge(alpha = 0.01)\n",
        "rlmRidge = rlmRidge.fit(X_train, y_train)\n",
        "rlmRidge_yhat = rlmRidge.predict(X_test)\n",
        "\n",
        "coeficientes = []\n",
        "\n",
        "for i,c in enumerate(rlmRidge.coef_[0]):\n",
        "  coeficientes.append([f\"X{i+1} * {c}\"])\n",
        "\n",
        "coeficientes = [rlmRidge.intercept_[0]] + coeficientes\n",
        "\n",
        "coeficientes\n"
      ],
      "metadata": {
        "colab": {
          "base_uri": "https://localhost:8080/"
        },
        "id": "pLPMsyXldMZo",
        "outputId": "f73fa89d-e816-402b-d287-af4562d02c5e"
      },
      "execution_count": 167,
      "outputs": [
        {
          "output_type": "execute_result",
          "data": {
            "text/plain": [
              "[6151353.1502188835,\n",
              " ['X1 * -38200.99074908595'],\n",
              " ['X2 * 41465.98570972302'],\n",
              " ['X3 * 107.9978100060307'],\n",
              " ['X4 * 0.017133644308285508'],\n",
              " ['X5 * 31691.66608554911'],\n",
              " ['X6 * 552646.3396570698'],\n",
              " ['X7 * 41251.40580231897'],\n",
              " ['X8 * 21222.187766210078'],\n",
              " ['X9 * 119492.98845883168'],\n",
              " ['X10 * 47.77033463168526'],\n",
              " ['X11 * 60.21243429504852'],\n",
              " ['X12 * -3550.898127166975'],\n",
              " ['X13 * 13.260795530474683'],\n",
              " ['X14 * 29.00571895053975'],\n",
              " ['X15 * -0.5481312486011064']]"
            ]
          },
          "metadata": {},
          "execution_count": 167
        }
      ]
    },
    {
      "cell_type": "code",
      "source": [
        "print(' Error medio Absoluto (MAE):', metrics.mean_absolute_error(np.ravel(y_test), rlmRidge_yhat))\n",
        "print(' Root Mean Squared Error:', np.sqrt(metrics.mean_squared_error(np.ravel(y_test), rlmRidge_yhat)))\n",
        "print(' r2_score',r2_score(np.ravel(y_test), rlmRidge_yhat),'\\n')"
      ],
      "metadata": {
        "colab": {
          "base_uri": "https://localhost:8080/"
        },
        "id": "4aAujoHndqxV",
        "outputId": "517f272a-5177-494c-cc32-dfb69868c037"
      },
      "execution_count": 168,
      "outputs": [
        {
          "output_type": "stream",
          "name": "stdout",
          "text": [
            " Error medio Absoluto (MAE): 137480.24873801804\n",
            " Root Mean Squared Error: 232133.68672887486\n",
            " r2_score 0.6579713801555791 \n",
            "\n"
          ]
        }
      ]
    },
    {
      "cell_type": "markdown",
      "source": [
        "#### Lasso"
      ],
      "metadata": {
        "id": "03GIyzfFelaM"
      }
    },
    {
      "cell_type": "code",
      "source": [
        "X_trainLasso = X_train[['bedrooms', 'bathrooms', 'sqft_living', 'view', 'grade', 'sqft_above', 'sqft_basement', 'sqft_living15']]\n",
        "X_testLasso = X_test[['bedrooms', 'bathrooms', 'sqft_living', 'view', 'grade', 'sqft_above', 'sqft_basement', 'sqft_living15']]\n",
        "\n",
        "for alpha in [0.0001,0.001,0.01,0.10,1,10,100,1000,10000]:\n",
        "  rlmLasso = Lasso(alpha = alpha, max_iter=100000)\n",
        "  rlmLasso = rlmLasso.fit(X_trainLasso, y_train)\n",
        "  rlmLasso_yhat = rlmLasso.predict(X_testLasso)\n",
        "\n",
        "  print(f'Alpha: {alpha}')\n",
        "  print(' Error medio Absoluto (MAE):', metrics.mean_absolute_error(np.ravel(y_test), rlmLasso_yhat))\n",
        "  print(' Root Mean Squared Error:', np.sqrt(metrics.mean_squared_error(np.ravel(y_test), rlmLasso_yhat)))\n",
        "  print(' r2_score',r2_score(np.ravel(y_test), rlmLasso_yhat),'\\n')"
      ],
      "metadata": {
        "colab": {
          "base_uri": "https://localhost:8080/"
        },
        "id": "GRWzEAoOeezN",
        "outputId": "c5500c8e-4afd-4a56-fcea-e896c9885e1d"
      },
      "execution_count": 169,
      "outputs": [
        {
          "output_type": "stream",
          "name": "stdout",
          "text": [
            "Alpha: 0.0001\n",
            " Error medio Absoluto (MAE): 152589.95211995096\n",
            " Root Mean Squared Error: 254217.396078589\n",
            " r2_score 0.5897990686320324 \n",
            "\n",
            "Alpha: 0.001\n",
            " Error medio Absoluto (MAE): 152589.95216071987\n",
            " Root Mean Squared Error: 254217.39611977793\n",
            " r2_score 0.5897990684991088 \n",
            "\n",
            "Alpha: 0.01\n",
            " Error medio Absoluto (MAE): 152589.95256840522\n",
            " Root Mean Squared Error: 254217.39653166736\n",
            " r2_score 0.5897990671698731 \n",
            "\n",
            "Alpha: 0.1\n",
            " Error medio Absoluto (MAE): 152589.95664522774\n",
            " Root Mean Squared Error: 254217.40065070335\n",
            " r2_score 0.5897990538770579 \n",
            "\n",
            "Alpha: 1\n",
            " Error medio Absoluto (MAE): 152589.99741411774\n",
            " Root Mean Squared Error: 254217.44185686467\n",
            " r2_score 0.5897989208979016 \n",
            "\n",
            "Alpha: 10\n",
            " Error medio Absoluto (MAE): 152590.40509938722\n",
            " Root Mean Squared Error: 254217.85546875495\n",
            " r2_score 0.5897975861021417 \n",
            "\n",
            "Alpha: 100\n",
            " Error medio Absoluto (MAE): 152594.55673450584\n",
            " Root Mean Squared Error: 254222.14685619203\n",
            " r2_score 0.589783736938476 \n",
            "\n",
            "Alpha: 1000\n",
            " Error medio Absoluto (MAE): 152661.90700205942\n",
            " Root Mean Squared Error: 254280.58331384844\n",
            " r2_score 0.5895951275613454 \n",
            "\n",
            "Alpha: 10000\n",
            " Error medio Absoluto (MAE): 154030.6873390896\n",
            " Root Mean Squared Error: 256220.04064217315\n",
            " r2_score 0.5833107449808106 \n",
            "\n"
          ]
        }
      ]
    },
    {
      "cell_type": "code",
      "source": [
        "rlmLasso.coef_"
      ],
      "metadata": {
        "colab": {
          "base_uri": "https://localhost:8080/"
        },
        "id": "8vaIgr4-mn1a",
        "outputId": "26d2abe3-35fb-4c7c-d0f1-17135fee13fa"
      },
      "execution_count": 173,
      "outputs": [
        {
          "output_type": "execute_result",
          "data": {
            "text/plain": [
              "array([-3.10836678e+04, -2.28560291e+04,  3.04580643e+02,  8.56315716e+04,\n",
              "        9.80577798e+04, -1.25036536e+02, -7.54159935e+01,  7.59548291e+00])"
            ]
          },
          "metadata": {},
          "execution_count": 173
        }
      ]
    },
    {
      "cell_type": "code",
      "source": [
        "rlmLasso = Lasso(alpha = 0.001, max_iter = 100000)\n",
        "rlmLasso = rlmLasso.fit(X_trainLasso, y_train)\n",
        "rlmLasso_yhat = rlmLasso.predict(X_testLasso)\n",
        "\n",
        "coeficientes = []\n",
        "\n",
        "for i,c in enumerate(rlmLasso.coef_):\n",
        "  coeficientes.append([f\"X{i+1} * {c}\"])\n",
        "\n",
        "coeficientes = [rlmLasso.intercept_[0]] + coeficientes\n",
        "\n",
        "coeficientes"
      ],
      "metadata": {
        "colab": {
          "base_uri": "https://localhost:8080/"
        },
        "id": "Szov63CTetS9",
        "outputId": "2ae1b00a-62fb-41ba-9d83-abc87cbf49e6"
      },
      "execution_count": 178,
      "outputs": [
        {
          "output_type": "execute_result",
          "data": {
            "text/plain": [
              "[-481130.364434551,\n",
              " ['X1 * -31083.667105900036'],\n",
              " ['X2 * -22856.025142193284'],\n",
              " ['X3 * 304.58063855442856'],\n",
              " ['X4 * 85631.57015197758'],\n",
              " ['X5 * 98057.77756725923'],\n",
              " ['X6 * -125.0365336254479'],\n",
              " ['X7 * -75.41599080264933'],\n",
              " ['X8 * 7.595484497284491']]"
            ]
          },
          "metadata": {},
          "execution_count": 178
        }
      ]
    },
    {
      "cell_type": "code",
      "source": [
        "def get_models_rlm():\n",
        "  modelos = [LinearRegression(), LinearRegression(), Ridge(alpha = 0.01), Lasso(0.001)]\n",
        "  nombres = ['LR', 'Poly LR', 'Ridge', 'Lasso']\n",
        "  \n",
        "  resultados = list()\n",
        "\n",
        "  residuos_train = list()\n",
        "  \n",
        "  residuos_test = list()\n",
        " \n",
        "\n",
        "  conjuntos_train = [X_train, np.ravel(y_train)]\n",
        "  conjuntos_test = [X_test, np.ravel(y_test)]\n",
        "\n",
        "  conjuntos_ply_train = [X_train_transf, np.ravel(y_train)]\n",
        "  conjuntos_ply_test = [X_test_transf, np.ravel(y_test)]\n",
        "\n",
        "  R2_train = list()\n",
        "  R2_test = list()\n",
        "\n",
        "  for i,m in list(enumerate(modelos)):\n",
        "    print(i,m)\n",
        "    modelo = modelos[i]\n",
        "    if i == 0 or i == 2:\n",
        "\n",
        "      modelo = modelo.fit(conjuntos_train[0], conjuntos_train[1])\n",
        "      pred = modelo.predict(conjuntos_train[0])\n",
        "      residuos_train.append(np.subtract(conjuntos_train[1], pred))\n",
        "      R2_train.append(r2_score(conjuntos_train[1], pred))\n",
        "      \n",
        "\n",
        "      modelo = modelos[i]\n",
        "\n",
        "      ##########################################################################\n",
        "      modelo = modelo.fit(conjuntos_train[0], conjuntos_train[1])\n",
        "      pred = modelo.predict(conjuntos_test[0])\n",
        "      resultados.append(pred)\n",
        "      residuos_test.append(np.subtract(conjuntos_test[1], pred))\n",
        "      R2_test.append(r2_score(conjuntos_test[1], pred))\n",
        "\n",
        "    elif i == 3:\n",
        "\n",
        "      modelo = modelo.fit(X_trainLasso, conjuntos_train[1])\n",
        "      pred = modelo.predict(X_trainLasso)\n",
        "      residuos_train.append(np.subtract(conjuntos_train[1], pred))\n",
        "      R2_train.append(r2_score(conjuntos_train[1], pred))\n",
        "      \n",
        "\n",
        "      modelo = modelos[i]\n",
        "\n",
        "      ##########################################################################\n",
        "      modelo = modelo.fit(X_trainLasso, conjuntos_train[1])\n",
        "      pred = modelo.predict(X_testLasso)\n",
        "      resultados.append(pred)\n",
        "      residuos_test.append(np.subtract(conjuntos_test[1], pred))\n",
        "      R2_test.append(r2_score(conjuntos_test[1], pred))\n",
        "      \n",
        "\n",
        "    else:\n",
        "\n",
        "      modelo = modelo.fit(conjuntos_ply_train[0], conjuntos_ply_train[1])\n",
        "      pred = modelo.predict(conjuntos_ply_train[0])\n",
        "      residuos_train.append(np.subtract(conjuntos_train[1], pred))\n",
        "      R2_train.append(r2_score(conjuntos_train[1], pred))\n",
        "      \n",
        "\n",
        "      modelo = modelos[i]\n",
        "\n",
        "      ##########################################################################\n",
        "\n",
        "      modelo = modelo.fit(conjuntos_ply_train[0], conjuntos_ply_train[1])\n",
        "      pred = modelo.predict(conjuntos_ply_test[0])\n",
        "      resultados.append(pred)\n",
        "      residuos_test.append(np.subtract(conjuntos_test[1], pred))\n",
        "      R2_test.append(r2_score(conjuntos_test[1], pred))\n",
        "      \n",
        "\n",
        "\n",
        "  return modelos, nombres, resultados, residuos_train, residuos_test, R2_train, R2_test"
      ],
      "metadata": {
        "id": "KnYy0782mNoL"
      },
      "execution_count": 199,
      "outputs": []
    },
    {
      "cell_type": "code",
      "source": [
        "modelos, nombres, resultados, residuos_train, residuos_test,R2_train, R2_test = get_models_rlm()"
      ],
      "metadata": {
        "colab": {
          "base_uri": "https://localhost:8080/"
        },
        "id": "9BbxdPirpepp",
        "outputId": "47ca10f2-c1ed-4b02-aaa2-422b68f4360c"
      },
      "execution_count": 200,
      "outputs": [
        {
          "output_type": "stream",
          "name": "stdout",
          "text": [
            "0 LinearRegression()\n",
            "1 LinearRegression()\n",
            "2 Ridge(alpha=0.01)\n",
            "3 Lasso(alpha=0.001)\n"
          ]
        }
      ]
    },
    {
      "cell_type": "code",
      "source": [
        "from matplotlib.axes import Subplot\n",
        "\n",
        "sns.set_theme(rc={'figure.figsize':(20,10)})\n",
        "fig, axes = plt.subplots(1, 2)\n",
        "\n",
        "names = ['LR', 'Poly LR', 'Ridge', 'Lasso']\n",
        "\n",
        "plt.subplot(1,2,1)\n",
        "plt.boxplot(residuos_train, labels=names, showmeans=True)\n",
        "plt.title(label=\"Residuos Train\")\n",
        "\n",
        "plt.subplot(1,2,2)\n",
        "plt.boxplot(residuos_test, labels=names, showmeans=True)\n",
        "plt.title(label=\"Residuos Test\")"
      ],
      "metadata": {
        "colab": {
          "base_uri": "https://localhost:8080/",
          "height": 628
        },
        "id": "85i-WHFQpirU",
        "outputId": "adb07737-8eee-4b3a-debf-c28342342b54"
      },
      "execution_count": 201,
      "outputs": [
        {
          "output_type": "execute_result",
          "data": {
            "text/plain": [
              "Text(0.5, 1.0, 'Residuos Test')"
            ]
          },
          "metadata": {},
          "execution_count": 201
        },
        {
          "output_type": "display_data",
          "data": {
            "text/plain": [
              "<Figure size 1440x720 with 2 Axes>"
            ],
            "image/png": "[encoded data removed]"
          },
          "metadata": {}
        }
      ]
    },
    {
      "cell_type": "markdown",
      "source": [
        "#### Escalamos los residuos para tener una mejor visibilidad"
      ],
      "metadata": {
        "id": "RlHkmr5as2xz"
      }
    },
    {
      "cell_type": "code",
      "source": [
        "from sklearn.preprocessing import StandardScaler\n",
        "\n",
        "residuos_train_scaled = StandardScaler()\n",
        "residuos_train_scaled = residuos_train_scaled.fit_transform(residuos_train)"
      ],
      "metadata": {
        "id": "ZVVDOTHysM4C"
      },
      "execution_count": 202,
      "outputs": []
    },
    {
      "cell_type": "code",
      "source": [
        "residuos_test_scaled = StandardScaler()\n",
        "residuos_test_scaled = residuos_test_scaled.fit_transform(residuos_test)"
      ],
      "metadata": {
        "id": "H4BRQ8kDseOa"
      },
      "execution_count": 203,
      "outputs": []
    },
    {
      "cell_type": "code",
      "source": [
        "residuos_test_scaled"
      ],
      "metadata": {
        "colab": {
          "base_uri": "https://localhost:8080/"
        },
        "id": "FGcw7yg_sm7l",
        "outputId": "9e010be7-24b2-4937-d07a-832641e70764"
      },
      "execution_count": 204,
      "outputs": [
        {
          "output_type": "execute_result",
          "data": {
            "text/plain": [
              "array([[-0.63378149, -0.97781577,  0.9380017 , ..., -0.99224359,\n",
              "         0.92612963, -0.38564682],\n",
              "       [-0.46013213,  0.68135874, -0.4477841 , ...,  0.81643415,\n",
              "        -0.39268962,  1.69046356],\n",
              "       [-0.63377938, -0.97775621,  0.93799845, ..., -0.9922419 ,\n",
              "         0.92613364, -0.38563492],\n",
              "       [ 1.72769301,  1.27421324, -1.42821606, ...,  1.16805135,\n",
              "        -1.45957365, -0.91918181]])"
            ]
          },
          "metadata": {},
          "execution_count": 204
        }
      ]
    },
    {
      "cell_type": "code",
      "source": [
        "sns.set_theme(rc={'figure.figsize':(20,10)})\n",
        "fig, axes = plt.subplots(1, 2)\n",
        "\n",
        "names = ['LR', 'Poly LR', 'Ridge', 'Lasso']\n",
        "\n",
        "plt.subplot(1,2,1)\n",
        "plt.boxplot(list(residuos_train_scaled), labels=names, showmeans=True)\n",
        "plt.title(label=\"Residuos Train\")\n",
        "\n",
        "plt.subplot(1,2,2)\n",
        "plt.boxplot(list(residuos_test_scaled), labels=names, showmeans=True)\n",
        "plt.title(label=\"Residuos Test\")"
      ],
      "metadata": {
        "colab": {
          "base_uri": "https://localhost:8080/",
          "height": 628
        },
        "id": "zGT_IPURsfuB",
        "outputId": "02788901-e614-445c-a541-6c1a28a16ec4"
      },
      "execution_count": 205,
      "outputs": [
        {
          "output_type": "execute_result",
          "data": {
            "text/plain": [
              "Text(0.5, 1.0, 'Residuos Test')"
            ]
          },
          "metadata": {},
          "execution_count": 205
        },
        {
          "output_type": "display_data",
          "data": {
            "text/plain": [
              "<Figure size 1440x720 with 2 Axes>"
            ],
            "image/png": "[encoded data removed]"
          },
          "metadata": {}
        }
      ]
    },
    {
      "cell_type": "code",
      "source": [
        "sns.set_theme(rc={'figure.figsize':(20,10)})\n",
        "fig, axes = plt.subplots(1, 2)\n",
        "\n",
        "names = ['LR', 'Poly LR', 'Ridge', 'Lasso']\n",
        "\n",
        "\n",
        "plt.subplot(1,2,1)\n",
        "plt.bar(names, height = R2_train)\n",
        "plt.title(label=\"R2_train\")\n",
        "\n",
        "plt.subplot(1,2,2)\n",
        "plt.bar(names, height = R2_test)\n",
        "plt.plot(R2_test[bestR2])\n",
        "plt.title(label=\"R2_test\")\n",
        "\n",
        "\n",
        "plt.show()"
      ],
      "metadata": {
        "colab": {
          "base_uri": "https://localhost:8080/",
          "height": 610
        },
        "id": "13ap2Lb9sjP4",
        "outputId": "d72bcdd3-d7cb-4ab0-9d20-f4f71fe7e89a"
      },
      "execution_count": 206,
      "outputs": [
        {
          "output_type": "display_data",
          "data": {
            "text/plain": [
              "<Figure size 1440x720 with 2 Axes>"
            ],
            "image/png": "[encoded data removed]"
          },
          "metadata": {}
        }
      ]
    },
    {
      "cell_type": "markdown",
      "source": [
        "En conclusion podemos detemrinar que tanto el modelo de regresión polinomial de grado dos es el que presenta un mejor valor de R^2.\n",
        "\n",
        "En cuanto a los residuos este modelo es el que tiene la mayor desviación de los cuatro. \n",
        "\n",
        "El modelo Ridge y el de regresión líneal tienen un buen desempeño en lo que respecta a los residuos, pues estan muy centrados, y en lo que respecta R^2 estan un 10% mas abajo que el modelo polinomial.\n",
        "\n",
        "El modelo con Lasso es el peor de todos."
      ],
      "metadata": {
        "id": "FSE4YV0vuYFS"
      }
    },
    {
      "cell_type": "markdown",
      "source": [
        "Los resultados fueron los siguientes:"
      ],
      "metadata": {
        "id": "p-VimvABu4cL"
      }
    },
    {
      "cell_type": "code",
      "source": [
        "for i in range(len(modelos)):\n",
        "  print(f\"Modelo {nombres[i]}\")\n",
        "  print(f\"residuos_train {np.mean(residuos_train_scaled[i]):.4}\")\n",
        "  print(f\"residuos_test {np.mean(residuos_test_scaled[i]):.4}\")\n",
        "  print(f\"R2_train {R2_train[i]:.4}\")\n",
        "  print(f\"R2_test {R2_test[i]:.4}\\n\")"
      ],
      "metadata": {
        "colab": {
          "base_uri": "https://localhost:8080/"
        },
        "id": "hGTWPs3sumG7",
        "outputId": "a18d06b4-a7d1-4554-c4b4-bbd39d0b9f36"
      },
      "execution_count": 208,
      "outputs": [
        {
          "output_type": "stream",
          "name": "stdout",
          "text": [
            "Modelo LR\n",
            "residuos_train 0.0309\n",
            "residuos_test 0.03349\n",
            "R2_train 0.6529\n",
            "R2_test 0.658\n",
            "\n",
            "Modelo Poly LR\n",
            "residuos_train 0.1729\n",
            "residuos_test 0.1931\n",
            "R2_train 0.747\n",
            "R2_test 0.7798\n",
            "\n",
            "Modelo Ridge\n",
            "residuos_train 0.0309\n",
            "residuos_test 0.03349\n",
            "R2_train 0.6529\n",
            "R2_test 0.658\n",
            "\n",
            "Modelo Lasso\n",
            "residuos_train -0.2347\n",
            "residuos_test -0.2601\n",
            "R2_train 0.5786\n",
            "R2_test 0.5898\n",
            "\n"
          ]
        }
      ]
    },
    {
      "cell_type": "markdown",
      "source": [
        "## Fin de la Actividad, Saludos!"
      ],
      "metadata": {
        "id": "PTwqM9jEvZT5"
      }
    }
  ],
  "metadata": {
    "colab": {
      "provenance": [],
      "include_colab_link": true
    },
    "gpuClass": "standard",
    "kernelspec": {
      "display_name": "Python 3",
      "language": "python",
      "name": "python3"
    },
    "language_info": {
      "codemirror_mode": {
        "name": "ipython",
        "version": 3
      },
      "file_extension": ".py",
      "mimetype": "text/x-python",
      "name": "python",
      "nbconvert_exporter": "python",
      "pygments_lexer": "ipython3",
      "version": "3.7.7"
    }
  },
  "nbformat": 4,
  "nbformat_minor": 0
}